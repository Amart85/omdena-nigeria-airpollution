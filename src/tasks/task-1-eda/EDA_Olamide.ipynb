{
 "cells": [
  {
   "cell_type": "markdown",
   "metadata": {
    "id": "SJ14m1yeSAC3"
   },
   "source": [
    "# Raising Awareness Of Air Pollution In Nigeria\n"
   ]
  },
  {
   "cell_type": "markdown",
   "metadata": {
    "id": "DbatqaWmRwjf"
   },
   "source": [
    "## Importing necessary libraries for analysis\n",
    "\n"
   ]
  },
  {
   "cell_type": "code",
   "execution_count": 1,
   "metadata": {
    "id": "5O_CxwdkvRh3"
   },
   "outputs": [],
   "source": [
    "# Importing libraries\n",
    "import pandas as pd\n",
    "import numpy as np\n",
    "from ipywidgets import widgets\n",
    "%matplotlib inline\n",
    "import seaborn as sns\n",
    "import matplotlib.pyplot as plt"
   ]
  },
  {
   "cell_type": "markdown",
   "metadata": {
    "id": "Bxr4-RzrR7DJ"
   },
   "source": [
    "## Loading the dataset and checking the data (EXTRACT)"
   ]
  },
  {
   "cell_type": "code",
   "execution_count": 2,
   "metadata": {
    "id": "OhTXHeR0wosF"
   },
   "outputs": [],
   "source": [
    "# Load the dataset\n",
    "air = pd.read_csv(r\"portharcourt_data.csv\")"
   ]
  },
  {
   "cell_type": "code",
   "execution_count": 3,
   "metadata": {
    "colab": {
     "base_uri": "https://localhost:8080/",
     "height": 359
    },
    "id": "isnbw3nLwx5g",
    "outputId": "edf83007-1f17-4a38-8694-f092e2c08458"
   },
   "outputs": [
    {
     "data": {
      "text/html": [
       "<div>\n",
       "<style scoped>\n",
       "    .dataframe tbody tr th:only-of-type {\n",
       "        vertical-align: middle;\n",
       "    }\n",
       "\n",
       "    .dataframe tbody tr th {\n",
       "        vertical-align: top;\n",
       "    }\n",
       "\n",
       "    .dataframe thead th {\n",
       "        text-align: right;\n",
       "    }\n",
       "</style>\n",
       "<table border=\"1\" class=\"dataframe\">\n",
       "  <thead>\n",
       "    <tr style=\"text-align: right;\">\n",
       "      <th></th>\n",
       "      <th>created_at</th>\n",
       "      <th>entry_id</th>\n",
       "      <th>Temperature_F</th>\n",
       "      <th>Humidity_%</th>\n",
       "      <th>PM2.5_ATM_ug/m3</th>\n",
       "    </tr>\n",
       "  </thead>\n",
       "  <tbody>\n",
       "    <tr>\n",
       "      <th>0</th>\n",
       "      <td>2021-07-26 16:45:59 UTC</td>\n",
       "      <td>198</td>\n",
       "      <td>89</td>\n",
       "      <td>50</td>\n",
       "      <td>40.78</td>\n",
       "    </tr>\n",
       "    <tr>\n",
       "      <th>1</th>\n",
       "      <td>2021-07-26 16:48:03 UTC</td>\n",
       "      <td>199</td>\n",
       "      <td>89</td>\n",
       "      <td>50</td>\n",
       "      <td>40.09</td>\n",
       "    </tr>\n",
       "    <tr>\n",
       "      <th>2</th>\n",
       "      <td>2021-07-26 16:49:59 UTC</td>\n",
       "      <td>200</td>\n",
       "      <td>89</td>\n",
       "      <td>50</td>\n",
       "      <td>37.93</td>\n",
       "    </tr>\n",
       "    <tr>\n",
       "      <th>3</th>\n",
       "      <td>2021-07-26 16:54:03 UTC</td>\n",
       "      <td>201</td>\n",
       "      <td>89</td>\n",
       "      <td>50</td>\n",
       "      <td>33.18</td>\n",
       "    </tr>\n",
       "    <tr>\n",
       "      <th>4</th>\n",
       "      <td>2021-07-26 16:55:59 UTC</td>\n",
       "      <td>202</td>\n",
       "      <td>89</td>\n",
       "      <td>50</td>\n",
       "      <td>37.84</td>\n",
       "    </tr>\n",
       "    <tr>\n",
       "      <th>5</th>\n",
       "      <td>2021-07-26 16:58:11 UTC</td>\n",
       "      <td>203</td>\n",
       "      <td>89</td>\n",
       "      <td>50</td>\n",
       "      <td>34.70</td>\n",
       "    </tr>\n",
       "    <tr>\n",
       "      <th>6</th>\n",
       "      <td>2021-07-26 17:00:08 UTC</td>\n",
       "      <td>204</td>\n",
       "      <td>89</td>\n",
       "      <td>51</td>\n",
       "      <td>33.83</td>\n",
       "    </tr>\n",
       "    <tr>\n",
       "      <th>7</th>\n",
       "      <td>2021-07-26 17:02:05 UTC</td>\n",
       "      <td>205</td>\n",
       "      <td>89</td>\n",
       "      <td>50</td>\n",
       "      <td>36.20</td>\n",
       "    </tr>\n",
       "    <tr>\n",
       "      <th>8</th>\n",
       "      <td>2021-07-26 17:04:02 UTC</td>\n",
       "      <td>206</td>\n",
       "      <td>89</td>\n",
       "      <td>50</td>\n",
       "      <td>32.63</td>\n",
       "    </tr>\n",
       "    <tr>\n",
       "      <th>9</th>\n",
       "      <td>2021-07-26 17:06:00 UTC</td>\n",
       "      <td>207</td>\n",
       "      <td>88</td>\n",
       "      <td>50</td>\n",
       "      <td>32.60</td>\n",
       "    </tr>\n",
       "  </tbody>\n",
       "</table>\n",
       "</div>"
      ],
      "text/plain": [
       "                created_at  entry_id  Temperature_F  Humidity_%  \\\n",
       "0  2021-07-26 16:45:59 UTC       198             89          50   \n",
       "1  2021-07-26 16:48:03 UTC       199             89          50   \n",
       "2  2021-07-26 16:49:59 UTC       200             89          50   \n",
       "3  2021-07-26 16:54:03 UTC       201             89          50   \n",
       "4  2021-07-26 16:55:59 UTC       202             89          50   \n",
       "5  2021-07-26 16:58:11 UTC       203             89          50   \n",
       "6  2021-07-26 17:00:08 UTC       204             89          51   \n",
       "7  2021-07-26 17:02:05 UTC       205             89          50   \n",
       "8  2021-07-26 17:04:02 UTC       206             89          50   \n",
       "9  2021-07-26 17:06:00 UTC       207             88          50   \n",
       "\n",
       "   PM2.5_ATM_ug/m3  \n",
       "0            40.78  \n",
       "1            40.09  \n",
       "2            37.93  \n",
       "3            33.18  \n",
       "4            37.84  \n",
       "5            34.70  \n",
       "6            33.83  \n",
       "7            36.20  \n",
       "8            32.63  \n",
       "9            32.60  "
      ]
     },
     "execution_count": 3,
     "metadata": {},
     "output_type": "execute_result"
    }
   ],
   "source": [
    "# Preview the top of our data\n",
    "air.head(10)"
   ]
  },
  {
   "cell_type": "code",
   "execution_count": 4,
   "metadata": {
    "colab": {
     "base_uri": "https://localhost:8080/",
     "height": 359
    },
    "id": "ofBieP3pw6XQ",
    "outputId": "6df780be-bd2e-4223-b0e9-fbc6f1d17cc1"
   },
   "outputs": [
    {
     "data": {
      "text/html": [
       "<div>\n",
       "<style scoped>\n",
       "    .dataframe tbody tr th:only-of-type {\n",
       "        vertical-align: middle;\n",
       "    }\n",
       "\n",
       "    .dataframe tbody tr th {\n",
       "        vertical-align: top;\n",
       "    }\n",
       "\n",
       "    .dataframe thead th {\n",
       "        text-align: right;\n",
       "    }\n",
       "</style>\n",
       "<table border=\"1\" class=\"dataframe\">\n",
       "  <thead>\n",
       "    <tr style=\"text-align: right;\">\n",
       "      <th></th>\n",
       "      <th>created_at</th>\n",
       "      <th>entry_id</th>\n",
       "      <th>Temperature_F</th>\n",
       "      <th>Humidity_%</th>\n",
       "      <th>PM2.5_ATM_ug/m3</th>\n",
       "    </tr>\n",
       "  </thead>\n",
       "  <tbody>\n",
       "    <tr>\n",
       "      <th>56042</th>\n",
       "      <td>2021-10-25 09:18:40 UTC</td>\n",
       "      <td>56240</td>\n",
       "      <td>86</td>\n",
       "      <td>62</td>\n",
       "      <td>28.88</td>\n",
       "    </tr>\n",
       "    <tr>\n",
       "      <th>56043</th>\n",
       "      <td>2021-10-25 09:20:40 UTC</td>\n",
       "      <td>56241</td>\n",
       "      <td>86</td>\n",
       "      <td>61</td>\n",
       "      <td>26.74</td>\n",
       "    </tr>\n",
       "    <tr>\n",
       "      <th>56044</th>\n",
       "      <td>2021-10-25 09:22:42 UTC</td>\n",
       "      <td>56242</td>\n",
       "      <td>87</td>\n",
       "      <td>61</td>\n",
       "      <td>28.71</td>\n",
       "    </tr>\n",
       "    <tr>\n",
       "      <th>56045</th>\n",
       "      <td>2021-10-25 09:24:44 UTC</td>\n",
       "      <td>56243</td>\n",
       "      <td>87</td>\n",
       "      <td>61</td>\n",
       "      <td>31.04</td>\n",
       "    </tr>\n",
       "    <tr>\n",
       "      <th>56046</th>\n",
       "      <td>2021-10-25 09:26:47 UTC</td>\n",
       "      <td>56244</td>\n",
       "      <td>87</td>\n",
       "      <td>61</td>\n",
       "      <td>28.90</td>\n",
       "    </tr>\n",
       "    <tr>\n",
       "      <th>56047</th>\n",
       "      <td>2021-10-25 09:28:43 UTC</td>\n",
       "      <td>56245</td>\n",
       "      <td>87</td>\n",
       "      <td>61</td>\n",
       "      <td>29.17</td>\n",
       "    </tr>\n",
       "    <tr>\n",
       "      <th>56048</th>\n",
       "      <td>2021-10-25 09:30:43 UTC</td>\n",
       "      <td>56246</td>\n",
       "      <td>87</td>\n",
       "      <td>61</td>\n",
       "      <td>29.57</td>\n",
       "    </tr>\n",
       "    <tr>\n",
       "      <th>56049</th>\n",
       "      <td>2021-10-25 09:32:44 UTC</td>\n",
       "      <td>56247</td>\n",
       "      <td>87</td>\n",
       "      <td>61</td>\n",
       "      <td>28.75</td>\n",
       "    </tr>\n",
       "    <tr>\n",
       "      <th>56050</th>\n",
       "      <td>2021-10-25 09:34:44 UTC</td>\n",
       "      <td>56248</td>\n",
       "      <td>87</td>\n",
       "      <td>61</td>\n",
       "      <td>29.97</td>\n",
       "    </tr>\n",
       "    <tr>\n",
       "      <th>56051</th>\n",
       "      <td>2021-10-25 09:36:44 UTC</td>\n",
       "      <td>56249</td>\n",
       "      <td>87</td>\n",
       "      <td>60</td>\n",
       "      <td>30.25</td>\n",
       "    </tr>\n",
       "  </tbody>\n",
       "</table>\n",
       "</div>"
      ],
      "text/plain": [
       "                    created_at  entry_id  Temperature_F  Humidity_%  \\\n",
       "56042  2021-10-25 09:18:40 UTC     56240             86          62   \n",
       "56043  2021-10-25 09:20:40 UTC     56241             86          61   \n",
       "56044  2021-10-25 09:22:42 UTC     56242             87          61   \n",
       "56045  2021-10-25 09:24:44 UTC     56243             87          61   \n",
       "56046  2021-10-25 09:26:47 UTC     56244             87          61   \n",
       "56047  2021-10-25 09:28:43 UTC     56245             87          61   \n",
       "56048  2021-10-25 09:30:43 UTC     56246             87          61   \n",
       "56049  2021-10-25 09:32:44 UTC     56247             87          61   \n",
       "56050  2021-10-25 09:34:44 UTC     56248             87          61   \n",
       "56051  2021-10-25 09:36:44 UTC     56249             87          60   \n",
       "\n",
       "       PM2.5_ATM_ug/m3  \n",
       "56042            28.88  \n",
       "56043            26.74  \n",
       "56044            28.71  \n",
       "56045            31.04  \n",
       "56046            28.90  \n",
       "56047            29.17  \n",
       "56048            29.57  \n",
       "56049            28.75  \n",
       "56050            29.97  \n",
       "56051            30.25  "
      ]
     },
     "execution_count": 4,
     "metadata": {},
     "output_type": "execute_result"
    }
   ],
   "source": [
    "# Preview the bottom of our data\n",
    "air.tail(10)"
   ]
  },
  {
   "cell_type": "code",
   "execution_count": 5,
   "metadata": {
    "colab": {
     "base_uri": "https://localhost:8080/"
    },
    "id": "2-xWH9BISanf",
    "outputId": "ce2324e2-68fe-456c-e5b7-1bb4508b9894"
   },
   "outputs": [
    {
     "data": {
      "text/plain": [
       "(56052, 5)"
      ]
     },
     "execution_count": 5,
     "metadata": {},
     "output_type": "execute_result"
    }
   ],
   "source": [
    "# Checking the shape of our data\n",
    "air.shape"
   ]
  },
  {
   "cell_type": "markdown",
   "metadata": {
    "id": "mUu5FhaOSifq"
   },
   "source": [
    "Our dataset has 56052 observations and 5 features/variables."
   ]
  },
  {
   "cell_type": "code",
   "execution_count": 6,
   "metadata": {
    "colab": {
     "base_uri": "https://localhost:8080/",
     "height": 297
    },
    "id": "xgYb-LdSgI10",
    "outputId": "2373d3de-5ab3-4873-d809-31b810114cf5"
   },
   "outputs": [
    {
     "data": {
      "text/html": [
       "<div>\n",
       "<style scoped>\n",
       "    .dataframe tbody tr th:only-of-type {\n",
       "        vertical-align: middle;\n",
       "    }\n",
       "\n",
       "    .dataframe tbody tr th {\n",
       "        vertical-align: top;\n",
       "    }\n",
       "\n",
       "    .dataframe thead th {\n",
       "        text-align: right;\n",
       "    }\n",
       "</style>\n",
       "<table border=\"1\" class=\"dataframe\">\n",
       "  <thead>\n",
       "    <tr style=\"text-align: right;\">\n",
       "      <th></th>\n",
       "      <th>entry_id</th>\n",
       "      <th>Temperature_F</th>\n",
       "      <th>Humidity_%</th>\n",
       "      <th>PM2.5_ATM_ug/m3</th>\n",
       "    </tr>\n",
       "  </thead>\n",
       "  <tbody>\n",
       "    <tr>\n",
       "      <th>count</th>\n",
       "      <td>56052.000000</td>\n",
       "      <td>56052.000000</td>\n",
       "      <td>56052.000000</td>\n",
       "      <td>56052.000000</td>\n",
       "    </tr>\n",
       "    <tr>\n",
       "      <th>mean</th>\n",
       "      <td>28223.500000</td>\n",
       "      <td>84.821469</td>\n",
       "      <td>65.117766</td>\n",
       "      <td>54.391926</td>\n",
       "    </tr>\n",
       "    <tr>\n",
       "      <th>std</th>\n",
       "      <td>16180.962981</td>\n",
       "      <td>4.319505</td>\n",
       "      <td>8.550730</td>\n",
       "      <td>42.205997</td>\n",
       "    </tr>\n",
       "    <tr>\n",
       "      <th>min</th>\n",
       "      <td>198.000000</td>\n",
       "      <td>70.000000</td>\n",
       "      <td>29.000000</td>\n",
       "      <td>0.780000</td>\n",
       "    </tr>\n",
       "    <tr>\n",
       "      <th>25%</th>\n",
       "      <td>14210.750000</td>\n",
       "      <td>82.000000</td>\n",
       "      <td>61.000000</td>\n",
       "      <td>30.170000</td>\n",
       "    </tr>\n",
       "    <tr>\n",
       "      <th>50%</th>\n",
       "      <td>28223.500000</td>\n",
       "      <td>84.000000</td>\n",
       "      <td>68.000000</td>\n",
       "      <td>41.450000</td>\n",
       "    </tr>\n",
       "    <tr>\n",
       "      <th>75%</th>\n",
       "      <td>42236.250000</td>\n",
       "      <td>87.000000</td>\n",
       "      <td>71.000000</td>\n",
       "      <td>61.190000</td>\n",
       "    </tr>\n",
       "    <tr>\n",
       "      <th>max</th>\n",
       "      <td>56249.000000</td>\n",
       "      <td>108.000000</td>\n",
       "      <td>89.000000</td>\n",
       "      <td>568.080000</td>\n",
       "    </tr>\n",
       "  </tbody>\n",
       "</table>\n",
       "</div>"
      ],
      "text/plain": [
       "           entry_id  Temperature_F    Humidity_%  PM2.5_ATM_ug/m3\n",
       "count  56052.000000   56052.000000  56052.000000     56052.000000\n",
       "mean   28223.500000      84.821469     65.117766        54.391926\n",
       "std    16180.962981       4.319505      8.550730        42.205997\n",
       "min      198.000000      70.000000     29.000000         0.780000\n",
       "25%    14210.750000      82.000000     61.000000        30.170000\n",
       "50%    28223.500000      84.000000     68.000000        41.450000\n",
       "75%    42236.250000      87.000000     71.000000        61.190000\n",
       "max    56249.000000     108.000000     89.000000       568.080000"
      ]
     },
     "execution_count": 6,
     "metadata": {},
     "output_type": "execute_result"
    }
   ],
   "source": [
    "# Let's describe the data\n",
    "air.describe()"
   ]
  },
  {
   "cell_type": "markdown",
   "metadata": {
    "id": "_cJxQViAg7mB"
   },
   "source": [
    "The minimum and max value for the PM2.5 feature are too wide apart. The max and the 75% value are also too far apart as well. This leads to a suspicion of outliers present. We will check for these as we go through the project."
   ]
  },
  {
   "cell_type": "code",
   "execution_count": 7,
   "metadata": {
    "colab": {
     "base_uri": "https://localhost:8080/"
    },
    "id": "vnqm85MMgQuH",
    "outputId": "f7c88c33-18ea-4f65-cf87-08cee40a291a"
   },
   "outputs": [
    {
     "name": "stdout",
     "output_type": "stream",
     "text": [
      "<class 'pandas.core.frame.DataFrame'>\n",
      "RangeIndex: 56052 entries, 0 to 56051\n",
      "Data columns (total 5 columns):\n",
      " #   Column           Non-Null Count  Dtype  \n",
      "---  ------           --------------  -----  \n",
      " 0   created_at       56052 non-null  object \n",
      " 1   entry_id         56052 non-null  int64  \n",
      " 2   Temperature_F    56052 non-null  int64  \n",
      " 3   Humidity_%       56052 non-null  int64  \n",
      " 4   PM2.5_ATM_ug/m3  56052 non-null  float64\n",
      "dtypes: float64(1), int64(3), object(1)\n",
      "memory usage: 2.1+ MB\n"
     ]
    }
   ],
   "source": [
    "# Checking the info of our data\n",
    "air.info()"
   ]
  },
  {
   "cell_type": "markdown",
   "metadata": {
    "id": "uNYrNHtDhjP4"
   },
   "source": [
    "The created_at column is an object, however this column's data points are date and time observations which we could transform and separate into date and time columns.\n",
    "\n",
    "All the other columns are of numeric data type ie. int64 or float64"
   ]
  },
  {
   "cell_type": "markdown",
   "metadata": {
    "id": "MvDWuCeTiHuJ"
   },
   "source": [
    "### Cleaning the data"
   ]
  },
  {
   "cell_type": "code",
   "execution_count": 8,
   "metadata": {
    "colab": {
     "base_uri": "https://localhost:8080/"
    },
    "id": "ArE4AwY9iP-0",
    "outputId": "c31fdaca-70bc-4653-b8e9-28d666dc5b8b"
   },
   "outputs": [
    {
     "data": {
      "text/plain": [
       "0"
      ]
     },
     "execution_count": 8,
     "metadata": {},
     "output_type": "execute_result"
    }
   ],
   "source": [
    "# Let's check for missing values\n",
    "air.isnull().sum().sum()"
   ]
  },
  {
   "cell_type": "markdown",
   "metadata": {
    "id": "fBu-hYNiiWrQ"
   },
   "source": [
    "We have no null values in the dataset."
   ]
  },
  {
   "cell_type": "code",
   "execution_count": 9,
   "metadata": {
    "colab": {
     "base_uri": "https://localhost:8080/"
    },
    "id": "I6rXWMGticw9",
    "outputId": "19fbc3d3-1514-4c08-8498-382328f3a369"
   },
   "outputs": [
    {
     "data": {
      "text/plain": [
       "0"
      ]
     },
     "execution_count": 9,
     "metadata": {},
     "output_type": "execute_result"
    }
   ],
   "source": [
    "# Let's check for duplicates\n",
    "air.duplicated().sum().sum()"
   ]
  },
  {
   "cell_type": "markdown",
   "metadata": {
    "id": "1UdBtFABilVL"
   },
   "source": [
    "There are no duplicated observations."
   ]
  },
  {
   "cell_type": "code",
   "execution_count": 10,
   "metadata": {
    "colab": {
     "base_uri": "https://localhost:8080/"
    },
    "id": "4ahEfRNfisA1",
    "outputId": "f0693de1-41b8-4205-fd90-57976bdc46ad"
   },
   "outputs": [
    {
     "name": "stdout",
     "output_type": "stream",
     "text": [
      "['2021-07-26 16:45:59 UTC' '2021-07-26 16:48:03 UTC'\n",
      " '2021-07-26 16:49:59 UTC' ... '2021-10-25 09:32:44 UTC'\n",
      " '2021-10-25 09:34:44 UTC' '2021-10-25 09:36:44 UTC']\n",
      "\n",
      "\n",
      "[  198   199   200 ... 56247 56248 56249]\n",
      "\n",
      "\n",
      "[ 89  88  87  86  85  84  83  82  81  78  90  91  92  93  94  96  95  97\n",
      "  98  99 100 101 102  79  80  75  76  77 103  73 104 105 106  70  74 107\n",
      " 108  72]\n",
      "\n",
      "\n",
      "[50 51 52 53 54 55 56 57 58 59 60 61 62 63 64 65 66 67 49 48 47 46 45 44\n",
      " 43 42 41 40 39 38 37 36 35 34 33 30 29 31 32 68 70 71 72 69 86 85 84 83\n",
      " 82 81 80 79 78 77 76 75 74 73 87 89 88]\n",
      "\n",
      "\n",
      "[40.78 40.09 37.93 ... 83.85 80.34  6.64]\n",
      "\n",
      "\n"
     ]
    }
   ],
   "source": [
    "# Are there any unique values in each column entry in the dataset?\n",
    "for i in air.columns:\n",
    " print(air[i].unique())\n",
    " print (\"\\n\")"
   ]
  },
  {
   "cell_type": "markdown",
   "metadata": {
    "id": "zgW4A21EjdWw"
   },
   "source": [
    "There are no unique values. This is because our data does not consist of categorical variables. All varaiables are continuous in nature and of date-time type."
   ]
  },
  {
   "cell_type": "code",
   "execution_count": 11,
   "metadata": {
    "colab": {
     "base_uri": "https://localhost:8080/",
     "height": 392
    },
    "id": "yGQoUm38j5Im",
    "outputId": "0a07453d-520d-46a5-f7ef-195697b1b366"
   },
   "outputs": [
    {
     "name": "stdout",
     "output_type": "stream",
     "text": [
      "(56052, 5)\n"
     ]
    },
    {
     "data": {
      "image/png": "[encoded data removed]",
      "text/plain": [
       "<Figure size 576x432 with 1 Axes>"
      ]
     },
     "metadata": {
      "needs_background": "light"
     },
     "output_type": "display_data"
    }
   ],
   "source": [
    "# checking for outliers \n",
    "air.boxplot(figsize=(8, 6), fontsize=10)\n",
    "\n",
    "# print size of the data with outliers present\n",
    "print(air.shape)"
   ]
  },
  {
   "cell_type": "code",
   "execution_count": 12,
   "metadata": {
    "colab": {
     "base_uri": "https://localhost:8080/"
    },
    "id": "jjLLwi5XkSUN",
    "outputId": "47a3cafa-8154-46f0-f40e-9e1627a7bcb7"
   },
   "outputs": [
    {
     "data": {
      "text/plain": [
       "False    50004\n",
       "True      6048\n",
       "Name: PM2.5_ATM_ug/m3, dtype: int64"
      ]
     },
     "execution_count": 12,
     "metadata": {},
     "output_type": "execute_result"
    }
   ],
   "source": [
    "# Let's check the ouliers present in the PM2.5 clearly \n",
    "# as the boxplot is not quite as clear.\n",
    "\n",
    "# Checking for outliers in the PM2.5 column\n",
    "\n",
    "Q1 = air[\"PM2.5_ATM_ug/m3\"].quantile(0.25)\n",
    "Q3 = air[\"PM2.5_ATM_ug/m3\"].quantile(0.75)\n",
    "\n",
    "IQR = Q3 - Q1\n",
    "\n",
    "outliers = ((air[\"PM2.5_ATM_ug/m3\"] < Q1 - 1.5 * IQR) | (air[\"PM2.5_ATM_ug/m3\"] > Q3 + 1.5 * IQR))\n",
    "outliers.value_counts()"
   ]
  },
  {
   "cell_type": "code",
   "execution_count": 13,
   "metadata": {
    "colab": {
     "base_uri": "https://localhost:8080/"
    },
    "id": "FNBKZBhnlB74",
    "outputId": "a68d3a9d-69eb-4ae8-d1f6-8f98d2b1da41"
   },
   "outputs": [
    {
     "data": {
      "text/plain": [
       "False    54304\n",
       "True      1748\n",
       "Name: Temperature_F, dtype: int64"
      ]
     },
     "execution_count": 13,
     "metadata": {},
     "output_type": "execute_result"
    }
   ],
   "source": [
    "# Checking for outliers in the Temperature_F column\n",
    "\n",
    "Q1 = air[\"Temperature_F\"].quantile(0.25)\n",
    "Q3 = air[\"Temperature_F\"].quantile(0.75)\n",
    "\n",
    "IQR = Q3 - Q1\n",
    "\n",
    "outliers = ((air[\"Temperature_F\"] < Q1 - 1.5 * IQR) | (air[\"Temperature_F\"] > Q3 + 1.5 * IQR))\n",
    "outliers.value_counts()"
   ]
  },
  {
   "cell_type": "code",
   "execution_count": 14,
   "metadata": {
    "colab": {
     "base_uri": "https://localhost:8080/"
    },
    "id": "NJXbd9H0lUZY",
    "outputId": "c380f794-408f-406f-b79b-f43439aa3b22"
   },
   "outputs": [
    {
     "data": {
      "text/plain": [
       "False    54322\n",
       "True      1730\n",
       "Name: Humidity_%, dtype: int64"
      ]
     },
     "execution_count": 14,
     "metadata": {},
     "output_type": "execute_result"
    }
   ],
   "source": [
    "# Checking for outliers in the Humidity_% column\n",
    "\n",
    "Q1 = air[\"Humidity_%\"].quantile(0.25)\n",
    "Q3 = air[\"Humidity_%\"].quantile(0.75)\n",
    "\n",
    "IQR = Q3 - Q1\n",
    "\n",
    "outliers = ((air[\"Humidity_%\"] < Q1 - 1.5 * IQR) | (air[\"Humidity_%\"] > Q3 + 1.5 * IQR))\n",
    "outliers.value_counts()"
   ]
  },
  {
   "cell_type": "markdown",
   "metadata": {
    "id": "VVZo9mUskBtO"
   },
   "source": [
    "Seems that there are quite a number of outliers in the columns;\n",
    "\n",
    "* PM2.5 column (6048 outlires)\n",
    "\n",
    "* Temperature_F (1748 outliers)\n",
    "\n",
    "* Humidity_% (1730 outliers)\n",
    "\n",
    "However we will not drop them as they could be relevant to the study."
   ]
  },
  {
   "cell_type": "code",
   "execution_count": 15,
   "metadata": {
    "colab": {
     "base_uri": "https://localhost:8080/",
     "height": 204
    },
    "id": "7v1vILFnmDcD",
    "outputId": "86c97889-6f93-4843-a807-9b7c021d1655"
   },
   "outputs": [
    {
     "data": {
      "text/html": [
       "<div>\n",
       "<style scoped>\n",
       "    .dataframe tbody tr th:only-of-type {\n",
       "        vertical-align: middle;\n",
       "    }\n",
       "\n",
       "    .dataframe tbody tr th {\n",
       "        vertical-align: top;\n",
       "    }\n",
       "\n",
       "    .dataframe thead th {\n",
       "        text-align: right;\n",
       "    }\n",
       "</style>\n",
       "<table border=\"1\" class=\"dataframe\">\n",
       "  <thead>\n",
       "    <tr style=\"text-align: right;\">\n",
       "      <th></th>\n",
       "      <th>created_at</th>\n",
       "      <th>entry_id</th>\n",
       "      <th>Temperature_F</th>\n",
       "      <th>Humidity_%</th>\n",
       "      <th>PM2.5_ATM_ug/m3</th>\n",
       "    </tr>\n",
       "  </thead>\n",
       "  <tbody>\n",
       "    <tr>\n",
       "      <th>0</th>\n",
       "      <td>2021-07-26 16:45:59 UTC</td>\n",
       "      <td>198</td>\n",
       "      <td>89</td>\n",
       "      <td>50</td>\n",
       "      <td>40.78</td>\n",
       "    </tr>\n",
       "    <tr>\n",
       "      <th>1</th>\n",
       "      <td>2021-07-26 16:48:03 UTC</td>\n",
       "      <td>199</td>\n",
       "      <td>89</td>\n",
       "      <td>50</td>\n",
       "      <td>40.09</td>\n",
       "    </tr>\n",
       "    <tr>\n",
       "      <th>2</th>\n",
       "      <td>2021-07-26 16:49:59 UTC</td>\n",
       "      <td>200</td>\n",
       "      <td>89</td>\n",
       "      <td>50</td>\n",
       "      <td>37.93</td>\n",
       "    </tr>\n",
       "    <tr>\n",
       "      <th>3</th>\n",
       "      <td>2021-07-26 16:54:03 UTC</td>\n",
       "      <td>201</td>\n",
       "      <td>89</td>\n",
       "      <td>50</td>\n",
       "      <td>33.18</td>\n",
       "    </tr>\n",
       "    <tr>\n",
       "      <th>4</th>\n",
       "      <td>2021-07-26 16:55:59 UTC</td>\n",
       "      <td>202</td>\n",
       "      <td>89</td>\n",
       "      <td>50</td>\n",
       "      <td>37.84</td>\n",
       "    </tr>\n",
       "  </tbody>\n",
       "</table>\n",
       "</div>"
      ],
      "text/plain": [
       "                created_at  entry_id  Temperature_F  Humidity_%  \\\n",
       "0  2021-07-26 16:45:59 UTC       198             89          50   \n",
       "1  2021-07-26 16:48:03 UTC       199             89          50   \n",
       "2  2021-07-26 16:49:59 UTC       200             89          50   \n",
       "3  2021-07-26 16:54:03 UTC       201             89          50   \n",
       "4  2021-07-26 16:55:59 UTC       202             89          50   \n",
       "\n",
       "   PM2.5_ATM_ug/m3  \n",
       "0            40.78  \n",
       "1            40.09  \n",
       "2            37.93  \n",
       "3            33.18  \n",
       "4            37.84  "
      ]
     },
     "execution_count": 15,
     "metadata": {},
     "output_type": "execute_result"
    }
   ],
   "source": [
    "# Let's transform the created_at column into date and time\n",
    "# First Let's create a copy of our data set\n",
    "air_df = air.copy()\n",
    "\n",
    "# Let's check if our copy has been made\n",
    "air_df.head()"
   ]
  },
  {
   "cell_type": "code",
   "execution_count": 16,
   "metadata": {
    "id": "S5s4wm_jmYAO"
   },
   "outputs": [],
   "source": [
    "# Let's separate the column created_at into date and time columns\n",
    "air_df['date'] = pd.to_datetime(air_df['created_at']).dt.date\n",
    "air_df['time'] = pd.to_datetime(air_df['created_at']).dt.time\n",
    "air_df['day_of_month'] = pd.to_datetime(air_df['created_at']).dt.day\n",
    "air_df['month'] = pd.to_datetime(air_df['created_at']).dt.month\n",
    "air_df['year'] = pd.to_datetime(air_df['created_at']).dt.year\n",
    "air_df['days_of_week'] = pd.to_datetime(air_df['created_at']).dt.dayofweek"
   ]
  },
  {
   "cell_type": "code",
   "execution_count": 17,
   "metadata": {
    "colab": {
     "base_uri": "https://localhost:8080/",
     "height": 204
    },
    "id": "h7pBzj7loeGl",
    "outputId": "cee4f772-c264-4c07-e6cb-dc4cd117e633"
   },
   "outputs": [
    {
     "data": {
      "text/html": [
       "<div>\n",
       "<style scoped>\n",
       "    .dataframe tbody tr th:only-of-type {\n",
       "        vertical-align: middle;\n",
       "    }\n",
       "\n",
       "    .dataframe tbody tr th {\n",
       "        vertical-align: top;\n",
       "    }\n",
       "\n",
       "    .dataframe thead th {\n",
       "        text-align: right;\n",
       "    }\n",
       "</style>\n",
       "<table border=\"1\" class=\"dataframe\">\n",
       "  <thead>\n",
       "    <tr style=\"text-align: right;\">\n",
       "      <th></th>\n",
       "      <th>created_at</th>\n",
       "      <th>entry_id</th>\n",
       "      <th>Temperature_F</th>\n",
       "      <th>Humidity_%</th>\n",
       "      <th>PM2.5_ATM_ug/m3</th>\n",
       "      <th>date</th>\n",
       "      <th>time</th>\n",
       "      <th>day_of_month</th>\n",
       "      <th>month</th>\n",
       "      <th>year</th>\n",
       "      <th>days_of_week</th>\n",
       "    </tr>\n",
       "  </thead>\n",
       "  <tbody>\n",
       "    <tr>\n",
       "      <th>0</th>\n",
       "      <td>2021-07-26 16:45:59 UTC</td>\n",
       "      <td>198</td>\n",
       "      <td>89</td>\n",
       "      <td>50</td>\n",
       "      <td>40.78</td>\n",
       "      <td>2021-07-26</td>\n",
       "      <td>16:45:59</td>\n",
       "      <td>26</td>\n",
       "      <td>7</td>\n",
       "      <td>2021</td>\n",
       "      <td>0</td>\n",
       "    </tr>\n",
       "    <tr>\n",
       "      <th>1</th>\n",
       "      <td>2021-07-26 16:48:03 UTC</td>\n",
       "      <td>199</td>\n",
       "      <td>89</td>\n",
       "      <td>50</td>\n",
       "      <td>40.09</td>\n",
       "      <td>2021-07-26</td>\n",
       "      <td>16:48:03</td>\n",
       "      <td>26</td>\n",
       "      <td>7</td>\n",
       "      <td>2021</td>\n",
       "      <td>0</td>\n",
       "    </tr>\n",
       "    <tr>\n",
       "      <th>2</th>\n",
       "      <td>2021-07-26 16:49:59 UTC</td>\n",
       "      <td>200</td>\n",
       "      <td>89</td>\n",
       "      <td>50</td>\n",
       "      <td>37.93</td>\n",
       "      <td>2021-07-26</td>\n",
       "      <td>16:49:59</td>\n",
       "      <td>26</td>\n",
       "      <td>7</td>\n",
       "      <td>2021</td>\n",
       "      <td>0</td>\n",
       "    </tr>\n",
       "    <tr>\n",
       "      <th>3</th>\n",
       "      <td>2021-07-26 16:54:03 UTC</td>\n",
       "      <td>201</td>\n",
       "      <td>89</td>\n",
       "      <td>50</td>\n",
       "      <td>33.18</td>\n",
       "      <td>2021-07-26</td>\n",
       "      <td>16:54:03</td>\n",
       "      <td>26</td>\n",
       "      <td>7</td>\n",
       "      <td>2021</td>\n",
       "      <td>0</td>\n",
       "    </tr>\n",
       "    <tr>\n",
       "      <th>4</th>\n",
       "      <td>2021-07-26 16:55:59 UTC</td>\n",
       "      <td>202</td>\n",
       "      <td>89</td>\n",
       "      <td>50</td>\n",
       "      <td>37.84</td>\n",
       "      <td>2021-07-26</td>\n",
       "      <td>16:55:59</td>\n",
       "      <td>26</td>\n",
       "      <td>7</td>\n",
       "      <td>2021</td>\n",
       "      <td>0</td>\n",
       "    </tr>\n",
       "  </tbody>\n",
       "</table>\n",
       "</div>"
      ],
      "text/plain": [
       "                created_at  entry_id  Temperature_F  Humidity_%  \\\n",
       "0  2021-07-26 16:45:59 UTC       198             89          50   \n",
       "1  2021-07-26 16:48:03 UTC       199             89          50   \n",
       "2  2021-07-26 16:49:59 UTC       200             89          50   \n",
       "3  2021-07-26 16:54:03 UTC       201             89          50   \n",
       "4  2021-07-26 16:55:59 UTC       202             89          50   \n",
       "\n",
       "   PM2.5_ATM_ug/m3        date      time  day_of_month  month  year  \\\n",
       "0            40.78  2021-07-26  16:45:59            26      7  2021   \n",
       "1            40.09  2021-07-26  16:48:03            26      7  2021   \n",
       "2            37.93  2021-07-26  16:49:59            26      7  2021   \n",
       "3            33.18  2021-07-26  16:54:03            26      7  2021   \n",
       "4            37.84  2021-07-26  16:55:59            26      7  2021   \n",
       "\n",
       "   days_of_week  \n",
       "0             0  \n",
       "1             0  \n",
       "2             0  \n",
       "3             0  \n",
       "4             0  "
      ]
     },
     "execution_count": 17,
     "metadata": {},
     "output_type": "execute_result"
    }
   ],
   "source": [
    "# Let's check if our columns have been created\n",
    "air_df.head()"
   ]
  },
  {
   "cell_type": "markdown",
   "metadata": {
    "id": "9o0VxHE5omqv"
   },
   "source": [
    "Our columns have been created so let's drop the created_at column."
   ]
  },
  {
   "cell_type": "code",
   "execution_count": 18,
   "metadata": {
    "colab": {
     "base_uri": "https://localhost:8080/",
     "height": 204
    },
    "id": "rak2utgMotG0",
    "outputId": "857f8b72-5b3c-4556-fd14-7b8f0892fbcc"
   },
   "outputs": [
    {
     "data": {
      "text/html": [
       "<div>\n",
       "<style scoped>\n",
       "    .dataframe tbody tr th:only-of-type {\n",
       "        vertical-align: middle;\n",
       "    }\n",
       "\n",
       "    .dataframe tbody tr th {\n",
       "        vertical-align: top;\n",
       "    }\n",
       "\n",
       "    .dataframe thead th {\n",
       "        text-align: right;\n",
       "    }\n",
       "</style>\n",
       "<table border=\"1\" class=\"dataframe\">\n",
       "  <thead>\n",
       "    <tr style=\"text-align: right;\">\n",
       "      <th></th>\n",
       "      <th>entry_id</th>\n",
       "      <th>Temperature_F</th>\n",
       "      <th>Humidity_%</th>\n",
       "      <th>PM2.5_ATM_ug/m3</th>\n",
       "      <th>date</th>\n",
       "      <th>time</th>\n",
       "      <th>day_of_month</th>\n",
       "      <th>month</th>\n",
       "      <th>year</th>\n",
       "      <th>days_of_week</th>\n",
       "    </tr>\n",
       "  </thead>\n",
       "  <tbody>\n",
       "    <tr>\n",
       "      <th>0</th>\n",
       "      <td>198</td>\n",
       "      <td>89</td>\n",
       "      <td>50</td>\n",
       "      <td>40.78</td>\n",
       "      <td>2021-07-26</td>\n",
       "      <td>16:45:59</td>\n",
       "      <td>26</td>\n",
       "      <td>7</td>\n",
       "      <td>2021</td>\n",
       "      <td>0</td>\n",
       "    </tr>\n",
       "    <tr>\n",
       "      <th>1</th>\n",
       "      <td>199</td>\n",
       "      <td>89</td>\n",
       "      <td>50</td>\n",
       "      <td>40.09</td>\n",
       "      <td>2021-07-26</td>\n",
       "      <td>16:48:03</td>\n",
       "      <td>26</td>\n",
       "      <td>7</td>\n",
       "      <td>2021</td>\n",
       "      <td>0</td>\n",
       "    </tr>\n",
       "    <tr>\n",
       "      <th>2</th>\n",
       "      <td>200</td>\n",
       "      <td>89</td>\n",
       "      <td>50</td>\n",
       "      <td>37.93</td>\n",
       "      <td>2021-07-26</td>\n",
       "      <td>16:49:59</td>\n",
       "      <td>26</td>\n",
       "      <td>7</td>\n",
       "      <td>2021</td>\n",
       "      <td>0</td>\n",
       "    </tr>\n",
       "    <tr>\n",
       "      <th>3</th>\n",
       "      <td>201</td>\n",
       "      <td>89</td>\n",
       "      <td>50</td>\n",
       "      <td>33.18</td>\n",
       "      <td>2021-07-26</td>\n",
       "      <td>16:54:03</td>\n",
       "      <td>26</td>\n",
       "      <td>7</td>\n",
       "      <td>2021</td>\n",
       "      <td>0</td>\n",
       "    </tr>\n",
       "    <tr>\n",
       "      <th>4</th>\n",
       "      <td>202</td>\n",
       "      <td>89</td>\n",
       "      <td>50</td>\n",
       "      <td>37.84</td>\n",
       "      <td>2021-07-26</td>\n",
       "      <td>16:55:59</td>\n",
       "      <td>26</td>\n",
       "      <td>7</td>\n",
       "      <td>2021</td>\n",
       "      <td>0</td>\n",
       "    </tr>\n",
       "  </tbody>\n",
       "</table>\n",
       "</div>"
      ],
      "text/plain": [
       "   entry_id  Temperature_F  Humidity_%  PM2.5_ATM_ug/m3        date      time  \\\n",
       "0       198             89          50            40.78  2021-07-26  16:45:59   \n",
       "1       199             89          50            40.09  2021-07-26  16:48:03   \n",
       "2       200             89          50            37.93  2021-07-26  16:49:59   \n",
       "3       201             89          50            33.18  2021-07-26  16:54:03   \n",
       "4       202             89          50            37.84  2021-07-26  16:55:59   \n",
       "\n",
       "   day_of_month  month  year  days_of_week  \n",
       "0            26      7  2021             0  \n",
       "1            26      7  2021             0  \n",
       "2            26      7  2021             0  \n",
       "3            26      7  2021             0  \n",
       "4            26      7  2021             0  "
      ]
     },
     "execution_count": 18,
     "metadata": {},
     "output_type": "execute_result"
    }
   ],
   "source": [
    "# Dropping the created_at column\n",
    "air_df.drop(columns=['created_at'],inplace=True)\n",
    "# checking if column is dropped\n",
    "air_df.head()"
   ]
  },
  {
   "cell_type": "markdown",
   "metadata": {},
   "source": [
    "## Exploratory Data Analysis"
   ]
  },
  {
   "cell_type": "code",
   "execution_count": 19,
   "metadata": {},
   "outputs": [],
   "source": [
    "#functions for extracting various useful columns from the orginal columns for more insight\n",
    "\n",
    "#extracting days of the week\n",
    "def days_of_weeks(row):\n",
    "    if row['days_of_week'] == 0:\n",
    "        return \"Monday\"\n",
    "    elif row['days_of_week'] == 1:\n",
    "        return \"Tuesday\"\n",
    "    elif row['days_of_week'] == 2:\n",
    "        return \"Wenesday\"\n",
    "    elif row['days_of_week'] == 3:\n",
    "        return \"Thursday\"\n",
    "    elif row['days_of_week'] == 4:\n",
    "        return \"Friday\"\n",
    "    elif row['days_of_week'] == 5:\n",
    "        return \"Sarturday\"\n",
    "    elif row['days_of_week'] == 6:\n",
    "        return \"Sunday\"\n",
    "    else:\n",
    "        return None\n",
    "    \n",
    "    \n",
    "# extracting air quality categories   \n",
    "def air_quality(row):\n",
    "    if row['PM2.5_ATM_ug/m3'] <= 12:\n",
    "        return \"Good\"\n",
    "    elif 13 <= row['PM2.5_ATM_ug/m3'] <= 35:\n",
    "        return \"Moderate\"\n",
    "    elif 36 <= row['PM2.5_ATM_ug/m3'] <= 150:\n",
    "        return \"Unhealthy\"\n",
    "    elif 151 <= row['PM2.5_ATM_ug/m3'] <= 250:\n",
    "        return \"Very_Unhealthy\"\n",
    "    elif  row['PM2.5_ATM_ug/m3'] > 250:\n",
    "        return \"Hazardouz\"\n",
    "    else:\n",
    "        return None\n",
    "\n",
    "#extracting months from the date column\n",
    "def month(row):\n",
    "    if row['month'] == 7:\n",
    "        return \"July\"\n",
    "    elif row['month'] == 8:\n",
    "        return \"August\"\n",
    "    elif row['month'] == 9:\n",
    "        return \"September\"\n",
    "    elif row['month'] == 10:\n",
    "        return \"October\"\n",
    "    else:\n",
    "        return None\n",
    "    \n",
    "#etracting hour of the day (i.e AM oR PM)\n",
    "def time(row):\n",
    "    if row['hour'] > 11:\n",
    "        return \"PM\"\n",
    "    else:\n",
    "        return \"AM\"\n",
    "\n",
    "#extracting time in the week (i.e weekends or weekdays)\n",
    "def weekdays_end(row):\n",
    "    if row['days_of_week'] in [0,1,2,3,4]:\n",
    "        return \"Weekdays\"\n",
    "    else:\n",
    "        return \"Weekend\"\n",
    "    "
   ]
  },
  {
   "cell_type": "code",
   "execution_count": 20,
   "metadata": {},
   "outputs": [],
   "source": [
    "air_df['day_in_week'] = air_df.apply(lambda row: days_of_weeks(row), axis=1)\n",
    "air_df['weekdays_end'] = air_df.apply(lambda row: weekdays_end(row), axis=1)\n",
    "air_df['month'] = air_df.apply(lambda row: month(row), axis=1)\n",
    "air_df['hour'] = air_df['time'] \n",
    "air_df['hour'] = air_df.hour.apply(lambda x: pd.Series(str(x).split(\":\"))).astype(str).astype(int)\n",
    "air_df['AM_PM'] = air_df.apply(lambda row: time(row), axis=1)\n",
    "air_df['Air_quality'] = air_df.apply(lambda row: air_quality(row), axis=1)"
   ]
  },
  {
   "cell_type": "code",
   "execution_count": 21,
   "metadata": {
    "colab": {
     "base_uri": "https://localhost:8080/",
     "height": 204
    },
    "id": "0kYIH9ZYpWk-",
    "outputId": "22ac9d58-3e7b-4015-f124-20a3e6b8b4d5"
   },
   "outputs": [
    {
     "data": {
      "text/html": [
       "<div>\n",
       "<style scoped>\n",
       "    .dataframe tbody tr th:only-of-type {\n",
       "        vertical-align: middle;\n",
       "    }\n",
       "\n",
       "    .dataframe tbody tr th {\n",
       "        vertical-align: top;\n",
       "    }\n",
       "\n",
       "    .dataframe thead th {\n",
       "        text-align: right;\n",
       "    }\n",
       "</style>\n",
       "<table border=\"1\" class=\"dataframe\">\n",
       "  <thead>\n",
       "    <tr style=\"text-align: right;\">\n",
       "      <th></th>\n",
       "      <th>date</th>\n",
       "      <th>time</th>\n",
       "      <th>AM_PM</th>\n",
       "      <th>day_of_month</th>\n",
       "      <th>month</th>\n",
       "      <th>weekdays_end</th>\n",
       "      <th>year</th>\n",
       "      <th>day_in_week</th>\n",
       "      <th>Temperature_F</th>\n",
       "      <th>Humidity_%</th>\n",
       "      <th>PM2.5_ATM_ug/m3</th>\n",
       "    </tr>\n",
       "  </thead>\n",
       "  <tbody>\n",
       "    <tr>\n",
       "      <th>0</th>\n",
       "      <td>2021-07-26</td>\n",
       "      <td>16:45:59</td>\n",
       "      <td>PM</td>\n",
       "      <td>26</td>\n",
       "      <td>July</td>\n",
       "      <td>Weekdays</td>\n",
       "      <td>2021</td>\n",
       "      <td>Monday</td>\n",
       "      <td>89</td>\n",
       "      <td>50</td>\n",
       "      <td>40.78</td>\n",
       "    </tr>\n",
       "    <tr>\n",
       "      <th>1</th>\n",
       "      <td>2021-07-26</td>\n",
       "      <td>16:48:03</td>\n",
       "      <td>PM</td>\n",
       "      <td>26</td>\n",
       "      <td>July</td>\n",
       "      <td>Weekdays</td>\n",
       "      <td>2021</td>\n",
       "      <td>Monday</td>\n",
       "      <td>89</td>\n",
       "      <td>50</td>\n",
       "      <td>40.09</td>\n",
       "    </tr>\n",
       "    <tr>\n",
       "      <th>2</th>\n",
       "      <td>2021-07-26</td>\n",
       "      <td>16:49:59</td>\n",
       "      <td>PM</td>\n",
       "      <td>26</td>\n",
       "      <td>July</td>\n",
       "      <td>Weekdays</td>\n",
       "      <td>2021</td>\n",
       "      <td>Monday</td>\n",
       "      <td>89</td>\n",
       "      <td>50</td>\n",
       "      <td>37.93</td>\n",
       "    </tr>\n",
       "    <tr>\n",
       "      <th>3</th>\n",
       "      <td>2021-07-26</td>\n",
       "      <td>16:54:03</td>\n",
       "      <td>PM</td>\n",
       "      <td>26</td>\n",
       "      <td>July</td>\n",
       "      <td>Weekdays</td>\n",
       "      <td>2021</td>\n",
       "      <td>Monday</td>\n",
       "      <td>89</td>\n",
       "      <td>50</td>\n",
       "      <td>33.18</td>\n",
       "    </tr>\n",
       "    <tr>\n",
       "      <th>4</th>\n",
       "      <td>2021-07-26</td>\n",
       "      <td>16:55:59</td>\n",
       "      <td>PM</td>\n",
       "      <td>26</td>\n",
       "      <td>July</td>\n",
       "      <td>Weekdays</td>\n",
       "      <td>2021</td>\n",
       "      <td>Monday</td>\n",
       "      <td>89</td>\n",
       "      <td>50</td>\n",
       "      <td>37.84</td>\n",
       "    </tr>\n",
       "  </tbody>\n",
       "</table>\n",
       "</div>"
      ],
      "text/plain": [
       "         date      time AM_PM  day_of_month month weekdays_end  year  \\\n",
       "0  2021-07-26  16:45:59    PM            26  July     Weekdays  2021   \n",
       "1  2021-07-26  16:48:03    PM            26  July     Weekdays  2021   \n",
       "2  2021-07-26  16:49:59    PM            26  July     Weekdays  2021   \n",
       "3  2021-07-26  16:54:03    PM            26  July     Weekdays  2021   \n",
       "4  2021-07-26  16:55:59    PM            26  July     Weekdays  2021   \n",
       "\n",
       "  day_in_week  Temperature_F  Humidity_%  PM2.5_ATM_ug/m3  \n",
       "0      Monday             89          50            40.78  \n",
       "1      Monday             89          50            40.09  \n",
       "2      Monday             89          50            37.93  \n",
       "3      Monday             89          50            33.18  \n",
       "4      Monday             89          50            37.84  "
      ]
     },
     "execution_count": 21,
     "metadata": {},
     "output_type": "execute_result"
    }
   ],
   "source": [
    "# Rearranging the columns\n",
    "air = air_df[['date', 'time','AM_PM','day_of_month','month','weekdays_end','year','day_in_week','Temperature_F', 'Humidity_%','PM2.5_ATM_ug/m3']]\n",
    "# Let's check the rearrangement\n",
    "air.head()"
   ]
  },
  {
   "cell_type": "code",
   "execution_count": 22,
   "metadata": {},
   "outputs": [],
   "source": [
    "def aggregate_values(all_data):\n",
    "    \n",
    "    features = []\n",
    "    \n",
    "    for i in all_data.columns:\n",
    "        if (len(all_data[i].unique()) < 70) and i not in ['date','time','Temperature_F','Humidity_%','PM2.5_ATM_ug/m3']:\n",
    "            features.append(i)\n",
    "    \n",
    "    \n",
    "    \n",
    "    def aggregate_unique_value(column):\n",
    "        unique  = pd.DataFrame(all_data.groupby(column).agg({column:'count','Temperature_F':'sum', \n",
    "                                                                            'Humidity_%':'sum',\n",
    "                                                                            'PM2.5_ATM_ug/m3':'sum'\n",
    "                                                                           }))\n",
    "        unique['AVG_Temperature_F'] = unique['Temperature_F']/unique[column]\n",
    "        unique['AVG_Humidity_%'] = unique['Humidity_%']/unique[column]\n",
    "        unique['AVG_PM2.5_ATM_ug/m3'] = unique['PM2.5_ATM_ug/m3']/unique[column]\n",
    "        \n",
    "        unique = unique[[column,'AVG_Temperature_F','AVG_Humidity_%','AVG_PM2.5_ATM_ug/m3']]\n",
    "        \n",
    "        unique.rename(columns={column : 'counts'},inplace = True)\n",
    "        \n",
    "        \n",
    "        \n",
    "        unique_MAX  = pd.DataFrame(all_data.groupby(column).agg({'Temperature_F':'max', \n",
    "                                                                            'Humidity_%':'max',\n",
    "                                                                            'PM2.5_ATM_ug/m3':'max'\n",
    "                                                                           }))\n",
    "        \n",
    "        unique_MAX.columns = ('MAX_Temperature_F','MAX_Humidity_%','MAX_PM2.5_ATM_ug/m3')\n",
    "        \n",
    "        \n",
    "        unique_MIN  = pd.DataFrame(all_data.groupby(column).agg({'Temperature_F':'min', \n",
    "                                                                            'Humidity_%':'min',\n",
    "                                                                            'PM2.5_ATM_ug/m3':'min'\n",
    "                                                                           }))\n",
    "        \n",
    "        unique_MIN.columns = ('MIN_Temperature_F','MIN_Humidity_%','MIN_PM2.5_ATM_ug/m3')\n",
    "        \n",
    "        \n",
    "        \n",
    "        \n",
    "        result = pd.concat([unique, unique_MAX,unique_MIN], axis=1)\n",
    "        \n",
    "        return result\n",
    "\n",
    "    dropdown_menu = [k for k in features]\n",
    "\n",
    "    return widgets.interact(aggregate_unique_value, column=dropdown_menu);"
   ]
  },
  {
   "cell_type": "code",
   "execution_count": 23,
   "metadata": {},
   "outputs": [
    {
     "data": {
      "application/vnd.jupyter.widget-view+json": {
       "model_id": "77be940d9fcf419eabc70de623dad8d3",
       "version_major": 2,
       "version_minor": 0
      },
      "text/plain": [
       "interactive(children=(Dropdown(description='column', options=('AM_PM', 'day_of_month', 'month', 'weekdays_end'…"
      ]
     },
     "metadata": {},
     "output_type": "display_data"
    },
    {
     "data": {
      "text/plain": [
       "<function __main__.aggregate_values.<locals>.aggregate_unique_value(column)>"
      ]
     },
     "execution_count": 23,
     "metadata": {},
     "output_type": "execute_result"
    }
   ],
   "source": [
    "aggregate_values(air)"
   ]
  },
  {
   "cell_type": "code",
   "execution_count": 24,
   "metadata": {},
   "outputs": [
    {
     "data": {
      "text/html": [
       "<div>\n",
       "<style scoped>\n",
       "    .dataframe tbody tr th:only-of-type {\n",
       "        vertical-align: middle;\n",
       "    }\n",
       "\n",
       "    .dataframe tbody tr th {\n",
       "        vertical-align: top;\n",
       "    }\n",
       "\n",
       "    .dataframe thead th {\n",
       "        text-align: right;\n",
       "    }\n",
       "</style>\n",
       "<table border=\"1\" class=\"dataframe\">\n",
       "  <thead>\n",
       "    <tr style=\"text-align: right;\">\n",
       "      <th></th>\n",
       "      <th>Air_quality</th>\n",
       "      <th>number of records</th>\n",
       "    </tr>\n",
       "  </thead>\n",
       "  <tbody>\n",
       "    <tr>\n",
       "      <th>0</th>\n",
       "      <td>Unhealthy</td>\n",
       "      <td>31697</td>\n",
       "    </tr>\n",
       "    <tr>\n",
       "      <th>1</th>\n",
       "      <td>Moderate</td>\n",
       "      <td>17581</td>\n",
       "    </tr>\n",
       "    <tr>\n",
       "      <th>2</th>\n",
       "      <td>Very_Unhealthy</td>\n",
       "      <td>2818</td>\n",
       "    </tr>\n",
       "    <tr>\n",
       "      <th>3</th>\n",
       "      <td>Good</td>\n",
       "      <td>2067</td>\n",
       "    </tr>\n",
       "    <tr>\n",
       "      <th>4</th>\n",
       "      <td>Hazardouz</td>\n",
       "      <td>128</td>\n",
       "    </tr>\n",
       "  </tbody>\n",
       "</table>\n",
       "</div>"
      ],
      "text/plain": [
       "      Air_quality  number of records\n",
       "0       Unhealthy              31697\n",
       "1        Moderate              17581\n",
       "2  Very_Unhealthy               2818\n",
       "3            Good               2067\n",
       "4       Hazardouz                128"
      ]
     },
     "execution_count": 24,
     "metadata": {},
     "output_type": "execute_result"
    }
   ],
   "source": [
    "#checking the distribution of various air_quality\n",
    "air_quality = pd.DataFrame(air_df.Air_quality.value_counts().reset_index())\n",
    "air_quality.columns = ['Air_quality','number of records']\n",
    "air_quality"
   ]
  },
  {
   "cell_type": "code",
   "execution_count": 25,
   "metadata": {},
   "outputs": [
    {
     "data": {
      "text/html": [
       "<div>\n",
       "<style scoped>\n",
       "    .dataframe tbody tr th:only-of-type {\n",
       "        vertical-align: middle;\n",
       "    }\n",
       "\n",
       "    .dataframe tbody tr th {\n",
       "        vertical-align: top;\n",
       "    }\n",
       "\n",
       "    .dataframe thead th {\n",
       "        text-align: right;\n",
       "    }\n",
       "</style>\n",
       "<table border=\"1\" class=\"dataframe\">\n",
       "  <thead>\n",
       "    <tr style=\"text-align: right;\">\n",
       "      <th></th>\n",
       "      <th>Temperature_F</th>\n",
       "      <th>Humidity_%</th>\n",
       "      <th>PM2.5_ATM_ug/m3</th>\n",
       "    </tr>\n",
       "  </thead>\n",
       "  <tbody>\n",
       "    <tr>\n",
       "      <th>Temperature_F</th>\n",
       "      <td>1.000000</td>\n",
       "      <td>-0.945404</td>\n",
       "      <td>-0.304438</td>\n",
       "    </tr>\n",
       "    <tr>\n",
       "      <th>Humidity_%</th>\n",
       "      <td>-0.945404</td>\n",
       "      <td>1.000000</td>\n",
       "      <td>0.323848</td>\n",
       "    </tr>\n",
       "    <tr>\n",
       "      <th>PM2.5_ATM_ug/m3</th>\n",
       "      <td>-0.304438</td>\n",
       "      <td>0.323848</td>\n",
       "      <td>1.000000</td>\n",
       "    </tr>\n",
       "  </tbody>\n",
       "</table>\n",
       "</div>"
      ],
      "text/plain": [
       "                 Temperature_F  Humidity_%  PM2.5_ATM_ug/m3\n",
       "Temperature_F         1.000000   -0.945404        -0.304438\n",
       "Humidity_%           -0.945404    1.000000         0.323848\n",
       "PM2.5_ATM_ug/m3      -0.304438    0.323848         1.000000"
      ]
     },
     "execution_count": 25,
     "metadata": {},
     "output_type": "execute_result"
    }
   ],
   "source": [
    "#checking the correlation between the numerical columns\n",
    "corr_df = air_df[['Temperature_F', 'Humidity_%','PM2.5_ATM_ug/m3']]\n",
    "correlations = corr_df.corr()\n",
    "correlations"
   ]
  },
  {
   "cell_type": "code",
   "execution_count": 26,
   "metadata": {},
   "outputs": [
    {
     "data": {
      "image/png": "[encoded data removed]",
      "text/plain": [
       "<Figure size 432x288 with 2 Axes>"
      ]
     },
     "metadata": {
      "needs_background": "light"
     },
     "output_type": "display_data"
    }
   ],
   "source": [
    "sns.heatmap(correlations)\n",
    "plt.show()"
   ]
  },
  {
   "cell_type": "code",
   "execution_count": 27,
   "metadata": {},
   "outputs": [
    {
     "data": {
      "text/html": [
       "<div>\n",
       "<style scoped>\n",
       "    .dataframe tbody tr th:only-of-type {\n",
       "        vertical-align: middle;\n",
       "    }\n",
       "\n",
       "    .dataframe tbody tr th {\n",
       "        vertical-align: top;\n",
       "    }\n",
       "\n",
       "    .dataframe thead th {\n",
       "        text-align: right;\n",
       "    }\n",
       "</style>\n",
       "<table border=\"1\" class=\"dataframe\">\n",
       "  <thead>\n",
       "    <tr style=\"text-align: right;\">\n",
       "      <th></th>\n",
       "      <th>entry_id</th>\n",
       "      <th>Temperature_F</th>\n",
       "      <th>Humidity_%</th>\n",
       "      <th>PM2.5_ATM_ug/m3</th>\n",
       "      <th>date</th>\n",
       "      <th>time</th>\n",
       "      <th>day_of_month</th>\n",
       "      <th>month</th>\n",
       "      <th>year</th>\n",
       "      <th>days_of_week</th>\n",
       "      <th>day_in_week</th>\n",
       "      <th>weekdays_end</th>\n",
       "      <th>hour</th>\n",
       "      <th>AM_PM</th>\n",
       "      <th>Air_quality</th>\n",
       "    </tr>\n",
       "  </thead>\n",
       "  <tbody>\n",
       "    <tr>\n",
       "      <th>0</th>\n",
       "      <td>198</td>\n",
       "      <td>89</td>\n",
       "      <td>50</td>\n",
       "      <td>40.78</td>\n",
       "      <td>2021-07-26</td>\n",
       "      <td>16:45:59</td>\n",
       "      <td>26</td>\n",
       "      <td>July</td>\n",
       "      <td>2021</td>\n",
       "      <td>0</td>\n",
       "      <td>Monday</td>\n",
       "      <td>Weekdays</td>\n",
       "      <td>16</td>\n",
       "      <td>PM</td>\n",
       "      <td>Unhealthy</td>\n",
       "    </tr>\n",
       "    <tr>\n",
       "      <th>1</th>\n",
       "      <td>199</td>\n",
       "      <td>89</td>\n",
       "      <td>50</td>\n",
       "      <td>40.09</td>\n",
       "      <td>2021-07-26</td>\n",
       "      <td>16:48:03</td>\n",
       "      <td>26</td>\n",
       "      <td>July</td>\n",
       "      <td>2021</td>\n",
       "      <td>0</td>\n",
       "      <td>Monday</td>\n",
       "      <td>Weekdays</td>\n",
       "      <td>16</td>\n",
       "      <td>PM</td>\n",
       "      <td>Unhealthy</td>\n",
       "    </tr>\n",
       "    <tr>\n",
       "      <th>2</th>\n",
       "      <td>200</td>\n",
       "      <td>89</td>\n",
       "      <td>50</td>\n",
       "      <td>37.93</td>\n",
       "      <td>2021-07-26</td>\n",
       "      <td>16:49:59</td>\n",
       "      <td>26</td>\n",
       "      <td>July</td>\n",
       "      <td>2021</td>\n",
       "      <td>0</td>\n",
       "      <td>Monday</td>\n",
       "      <td>Weekdays</td>\n",
       "      <td>16</td>\n",
       "      <td>PM</td>\n",
       "      <td>Unhealthy</td>\n",
       "    </tr>\n",
       "    <tr>\n",
       "      <th>3</th>\n",
       "      <td>201</td>\n",
       "      <td>89</td>\n",
       "      <td>50</td>\n",
       "      <td>33.18</td>\n",
       "      <td>2021-07-26</td>\n",
       "      <td>16:54:03</td>\n",
       "      <td>26</td>\n",
       "      <td>July</td>\n",
       "      <td>2021</td>\n",
       "      <td>0</td>\n",
       "      <td>Monday</td>\n",
       "      <td>Weekdays</td>\n",
       "      <td>16</td>\n",
       "      <td>PM</td>\n",
       "      <td>Moderate</td>\n",
       "    </tr>\n",
       "    <tr>\n",
       "      <th>4</th>\n",
       "      <td>202</td>\n",
       "      <td>89</td>\n",
       "      <td>50</td>\n",
       "      <td>37.84</td>\n",
       "      <td>2021-07-26</td>\n",
       "      <td>16:55:59</td>\n",
       "      <td>26</td>\n",
       "      <td>July</td>\n",
       "      <td>2021</td>\n",
       "      <td>0</td>\n",
       "      <td>Monday</td>\n",
       "      <td>Weekdays</td>\n",
       "      <td>16</td>\n",
       "      <td>PM</td>\n",
       "      <td>Unhealthy</td>\n",
       "    </tr>\n",
       "  </tbody>\n",
       "</table>\n",
       "</div>"
      ],
      "text/plain": [
       "   entry_id  Temperature_F  Humidity_%  PM2.5_ATM_ug/m3        date      time  \\\n",
       "0       198             89          50            40.78  2021-07-26  16:45:59   \n",
       "1       199             89          50            40.09  2021-07-26  16:48:03   \n",
       "2       200             89          50            37.93  2021-07-26  16:49:59   \n",
       "3       201             89          50            33.18  2021-07-26  16:54:03   \n",
       "4       202             89          50            37.84  2021-07-26  16:55:59   \n",
       "\n",
       "   day_of_month month  year  days_of_week day_in_week weekdays_end  hour  \\\n",
       "0            26  July  2021             0      Monday     Weekdays    16   \n",
       "1            26  July  2021             0      Monday     Weekdays    16   \n",
       "2            26  July  2021             0      Monday     Weekdays    16   \n",
       "3            26  July  2021             0      Monday     Weekdays    16   \n",
       "4            26  July  2021             0      Monday     Weekdays    16   \n",
       "\n",
       "  AM_PM Air_quality  \n",
       "0    PM   Unhealthy  \n",
       "1    PM   Unhealthy  \n",
       "2    PM   Unhealthy  \n",
       "3    PM    Moderate  \n",
       "4    PM   Unhealthy  "
      ]
     },
     "execution_count": 27,
     "metadata": {},
     "output_type": "execute_result"
    }
   ],
   "source": [
    "air_df.head()"
   ]
  },
  {
   "cell_type": "markdown",
   "metadata": {},
   "source": [
    "## Saving the Cleaned_data for other Tasks to commence (LOAD)"
   ]
  },
  {
   "cell_type": "code",
   "execution_count": 28,
   "metadata": {},
   "outputs": [],
   "source": [
    "air_df.to_csv(r\"Cleaned_data.csv\",index=False)"
   ]
  },
  {
   "cell_type": "code",
   "execution_count": null,
   "metadata": {},
   "outputs": [],
   "source": []
  }
 ],
 "metadata": {
  "colab": {
   "name": "EDA.ipynb",
   "provenance": []
  },
  "kernelspec": {
   "display_name": "Python 3",
   "language": "python",
   "name": "python3"
  },
  "language_info": {
   "codemirror_mode": {
    "name": "ipython",
    "version": 3
   },
   "file_extension": ".py",
   "mimetype": "text/x-python",
   "name": "python",
   "nbconvert_exporter": "python",
   "pygments_lexer": "ipython3",
   "version": "3.8.5"
  },
  "widgets": {
   "application/vnd.jupyter.widget-state+json": {
    "state": {
     "058a94316dd942a4ac5014905eb24bb3": {
      "model_module": "@jupyter-widgets/controls",
      "model_module_version": "1.5.0",
      "model_name": "VBoxModel",
      "state": {
       "_dom_classes": [
        "widget-interact"
       ],
       "children": [
        "IPY_MODEL_54f52c2f97b142c7ba6f03137b63d74c",
        "IPY_MODEL_479dd11b7f8945679f00237594e30c8c"
       ],
       "layout": "IPY_MODEL_4683645ff8c14b108641d05b3b859525"
      }
     },
     "0f484fbdf94b4a5ba4595c3ab7c423a1": {
      "model_module": "@jupyter-widgets/controls",
      "model_module_version": "1.5.0",
      "model_name": "DropdownModel",
      "state": {
       "_options_labels": [
        "AM_PM",
        "day_of_month",
        "month",
        "weekdays_end",
        "year",
        "day_in_week"
       ],
       "description": "column",
       "index": 5,
       "layout": "IPY_MODEL_9570f624ce574fcfb3347066c2208fa5",
       "style": "IPY_MODEL_7f1517ca0e3143439122af406c315ab4"
      }
     },
     "25b60513a8d144d68f947d6e70aebc41": {
      "model_module": "@jupyter-widgets/base",
      "model_module_version": "1.2.0",
      "model_name": "LayoutModel",
      "state": {}
     },
     "2c714827aa9045a387277d4a9d0bb740": {
      "model_module": "@jupyter-widgets/controls",
      "model_module_version": "1.5.0",
      "model_name": "DescriptionStyleModel",
      "state": {
       "description_width": ""
      }
     },
     "2eee99ae64204888beab0f50de54452c": {
      "model_module": "@jupyter-widgets/controls",
      "model_module_version": "1.5.0",
      "model_name": "DescriptionStyleModel",
      "state": {
       "description_width": ""
      }
     },
     "2f8f0c25328c49a3b807d0719902b035": {
      "model_module": "@jupyter-widgets/controls",
      "model_module_version": "1.5.0",
      "model_name": "DropdownModel",
      "state": {
       "_options_labels": [
        "AM_PM",
        "day_of_month",
        "month",
        "weekdays_end",
        "year",
        "day_in_week"
       ],
       "description": "column",
       "index": 0,
       "layout": "IPY_MODEL_43a213eb1efd41f990a3e334b3a77a71",
       "style": "IPY_MODEL_2c714827aa9045a387277d4a9d0bb740"
      }
     },
     "30898f7749524815889d076e1511cfcb": {
      "model_module": "@jupyter-widgets/base",
      "model_module_version": "1.2.0",
      "model_name": "LayoutModel",
      "state": {}
     },
     "31094acbfbab43098a0ea01e0a3212f2": {
      "model_module": "@jupyter-widgets/controls",
      "model_module_version": "1.5.0",
      "model_name": "VBoxModel",
      "state": {
       "_dom_classes": [
        "widget-interact"
       ],
       "children": [
        "IPY_MODEL_0f484fbdf94b4a5ba4595c3ab7c423a1",
        "IPY_MODEL_39a725ff01aa4acf82c1e17f90268716"
       ],
       "layout": "IPY_MODEL_387d3eabc9514a8ab10e68156e453198"
      }
     },
     "387d3eabc9514a8ab10e68156e453198": {
      "model_module": "@jupyter-widgets/base",
      "model_module_version": "1.2.0",
      "model_name": "LayoutModel",
      "state": {}
     },
     "39a725ff01aa4acf82c1e17f90268716": {
      "model_module": "@jupyter-widgets/output",
      "model_module_version": "1.0.0",
      "model_name": "OutputModel",
      "state": {
       "layout": "IPY_MODEL_25b60513a8d144d68f947d6e70aebc41",
       "outputs": [
        {
         "data": {
          "text/html": "<div>\n<style scoped>\n    .dataframe tbody tr th:only-of-type {\n        vertical-align: middle;\n    }\n\n    .dataframe tbody tr th {\n        vertical-align: top;\n    }\n\n    .dataframe thead th {\n        text-align: right;\n    }\n</style>\n<table border=\"1\" class=\"dataframe\">\n  <thead>\n    <tr style=\"text-align: right;\">\n      <th></th>\n      <th>counts</th>\n      <th>AVG_Temperature_F</th>\n      <th>AVG_Humidity_%</th>\n      <th>AVG_PM2.5_ATM_ug/m3</th>\n      <th>MAX_Temperature_F</th>\n      <th>MAX_Humidity_%</th>\n      <th>MAX_PM2.5_ATM_ug/m3</th>\n      <th>MIN_Temperature_F</th>\n      <th>MIN_Humidity_%</th>\n      <th>MIN_PM2.5_ATM_ug/m3</th>\n    </tr>\n    <tr>\n      <th>AM_PM</th>\n      <th></th>\n      <th></th>\n      <th></th>\n      <th></th>\n      <th></th>\n      <th></th>\n      <th></th>\n      <th></th>\n      <th></th>\n      <th></th>\n    </tr>\n  </thead>\n  <tbody>\n    <tr>\n      <th>AM</th>\n      <td>27563</td>\n      <td>83.875993</td>\n      <td>67.08642</td>\n      <td>60.981710</td>\n      <td>97</td>\n      <td>89</td>\n      <td>568.08</td>\n      <td>72</td>\n      <td>39</td>\n      <td>0.78</td>\n    </tr>\n    <tr>\n      <th>PM</th>\n      <td>28489</td>\n      <td>85.736214</td>\n      <td>63.21310</td>\n      <td>48.016335</td>\n      <td>108</td>\n      <td>87</td>\n      <td>365.43</td>\n      <td>70</td>\n      <td>29</td>\n      <td>2.89</td>\n    </tr>\n  </tbody>\n</table>\n</div>",
          "text/plain": "       counts  AVG_Temperature_F  AVG_Humidity_%  AVG_PM2.5_ATM_ug/m3  \\\nAM_PM                                                                   \nAM      27563          83.875993        67.08642            60.981710   \nPM      28489          85.736214        63.21310            48.016335   \n\n       MAX_Temperature_F  MAX_Humidity_%  MAX_PM2.5_ATM_ug/m3  \\\nAM_PM                                                           \nAM                    97              89               568.08   \nPM                   108              87               365.43   \n\n       MIN_Temperature_F  MIN_Humidity_%  MIN_PM2.5_ATM_ug/m3  \nAM_PM                                                          \nAM                    72              39                 0.78  \nPM                    70              29                 2.89  "
         },
         "metadata": {},
         "output_type": "display_data"
        }
       ]
      }
     },
     "43a213eb1efd41f990a3e334b3a77a71": {
      "model_module": "@jupyter-widgets/base",
      "model_module_version": "1.2.0",
      "model_name": "LayoutModel",
      "state": {}
     },
     "4683645ff8c14b108641d05b3b859525": {
      "model_module": "@jupyter-widgets/base",
      "model_module_version": "1.2.0",
      "model_name": "LayoutModel",
      "state": {}
     },
     "479dd11b7f8945679f00237594e30c8c": {
      "model_module": "@jupyter-widgets/output",
      "model_module_version": "1.0.0",
      "model_name": "OutputModel",
      "state": {
       "layout": "IPY_MODEL_b3df6f0eec4743d69b3cbba701c9a7e8",
       "outputs": [
        {
         "data": {
          "text/html": "<div>\n<style scoped>\n    .dataframe tbody tr th:only-of-type {\n        vertical-align: middle;\n    }\n\n    .dataframe tbody tr th {\n        vertical-align: top;\n    }\n\n    .dataframe thead th {\n        text-align: right;\n    }\n</style>\n<table border=\"1\" class=\"dataframe\">\n  <thead>\n    <tr style=\"text-align: right;\">\n      <th></th>\n      <th>counts</th>\n      <th>AVG_Temperature_F</th>\n      <th>AVG_Humidity_%</th>\n      <th>AVG_PM2.5_ATM_ug/m3</th>\n      <th>MAX_Temperature_F</th>\n      <th>MAX_Humidity_%</th>\n      <th>MAX_PM2.5_ATM_ug/m3</th>\n      <th>MIN_Temperature_F</th>\n      <th>MIN_Humidity_%</th>\n      <th>MIN_PM2.5_ATM_ug/m3</th>\n    </tr>\n    <tr>\n      <th>day_of_month</th>\n      <th></th>\n      <th></th>\n      <th></th>\n      <th></th>\n      <th></th>\n      <th></th>\n      <th></th>\n      <th></th>\n      <th></th>\n      <th></th>\n    </tr>\n  </thead>\n  <tbody>\n    <tr>\n      <th>1</th>\n      <td>1857</td>\n      <td>86.174475</td>\n      <td>62.608508</td>\n      <td>44.802531</td>\n      <td>100</td>\n      <td>89</td>\n      <td>230.16</td>\n      <td>76</td>\n      <td>34</td>\n      <td>6.09</td>\n    </tr>\n    <tr>\n      <th>2</th>\n      <td>2083</td>\n      <td>84.207873</td>\n      <td>65.471435</td>\n      <td>45.428358</td>\n      <td>105</td>\n      <td>82</td>\n      <td>190.04</td>\n      <td>73</td>\n      <td>32</td>\n      <td>10.90</td>\n    </tr>\n    <tr>\n      <th>3</th>\n      <td>2062</td>\n      <td>83.500970</td>\n      <td>67.084869</td>\n      <td>59.600364</td>\n      <td>92</td>\n      <td>83</td>\n      <td>568.08</td>\n      <td>77</td>\n      <td>50</td>\n      <td>2.95</td>\n    </tr>\n    <tr>\n      <th>4</th>\n      <td>1921</td>\n      <td>83.645497</td>\n      <td>68.082769</td>\n      <td>72.464414</td>\n      <td>94</td>\n      <td>86</td>\n      <td>220.33</td>\n      <td>75</td>\n      <td>49</td>\n      <td>10.18</td>\n    </tr>\n    <tr>\n      <th>5</th>\n      <td>2072</td>\n      <td>84.574807</td>\n      <td>67.464768</td>\n      <td>43.452872</td>\n      <td>94</td>\n      <td>83</td>\n      <td>212.58</td>\n      <td>78</td>\n      <td>45</td>\n      <td>3.07</td>\n    </tr>\n    <tr>\n      <th>6</th>\n      <td>1962</td>\n      <td>83.863914</td>\n      <td>67.962283</td>\n      <td>56.761702</td>\n      <td>98</td>\n      <td>86</td>\n      <td>208.80</td>\n      <td>77</td>\n      <td>42</td>\n      <td>8.69</td>\n    </tr>\n    <tr>\n      <th>7</th>\n      <td>1776</td>\n      <td>84.407658</td>\n      <td>65.728041</td>\n      <td>74.329251</td>\n      <td>100</td>\n      <td>82</td>\n      <td>257.56</td>\n      <td>77</td>\n      <td>38</td>\n      <td>13.51</td>\n    </tr>\n    <tr>\n      <th>8</th>\n      <td>1615</td>\n      <td>84.347988</td>\n      <td>66.733746</td>\n      <td>80.322087</td>\n      <td>102</td>\n      <td>77</td>\n      <td>354.82</td>\n      <td>78</td>\n      <td>39</td>\n      <td>9.93</td>\n    </tr>\n    <tr>\n      <th>9</th>\n      <td>2092</td>\n      <td>84.523901</td>\n      <td>65.957935</td>\n      <td>53.694933</td>\n      <td>96</td>\n      <td>74</td>\n      <td>191.87</td>\n      <td>78</td>\n      <td>45</td>\n      <td>5.42</td>\n    </tr>\n    <tr>\n      <th>10</th>\n      <td>1860</td>\n      <td>84.356452</td>\n      <td>65.845161</td>\n      <td>50.578823</td>\n      <td>99</td>\n      <td>86</td>\n      <td>185.98</td>\n      <td>75</td>\n      <td>38</td>\n      <td>5.46</td>\n    </tr>\n    <tr>\n      <th>11</th>\n      <td>1933</td>\n      <td>86.153130</td>\n      <td>63.024832</td>\n      <td>52.229897</td>\n      <td>106</td>\n      <td>77</td>\n      <td>289.62</td>\n      <td>78</td>\n      <td>33</td>\n      <td>5.21</td>\n    </tr>\n    <tr>\n      <th>12</th>\n      <td>1671</td>\n      <td>86.850389</td>\n      <td>62.324955</td>\n      <td>47.882825</td>\n      <td>100</td>\n      <td>80</td>\n      <td>278.36</td>\n      <td>80</td>\n      <td>42</td>\n      <td>4.43</td>\n    </tr>\n    <tr>\n      <th>13</th>\n      <td>1814</td>\n      <td>83.826351</td>\n      <td>66.903528</td>\n      <td>63.764289</td>\n      <td>96</td>\n      <td>84</td>\n      <td>241.80</td>\n      <td>76</td>\n      <td>44</td>\n      <td>7.22</td>\n    </tr>\n    <tr>\n      <th>14</th>\n      <td>1857</td>\n      <td>86.837372</td>\n      <td>61.061928</td>\n      <td>49.265358</td>\n      <td>108</td>\n      <td>88</td>\n      <td>223.46</td>\n      <td>75</td>\n      <td>29</td>\n      <td>5.23</td>\n    </tr>\n    <tr>\n      <th>15</th>\n      <td>1894</td>\n      <td>86.706969</td>\n      <td>61.652587</td>\n      <td>52.934435</td>\n      <td>97</td>\n      <td>87</td>\n      <td>249.26</td>\n      <td>76</td>\n      <td>44</td>\n      <td>7.88</td>\n    </tr>\n    <tr>\n      <th>16</th>\n      <td>1991</td>\n      <td>84.857358</td>\n      <td>64.166248</td>\n      <td>40.923014</td>\n      <td>103</td>\n      <td>79</td>\n      <td>156.51</td>\n      <td>77</td>\n      <td>35</td>\n      <td>5.89</td>\n    </tr>\n    <tr>\n      <th>17</th>\n      <td>1903</td>\n      <td>84.763006</td>\n      <td>66.099317</td>\n      <td>57.148865</td>\n      <td>94</td>\n      <td>85</td>\n      <td>275.41</td>\n      <td>73</td>\n      <td>47</td>\n      <td>9.05</td>\n    </tr>\n    <tr>\n      <th>18</th>\n      <td>1740</td>\n      <td>85.462069</td>\n      <td>64.541379</td>\n      <td>50.630149</td>\n      <td>95</td>\n      <td>87</td>\n      <td>257.80</td>\n      <td>75</td>\n      <td>46</td>\n      <td>8.68</td>\n    </tr>\n    <tr>\n      <th>19</th>\n      <td>1584</td>\n      <td>84.061237</td>\n      <td>66.815025</td>\n      <td>57.965467</td>\n      <td>95</td>\n      <td>86</td>\n      <td>206.65</td>\n      <td>74</td>\n      <td>46</td>\n      <td>6.84</td>\n    </tr>\n    <tr>\n      <th>20</th>\n      <td>1595</td>\n      <td>84.897806</td>\n      <td>65.845141</td>\n      <td>39.415473</td>\n      <td>96</td>\n      <td>88</td>\n      <td>224.94</td>\n      <td>73</td>\n      <td>45</td>\n      <td>6.00</td>\n    </tr>\n    <tr>\n      <th>21</th>\n      <td>1817</td>\n      <td>84.400110</td>\n      <td>67.081453</td>\n      <td>43.121739</td>\n      <td>104</td>\n      <td>85</td>\n      <td>216.29</td>\n      <td>77</td>\n      <td>38</td>\n      <td>0.78</td>\n    </tr>\n    <tr>\n      <th>22</th>\n      <td>1766</td>\n      <td>83.597395</td>\n      <td>66.321065</td>\n      <td>45.862922</td>\n      <td>94</td>\n      <td>87</td>\n      <td>178.64</td>\n      <td>75</td>\n      <td>46</td>\n      <td>5.62</td>\n    </tr>\n    <tr>\n      <th>23</th>\n      <td>1593</td>\n      <td>85.351538</td>\n      <td>64.683616</td>\n      <td>53.128029</td>\n      <td>100</td>\n      <td>87</td>\n      <td>220.61</td>\n      <td>76</td>\n      <td>40</td>\n      <td>6.95</td>\n    </tr>\n    <tr>\n      <th>24</th>\n      <td>1591</td>\n      <td>84.194846</td>\n      <td>66.968573</td>\n      <td>67.900798</td>\n      <td>103</td>\n      <td>88</td>\n      <td>228.60</td>\n      <td>70</td>\n      <td>37</td>\n      <td>7.32</td>\n    </tr>\n    <tr>\n      <th>25</th>\n      <td>1419</td>\n      <td>82.740662</td>\n      <td>69.116279</td>\n      <td>61.101903</td>\n      <td>90</td>\n      <td>87</td>\n      <td>258.00</td>\n      <td>74</td>\n      <td>54</td>\n      <td>6.56</td>\n    </tr>\n    <tr>\n      <th>26</th>\n      <td>1372</td>\n      <td>83.185131</td>\n      <td>66.861516</td>\n      <td>51.039082</td>\n      <td>90</td>\n      <td>84</td>\n      <td>219.33</td>\n      <td>75</td>\n      <td>50</td>\n      <td>4.17</td>\n    </tr>\n    <tr>\n      <th>27</th>\n      <td>1906</td>\n      <td>85.101259</td>\n      <td>62.490031</td>\n      <td>66.529407</td>\n      <td>100</td>\n      <td>87</td>\n      <td>299.79</td>\n      <td>75</td>\n      <td>29</td>\n      <td>4.66</td>\n    </tr>\n    <tr>\n      <th>28</th>\n      <td>1972</td>\n      <td>85.550710</td>\n      <td>61.665822</td>\n      <td>47.772323</td>\n      <td>108</td>\n      <td>80</td>\n      <td>191.04</td>\n      <td>78</td>\n      <td>29</td>\n      <td>3.61</td>\n    </tr>\n    <tr>\n      <th>29</th>\n      <td>1979</td>\n      <td>85.086407</td>\n      <td>63.628095</td>\n      <td>48.988449</td>\n      <td>96</td>\n      <td>83</td>\n      <td>224.40</td>\n      <td>72</td>\n      <td>40</td>\n      <td>7.37</td>\n    </tr>\n    <tr>\n      <th>30</th>\n      <td>1949</td>\n      <td>86.004105</td>\n      <td>62.695228</td>\n      <td>52.458240</td>\n      <td>99</td>\n      <td>84</td>\n      <td>240.70</td>\n      <td>76</td>\n      <td>37</td>\n      <td>7.75</td>\n    </tr>\n    <tr>\n      <th>31</th>\n      <td>1406</td>\n      <td>85.628734</td>\n      <td>63.086771</td>\n      <td>63.283499</td>\n      <td>103</td>\n      <td>76</td>\n      <td>255.30</td>\n      <td>77</td>\n      <td>36</td>\n      <td>6.18</td>\n    </tr>\n  </tbody>\n</table>\n</div>",
          "text/plain": "              counts  AVG_Temperature_F  AVG_Humidity_%  AVG_PM2.5_ATM_ug/m3  \\\nday_of_month                                                                   \n1               1857          86.174475       62.608508            44.802531   \n2               2083          84.207873       65.471435            45.428358   \n3               2062          83.500970       67.084869            59.600364   \n4               1921          83.645497       68.082769            72.464414   \n5               2072          84.574807       67.464768            43.452872   \n6               1962          83.863914       67.962283            56.761702   \n7               1776          84.407658       65.728041            74.329251   \n8               1615          84.347988       66.733746            80.322087   \n9               2092          84.523901       65.957935            53.694933   \n10              1860          84.356452       65.845161            50.578823   \n11              1933          86.153130       63.024832            52.229897   \n12              1671          86.850389       62.324955            47.882825   \n13              1814          83.826351       66.903528            63.764289   \n14              1857          86.837372       61.061928            49.265358   \n15              1894          86.706969       61.652587            52.934435   \n16              1991          84.857358       64.166248            40.923014   \n17              1903          84.763006       66.099317            57.148865   \n18              1740          85.462069       64.541379            50.630149   \n19              1584          84.061237       66.815025            57.965467   \n20              1595          84.897806       65.845141            39.415473   \n21              1817          84.400110       67.081453            43.121739   \n22              1766          83.597395       66.321065            45.862922   \n23              1593          85.351538       64.683616            53.128029   \n24              1591          84.194846       66.968573            67.900798   \n25              1419          82.740662       69.116279            61.101903   \n26              1372          83.185131       66.861516            51.039082   \n27              1906          85.101259       62.490031            66.529407   \n28              1972          85.550710       61.665822            47.772323   \n29              1979          85.086407       63.628095            48.988449   \n30              1949          86.004105       62.695228            52.458240   \n31              1406          85.628734       63.086771            63.283499   \n\n              MAX_Temperature_F  MAX_Humidity_%  MAX_PM2.5_ATM_ug/m3  \\\nday_of_month                                                           \n1                           100              89               230.16   \n2                           105              82               190.04   \n3                            92              83               568.08   \n4                            94              86               220.33   \n5                            94              83               212.58   \n6                            98              86               208.80   \n7                           100              82               257.56   \n8                           102              77               354.82   \n9                            96              74               191.87   \n10                           99              86               185.98   \n11                          106              77               289.62   \n12                          100              80               278.36   \n13                           96              84               241.80   \n14                          108              88               223.46   \n15                           97              87               249.26   \n16                          103              79               156.51   \n17                           94              85               275.41   \n18                           95              87               257.80   \n19                           95              86               206.65   \n20                           96              88               224.94   \n21                          104              85               216.29   \n22                           94              87               178.64   \n23                          100              87               220.61   \n24                          103              88               228.60   \n25                           90              87               258.00   \n26                           90              84               219.33   \n27                          100              87               299.79   \n28                          108              80               191.04   \n29                           96              83               224.40   \n30                           99              84               240.70   \n31                          103              76               255.30   \n\n              MIN_Temperature_F  MIN_Humidity_%  MIN_PM2.5_ATM_ug/m3  \nday_of_month                                                          \n1                            76              34                 6.09  \n2                            73              32                10.90  \n3                            77              50                 2.95  \n4                            75              49                10.18  \n5                            78              45                 3.07  \n6                            77              42                 8.69  \n7                            77              38                13.51  \n8                            78              39                 9.93  \n9                            78              45                 5.42  \n10                           75              38                 5.46  \n11                           78              33                 5.21  \n12                           80              42                 4.43  \n13                           76              44                 7.22  \n14                           75              29                 5.23  \n15                           76              44                 7.88  \n16                           77              35                 5.89  \n17                           73              47                 9.05  \n18                           75              46                 8.68  \n19                           74              46                 6.84  \n20                           73              45                 6.00  \n21                           77              38                 0.78  \n22                           75              46                 5.62  \n23                           76              40                 6.95  \n24                           70              37                 7.32  \n25                           74              54                 6.56  \n26                           75              50                 4.17  \n27                           75              29                 4.66  \n28                           78              29                 3.61  \n29                           72              40                 7.37  \n30                           76              37                 7.75  \n31                           77              36                 6.18  "
         },
         "metadata": {},
         "output_type": "display_data"
        }
       ]
      }
     },
     "5109cfc9312a4a468b927e1599d07236": {
      "model_module": "@jupyter-widgets/base",
      "model_module_version": "1.2.0",
      "model_name": "LayoutModel",
      "state": {}
     },
     "5120c4af3ca142e8b198e65bcbd0c302": {
      "model_module": "@jupyter-widgets/base",
      "model_module_version": "1.2.0",
      "model_name": "LayoutModel",
      "state": {}
     },
     "54f52c2f97b142c7ba6f03137b63d74c": {
      "model_module": "@jupyter-widgets/controls",
      "model_module_version": "1.5.0",
      "model_name": "DropdownModel",
      "state": {
       "_options_labels": [
        "day_of_month",
        "month",
        "weekdays_end",
        "year",
        "day_in_week"
       ],
       "description": "column",
       "index": 0,
       "layout": "IPY_MODEL_5120c4af3ca142e8b198e65bcbd0c302",
       "style": "IPY_MODEL_f9dbe89b74c54338b0259eeb6008c8b1"
      }
     },
     "5e30df68ee774d069135cce04116a524": {
      "model_module": "@jupyter-widgets/base",
      "model_module_version": "1.2.0",
      "model_name": "LayoutModel",
      "state": {}
     },
     "627515f60f7c452e86705a7821d71281": {
      "model_module": "@jupyter-widgets/base",
      "model_module_version": "1.2.0",
      "model_name": "LayoutModel",
      "state": {}
     },
     "72a042d2a7d5485aad26a4e8516b20dd": {
      "model_module": "@jupyter-widgets/controls",
      "model_module_version": "1.5.0",
      "model_name": "DropdownModel",
      "state": {
       "_options_labels": [
        "AM_PM",
        "day_of_month",
        "month",
        "weekdays_end",
        "year",
        "day_in_week"
       ],
       "description": "column",
       "index": 0,
       "layout": "IPY_MODEL_30898f7749524815889d076e1511cfcb",
       "style": "IPY_MODEL_2eee99ae64204888beab0f50de54452c"
      }
     },
     "77be940d9fcf419eabc70de623dad8d3": {
      "model_module": "@jupyter-widgets/controls",
      "model_module_version": "1.5.0",
      "model_name": "VBoxModel",
      "state": {
       "_dom_classes": [
        "widget-interact"
       ],
       "children": [
        "IPY_MODEL_72a042d2a7d5485aad26a4e8516b20dd",
        "IPY_MODEL_b56703a3588140d4852062f13c107325"
       ],
       "layout": "IPY_MODEL_5e30df68ee774d069135cce04116a524"
      }
     },
     "7a0bbf241dff4fe9985ced3929f5a5c0": {
      "model_module": "@jupyter-widgets/base",
      "model_module_version": "1.2.0",
      "model_name": "LayoutModel",
      "state": {}
     },
     "7f1517ca0e3143439122af406c315ab4": {
      "model_module": "@jupyter-widgets/controls",
      "model_module_version": "1.5.0",
      "model_name": "DescriptionStyleModel",
      "state": {
       "description_width": ""
      }
     },
     "82ca3e9b04c0408d850730e895a2f721": {
      "model_module": "@jupyter-widgets/output",
      "model_module_version": "1.0.0",
      "model_name": "OutputModel",
      "state": {
       "layout": "IPY_MODEL_5109cfc9312a4a468b927e1599d07236",
       "outputs": [
        {
         "data": {
          "text/html": "<div>\n<style scoped>\n    .dataframe tbody tr th:only-of-type {\n        vertical-align: middle;\n    }\n\n    .dataframe tbody tr th {\n        vertical-align: top;\n    }\n\n    .dataframe thead th {\n        text-align: right;\n    }\n</style>\n<table border=\"1\" class=\"dataframe\">\n  <thead>\n    <tr style=\"text-align: right;\">\n      <th></th>\n      <th>counts</th>\n      <th>AVG_Temperature_F</th>\n      <th>AVG_Humidity_%</th>\n      <th>AVG_PM2.5_ATM_ug/m3</th>\n      <th>MAX_Temperature_F</th>\n      <th>MAX_Humidity_%</th>\n      <th>MAX_PM2.5_ATM_ug/m3</th>\n      <th>MIN_Temperature_F</th>\n      <th>MIN_Humidity_%</th>\n      <th>MIN_PM2.5_ATM_ug/m3</th>\n    </tr>\n    <tr>\n      <th>AM_PM</th>\n      <th></th>\n      <th></th>\n      <th></th>\n      <th></th>\n      <th></th>\n      <th></th>\n      <th></th>\n      <th></th>\n      <th></th>\n      <th></th>\n    </tr>\n  </thead>\n  <tbody>\n    <tr>\n      <th>AM</th>\n      <td>27563</td>\n      <td>83.875993</td>\n      <td>67.08642</td>\n      <td>60.981710</td>\n      <td>97</td>\n      <td>89</td>\n      <td>568.08</td>\n      <td>72</td>\n      <td>39</td>\n      <td>0.78</td>\n    </tr>\n    <tr>\n      <th>PM</th>\n      <td>28489</td>\n      <td>85.736214</td>\n      <td>63.21310</td>\n      <td>48.016335</td>\n      <td>108</td>\n      <td>87</td>\n      <td>365.43</td>\n      <td>70</td>\n      <td>29</td>\n      <td>2.89</td>\n    </tr>\n  </tbody>\n</table>\n</div>",
          "text/plain": "       counts  AVG_Temperature_F  AVG_Humidity_%  AVG_PM2.5_ATM_ug/m3  \\\nAM_PM                                                                   \nAM      27563          83.875993        67.08642            60.981710   \nPM      28489          85.736214        63.21310            48.016335   \n\n       MAX_Temperature_F  MAX_Humidity_%  MAX_PM2.5_ATM_ug/m3  \\\nAM_PM                                                           \nAM                    97              89               568.08   \nPM                   108              87               365.43   \n\n       MIN_Temperature_F  MIN_Humidity_%  MIN_PM2.5_ATM_ug/m3  \nAM_PM                                                          \nAM                    72              39                 0.78  \nPM                    70              29                 2.89  "
         },
         "metadata": {},
         "output_type": "display_data"
        }
       ]
      }
     },
     "93466e80e6744ce382b14d81c5b4a19c": {
      "model_module": "@jupyter-widgets/base",
      "model_module_version": "1.2.0",
      "model_name": "LayoutModel",
      "state": {}
     },
     "9570f624ce574fcfb3347066c2208fa5": {
      "model_module": "@jupyter-widgets/base",
      "model_module_version": "1.2.0",
      "model_name": "LayoutModel",
      "state": {}
     },
     "a79fc84b4e87410585e593df741546a8": {
      "model_module": "@jupyter-widgets/controls",
      "model_module_version": "1.5.0",
      "model_name": "VBoxModel",
      "state": {
       "_dom_classes": [
        "widget-interact"
       ],
       "children": [
        "IPY_MODEL_2f8f0c25328c49a3b807d0719902b035",
        "IPY_MODEL_82ca3e9b04c0408d850730e895a2f721"
       ],
       "layout": "IPY_MODEL_7a0bbf241dff4fe9985ced3929f5a5c0"
      }
     },
     "b3df6f0eec4743d69b3cbba701c9a7e8": {
      "model_module": "@jupyter-widgets/base",
      "model_module_version": "1.2.0",
      "model_name": "LayoutModel",
      "state": {}
     },
     "b56703a3588140d4852062f13c107325": {
      "model_module": "@jupyter-widgets/output",
      "model_module_version": "1.0.0",
      "model_name": "OutputModel",
      "state": {
       "layout": "IPY_MODEL_93466e80e6744ce382b14d81c5b4a19c",
       "outputs": [
        {
         "data": {
          "text/html": "<div>\n<style scoped>\n    .dataframe tbody tr th:only-of-type {\n        vertical-align: middle;\n    }\n\n    .dataframe tbody tr th {\n        vertical-align: top;\n    }\n\n    .dataframe thead th {\n        text-align: right;\n    }\n</style>\n<table border=\"1\" class=\"dataframe\">\n  <thead>\n    <tr style=\"text-align: right;\">\n      <th></th>\n      <th>counts</th>\n      <th>AVG_Temperature_F</th>\n      <th>AVG_Humidity_%</th>\n      <th>AVG_PM2.5_ATM_ug/m3</th>\n      <th>MAX_Temperature_F</th>\n      <th>MAX_Humidity_%</th>\n      <th>MAX_PM2.5_ATM_ug/m3</th>\n      <th>MIN_Temperature_F</th>\n      <th>MIN_Humidity_%</th>\n      <th>MIN_PM2.5_ATM_ug/m3</th>\n    </tr>\n    <tr>\n      <th>AM_PM</th>\n      <th></th>\n      <th></th>\n      <th></th>\n      <th></th>\n      <th></th>\n      <th></th>\n      <th></th>\n      <th></th>\n      <th></th>\n      <th></th>\n    </tr>\n  </thead>\n  <tbody>\n    <tr>\n      <th>AM</th>\n      <td>27563</td>\n      <td>83.875993</td>\n      <td>67.08642</td>\n      <td>60.981710</td>\n      <td>97</td>\n      <td>89</td>\n      <td>568.08</td>\n      <td>72</td>\n      <td>39</td>\n      <td>0.78</td>\n    </tr>\n    <tr>\n      <th>PM</th>\n      <td>28489</td>\n      <td>85.736214</td>\n      <td>63.21310</td>\n      <td>48.016335</td>\n      <td>108</td>\n      <td>87</td>\n      <td>365.43</td>\n      <td>70</td>\n      <td>29</td>\n      <td>2.89</td>\n    </tr>\n  </tbody>\n</table>\n</div>",
          "text/plain": "       counts  AVG_Temperature_F  AVG_Humidity_%  AVG_PM2.5_ATM_ug/m3  \\\nAM_PM                                                                   \nAM      27563          83.875993        67.08642            60.981710   \nPM      28489          85.736214        63.21310            48.016335   \n\n       MAX_Temperature_F  MAX_Humidity_%  MAX_PM2.5_ATM_ug/m3  \\\nAM_PM                                                           \nAM                    97              89               568.08   \nPM                   108              87               365.43   \n\n       MIN_Temperature_F  MIN_Humidity_%  MIN_PM2.5_ATM_ug/m3  \nAM_PM                                                          \nAM                    72              39                 0.78  \nPM                    70              29                 2.89  "
         },
         "metadata": {},
         "output_type": "display_data"
        }
       ]
      }
     },
     "ba26ccac67514a569bd9576769c302e6": {
      "model_module": "@jupyter-widgets/controls",
      "model_module_version": "1.5.0",
      "model_name": "VBoxModel",
      "state": {
       "_dom_classes": [
        "widget-interact"
       ],
       "children": [
        "IPY_MODEL_d40fa78028c14c019a747d262ab5dd4a",
        "IPY_MODEL_ce02422176604f50a10c2aeb9103218d"
       ],
       "layout": "IPY_MODEL_d6225ce63b0543b8941c1e8ec2a1c4c4"
      }
     },
     "ce02422176604f50a10c2aeb9103218d": {
      "model_module": "@jupyter-widgets/output",
      "model_module_version": "1.0.0",
      "model_name": "OutputModel",
      "state": {
       "layout": "IPY_MODEL_627515f60f7c452e86705a7821d71281",
       "outputs": [
        {
         "data": {
          "text/html": "<div>\n<style scoped>\n    .dataframe tbody tr th:only-of-type {\n        vertical-align: middle;\n    }\n\n    .dataframe tbody tr th {\n        vertical-align: top;\n    }\n\n    .dataframe thead th {\n        text-align: right;\n    }\n</style>\n<table border=\"1\" class=\"dataframe\">\n  <thead>\n    <tr style=\"text-align: right;\">\n      <th></th>\n      <th>unique_day_of_month</th>\n      <th>counts</th>\n    </tr>\n  </thead>\n  <tbody>\n    <tr>\n      <th>0</th>\n      <td>9</td>\n      <td>2092</td>\n    </tr>\n    <tr>\n      <th>1</th>\n      <td>2</td>\n      <td>2083</td>\n    </tr>\n    <tr>\n      <th>2</th>\n      <td>5</td>\n      <td>2072</td>\n    </tr>\n    <tr>\n      <th>3</th>\n      <td>3</td>\n      <td>2062</td>\n    </tr>\n    <tr>\n      <th>4</th>\n      <td>16</td>\n      <td>1991</td>\n    </tr>\n    <tr>\n      <th>5</th>\n      <td>29</td>\n      <td>1979</td>\n    </tr>\n    <tr>\n      <th>6</th>\n      <td>28</td>\n      <td>1972</td>\n    </tr>\n    <tr>\n      <th>7</th>\n      <td>6</td>\n      <td>1962</td>\n    </tr>\n    <tr>\n      <th>8</th>\n      <td>30</td>\n      <td>1949</td>\n    </tr>\n    <tr>\n      <th>9</th>\n      <td>11</td>\n      <td>1933</td>\n    </tr>\n    <tr>\n      <th>10</th>\n      <td>4</td>\n      <td>1921</td>\n    </tr>\n    <tr>\n      <th>11</th>\n      <td>27</td>\n      <td>1906</td>\n    </tr>\n    <tr>\n      <th>12</th>\n      <td>17</td>\n      <td>1903</td>\n    </tr>\n    <tr>\n      <th>13</th>\n      <td>15</td>\n      <td>1894</td>\n    </tr>\n    <tr>\n      <th>14</th>\n      <td>10</td>\n      <td>1860</td>\n    </tr>\n    <tr>\n      <th>15</th>\n      <td>14</td>\n      <td>1857</td>\n    </tr>\n    <tr>\n      <th>16</th>\n      <td>1</td>\n      <td>1857</td>\n    </tr>\n    <tr>\n      <th>17</th>\n      <td>21</td>\n      <td>1817</td>\n    </tr>\n    <tr>\n      <th>18</th>\n      <td>13</td>\n      <td>1814</td>\n    </tr>\n    <tr>\n      <th>19</th>\n      <td>7</td>\n      <td>1776</td>\n    </tr>\n    <tr>\n      <th>20</th>\n      <td>22</td>\n      <td>1766</td>\n    </tr>\n    <tr>\n      <th>21</th>\n      <td>18</td>\n      <td>1740</td>\n    </tr>\n    <tr>\n      <th>22</th>\n      <td>12</td>\n      <td>1671</td>\n    </tr>\n    <tr>\n      <th>23</th>\n      <td>8</td>\n      <td>1615</td>\n    </tr>\n    <tr>\n      <th>24</th>\n      <td>20</td>\n      <td>1595</td>\n    </tr>\n    <tr>\n      <th>25</th>\n      <td>23</td>\n      <td>1593</td>\n    </tr>\n    <tr>\n      <th>26</th>\n      <td>24</td>\n      <td>1591</td>\n    </tr>\n    <tr>\n      <th>27</th>\n      <td>19</td>\n      <td>1584</td>\n    </tr>\n    <tr>\n      <th>28</th>\n      <td>25</td>\n      <td>1419</td>\n    </tr>\n    <tr>\n      <th>29</th>\n      <td>31</td>\n      <td>1406</td>\n    </tr>\n    <tr>\n      <th>30</th>\n      <td>26</td>\n      <td>1372</td>\n    </tr>\n  </tbody>\n</table>\n</div>",
          "text/plain": "    unique_day_of_month  counts\n0                     9    2092\n1                     2    2083\n2                     5    2072\n3                     3    2062\n4                    16    1991\n5                    29    1979\n6                    28    1972\n7                     6    1962\n8                    30    1949\n9                    11    1933\n10                    4    1921\n11                   27    1906\n12                   17    1903\n13                   15    1894\n14                   10    1860\n15                   14    1857\n16                    1    1857\n17                   21    1817\n18                   13    1814\n19                    7    1776\n20                   22    1766\n21                   18    1740\n22                   12    1671\n23                    8    1615\n24                   20    1595\n25                   23    1593\n26                   24    1591\n27                   19    1584\n28                   25    1419\n29                   31    1406\n30                   26    1372"
         },
         "metadata": {},
         "output_type": "display_data"
        }
       ]
      }
     },
     "d40fa78028c14c019a747d262ab5dd4a": {
      "model_module": "@jupyter-widgets/controls",
      "model_module_version": "1.5.0",
      "model_name": "DropdownModel",
      "state": {
       "_options_labels": [
        "day_of_month",
        "month",
        "weekdays_end",
        "year",
        "day_in_week",
        "Temperature_F",
        "Humidity_%"
       ],
       "description": "column",
       "index": 0,
       "layout": "IPY_MODEL_f4d0a4a927854eaa9c50164725c3ac95",
       "style": "IPY_MODEL_e68f648dff664b51b2be4268c7deb980"
      }
     },
     "d6225ce63b0543b8941c1e8ec2a1c4c4": {
      "model_module": "@jupyter-widgets/base",
      "model_module_version": "1.2.0",
      "model_name": "LayoutModel",
      "state": {}
     },
     "e68f648dff664b51b2be4268c7deb980": {
      "model_module": "@jupyter-widgets/controls",
      "model_module_version": "1.5.0",
      "model_name": "DescriptionStyleModel",
      "state": {
       "description_width": ""
      }
     },
     "f4d0a4a927854eaa9c50164725c3ac95": {
      "model_module": "@jupyter-widgets/base",
      "model_module_version": "1.2.0",
      "model_name": "LayoutModel",
      "state": {}
     },
     "f9dbe89b74c54338b0259eeb6008c8b1": {
      "model_module": "@jupyter-widgets/controls",
      "model_module_version": "1.5.0",
      "model_name": "DescriptionStyleModel",
      "state": {
       "description_width": ""
      }
     }
    },
    "version_major": 2,
    "version_minor": 0
   }
  }
 },
 "nbformat": 4,
 "nbformat_minor": 1
}
