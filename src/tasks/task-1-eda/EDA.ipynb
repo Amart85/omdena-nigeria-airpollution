{
  "nbformat": 4,
  "nbformat_minor": 0,
  "metadata": {
    "colab": {
      "name": "EDA.ipynb",
      "provenance": []
    },
    "kernelspec": {
      "name": "python3",
      "display_name": "Python 3"
    },
    "language_info": {
      "name": "python"
    }
  },
  "cells": [
    {
      "cell_type": "markdown",
      "metadata": {
        "id": "SJ14m1yeSAC3"
      },
      "source": [
        "# Raising Awareness Of Air Pollution In Nigeria\n"
      ]
    },
    {
      "cell_type": "markdown",
      "metadata": {
        "id": "DbatqaWmRwjf"
      },
      "source": [
        "## Importing necessary libraries for analysis\n",
        "\n"
      ]
    },
    {
      "cell_type": "code",
      "metadata": {
        "id": "5O_CxwdkvRh3"
      },
      "source": [
        "# Importing libraries\n",
        "import pandas as pd\n",
        "import numpy as np"
      ],
      "execution_count": 5,
      "outputs": []
    },
    {
      "cell_type": "code",
      "metadata": {
        "colab": {
          "base_uri": "https://localhost:8080/"
        },
        "id": "4fyGtk5vPiG_",
        "outputId": "bcc90484-1798-4574-878d-b8eafa52bdf5"
      },
      "source": [
        "# connecting to google drive\n",
        "from google.colab import drive\n",
        "drive.mount('/content/drive')"
      ],
      "execution_count": 2,
      "outputs": [
        {
          "output_type": "stream",
          "name": "stdout",
          "text": [
            "Drive already mounted at /content/drive; to attempt to forcibly remount, call drive.mount(\"/content/drive\", force_remount=True).\n"
          ]
        }
      ]
    },
    {
      "cell_type": "markdown",
      "metadata": {
        "id": "Bxr4-RzrR7DJ"
      },
      "source": [
        "## Loading the dataset and checking the data"
      ]
    },
    {
      "cell_type": "code",
      "metadata": {
        "id": "OhTXHeR0wosF"
      },
      "source": [
        "# Load the dataset\n",
        "air = pd.read_csv(\"/content/drive/MyDrive/AirQuality/Port Harcourt, Nigeria (4.80678 7.002953).csv\")"
      ],
      "execution_count": 6,
      "outputs": []
    },
    {
      "cell_type": "code",
      "metadata": {
        "colab": {
          "base_uri": "https://localhost:8080/",
          "height": 359
        },
        "id": "isnbw3nLwx5g",
        "outputId": "edf83007-1f17-4a38-8694-f092e2c08458"
      },
      "source": [
        "# Preview the top of our data\n",
        "air.head(10)"
      ],
      "execution_count": 7,
      "outputs": [
        {
          "output_type": "execute_result",
          "data": {
            "text/html": [
              "<div>\n",
              "<style scoped>\n",
              "    .dataframe tbody tr th:only-of-type {\n",
              "        vertical-align: middle;\n",
              "    }\n",
              "\n",
              "    .dataframe tbody tr th {\n",
              "        vertical-align: top;\n",
              "    }\n",
              "\n",
              "    .dataframe thead th {\n",
              "        text-align: right;\n",
              "    }\n",
              "</style>\n",
              "<table border=\"1\" class=\"dataframe\">\n",
              "  <thead>\n",
              "    <tr style=\"text-align: right;\">\n",
              "      <th></th>\n",
              "      <th>created_at</th>\n",
              "      <th>entry_id</th>\n",
              "      <th>Temperature_F</th>\n",
              "      <th>Humidity_%</th>\n",
              "      <th>PM2.5_ATM_ug/m3</th>\n",
              "    </tr>\n",
              "  </thead>\n",
              "  <tbody>\n",
              "    <tr>\n",
              "      <th>0</th>\n",
              "      <td>2021-07-26 16:45:59 UTC</td>\n",
              "      <td>198</td>\n",
              "      <td>89</td>\n",
              "      <td>50</td>\n",
              "      <td>40.78</td>\n",
              "    </tr>\n",
              "    <tr>\n",
              "      <th>1</th>\n",
              "      <td>2021-07-26 16:48:03 UTC</td>\n",
              "      <td>199</td>\n",
              "      <td>89</td>\n",
              "      <td>50</td>\n",
              "      <td>40.09</td>\n",
              "    </tr>\n",
              "    <tr>\n",
              "      <th>2</th>\n",
              "      <td>2021-07-26 16:49:59 UTC</td>\n",
              "      <td>200</td>\n",
              "      <td>89</td>\n",
              "      <td>50</td>\n",
              "      <td>37.93</td>\n",
              "    </tr>\n",
              "    <tr>\n",
              "      <th>3</th>\n",
              "      <td>2021-07-26 16:54:03 UTC</td>\n",
              "      <td>201</td>\n",
              "      <td>89</td>\n",
              "      <td>50</td>\n",
              "      <td>33.18</td>\n",
              "    </tr>\n",
              "    <tr>\n",
              "      <th>4</th>\n",
              "      <td>2021-07-26 16:55:59 UTC</td>\n",
              "      <td>202</td>\n",
              "      <td>89</td>\n",
              "      <td>50</td>\n",
              "      <td>37.84</td>\n",
              "    </tr>\n",
              "    <tr>\n",
              "      <th>5</th>\n",
              "      <td>2021-07-26 16:58:11 UTC</td>\n",
              "      <td>203</td>\n",
              "      <td>89</td>\n",
              "      <td>50</td>\n",
              "      <td>34.70</td>\n",
              "    </tr>\n",
              "    <tr>\n",
              "      <th>6</th>\n",
              "      <td>2021-07-26 17:00:08 UTC</td>\n",
              "      <td>204</td>\n",
              "      <td>89</td>\n",
              "      <td>51</td>\n",
              "      <td>33.83</td>\n",
              "    </tr>\n",
              "    <tr>\n",
              "      <th>7</th>\n",
              "      <td>2021-07-26 17:02:05 UTC</td>\n",
              "      <td>205</td>\n",
              "      <td>89</td>\n",
              "      <td>50</td>\n",
              "      <td>36.20</td>\n",
              "    </tr>\n",
              "    <tr>\n",
              "      <th>8</th>\n",
              "      <td>2021-07-26 17:04:02 UTC</td>\n",
              "      <td>206</td>\n",
              "      <td>89</td>\n",
              "      <td>50</td>\n",
              "      <td>32.63</td>\n",
              "    </tr>\n",
              "    <tr>\n",
              "      <th>9</th>\n",
              "      <td>2021-07-26 17:06:00 UTC</td>\n",
              "      <td>207</td>\n",
              "      <td>88</td>\n",
              "      <td>50</td>\n",
              "      <td>32.60</td>\n",
              "    </tr>\n",
              "  </tbody>\n",
              "</table>\n",
              "</div>"
            ],
            "text/plain": [
              "                created_at  entry_id  ...  Humidity_%  PM2.5_ATM_ug/m3\n",
              "0  2021-07-26 16:45:59 UTC       198  ...          50            40.78\n",
              "1  2021-07-26 16:48:03 UTC       199  ...          50            40.09\n",
              "2  2021-07-26 16:49:59 UTC       200  ...          50            37.93\n",
              "3  2021-07-26 16:54:03 UTC       201  ...          50            33.18\n",
              "4  2021-07-26 16:55:59 UTC       202  ...          50            37.84\n",
              "5  2021-07-26 16:58:11 UTC       203  ...          50            34.70\n",
              "6  2021-07-26 17:00:08 UTC       204  ...          51            33.83\n",
              "7  2021-07-26 17:02:05 UTC       205  ...          50            36.20\n",
              "8  2021-07-26 17:04:02 UTC       206  ...          50            32.63\n",
              "9  2021-07-26 17:06:00 UTC       207  ...          50            32.60\n",
              "\n",
              "[10 rows x 5 columns]"
            ]
          },
          "metadata": {},
          "execution_count": 7
        }
      ]
    },
    {
      "cell_type": "code",
      "metadata": {
        "colab": {
          "base_uri": "https://localhost:8080/",
          "height": 359
        },
        "id": "ofBieP3pw6XQ",
        "outputId": "6df780be-bd2e-4223-b0e9-fbc6f1d17cc1"
      },
      "source": [
        "# Preview the bottom of our data\n",
        "air.tail(10)"
      ],
      "execution_count": 8,
      "outputs": [
        {
          "output_type": "execute_result",
          "data": {
            "text/html": [
              "<div>\n",
              "<style scoped>\n",
              "    .dataframe tbody tr th:only-of-type {\n",
              "        vertical-align: middle;\n",
              "    }\n",
              "\n",
              "    .dataframe tbody tr th {\n",
              "        vertical-align: top;\n",
              "    }\n",
              "\n",
              "    .dataframe thead th {\n",
              "        text-align: right;\n",
              "    }\n",
              "</style>\n",
              "<table border=\"1\" class=\"dataframe\">\n",
              "  <thead>\n",
              "    <tr style=\"text-align: right;\">\n",
              "      <th></th>\n",
              "      <th>created_at</th>\n",
              "      <th>entry_id</th>\n",
              "      <th>Temperature_F</th>\n",
              "      <th>Humidity_%</th>\n",
              "      <th>PM2.5_ATM_ug/m3</th>\n",
              "    </tr>\n",
              "  </thead>\n",
              "  <tbody>\n",
              "    <tr>\n",
              "      <th>56042</th>\n",
              "      <td>2021-10-25 09:18:40 UTC</td>\n",
              "      <td>56240</td>\n",
              "      <td>86</td>\n",
              "      <td>62</td>\n",
              "      <td>28.88</td>\n",
              "    </tr>\n",
              "    <tr>\n",
              "      <th>56043</th>\n",
              "      <td>2021-10-25 09:20:40 UTC</td>\n",
              "      <td>56241</td>\n",
              "      <td>86</td>\n",
              "      <td>61</td>\n",
              "      <td>26.74</td>\n",
              "    </tr>\n",
              "    <tr>\n",
              "      <th>56044</th>\n",
              "      <td>2021-10-25 09:22:42 UTC</td>\n",
              "      <td>56242</td>\n",
              "      <td>87</td>\n",
              "      <td>61</td>\n",
              "      <td>28.71</td>\n",
              "    </tr>\n",
              "    <tr>\n",
              "      <th>56045</th>\n",
              "      <td>2021-10-25 09:24:44 UTC</td>\n",
              "      <td>56243</td>\n",
              "      <td>87</td>\n",
              "      <td>61</td>\n",
              "      <td>31.04</td>\n",
              "    </tr>\n",
              "    <tr>\n",
              "      <th>56046</th>\n",
              "      <td>2021-10-25 09:26:47 UTC</td>\n",
              "      <td>56244</td>\n",
              "      <td>87</td>\n",
              "      <td>61</td>\n",
              "      <td>28.90</td>\n",
              "    </tr>\n",
              "    <tr>\n",
              "      <th>56047</th>\n",
              "      <td>2021-10-25 09:28:43 UTC</td>\n",
              "      <td>56245</td>\n",
              "      <td>87</td>\n",
              "      <td>61</td>\n",
              "      <td>29.17</td>\n",
              "    </tr>\n",
              "    <tr>\n",
              "      <th>56048</th>\n",
              "      <td>2021-10-25 09:30:43 UTC</td>\n",
              "      <td>56246</td>\n",
              "      <td>87</td>\n",
              "      <td>61</td>\n",
              "      <td>29.57</td>\n",
              "    </tr>\n",
              "    <tr>\n",
              "      <th>56049</th>\n",
              "      <td>2021-10-25 09:32:44 UTC</td>\n",
              "      <td>56247</td>\n",
              "      <td>87</td>\n",
              "      <td>61</td>\n",
              "      <td>28.75</td>\n",
              "    </tr>\n",
              "    <tr>\n",
              "      <th>56050</th>\n",
              "      <td>2021-10-25 09:34:44 UTC</td>\n",
              "      <td>56248</td>\n",
              "      <td>87</td>\n",
              "      <td>61</td>\n",
              "      <td>29.97</td>\n",
              "    </tr>\n",
              "    <tr>\n",
              "      <th>56051</th>\n",
              "      <td>2021-10-25 09:36:44 UTC</td>\n",
              "      <td>56249</td>\n",
              "      <td>87</td>\n",
              "      <td>60</td>\n",
              "      <td>30.25</td>\n",
              "    </tr>\n",
              "  </tbody>\n",
              "</table>\n",
              "</div>"
            ],
            "text/plain": [
              "                    created_at  entry_id  ...  Humidity_%  PM2.5_ATM_ug/m3\n",
              "56042  2021-10-25 09:18:40 UTC     56240  ...          62            28.88\n",
              "56043  2021-10-25 09:20:40 UTC     56241  ...          61            26.74\n",
              "56044  2021-10-25 09:22:42 UTC     56242  ...          61            28.71\n",
              "56045  2021-10-25 09:24:44 UTC     56243  ...          61            31.04\n",
              "56046  2021-10-25 09:26:47 UTC     56244  ...          61            28.90\n",
              "56047  2021-10-25 09:28:43 UTC     56245  ...          61            29.17\n",
              "56048  2021-10-25 09:30:43 UTC     56246  ...          61            29.57\n",
              "56049  2021-10-25 09:32:44 UTC     56247  ...          61            28.75\n",
              "56050  2021-10-25 09:34:44 UTC     56248  ...          61            29.97\n",
              "56051  2021-10-25 09:36:44 UTC     56249  ...          60            30.25\n",
              "\n",
              "[10 rows x 5 columns]"
            ]
          },
          "metadata": {},
          "execution_count": 8
        }
      ]
    },
    {
      "cell_type": "code",
      "metadata": {
        "colab": {
          "base_uri": "https://localhost:8080/"
        },
        "id": "2-xWH9BISanf",
        "outputId": "ce2324e2-68fe-456c-e5b7-1bb4508b9894"
      },
      "source": [
        "# Checking the shape of our data\n",
        "air.shape"
      ],
      "execution_count": 9,
      "outputs": [
        {
          "output_type": "execute_result",
          "data": {
            "text/plain": [
              "(56052, 5)"
            ]
          },
          "metadata": {},
          "execution_count": 9
        }
      ]
    },
    {
      "cell_type": "markdown",
      "metadata": {
        "id": "mUu5FhaOSifq"
      },
      "source": [
        "Our dataset has 56052 observations and 5 features/variables."
      ]
    },
    {
      "cell_type": "code",
      "metadata": {
        "colab": {
          "base_uri": "https://localhost:8080/",
          "height": 297
        },
        "id": "xgYb-LdSgI10",
        "outputId": "2373d3de-5ab3-4873-d809-31b810114cf5"
      },
      "source": [
        "# Let's describe the data\n",
        "air.describe()"
      ],
      "execution_count": 10,
      "outputs": [
        {
          "output_type": "execute_result",
          "data": {
            "text/html": [
              "<div>\n",
              "<style scoped>\n",
              "    .dataframe tbody tr th:only-of-type {\n",
              "        vertical-align: middle;\n",
              "    }\n",
              "\n",
              "    .dataframe tbody tr th {\n",
              "        vertical-align: top;\n",
              "    }\n",
              "\n",
              "    .dataframe thead th {\n",
              "        text-align: right;\n",
              "    }\n",
              "</style>\n",
              "<table border=\"1\" class=\"dataframe\">\n",
              "  <thead>\n",
              "    <tr style=\"text-align: right;\">\n",
              "      <th></th>\n",
              "      <th>entry_id</th>\n",
              "      <th>Temperature_F</th>\n",
              "      <th>Humidity_%</th>\n",
              "      <th>PM2.5_ATM_ug/m3</th>\n",
              "    </tr>\n",
              "  </thead>\n",
              "  <tbody>\n",
              "    <tr>\n",
              "      <th>count</th>\n",
              "      <td>56052.000000</td>\n",
              "      <td>56052.000000</td>\n",
              "      <td>56052.000000</td>\n",
              "      <td>56052.000000</td>\n",
              "    </tr>\n",
              "    <tr>\n",
              "      <th>mean</th>\n",
              "      <td>28223.500000</td>\n",
              "      <td>84.821469</td>\n",
              "      <td>65.117766</td>\n",
              "      <td>54.391926</td>\n",
              "    </tr>\n",
              "    <tr>\n",
              "      <th>std</th>\n",
              "      <td>16180.962981</td>\n",
              "      <td>4.319505</td>\n",
              "      <td>8.550730</td>\n",
              "      <td>42.205997</td>\n",
              "    </tr>\n",
              "    <tr>\n",
              "      <th>min</th>\n",
              "      <td>198.000000</td>\n",
              "      <td>70.000000</td>\n",
              "      <td>29.000000</td>\n",
              "      <td>0.780000</td>\n",
              "    </tr>\n",
              "    <tr>\n",
              "      <th>25%</th>\n",
              "      <td>14210.750000</td>\n",
              "      <td>82.000000</td>\n",
              "      <td>61.000000</td>\n",
              "      <td>30.170000</td>\n",
              "    </tr>\n",
              "    <tr>\n",
              "      <th>50%</th>\n",
              "      <td>28223.500000</td>\n",
              "      <td>84.000000</td>\n",
              "      <td>68.000000</td>\n",
              "      <td>41.450000</td>\n",
              "    </tr>\n",
              "    <tr>\n",
              "      <th>75%</th>\n",
              "      <td>42236.250000</td>\n",
              "      <td>87.000000</td>\n",
              "      <td>71.000000</td>\n",
              "      <td>61.190000</td>\n",
              "    </tr>\n",
              "    <tr>\n",
              "      <th>max</th>\n",
              "      <td>56249.000000</td>\n",
              "      <td>108.000000</td>\n",
              "      <td>89.000000</td>\n",
              "      <td>568.080000</td>\n",
              "    </tr>\n",
              "  </tbody>\n",
              "</table>\n",
              "</div>"
            ],
            "text/plain": [
              "           entry_id  Temperature_F    Humidity_%  PM2.5_ATM_ug/m3\n",
              "count  56052.000000   56052.000000  56052.000000     56052.000000\n",
              "mean   28223.500000      84.821469     65.117766        54.391926\n",
              "std    16180.962981       4.319505      8.550730        42.205997\n",
              "min      198.000000      70.000000     29.000000         0.780000\n",
              "25%    14210.750000      82.000000     61.000000        30.170000\n",
              "50%    28223.500000      84.000000     68.000000        41.450000\n",
              "75%    42236.250000      87.000000     71.000000        61.190000\n",
              "max    56249.000000     108.000000     89.000000       568.080000"
            ]
          },
          "metadata": {},
          "execution_count": 10
        }
      ]
    },
    {
      "cell_type": "markdown",
      "metadata": {
        "id": "_cJxQViAg7mB"
      },
      "source": [
        "The minimum and max value for the PM2.5 feature are too wide apart. The max and the 75% value are also too far apart as well. This leads to a suspicion of outliers present. We will check for these as we go through the project."
      ]
    },
    {
      "cell_type": "code",
      "metadata": {
        "colab": {
          "base_uri": "https://localhost:8080/"
        },
        "id": "vnqm85MMgQuH",
        "outputId": "f7c88c33-18ea-4f65-cf87-08cee40a291a"
      },
      "source": [
        "# Checking the info of our data\n",
        "air.info()"
      ],
      "execution_count": 11,
      "outputs": [
        {
          "output_type": "stream",
          "name": "stdout",
          "text": [
            "<class 'pandas.core.frame.DataFrame'>\n",
            "RangeIndex: 56052 entries, 0 to 56051\n",
            "Data columns (total 5 columns):\n",
            " #   Column           Non-Null Count  Dtype  \n",
            "---  ------           --------------  -----  \n",
            " 0   created_at       56052 non-null  object \n",
            " 1   entry_id         56052 non-null  int64  \n",
            " 2   Temperature_F    56052 non-null  int64  \n",
            " 3   Humidity_%       56052 non-null  int64  \n",
            " 4   PM2.5_ATM_ug/m3  56052 non-null  float64\n",
            "dtypes: float64(1), int64(3), object(1)\n",
            "memory usage: 2.1+ MB\n"
          ]
        }
      ]
    },
    {
      "cell_type": "markdown",
      "metadata": {
        "id": "uNYrNHtDhjP4"
      },
      "source": [
        "The created_at column is an object, however this column's data points are date and time observations which we could transform and separate into date and time columns.\n",
        "\n",
        "All the other columns are of numeric data type ie. int64 or float64"
      ]
    },
    {
      "cell_type": "markdown",
      "metadata": {
        "id": "MvDWuCeTiHuJ"
      },
      "source": [
        "### Cleaning the data"
      ]
    },
    {
      "cell_type": "code",
      "metadata": {
        "colab": {
          "base_uri": "https://localhost:8080/"
        },
        "id": "ArE4AwY9iP-0",
        "outputId": "c31fdaca-70bc-4653-b8e9-28d666dc5b8b"
      },
      "source": [
        "# Let's check for missing values\n",
        "air.isnull().sum().sum()"
      ],
      "execution_count": 12,
      "outputs": [
        {
          "output_type": "execute_result",
          "data": {
            "text/plain": [
              "0"
            ]
          },
          "metadata": {},
          "execution_count": 12
        }
      ]
    },
    {
      "cell_type": "markdown",
      "metadata": {
        "id": "fBu-hYNiiWrQ"
      },
      "source": [
        "We have no null values in the dataset."
      ]
    },
    {
      "cell_type": "code",
      "metadata": {
        "colab": {
          "base_uri": "https://localhost:8080/"
        },
        "id": "I6rXWMGticw9",
        "outputId": "19fbc3d3-1514-4c08-8498-382328f3a369"
      },
      "source": [
        "# Let's check for duplicates\n",
        "air.duplicated().sum().sum()"
      ],
      "execution_count": 13,
      "outputs": [
        {
          "output_type": "execute_result",
          "data": {
            "text/plain": [
              "0"
            ]
          },
          "metadata": {},
          "execution_count": 13
        }
      ]
    },
    {
      "cell_type": "markdown",
      "metadata": {
        "id": "1UdBtFABilVL"
      },
      "source": [
        "There are no duplicated observations."
      ]
    },
    {
      "cell_type": "code",
      "metadata": {
        "colab": {
          "base_uri": "https://localhost:8080/"
        },
        "id": "4ahEfRNfisA1",
        "outputId": "f0693de1-41b8-4205-fd90-57976bdc46ad"
      },
      "source": [
        "# Are there any unique values in each column entry in the dataset?\n",
        "for i in air.columns:\n",
        " print(air[i].unique())\n",
        " print (\"\\n\")"
      ],
      "execution_count": 14,
      "outputs": [
        {
          "output_type": "stream",
          "name": "stdout",
          "text": [
            "['2021-07-26 16:45:59 UTC' '2021-07-26 16:48:03 UTC'\n",
            " '2021-07-26 16:49:59 UTC' ... '2021-10-25 09:32:44 UTC'\n",
            " '2021-10-25 09:34:44 UTC' '2021-10-25 09:36:44 UTC']\n",
            "\n",
            "\n",
            "[  198   199   200 ... 56247 56248 56249]\n",
            "\n",
            "\n",
            "[ 89  88  87  86  85  84  83  82  81  78  90  91  92  93  94  96  95  97\n",
            "  98  99 100 101 102  79  80  75  76  77 103  73 104 105 106  70  74 107\n",
            " 108  72]\n",
            "\n",
            "\n",
            "[50 51 52 53 54 55 56 57 58 59 60 61 62 63 64 65 66 67 49 48 47 46 45 44\n",
            " 43 42 41 40 39 38 37 36 35 34 33 30 29 31 32 68 70 71 72 69 86 85 84 83\n",
            " 82 81 80 79 78 77 76 75 74 73 87 89 88]\n",
            "\n",
            "\n",
            "[40.78 40.09 37.93 ... 83.85 80.34  6.64]\n",
            "\n",
            "\n"
          ]
        }
      ]
    },
    {
      "cell_type": "markdown",
      "metadata": {
        "id": "zgW4A21EjdWw"
      },
      "source": [
        "There are no unique values. This is because our data does not consist of categorical variables. All varaiables are continuous in nature and of date-time type."
      ]
    },
    {
      "cell_type": "code",
      "metadata": {
        "colab": {
          "base_uri": "https://localhost:8080/",
          "height": 392
        },
        "id": "yGQoUm38j5Im",
        "outputId": "0a07453d-520d-46a5-f7ef-195697b1b366"
      },
      "source": [
        "# checking for outliers \n",
        "air.boxplot(figsize=(8, 6), fontsize=10)\n",
        "\n",
        "# print size of the data with outliers present\n",
        "print(air.shape)"
      ],
      "execution_count": 15,
      "outputs": [
        {
          "output_type": "stream",
          "name": "stdout",
          "text": [
            "(56052, 5)\n"
          ]
        },
        {
          "output_type": "display_data",
          "data": {
            "image/png": "[encoded data removed]",
            "text/plain": [
              "<Figure size 576x432 with 1 Axes>"
            ]
          },
          "metadata": {
            "needs_background": "light"
          }
        }
      ]
    },
    {
      "cell_type": "code",
      "metadata": {
        "colab": {
          "base_uri": "https://localhost:8080/"
        },
        "id": "jjLLwi5XkSUN",
        "outputId": "47a3cafa-8154-46f0-f40e-9e1627a7bcb7"
      },
      "source": [
        "# Let's check the ouliers present in the PM2.5 clearly \n",
        "# as the boxplot is not quite as clear.\n",
        "\n",
        "# Checking for outliers in the PM2.5 column\n",
        "\n",
        "Q1 = air[\"PM2.5_ATM_ug/m3\"].quantile(0.25)\n",
        "Q3 = air[\"PM2.5_ATM_ug/m3\"].quantile(0.75)\n",
        "\n",
        "IQR = Q3 - Q1\n",
        "\n",
        "outliers = ((air[\"PM2.5_ATM_ug/m3\"] < Q1 - 1.5 * IQR) | (air[\"PM2.5_ATM_ug/m3\"] > Q3 + 1.5 * IQR))\n",
        "outliers.value_counts()"
      ],
      "execution_count": 16,
      "outputs": [
        {
          "output_type": "execute_result",
          "data": {
            "text/plain": [
              "False    50004\n",
              "True      6048\n",
              "Name: PM2.5_ATM_ug/m3, dtype: int64"
            ]
          },
          "metadata": {},
          "execution_count": 16
        }
      ]
    },
    {
      "cell_type": "code",
      "metadata": {
        "colab": {
          "base_uri": "https://localhost:8080/"
        },
        "id": "FNBKZBhnlB74",
        "outputId": "a68d3a9d-69eb-4ae8-d1f6-8f98d2b1da41"
      },
      "source": [
        "# Checking for outliers in the Temperature_F column\n",
        "\n",
        "Q1 = air[\"Temperature_F\"].quantile(0.25)\n",
        "Q3 = air[\"Temperature_F\"].quantile(0.75)\n",
        "\n",
        "IQR = Q3 - Q1\n",
        "\n",
        "outliers = ((air[\"Temperature_F\"] < Q1 - 1.5 * IQR) | (air[\"Temperature_F\"] > Q3 + 1.5 * IQR))\n",
        "outliers.value_counts()"
      ],
      "execution_count": 17,
      "outputs": [
        {
          "output_type": "execute_result",
          "data": {
            "text/plain": [
              "False    54304\n",
              "True      1748\n",
              "Name: Temperature_F, dtype: int64"
            ]
          },
          "metadata": {},
          "execution_count": 17
        }
      ]
    },
    {
      "cell_type": "code",
      "metadata": {
        "colab": {
          "base_uri": "https://localhost:8080/"
        },
        "id": "NJXbd9H0lUZY",
        "outputId": "c380f794-408f-406f-b79b-f43439aa3b22"
      },
      "source": [
        "# Checking for outliers in the Humidity_% column\n",
        "\n",
        "Q1 = air[\"Humidity_%\"].quantile(0.25)\n",
        "Q3 = air[\"Humidity_%\"].quantile(0.75)\n",
        "\n",
        "IQR = Q3 - Q1\n",
        "\n",
        "outliers = ((air[\"Humidity_%\"] < Q1 - 1.5 * IQR) | (air[\"Humidity_%\"] > Q3 + 1.5 * IQR))\n",
        "outliers.value_counts()"
      ],
      "execution_count": 18,
      "outputs": [
        {
          "output_type": "execute_result",
          "data": {
            "text/plain": [
              "False    54322\n",
              "True      1730\n",
              "Name: Humidity_%, dtype: int64"
            ]
          },
          "metadata": {},
          "execution_count": 18
        }
      ]
    },
    {
      "cell_type": "markdown",
      "metadata": {
        "id": "VVZo9mUskBtO"
      },
      "source": [
        "Seems that there are quite a number of outliers in the columns;\n",
        "\n",
        "* PM2.5 column (6048 outlires)\n",
        "\n",
        "* Temperature_F (1748 outliers)\n",
        "\n",
        "* Humidity_% (1730 outliers)\n",
        "\n",
        "However we will not drop them as they could be relevant to the study."
      ]
    },
    {
      "cell_type": "code",
      "metadata": {
        "colab": {
          "base_uri": "https://localhost:8080/",
          "height": 204
        },
        "id": "7v1vILFnmDcD",
        "outputId": "86c97889-6f93-4843-a807-9b7c021d1655"
      },
      "source": [
        "# Let's transform the created_at column into date and time\n",
        "# First Let's create a copy of our data set\n",
        "air_df = air.copy()\n",
        "\n",
        "# Let's check if our copy has been made\n",
        "air_df.head()"
      ],
      "execution_count": 19,
      "outputs": [
        {
          "output_type": "execute_result",
          "data": {
            "text/html": [
              "<div>\n",
              "<style scoped>\n",
              "    .dataframe tbody tr th:only-of-type {\n",
              "        vertical-align: middle;\n",
              "    }\n",
              "\n",
              "    .dataframe tbody tr th {\n",
              "        vertical-align: top;\n",
              "    }\n",
              "\n",
              "    .dataframe thead th {\n",
              "        text-align: right;\n",
              "    }\n",
              "</style>\n",
              "<table border=\"1\" class=\"dataframe\">\n",
              "  <thead>\n",
              "    <tr style=\"text-align: right;\">\n",
              "      <th></th>\n",
              "      <th>created_at</th>\n",
              "      <th>entry_id</th>\n",
              "      <th>Temperature_F</th>\n",
              "      <th>Humidity_%</th>\n",
              "      <th>PM2.5_ATM_ug/m3</th>\n",
              "    </tr>\n",
              "  </thead>\n",
              "  <tbody>\n",
              "    <tr>\n",
              "      <th>0</th>\n",
              "      <td>2021-07-26 16:45:59 UTC</td>\n",
              "      <td>198</td>\n",
              "      <td>89</td>\n",
              "      <td>50</td>\n",
              "      <td>40.78</td>\n",
              "    </tr>\n",
              "    <tr>\n",
              "      <th>1</th>\n",
              "      <td>2021-07-26 16:48:03 UTC</td>\n",
              "      <td>199</td>\n",
              "      <td>89</td>\n",
              "      <td>50</td>\n",
              "      <td>40.09</td>\n",
              "    </tr>\n",
              "    <tr>\n",
              "      <th>2</th>\n",
              "      <td>2021-07-26 16:49:59 UTC</td>\n",
              "      <td>200</td>\n",
              "      <td>89</td>\n",
              "      <td>50</td>\n",
              "      <td>37.93</td>\n",
              "    </tr>\n",
              "    <tr>\n",
              "      <th>3</th>\n",
              "      <td>2021-07-26 16:54:03 UTC</td>\n",
              "      <td>201</td>\n",
              "      <td>89</td>\n",
              "      <td>50</td>\n",
              "      <td>33.18</td>\n",
              "    </tr>\n",
              "    <tr>\n",
              "      <th>4</th>\n",
              "      <td>2021-07-26 16:55:59 UTC</td>\n",
              "      <td>202</td>\n",
              "      <td>89</td>\n",
              "      <td>50</td>\n",
              "      <td>37.84</td>\n",
              "    </tr>\n",
              "  </tbody>\n",
              "</table>\n",
              "</div>"
            ],
            "text/plain": [
              "                created_at  entry_id  ...  Humidity_%  PM2.5_ATM_ug/m3\n",
              "0  2021-07-26 16:45:59 UTC       198  ...          50            40.78\n",
              "1  2021-07-26 16:48:03 UTC       199  ...          50            40.09\n",
              "2  2021-07-26 16:49:59 UTC       200  ...          50            37.93\n",
              "3  2021-07-26 16:54:03 UTC       201  ...          50            33.18\n",
              "4  2021-07-26 16:55:59 UTC       202  ...          50            37.84\n",
              "\n",
              "[5 rows x 5 columns]"
            ]
          },
          "metadata": {},
          "execution_count": 19
        }
      ]
    },
    {
      "cell_type": "code",
      "metadata": {
        "id": "S5s4wm_jmYAO"
      },
      "source": [
        "# Let's separate the column created_at into date and time columns\n",
        "air_df['date'] = pd.to_datetime(air_df['created_at']).dt.date\n",
        "air_df['time'] = pd.to_datetime(air_df['created_at']).dt.time"
      ],
      "execution_count": 20,
      "outputs": []
    },
    {
      "cell_type": "code",
      "metadata": {
        "colab": {
          "base_uri": "https://localhost:8080/",
          "height": 204
        },
        "id": "h7pBzj7loeGl",
        "outputId": "cee4f772-c264-4c07-e6cb-dc4cd117e633"
      },
      "source": [
        "# Let's check if our columns have been created\n",
        "air_df.head()"
      ],
      "execution_count": 21,
      "outputs": [
        {
          "output_type": "execute_result",
          "data": {
            "text/html": [
              "<div>\n",
              "<style scoped>\n",
              "    .dataframe tbody tr th:only-of-type {\n",
              "        vertical-align: middle;\n",
              "    }\n",
              "\n",
              "    .dataframe tbody tr th {\n",
              "        vertical-align: top;\n",
              "    }\n",
              "\n",
              "    .dataframe thead th {\n",
              "        text-align: right;\n",
              "    }\n",
              "</style>\n",
              "<table border=\"1\" class=\"dataframe\">\n",
              "  <thead>\n",
              "    <tr style=\"text-align: right;\">\n",
              "      <th></th>\n",
              "      <th>created_at</th>\n",
              "      <th>entry_id</th>\n",
              "      <th>Temperature_F</th>\n",
              "      <th>Humidity_%</th>\n",
              "      <th>PM2.5_ATM_ug/m3</th>\n",
              "      <th>date</th>\n",
              "      <th>time</th>\n",
              "    </tr>\n",
              "  </thead>\n",
              "  <tbody>\n",
              "    <tr>\n",
              "      <th>0</th>\n",
              "      <td>2021-07-26 16:45:59 UTC</td>\n",
              "      <td>198</td>\n",
              "      <td>89</td>\n",
              "      <td>50</td>\n",
              "      <td>40.78</td>\n",
              "      <td>2021-07-26</td>\n",
              "      <td>16:45:59</td>\n",
              "    </tr>\n",
              "    <tr>\n",
              "      <th>1</th>\n",
              "      <td>2021-07-26 16:48:03 UTC</td>\n",
              "      <td>199</td>\n",
              "      <td>89</td>\n",
              "      <td>50</td>\n",
              "      <td>40.09</td>\n",
              "      <td>2021-07-26</td>\n",
              "      <td>16:48:03</td>\n",
              "    </tr>\n",
              "    <tr>\n",
              "      <th>2</th>\n",
              "      <td>2021-07-26 16:49:59 UTC</td>\n",
              "      <td>200</td>\n",
              "      <td>89</td>\n",
              "      <td>50</td>\n",
              "      <td>37.93</td>\n",
              "      <td>2021-07-26</td>\n",
              "      <td>16:49:59</td>\n",
              "    </tr>\n",
              "    <tr>\n",
              "      <th>3</th>\n",
              "      <td>2021-07-26 16:54:03 UTC</td>\n",
              "      <td>201</td>\n",
              "      <td>89</td>\n",
              "      <td>50</td>\n",
              "      <td>33.18</td>\n",
              "      <td>2021-07-26</td>\n",
              "      <td>16:54:03</td>\n",
              "    </tr>\n",
              "    <tr>\n",
              "      <th>4</th>\n",
              "      <td>2021-07-26 16:55:59 UTC</td>\n",
              "      <td>202</td>\n",
              "      <td>89</td>\n",
              "      <td>50</td>\n",
              "      <td>37.84</td>\n",
              "      <td>2021-07-26</td>\n",
              "      <td>16:55:59</td>\n",
              "    </tr>\n",
              "  </tbody>\n",
              "</table>\n",
              "</div>"
            ],
            "text/plain": [
              "                created_at  entry_id  ...        date      time\n",
              "0  2021-07-26 16:45:59 UTC       198  ...  2021-07-26  16:45:59\n",
              "1  2021-07-26 16:48:03 UTC       199  ...  2021-07-26  16:48:03\n",
              "2  2021-07-26 16:49:59 UTC       200  ...  2021-07-26  16:49:59\n",
              "3  2021-07-26 16:54:03 UTC       201  ...  2021-07-26  16:54:03\n",
              "4  2021-07-26 16:55:59 UTC       202  ...  2021-07-26  16:55:59\n",
              "\n",
              "[5 rows x 7 columns]"
            ]
          },
          "metadata": {},
          "execution_count": 21
        }
      ]
    },
    {
      "cell_type": "markdown",
      "metadata": {
        "id": "9o0VxHE5omqv"
      },
      "source": [
        "Our columns have been created so let's drop the created_at column."
      ]
    },
    {
      "cell_type": "code",
      "metadata": {
        "colab": {
          "base_uri": "https://localhost:8080/",
          "height": 204
        },
        "id": "rak2utgMotG0",
        "outputId": "857f8b72-5b3c-4556-fd14-7b8f0892fbcc"
      },
      "source": [
        "# Dropping the created_at column\n",
        "air_df.drop(columns=['created_at'],inplace=True)\n",
        "# checking if column is dropped\n",
        "air_df.head()"
      ],
      "execution_count": 22,
      "outputs": [
        {
          "output_type": "execute_result",
          "data": {
            "text/html": [
              "<div>\n",
              "<style scoped>\n",
              "    .dataframe tbody tr th:only-of-type {\n",
              "        vertical-align: middle;\n",
              "    }\n",
              "\n",
              "    .dataframe tbody tr th {\n",
              "        vertical-align: top;\n",
              "    }\n",
              "\n",
              "    .dataframe thead th {\n",
              "        text-align: right;\n",
              "    }\n",
              "</style>\n",
              "<table border=\"1\" class=\"dataframe\">\n",
              "  <thead>\n",
              "    <tr style=\"text-align: right;\">\n",
              "      <th></th>\n",
              "      <th>entry_id</th>\n",
              "      <th>Temperature_F</th>\n",
              "      <th>Humidity_%</th>\n",
              "      <th>PM2.5_ATM_ug/m3</th>\n",
              "      <th>date</th>\n",
              "      <th>time</th>\n",
              "    </tr>\n",
              "  </thead>\n",
              "  <tbody>\n",
              "    <tr>\n",
              "      <th>0</th>\n",
              "      <td>198</td>\n",
              "      <td>89</td>\n",
              "      <td>50</td>\n",
              "      <td>40.78</td>\n",
              "      <td>2021-07-26</td>\n",
              "      <td>16:45:59</td>\n",
              "    </tr>\n",
              "    <tr>\n",
              "      <th>1</th>\n",
              "      <td>199</td>\n",
              "      <td>89</td>\n",
              "      <td>50</td>\n",
              "      <td>40.09</td>\n",
              "      <td>2021-07-26</td>\n",
              "      <td>16:48:03</td>\n",
              "    </tr>\n",
              "    <tr>\n",
              "      <th>2</th>\n",
              "      <td>200</td>\n",
              "      <td>89</td>\n",
              "      <td>50</td>\n",
              "      <td>37.93</td>\n",
              "      <td>2021-07-26</td>\n",
              "      <td>16:49:59</td>\n",
              "    </tr>\n",
              "    <tr>\n",
              "      <th>3</th>\n",
              "      <td>201</td>\n",
              "      <td>89</td>\n",
              "      <td>50</td>\n",
              "      <td>33.18</td>\n",
              "      <td>2021-07-26</td>\n",
              "      <td>16:54:03</td>\n",
              "    </tr>\n",
              "    <tr>\n",
              "      <th>4</th>\n",
              "      <td>202</td>\n",
              "      <td>89</td>\n",
              "      <td>50</td>\n",
              "      <td>37.84</td>\n",
              "      <td>2021-07-26</td>\n",
              "      <td>16:55:59</td>\n",
              "    </tr>\n",
              "  </tbody>\n",
              "</table>\n",
              "</div>"
            ],
            "text/plain": [
              "   entry_id  Temperature_F  Humidity_%  PM2.5_ATM_ug/m3        date      time\n",
              "0       198             89          50            40.78  2021-07-26  16:45:59\n",
              "1       199             89          50            40.09  2021-07-26  16:48:03\n",
              "2       200             89          50            37.93  2021-07-26  16:49:59\n",
              "3       201             89          50            33.18  2021-07-26  16:54:03\n",
              "4       202             89          50            37.84  2021-07-26  16:55:59"
            ]
          },
          "metadata": {},
          "execution_count": 22
        }
      ]
    },
    {
      "cell_type": "code",
      "metadata": {
        "colab": {
          "base_uri": "https://localhost:8080/",
          "height": 204
        },
        "id": "0kYIH9ZYpWk-",
        "outputId": "22ac9d58-3e7b-4015-f124-20a3e6b8b4d5"
      },
      "source": [
        "# Rearranging the columns\n",
        "air_df = air_df[['date', 'time', 'Temperature_F', 'Humidity_%','PM2.5_ATM_ug/m3']]\n",
        "# Let's check the rearrangement\n",
        "air_df.head()"
      ],
      "execution_count": 25,
      "outputs": [
        {
          "output_type": "execute_result",
          "data": {
            "text/html": [
              "<div>\n",
              "<style scoped>\n",
              "    .dataframe tbody tr th:only-of-type {\n",
              "        vertical-align: middle;\n",
              "    }\n",
              "\n",
              "    .dataframe tbody tr th {\n",
              "        vertical-align: top;\n",
              "    }\n",
              "\n",
              "    .dataframe thead th {\n",
              "        text-align: right;\n",
              "    }\n",
              "</style>\n",
              "<table border=\"1\" class=\"dataframe\">\n",
              "  <thead>\n",
              "    <tr style=\"text-align: right;\">\n",
              "      <th></th>\n",
              "      <th>date</th>\n",
              "      <th>time</th>\n",
              "      <th>Temperature_F</th>\n",
              "      <th>Humidity_%</th>\n",
              "      <th>PM2.5_ATM_ug/m3</th>\n",
              "    </tr>\n",
              "  </thead>\n",
              "  <tbody>\n",
              "    <tr>\n",
              "      <th>0</th>\n",
              "      <td>2021-07-26</td>\n",
              "      <td>16:45:59</td>\n",
              "      <td>89</td>\n",
              "      <td>50</td>\n",
              "      <td>40.78</td>\n",
              "    </tr>\n",
              "    <tr>\n",
              "      <th>1</th>\n",
              "      <td>2021-07-26</td>\n",
              "      <td>16:48:03</td>\n",
              "      <td>89</td>\n",
              "      <td>50</td>\n",
              "      <td>40.09</td>\n",
              "    </tr>\n",
              "    <tr>\n",
              "      <th>2</th>\n",
              "      <td>2021-07-26</td>\n",
              "      <td>16:49:59</td>\n",
              "      <td>89</td>\n",
              "      <td>50</td>\n",
              "      <td>37.93</td>\n",
              "    </tr>\n",
              "    <tr>\n",
              "      <th>3</th>\n",
              "      <td>2021-07-26</td>\n",
              "      <td>16:54:03</td>\n",
              "      <td>89</td>\n",
              "      <td>50</td>\n",
              "      <td>33.18</td>\n",
              "    </tr>\n",
              "    <tr>\n",
              "      <th>4</th>\n",
              "      <td>2021-07-26</td>\n",
              "      <td>16:55:59</td>\n",
              "      <td>89</td>\n",
              "      <td>50</td>\n",
              "      <td>37.84</td>\n",
              "    </tr>\n",
              "  </tbody>\n",
              "</table>\n",
              "</div>"
            ],
            "text/plain": [
              "         date      time  Temperature_F  Humidity_%  PM2.5_ATM_ug/m3\n",
              "0  2021-07-26  16:45:59             89          50            40.78\n",
              "1  2021-07-26  16:48:03             89          50            40.09\n",
              "2  2021-07-26  16:49:59             89          50            37.93\n",
              "3  2021-07-26  16:54:03             89          50            33.18\n",
              "4  2021-07-26  16:55:59             89          50            37.84"
            ]
          },
          "metadata": {},
          "execution_count": 25
        }
      ]
    },
    {
      "cell_type": "markdown",
      "metadata": {
        "id": "_-kmxvg7p8zb"
      },
      "source": [
        "## Exploratory Data Analysis"
      ]
    }
  ]
}