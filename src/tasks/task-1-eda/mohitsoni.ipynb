{
 "cells": [
  {
   "cell_type": "markdown",
   "id": "9ab272ac",
   "metadata": {},
   "source": [
    "# Raising Awareness Of Air Pollution In Nigeria"
   ]
  },
  {
   "cell_type": "markdown",
   "id": "e21bdbd4",
   "metadata": {},
   "source": [
    "## Importing necessary libraries"
   ]
  },
  {
   "cell_type": "code",
   "execution_count": 1,
   "id": "c3b7fd45",
   "metadata": {},
   "outputs": [],
   "source": [
    "# Importing necessary libraries\n",
    "import numpy as np\n",
    "import pandas as pd"
   ]
  },
  {
   "cell_type": "markdown",
   "id": "728b3683",
   "metadata": {},
   "source": [
    "## Reading Dataset"
   ]
  },
  {
   "cell_type": "code",
   "execution_count": 2,
   "id": "723d56e5",
   "metadata": {},
   "outputs": [],
   "source": [
    "# Reading csv into DataFrame object\n",
    "df = pd.read_csv('portharcourt_data.csv')"
   ]
  },
  {
   "cell_type": "code",
   "execution_count": 3,
   "id": "fe148dbd",
   "metadata": {},
   "outputs": [
    {
     "data": {
      "text/html": [
       "<div>\n",
       "<style scoped>\n",
       "    .dataframe tbody tr th:only-of-type {\n",
       "        vertical-align: middle;\n",
       "    }\n",
       "\n",
       "    .dataframe tbody tr th {\n",
       "        vertical-align: top;\n",
       "    }\n",
       "\n",
       "    .dataframe thead th {\n",
       "        text-align: right;\n",
       "    }\n",
       "</style>\n",
       "<table border=\"1\" class=\"dataframe\">\n",
       "  <thead>\n",
       "    <tr style=\"text-align: right;\">\n",
       "      <th></th>\n",
       "      <th>created_at</th>\n",
       "      <th>entry_id</th>\n",
       "      <th>Temperature_F</th>\n",
       "      <th>Humidity_%</th>\n",
       "      <th>PM2.5_ATM_ug/m3</th>\n",
       "    </tr>\n",
       "  </thead>\n",
       "  <tbody>\n",
       "    <tr>\n",
       "      <th>0</th>\n",
       "      <td>2021-07-26 16:45:59 UTC</td>\n",
       "      <td>198</td>\n",
       "      <td>89</td>\n",
       "      <td>50</td>\n",
       "      <td>40.78</td>\n",
       "    </tr>\n",
       "    <tr>\n",
       "      <th>1</th>\n",
       "      <td>2021-07-26 16:48:03 UTC</td>\n",
       "      <td>199</td>\n",
       "      <td>89</td>\n",
       "      <td>50</td>\n",
       "      <td>40.09</td>\n",
       "    </tr>\n",
       "    <tr>\n",
       "      <th>2</th>\n",
       "      <td>2021-07-26 16:49:59 UTC</td>\n",
       "      <td>200</td>\n",
       "      <td>89</td>\n",
       "      <td>50</td>\n",
       "      <td>37.93</td>\n",
       "    </tr>\n",
       "    <tr>\n",
       "      <th>3</th>\n",
       "      <td>2021-07-26 16:54:03 UTC</td>\n",
       "      <td>201</td>\n",
       "      <td>89</td>\n",
       "      <td>50</td>\n",
       "      <td>33.18</td>\n",
       "    </tr>\n",
       "    <tr>\n",
       "      <th>4</th>\n",
       "      <td>2021-07-26 16:55:59 UTC</td>\n",
       "      <td>202</td>\n",
       "      <td>89</td>\n",
       "      <td>50</td>\n",
       "      <td>37.84</td>\n",
       "    </tr>\n",
       "    <tr>\n",
       "      <th>...</th>\n",
       "      <td>...</td>\n",
       "      <td>...</td>\n",
       "      <td>...</td>\n",
       "      <td>...</td>\n",
       "      <td>...</td>\n",
       "    </tr>\n",
       "    <tr>\n",
       "      <th>56047</th>\n",
       "      <td>2021-10-25 09:28:43 UTC</td>\n",
       "      <td>56245</td>\n",
       "      <td>87</td>\n",
       "      <td>61</td>\n",
       "      <td>29.17</td>\n",
       "    </tr>\n",
       "    <tr>\n",
       "      <th>56048</th>\n",
       "      <td>2021-10-25 09:30:43 UTC</td>\n",
       "      <td>56246</td>\n",
       "      <td>87</td>\n",
       "      <td>61</td>\n",
       "      <td>29.57</td>\n",
       "    </tr>\n",
       "    <tr>\n",
       "      <th>56049</th>\n",
       "      <td>2021-10-25 09:32:44 UTC</td>\n",
       "      <td>56247</td>\n",
       "      <td>87</td>\n",
       "      <td>61</td>\n",
       "      <td>28.75</td>\n",
       "    </tr>\n",
       "    <tr>\n",
       "      <th>56050</th>\n",
       "      <td>2021-10-25 09:34:44 UTC</td>\n",
       "      <td>56248</td>\n",
       "      <td>87</td>\n",
       "      <td>61</td>\n",
       "      <td>29.97</td>\n",
       "    </tr>\n",
       "    <tr>\n",
       "      <th>56051</th>\n",
       "      <td>2021-10-25 09:36:44 UTC</td>\n",
       "      <td>56249</td>\n",
       "      <td>87</td>\n",
       "      <td>60</td>\n",
       "      <td>30.25</td>\n",
       "    </tr>\n",
       "  </tbody>\n",
       "</table>\n",
       "<p>56052 rows × 5 columns</p>\n",
       "</div>"
      ],
      "text/plain": [
       "                    created_at  entry_id  Temperature_F  Humidity_%  \\\n",
       "0      2021-07-26 16:45:59 UTC       198             89          50   \n",
       "1      2021-07-26 16:48:03 UTC       199             89          50   \n",
       "2      2021-07-26 16:49:59 UTC       200             89          50   \n",
       "3      2021-07-26 16:54:03 UTC       201             89          50   \n",
       "4      2021-07-26 16:55:59 UTC       202             89          50   \n",
       "...                        ...       ...            ...         ...   \n",
       "56047  2021-10-25 09:28:43 UTC     56245             87          61   \n",
       "56048  2021-10-25 09:30:43 UTC     56246             87          61   \n",
       "56049  2021-10-25 09:32:44 UTC     56247             87          61   \n",
       "56050  2021-10-25 09:34:44 UTC     56248             87          61   \n",
       "56051  2021-10-25 09:36:44 UTC     56249             87          60   \n",
       "\n",
       "       PM2.5_ATM_ug/m3  \n",
       "0                40.78  \n",
       "1                40.09  \n",
       "2                37.93  \n",
       "3                33.18  \n",
       "4                37.84  \n",
       "...                ...  \n",
       "56047            29.17  \n",
       "56048            29.57  \n",
       "56049            28.75  \n",
       "56050            29.97  \n",
       "56051            30.25  \n",
       "\n",
       "[56052 rows x 5 columns]"
      ]
     },
     "execution_count": 3,
     "metadata": {},
     "output_type": "execute_result"
    }
   ],
   "source": [
    "# checking if the file is read properly\n",
    "df"
   ]
  },
  {
   "cell_type": "markdown",
   "id": "7fd21d08",
   "metadata": {},
   "source": [
    "## Exploratory Data Analysis"
   ]
  },
  {
   "cell_type": "markdown",
   "id": "8eee5582",
   "metadata": {},
   "source": [
    "### Checking missing data"
   ]
  },
  {
   "cell_type": "code",
   "execution_count": 4,
   "id": "3884a1eb",
   "metadata": {},
   "outputs": [
    {
     "name": "stdout",
     "output_type": "stream",
     "text": [
      "created_at         False\n",
      "entry_id           False\n",
      "Temperature_F      False\n",
      "Humidity_%         False\n",
      "PM2.5_ATM_ug/m3    False\n",
      "dtype: bool\n"
     ]
    }
   ],
   "source": [
    "# Checking missing data\n",
    "print(df.isnull().any())"
   ]
  },
  {
   "cell_type": "markdown",
   "id": "af95e655",
   "metadata": {},
   "source": [
    "### Checking DataFrame info"
   ]
  },
  {
   "cell_type": "code",
   "execution_count": 5,
   "id": "9eeef4f0",
   "metadata": {},
   "outputs": [
    {
     "name": "stdout",
     "output_type": "stream",
     "text": [
      "<class 'pandas.core.frame.DataFrame'>\n",
      "RangeIndex: 56052 entries, 0 to 56051\n",
      "Data columns (total 5 columns):\n",
      " #   Column           Non-Null Count  Dtype  \n",
      "---  ------           --------------  -----  \n",
      " 0   created_at       56052 non-null  object \n",
      " 1   entry_id         56052 non-null  int64  \n",
      " 2   Temperature_F    56052 non-null  int64  \n",
      " 3   Humidity_%       56052 non-null  int64  \n",
      " 4   PM2.5_ATM_ug/m3  56052 non-null  float64\n",
      "dtypes: float64(1), int64(3), object(1)\n",
      "memory usage: 2.1+ MB\n"
     ]
    }
   ],
   "source": [
    "# Check data type\n",
    "df.info()"
   ]
  },
  {
   "cell_type": "markdown",
   "id": "66a221e3",
   "metadata": {},
   "source": [
    "Data consist of mostly numeric data and the `created_at` is an object. Maybe we can convert to a datetime type."
   ]
  },
  {
   "cell_type": "markdown",
   "id": "b30c433f",
   "metadata": {},
   "source": [
    "### Checking descriptive statistics of the data"
   ]
  },
  {
   "cell_type": "code",
   "execution_count": 6,
   "id": "6505606d",
   "metadata": {},
   "outputs": [
    {
     "data": {
      "text/html": [
       "<div>\n",
       "<style scoped>\n",
       "    .dataframe tbody tr th:only-of-type {\n",
       "        vertical-align: middle;\n",
       "    }\n",
       "\n",
       "    .dataframe tbody tr th {\n",
       "        vertical-align: top;\n",
       "    }\n",
       "\n",
       "    .dataframe thead th {\n",
       "        text-align: right;\n",
       "    }\n",
       "</style>\n",
       "<table border=\"1\" class=\"dataframe\">\n",
       "  <thead>\n",
       "    <tr style=\"text-align: right;\">\n",
       "      <th></th>\n",
       "      <th>entry_id</th>\n",
       "      <th>Temperature_F</th>\n",
       "      <th>Humidity_%</th>\n",
       "      <th>PM2.5_ATM_ug/m3</th>\n",
       "    </tr>\n",
       "  </thead>\n",
       "  <tbody>\n",
       "    <tr>\n",
       "      <th>count</th>\n",
       "      <td>56052.000000</td>\n",
       "      <td>56052.000000</td>\n",
       "      <td>56052.000000</td>\n",
       "      <td>56052.000000</td>\n",
       "    </tr>\n",
       "    <tr>\n",
       "      <th>mean</th>\n",
       "      <td>28223.500000</td>\n",
       "      <td>84.821469</td>\n",
       "      <td>65.117766</td>\n",
       "      <td>54.391926</td>\n",
       "    </tr>\n",
       "    <tr>\n",
       "      <th>std</th>\n",
       "      <td>16180.962981</td>\n",
       "      <td>4.319505</td>\n",
       "      <td>8.550730</td>\n",
       "      <td>42.205997</td>\n",
       "    </tr>\n",
       "    <tr>\n",
       "      <th>min</th>\n",
       "      <td>198.000000</td>\n",
       "      <td>70.000000</td>\n",
       "      <td>29.000000</td>\n",
       "      <td>0.780000</td>\n",
       "    </tr>\n",
       "    <tr>\n",
       "      <th>25%</th>\n",
       "      <td>14210.750000</td>\n",
       "      <td>82.000000</td>\n",
       "      <td>61.000000</td>\n",
       "      <td>30.170000</td>\n",
       "    </tr>\n",
       "    <tr>\n",
       "      <th>50%</th>\n",
       "      <td>28223.500000</td>\n",
       "      <td>84.000000</td>\n",
       "      <td>68.000000</td>\n",
       "      <td>41.450000</td>\n",
       "    </tr>\n",
       "    <tr>\n",
       "      <th>75%</th>\n",
       "      <td>42236.250000</td>\n",
       "      <td>87.000000</td>\n",
       "      <td>71.000000</td>\n",
       "      <td>61.190000</td>\n",
       "    </tr>\n",
       "    <tr>\n",
       "      <th>max</th>\n",
       "      <td>56249.000000</td>\n",
       "      <td>108.000000</td>\n",
       "      <td>89.000000</td>\n",
       "      <td>568.080000</td>\n",
       "    </tr>\n",
       "  </tbody>\n",
       "</table>\n",
       "</div>"
      ],
      "text/plain": [
       "           entry_id  Temperature_F    Humidity_%  PM2.5_ATM_ug/m3\n",
       "count  56052.000000   56052.000000  56052.000000     56052.000000\n",
       "mean   28223.500000      84.821469     65.117766        54.391926\n",
       "std    16180.962981       4.319505      8.550730        42.205997\n",
       "min      198.000000      70.000000     29.000000         0.780000\n",
       "25%    14210.750000      82.000000     61.000000        30.170000\n",
       "50%    28223.500000      84.000000     68.000000        41.450000\n",
       "75%    42236.250000      87.000000     71.000000        61.190000\n",
       "max    56249.000000     108.000000     89.000000       568.080000"
      ]
     },
     "execution_count": 6,
     "metadata": {},
     "output_type": "execute_result"
    }
   ],
   "source": [
    "# Checking descriptive statistics of the data\n",
    "df.describe()"
   ]
  },
  {
   "cell_type": "markdown",
   "id": "8f8677c3",
   "metadata": {},
   "source": [
    "There are 56052 datapoints. The mean and 50% values for `Temperatur_F` and `Humidity_%` are quite close. This shows that outliers might not exist in these 2 features. For `PM2.5`, there is a huge difference between the mean and the 50% value, I suspect outliers. Also the minimum and maximum value are so far apart. Also max value for this feature is far from the 75%."
   ]
  },
  {
   "cell_type": "markdown",
   "id": "814381f2",
   "metadata": {},
   "source": [
    "### Correlation between Temperature, Humidity and PM2.5 levels"
   ]
  },
  {
   "cell_type": "code",
   "execution_count": 7,
   "id": "17362db4",
   "metadata": {},
   "outputs": [
    {
     "data": {
      "text/html": [
       "<div>\n",
       "<style scoped>\n",
       "    .dataframe tbody tr th:only-of-type {\n",
       "        vertical-align: middle;\n",
       "    }\n",
       "\n",
       "    .dataframe tbody tr th {\n",
       "        vertical-align: top;\n",
       "    }\n",
       "\n",
       "    .dataframe thead th {\n",
       "        text-align: right;\n",
       "    }\n",
       "</style>\n",
       "<table border=\"1\" class=\"dataframe\">\n",
       "  <thead>\n",
       "    <tr style=\"text-align: right;\">\n",
       "      <th></th>\n",
       "      <th>Temperature_F</th>\n",
       "      <th>Humidity_%</th>\n",
       "      <th>PM2.5_ATM_ug/m3</th>\n",
       "    </tr>\n",
       "  </thead>\n",
       "  <tbody>\n",
       "    <tr>\n",
       "      <th>Temperature_F</th>\n",
       "      <td>1.000000</td>\n",
       "      <td>-0.945404</td>\n",
       "      <td>-0.304438</td>\n",
       "    </tr>\n",
       "    <tr>\n",
       "      <th>Humidity_%</th>\n",
       "      <td>-0.945404</td>\n",
       "      <td>1.000000</td>\n",
       "      <td>0.323848</td>\n",
       "    </tr>\n",
       "    <tr>\n",
       "      <th>PM2.5_ATM_ug/m3</th>\n",
       "      <td>-0.304438</td>\n",
       "      <td>0.323848</td>\n",
       "      <td>1.000000</td>\n",
       "    </tr>\n",
       "  </tbody>\n",
       "</table>\n",
       "</div>"
      ],
      "text/plain": [
       "                 Temperature_F  Humidity_%  PM2.5_ATM_ug/m3\n",
       "Temperature_F         1.000000   -0.945404        -0.304438\n",
       "Humidity_%           -0.945404    1.000000         0.323848\n",
       "PM2.5_ATM_ug/m3      -0.304438    0.323848         1.000000"
      ]
     },
     "execution_count": 7,
     "metadata": {},
     "output_type": "execute_result"
    }
   ],
   "source": [
    "# Correlation between Temperature, Humidity and PM2.5 levels\n",
    "df[['Temperature_F', 'Humidity_%','PM2.5_ATM_ug/m3']].corr()"
   ]
  },
  {
   "cell_type": "markdown",
   "id": "8cfcd251",
   "metadata": {},
   "source": [
    "* Temperature and Humidty are strongly negatively correlated\n",
    "* Temperature and PM2.5 levels are weakly negatively correlated\n",
    "* Humdity and PM2.5 levels are weakly positively correlated"
   ]
  }
 ],
 "metadata": {
  "kernelspec": {
   "display_name": "Python 3",
   "language": "python",
   "name": "python3"
  },
  "language_info": {
   "codemirror_mode": {
    "name": "ipython",
    "version": 3
   },
   "file_extension": ".py",
   "mimetype": "text/x-python",
   "name": "python",
   "nbconvert_exporter": "python",
   "pygments_lexer": "ipython3",
   "version": "3.8.8"
  }
 },
 "nbformat": 4,
 "nbformat_minor": 5
}
