{
  "nbformat": 4,
  "nbformat_minor": 0,
  "metadata": {
    "colab": {
      "name": "Quincy-EDA.ipynb",
      "provenance": []
    },
    "kernelspec": {
      "name": "python3",
      "display_name": "Python 3"
    },
    "language_info": {
      "name": "python"
    }
  },
  "cells": [
    {
      "cell_type": "markdown",
      "metadata": {
        "id": "SJ14m1yeSAC3"
      },
      "source": [
        "# Raising Awareness Of Air Pollution In Nigeria\n"
      ]
    },
    {
      "cell_type": "markdown",
      "metadata": {
        "id": "DbatqaWmRwjf"
      },
      "source": [
        "## Importing necessary libraries for analysis\n",
        "\n"
      ]
    },
    {
      "cell_type": "code",
      "metadata": {
        "id": "5O_CxwdkvRh3"
      },
      "source": [
        "# Importing libraries\n",
        "import pandas as pd\n",
        "import numpy as np\n",
        "\n",
        "# For plotting\n",
        "from matplotlib import pyplot as plt\n",
        "import seaborn as sns\n",
        "%matplotlib inline"
      ],
      "execution_count": 1,
      "outputs": []
    },
    {
      "cell_type": "code",
      "metadata": {
        "colab": {
          "base_uri": "https://localhost:8080/"
        },
        "id": "4fyGtk5vPiG_",
        "outputId": "14a7e7e0-0a06-4115-8664-7789cbaff7a5"
      },
      "source": [
        "# connecting to google drive\n",
        "from google.colab import drive\n",
        "drive.mount('/content/drive')"
      ],
      "execution_count": 2,
      "outputs": [
        {
          "output_type": "stream",
          "name": "stdout",
          "text": [
            "Drive already mounted at /content/drive; to attempt to forcibly remount, call drive.mount(\"/content/drive\", force_remount=True).\n"
          ]
        }
      ]
    },
    {
      "cell_type": "markdown",
      "metadata": {
        "id": "Bxr4-RzrR7DJ"
      },
      "source": [
        "## Loading the dataset and checking the data"
      ]
    },
    {
      "cell_type": "code",
      "metadata": {
        "id": "OhTXHeR0wosF"
      },
      "source": [
        "# Load the dataset\n",
        "air = pd.read_csv(\"/content/drive/MyDrive/AirQuality/Port Harcourt, Nigeria (4.80678 7.002953).csv\")"
      ],
      "execution_count": 3,
      "outputs": []
    },
    {
      "cell_type": "code",
      "metadata": {
        "colab": {
          "base_uri": "https://localhost:8080/",
          "height": 359
        },
        "id": "isnbw3nLwx5g",
        "outputId": "c4d1fef5-560a-4559-d567-a4e9c849bb7f"
      },
      "source": [
        "# Preview the top of our data\n",
        "air.head(10)"
      ],
      "execution_count": 4,
      "outputs": [
        {
          "output_type": "execute_result",
          "data": {
            "text/html": [
              "<div>\n",
              "<style scoped>\n",
              "    .dataframe tbody tr th:only-of-type {\n",
              "        vertical-align: middle;\n",
              "    }\n",
              "\n",
              "    .dataframe tbody tr th {\n",
              "        vertical-align: top;\n",
              "    }\n",
              "\n",
              "    .dataframe thead th {\n",
              "        text-align: right;\n",
              "    }\n",
              "</style>\n",
              "<table border=\"1\" class=\"dataframe\">\n",
              "  <thead>\n",
              "    <tr style=\"text-align: right;\">\n",
              "      <th></th>\n",
              "      <th>created_at</th>\n",
              "      <th>entry_id</th>\n",
              "      <th>Temperature_F</th>\n",
              "      <th>Humidity_%</th>\n",
              "      <th>PM2.5_ATM_ug/m3</th>\n",
              "    </tr>\n",
              "  </thead>\n",
              "  <tbody>\n",
              "    <tr>\n",
              "      <th>0</th>\n",
              "      <td>2021-07-26 16:45:59 UTC</td>\n",
              "      <td>198</td>\n",
              "      <td>89</td>\n",
              "      <td>50</td>\n",
              "      <td>40.78</td>\n",
              "    </tr>\n",
              "    <tr>\n",
              "      <th>1</th>\n",
              "      <td>2021-07-26 16:48:03 UTC</td>\n",
              "      <td>199</td>\n",
              "      <td>89</td>\n",
              "      <td>50</td>\n",
              "      <td>40.09</td>\n",
              "    </tr>\n",
              "    <tr>\n",
              "      <th>2</th>\n",
              "      <td>2021-07-26 16:49:59 UTC</td>\n",
              "      <td>200</td>\n",
              "      <td>89</td>\n",
              "      <td>50</td>\n",
              "      <td>37.93</td>\n",
              "    </tr>\n",
              "    <tr>\n",
              "      <th>3</th>\n",
              "      <td>2021-07-26 16:54:03 UTC</td>\n",
              "      <td>201</td>\n",
              "      <td>89</td>\n",
              "      <td>50</td>\n",
              "      <td>33.18</td>\n",
              "    </tr>\n",
              "    <tr>\n",
              "      <th>4</th>\n",
              "      <td>2021-07-26 16:55:59 UTC</td>\n",
              "      <td>202</td>\n",
              "      <td>89</td>\n",
              "      <td>50</td>\n",
              "      <td>37.84</td>\n",
              "    </tr>\n",
              "    <tr>\n",
              "      <th>5</th>\n",
              "      <td>2021-07-26 16:58:11 UTC</td>\n",
              "      <td>203</td>\n",
              "      <td>89</td>\n",
              "      <td>50</td>\n",
              "      <td>34.70</td>\n",
              "    </tr>\n",
              "    <tr>\n",
              "      <th>6</th>\n",
              "      <td>2021-07-26 17:00:08 UTC</td>\n",
              "      <td>204</td>\n",
              "      <td>89</td>\n",
              "      <td>51</td>\n",
              "      <td>33.83</td>\n",
              "    </tr>\n",
              "    <tr>\n",
              "      <th>7</th>\n",
              "      <td>2021-07-26 17:02:05 UTC</td>\n",
              "      <td>205</td>\n",
              "      <td>89</td>\n",
              "      <td>50</td>\n",
              "      <td>36.20</td>\n",
              "    </tr>\n",
              "    <tr>\n",
              "      <th>8</th>\n",
              "      <td>2021-07-26 17:04:02 UTC</td>\n",
              "      <td>206</td>\n",
              "      <td>89</td>\n",
              "      <td>50</td>\n",
              "      <td>32.63</td>\n",
              "    </tr>\n",
              "    <tr>\n",
              "      <th>9</th>\n",
              "      <td>2021-07-26 17:06:00 UTC</td>\n",
              "      <td>207</td>\n",
              "      <td>88</td>\n",
              "      <td>50</td>\n",
              "      <td>32.60</td>\n",
              "    </tr>\n",
              "  </tbody>\n",
              "</table>\n",
              "</div>"
            ],
            "text/plain": [
              "                created_at  entry_id  ...  Humidity_%  PM2.5_ATM_ug/m3\n",
              "0  2021-07-26 16:45:59 UTC       198  ...          50            40.78\n",
              "1  2021-07-26 16:48:03 UTC       199  ...          50            40.09\n",
              "2  2021-07-26 16:49:59 UTC       200  ...          50            37.93\n",
              "3  2021-07-26 16:54:03 UTC       201  ...          50            33.18\n",
              "4  2021-07-26 16:55:59 UTC       202  ...          50            37.84\n",
              "5  2021-07-26 16:58:11 UTC       203  ...          50            34.70\n",
              "6  2021-07-26 17:00:08 UTC       204  ...          51            33.83\n",
              "7  2021-07-26 17:02:05 UTC       205  ...          50            36.20\n",
              "8  2021-07-26 17:04:02 UTC       206  ...          50            32.63\n",
              "9  2021-07-26 17:06:00 UTC       207  ...          50            32.60\n",
              "\n",
              "[10 rows x 5 columns]"
            ]
          },
          "metadata": {},
          "execution_count": 4
        }
      ]
    },
    {
      "cell_type": "code",
      "metadata": {
        "colab": {
          "base_uri": "https://localhost:8080/",
          "height": 359
        },
        "id": "ofBieP3pw6XQ",
        "outputId": "878a3444-fc23-4145-9d5d-cbd73795927e"
      },
      "source": [
        "# Preview the bottom of our data\n",
        "air.tail(10)"
      ],
      "execution_count": 5,
      "outputs": [
        {
          "output_type": "execute_result",
          "data": {
            "text/html": [
              "<div>\n",
              "<style scoped>\n",
              "    .dataframe tbody tr th:only-of-type {\n",
              "        vertical-align: middle;\n",
              "    }\n",
              "\n",
              "    .dataframe tbody tr th {\n",
              "        vertical-align: top;\n",
              "    }\n",
              "\n",
              "    .dataframe thead th {\n",
              "        text-align: right;\n",
              "    }\n",
              "</style>\n",
              "<table border=\"1\" class=\"dataframe\">\n",
              "  <thead>\n",
              "    <tr style=\"text-align: right;\">\n",
              "      <th></th>\n",
              "      <th>created_at</th>\n",
              "      <th>entry_id</th>\n",
              "      <th>Temperature_F</th>\n",
              "      <th>Humidity_%</th>\n",
              "      <th>PM2.5_ATM_ug/m3</th>\n",
              "    </tr>\n",
              "  </thead>\n",
              "  <tbody>\n",
              "    <tr>\n",
              "      <th>56042</th>\n",
              "      <td>2021-10-25 09:18:40 UTC</td>\n",
              "      <td>56240</td>\n",
              "      <td>86</td>\n",
              "      <td>62</td>\n",
              "      <td>28.88</td>\n",
              "    </tr>\n",
              "    <tr>\n",
              "      <th>56043</th>\n",
              "      <td>2021-10-25 09:20:40 UTC</td>\n",
              "      <td>56241</td>\n",
              "      <td>86</td>\n",
              "      <td>61</td>\n",
              "      <td>26.74</td>\n",
              "    </tr>\n",
              "    <tr>\n",
              "      <th>56044</th>\n",
              "      <td>2021-10-25 09:22:42 UTC</td>\n",
              "      <td>56242</td>\n",
              "      <td>87</td>\n",
              "      <td>61</td>\n",
              "      <td>28.71</td>\n",
              "    </tr>\n",
              "    <tr>\n",
              "      <th>56045</th>\n",
              "      <td>2021-10-25 09:24:44 UTC</td>\n",
              "      <td>56243</td>\n",
              "      <td>87</td>\n",
              "      <td>61</td>\n",
              "      <td>31.04</td>\n",
              "    </tr>\n",
              "    <tr>\n",
              "      <th>56046</th>\n",
              "      <td>2021-10-25 09:26:47 UTC</td>\n",
              "      <td>56244</td>\n",
              "      <td>87</td>\n",
              "      <td>61</td>\n",
              "      <td>28.90</td>\n",
              "    </tr>\n",
              "    <tr>\n",
              "      <th>56047</th>\n",
              "      <td>2021-10-25 09:28:43 UTC</td>\n",
              "      <td>56245</td>\n",
              "      <td>87</td>\n",
              "      <td>61</td>\n",
              "      <td>29.17</td>\n",
              "    </tr>\n",
              "    <tr>\n",
              "      <th>56048</th>\n",
              "      <td>2021-10-25 09:30:43 UTC</td>\n",
              "      <td>56246</td>\n",
              "      <td>87</td>\n",
              "      <td>61</td>\n",
              "      <td>29.57</td>\n",
              "    </tr>\n",
              "    <tr>\n",
              "      <th>56049</th>\n",
              "      <td>2021-10-25 09:32:44 UTC</td>\n",
              "      <td>56247</td>\n",
              "      <td>87</td>\n",
              "      <td>61</td>\n",
              "      <td>28.75</td>\n",
              "    </tr>\n",
              "    <tr>\n",
              "      <th>56050</th>\n",
              "      <td>2021-10-25 09:34:44 UTC</td>\n",
              "      <td>56248</td>\n",
              "      <td>87</td>\n",
              "      <td>61</td>\n",
              "      <td>29.97</td>\n",
              "    </tr>\n",
              "    <tr>\n",
              "      <th>56051</th>\n",
              "      <td>2021-10-25 09:36:44 UTC</td>\n",
              "      <td>56249</td>\n",
              "      <td>87</td>\n",
              "      <td>60</td>\n",
              "      <td>30.25</td>\n",
              "    </tr>\n",
              "  </tbody>\n",
              "</table>\n",
              "</div>"
            ],
            "text/plain": [
              "                    created_at  entry_id  ...  Humidity_%  PM2.5_ATM_ug/m3\n",
              "56042  2021-10-25 09:18:40 UTC     56240  ...          62            28.88\n",
              "56043  2021-10-25 09:20:40 UTC     56241  ...          61            26.74\n",
              "56044  2021-10-25 09:22:42 UTC     56242  ...          61            28.71\n",
              "56045  2021-10-25 09:24:44 UTC     56243  ...          61            31.04\n",
              "56046  2021-10-25 09:26:47 UTC     56244  ...          61            28.90\n",
              "56047  2021-10-25 09:28:43 UTC     56245  ...          61            29.17\n",
              "56048  2021-10-25 09:30:43 UTC     56246  ...          61            29.57\n",
              "56049  2021-10-25 09:32:44 UTC     56247  ...          61            28.75\n",
              "56050  2021-10-25 09:34:44 UTC     56248  ...          61            29.97\n",
              "56051  2021-10-25 09:36:44 UTC     56249  ...          60            30.25\n",
              "\n",
              "[10 rows x 5 columns]"
            ]
          },
          "metadata": {},
          "execution_count": 5
        }
      ]
    },
    {
      "cell_type": "code",
      "metadata": {
        "colab": {
          "base_uri": "https://localhost:8080/"
        },
        "id": "2-xWH9BISanf",
        "outputId": "a96c468e-ebce-42be-d598-8970ae1251ef"
      },
      "source": [
        "# Checking the shape of our data\n",
        "air.shape"
      ],
      "execution_count": 6,
      "outputs": [
        {
          "output_type": "execute_result",
          "data": {
            "text/plain": [
              "(56052, 5)"
            ]
          },
          "metadata": {},
          "execution_count": 6
        }
      ]
    },
    {
      "cell_type": "markdown",
      "metadata": {
        "id": "mUu5FhaOSifq"
      },
      "source": [
        "Our dataset has 56052 observations and 5 features/variables."
      ]
    },
    {
      "cell_type": "code",
      "metadata": {
        "colab": {
          "base_uri": "https://localhost:8080/",
          "height": 297
        },
        "id": "xgYb-LdSgI10",
        "outputId": "c66a845e-2da3-4150-be29-0301236a62f3"
      },
      "source": [
        "# Let's describe the data\n",
        "air.describe()"
      ],
      "execution_count": 7,
      "outputs": [
        {
          "output_type": "execute_result",
          "data": {
            "text/html": [
              "<div>\n",
              "<style scoped>\n",
              "    .dataframe tbody tr th:only-of-type {\n",
              "        vertical-align: middle;\n",
              "    }\n",
              "\n",
              "    .dataframe tbody tr th {\n",
              "        vertical-align: top;\n",
              "    }\n",
              "\n",
              "    .dataframe thead th {\n",
              "        text-align: right;\n",
              "    }\n",
              "</style>\n",
              "<table border=\"1\" class=\"dataframe\">\n",
              "  <thead>\n",
              "    <tr style=\"text-align: right;\">\n",
              "      <th></th>\n",
              "      <th>entry_id</th>\n",
              "      <th>Temperature_F</th>\n",
              "      <th>Humidity_%</th>\n",
              "      <th>PM2.5_ATM_ug/m3</th>\n",
              "    </tr>\n",
              "  </thead>\n",
              "  <tbody>\n",
              "    <tr>\n",
              "      <th>count</th>\n",
              "      <td>56052.000000</td>\n",
              "      <td>56052.000000</td>\n",
              "      <td>56052.000000</td>\n",
              "      <td>56052.000000</td>\n",
              "    </tr>\n",
              "    <tr>\n",
              "      <th>mean</th>\n",
              "      <td>28223.500000</td>\n",
              "      <td>84.821469</td>\n",
              "      <td>65.117766</td>\n",
              "      <td>54.391926</td>\n",
              "    </tr>\n",
              "    <tr>\n",
              "      <th>std</th>\n",
              "      <td>16180.962981</td>\n",
              "      <td>4.319505</td>\n",
              "      <td>8.550730</td>\n",
              "      <td>42.205997</td>\n",
              "    </tr>\n",
              "    <tr>\n",
              "      <th>min</th>\n",
              "      <td>198.000000</td>\n",
              "      <td>70.000000</td>\n",
              "      <td>29.000000</td>\n",
              "      <td>0.780000</td>\n",
              "    </tr>\n",
              "    <tr>\n",
              "      <th>25%</th>\n",
              "      <td>14210.750000</td>\n",
              "      <td>82.000000</td>\n",
              "      <td>61.000000</td>\n",
              "      <td>30.170000</td>\n",
              "    </tr>\n",
              "    <tr>\n",
              "      <th>50%</th>\n",
              "      <td>28223.500000</td>\n",
              "      <td>84.000000</td>\n",
              "      <td>68.000000</td>\n",
              "      <td>41.450000</td>\n",
              "    </tr>\n",
              "    <tr>\n",
              "      <th>75%</th>\n",
              "      <td>42236.250000</td>\n",
              "      <td>87.000000</td>\n",
              "      <td>71.000000</td>\n",
              "      <td>61.190000</td>\n",
              "    </tr>\n",
              "    <tr>\n",
              "      <th>max</th>\n",
              "      <td>56249.000000</td>\n",
              "      <td>108.000000</td>\n",
              "      <td>89.000000</td>\n",
              "      <td>568.080000</td>\n",
              "    </tr>\n",
              "  </tbody>\n",
              "</table>\n",
              "</div>"
            ],
            "text/plain": [
              "           entry_id  Temperature_F    Humidity_%  PM2.5_ATM_ug/m3\n",
              "count  56052.000000   56052.000000  56052.000000     56052.000000\n",
              "mean   28223.500000      84.821469     65.117766        54.391926\n",
              "std    16180.962981       4.319505      8.550730        42.205997\n",
              "min      198.000000      70.000000     29.000000         0.780000\n",
              "25%    14210.750000      82.000000     61.000000        30.170000\n",
              "50%    28223.500000      84.000000     68.000000        41.450000\n",
              "75%    42236.250000      87.000000     71.000000        61.190000\n",
              "max    56249.000000     108.000000     89.000000       568.080000"
            ]
          },
          "metadata": {},
          "execution_count": 7
        }
      ]
    },
    {
      "cell_type": "markdown",
      "metadata": {
        "id": "_cJxQViAg7mB"
      },
      "source": [
        "The minimum and max value for the PM2.5 feature are too wide apart. The max and the 75% value are also too far apart as well. This leads to a suspicion of outliers present. We will check for these as we go through the project."
      ]
    },
    {
      "cell_type": "code",
      "metadata": {
        "colab": {
          "base_uri": "https://localhost:8080/"
        },
        "id": "vnqm85MMgQuH",
        "outputId": "a82b4f6b-9d92-4222-889d-2ff578f412b6"
      },
      "source": [
        "# Checking the info of our data\n",
        "air.info()"
      ],
      "execution_count": 8,
      "outputs": [
        {
          "output_type": "stream",
          "name": "stdout",
          "text": [
            "<class 'pandas.core.frame.DataFrame'>\n",
            "RangeIndex: 56052 entries, 0 to 56051\n",
            "Data columns (total 5 columns):\n",
            " #   Column           Non-Null Count  Dtype  \n",
            "---  ------           --------------  -----  \n",
            " 0   created_at       56052 non-null  object \n",
            " 1   entry_id         56052 non-null  int64  \n",
            " 2   Temperature_F    56052 non-null  int64  \n",
            " 3   Humidity_%       56052 non-null  int64  \n",
            " 4   PM2.5_ATM_ug/m3  56052 non-null  float64\n",
            "dtypes: float64(1), int64(3), object(1)\n",
            "memory usage: 2.1+ MB\n"
          ]
        }
      ]
    },
    {
      "cell_type": "markdown",
      "metadata": {
        "id": "uNYrNHtDhjP4"
      },
      "source": [
        "The created_at column is an object, however this column's data points are date and time observations which we could transform and separate into date and time columns.\n",
        "\n",
        "All the other columns are of numeric data type ie. int64 or float64"
      ]
    },
    {
      "cell_type": "markdown",
      "metadata": {
        "id": "MvDWuCeTiHuJ"
      },
      "source": [
        "### Cleaning the data"
      ]
    },
    {
      "cell_type": "code",
      "metadata": {
        "colab": {
          "base_uri": "https://localhost:8080/"
        },
        "id": "ArE4AwY9iP-0",
        "outputId": "34eec76c-9570-4cae-9c1f-d16fc75838cd"
      },
      "source": [
        "# Let's check for missing values\n",
        "air.isnull().sum().sum()"
      ],
      "execution_count": 9,
      "outputs": [
        {
          "output_type": "execute_result",
          "data": {
            "text/plain": [
              "0"
            ]
          },
          "metadata": {},
          "execution_count": 9
        }
      ]
    },
    {
      "cell_type": "markdown",
      "metadata": {
        "id": "fBu-hYNiiWrQ"
      },
      "source": [
        "We have no null values in the dataset."
      ]
    },
    {
      "cell_type": "code",
      "metadata": {
        "colab": {
          "base_uri": "https://localhost:8080/"
        },
        "id": "I6rXWMGticw9",
        "outputId": "ef78ab09-09cd-4753-8960-9fdb45a2e343"
      },
      "source": [
        "# Let's check for duplicates\n",
        "air.duplicated().sum().sum()"
      ],
      "execution_count": 10,
      "outputs": [
        {
          "output_type": "execute_result",
          "data": {
            "text/plain": [
              "0"
            ]
          },
          "metadata": {},
          "execution_count": 10
        }
      ]
    },
    {
      "cell_type": "markdown",
      "metadata": {
        "id": "1UdBtFABilVL"
      },
      "source": [
        "There are no duplicated observations."
      ]
    },
    {
      "cell_type": "code",
      "metadata": {
        "colab": {
          "base_uri": "https://localhost:8080/"
        },
        "id": "4ahEfRNfisA1",
        "outputId": "066a0821-d790-49b5-becd-7523b8c6a589"
      },
      "source": [
        "# Are there any unique values in each column entry in the dataset?\n",
        "for i in air.columns:\n",
        " print(air[i].unique())\n",
        " print (\"\\n\")"
      ],
      "execution_count": 11,
      "outputs": [
        {
          "output_type": "stream",
          "name": "stdout",
          "text": [
            "['2021-07-26 16:45:59 UTC' '2021-07-26 16:48:03 UTC'\n",
            " '2021-07-26 16:49:59 UTC' ... '2021-10-25 09:32:44 UTC'\n",
            " '2021-10-25 09:34:44 UTC' '2021-10-25 09:36:44 UTC']\n",
            "\n",
            "\n",
            "[  198   199   200 ... 56247 56248 56249]\n",
            "\n",
            "\n",
            "[ 89  88  87  86  85  84  83  82  81  78  90  91  92  93  94  96  95  97\n",
            "  98  99 100 101 102  79  80  75  76  77 103  73 104 105 106  70  74 107\n",
            " 108  72]\n",
            "\n",
            "\n",
            "[50 51 52 53 54 55 56 57 58 59 60 61 62 63 64 65 66 67 49 48 47 46 45 44\n",
            " 43 42 41 40 39 38 37 36 35 34 33 30 29 31 32 68 70 71 72 69 86 85 84 83\n",
            " 82 81 80 79 78 77 76 75 74 73 87 89 88]\n",
            "\n",
            "\n",
            "[40.78 40.09 37.93 ... 83.85 80.34  6.64]\n",
            "\n",
            "\n"
          ]
        }
      ]
    },
    {
      "cell_type": "markdown",
      "metadata": {
        "id": "zgW4A21EjdWw"
      },
      "source": [
        "There are no unique values. This is because our data does not consist of categorical variables. All varaiables are continuous in nature and of date-time type."
      ]
    },
    {
      "cell_type": "code",
      "metadata": {
        "colab": {
          "base_uri": "https://localhost:8080/",
          "height": 392
        },
        "id": "yGQoUm38j5Im",
        "outputId": "5cdb6134-f4e4-4208-bab9-ad6e6888eda2"
      },
      "source": [
        "# checking for outliers \n",
        "air_out = air.drop(['entry_id'],axis=1) \n",
        "air_out.boxplot(figsize=(8, 6), fontsize=10)\n",
        "\n",
        "# print size of the data with outliers present\n",
        "print(air_out.shape)"
      ],
      "execution_count": 12,
      "outputs": [
        {
          "output_type": "stream",
          "name": "stdout",
          "text": [
            "(56052, 4)\n"
          ]
        },
        {
          "output_type": "display_data",
          "data": {
            "image/png": "[encoded data removed]",
            "text/plain": [
              "<Figure size 576x432 with 1 Axes>"
            ]
          },
          "metadata": {
            "needs_background": "light"
          }
        }
      ]
    },
    {
      "cell_type": "code",
      "metadata": {
        "colab": {
          "base_uri": "https://localhost:8080/"
        },
        "id": "jjLLwi5XkSUN",
        "outputId": "7c390021-55dd-4382-f5fe-8648ca0f1146"
      },
      "source": [
        "# Let's check the ouliers present in the PM2.5 clearly \n",
        "# as the boxplot is not quite as clear.\n",
        "\n",
        "# Checking for outliers in the PM2.5 column\n",
        "\n",
        "Q1 = air[\"PM2.5_ATM_ug/m3\"].quantile(0.25)\n",
        "Q3 = air[\"PM2.5_ATM_ug/m3\"].quantile(0.75)\n",
        "\n",
        "IQR = Q3 - Q1\n",
        "\n",
        "outliers = ((air[\"PM2.5_ATM_ug/m3\"] < Q1 - 1.5 * IQR) | (air[\"PM2.5_ATM_ug/m3\"] > Q3 + 1.5 * IQR))\n",
        "outliers.value_counts()"
      ],
      "execution_count": 13,
      "outputs": [
        {
          "output_type": "execute_result",
          "data": {
            "text/plain": [
              "False    50004\n",
              "True      6048\n",
              "Name: PM2.5_ATM_ug/m3, dtype: int64"
            ]
          },
          "metadata": {},
          "execution_count": 13
        }
      ]
    },
    {
      "cell_type": "code",
      "metadata": {
        "colab": {
          "base_uri": "https://localhost:8080/"
        },
        "id": "FNBKZBhnlB74",
        "outputId": "3e495da3-62da-45d6-e45a-72927d3bc6b3"
      },
      "source": [
        "# Checking for outliers in the Temperature_F column\n",
        "\n",
        "Q1 = air[\"Temperature_F\"].quantile(0.25)\n",
        "Q3 = air[\"Temperature_F\"].quantile(0.75)\n",
        "\n",
        "IQR = Q3 - Q1\n",
        "\n",
        "outliers = ((air[\"Temperature_F\"] < Q1 - 1.5 * IQR) | (air[\"Temperature_F\"] > Q3 + 1.5 * IQR))\n",
        "outliers.value_counts()"
      ],
      "execution_count": 14,
      "outputs": [
        {
          "output_type": "execute_result",
          "data": {
            "text/plain": [
              "False    54304\n",
              "True      1748\n",
              "Name: Temperature_F, dtype: int64"
            ]
          },
          "metadata": {},
          "execution_count": 14
        }
      ]
    },
    {
      "cell_type": "code",
      "metadata": {
        "colab": {
          "base_uri": "https://localhost:8080/"
        },
        "id": "NJXbd9H0lUZY",
        "outputId": "ce118818-bd25-467c-dc8e-6fa4f171e459"
      },
      "source": [
        "# Checking for outliers in the Humidity_% column\n",
        "\n",
        "Q1 = air[\"Humidity_%\"].quantile(0.25)\n",
        "Q3 = air[\"Humidity_%\"].quantile(0.75)\n",
        "\n",
        "IQR = Q3 - Q1\n",
        "\n",
        "outliers = ((air[\"Humidity_%\"] < Q1 - 1.5 * IQR) | (air[\"Humidity_%\"] > Q3 + 1.5 * IQR))\n",
        "outliers.value_counts()"
      ],
      "execution_count": 15,
      "outputs": [
        {
          "output_type": "execute_result",
          "data": {
            "text/plain": [
              "False    54322\n",
              "True      1730\n",
              "Name: Humidity_%, dtype: int64"
            ]
          },
          "metadata": {},
          "execution_count": 15
        }
      ]
    },
    {
      "cell_type": "markdown",
      "metadata": {
        "id": "VVZo9mUskBtO"
      },
      "source": [
        "Seems that there are quite a number of outliers in the columns;\n",
        "\n",
        "* PM2.5 column (6048 outlires)\n",
        "\n",
        "* Temperature_F (1748 outliers)\n",
        "\n",
        "* Humidity_% (1730 outliers)\n",
        "\n",
        "However we will not drop them as they could be relevant to the study."
      ]
    },
    {
      "cell_type": "code",
      "metadata": {
        "colab": {
          "base_uri": "https://localhost:8080/",
          "height": 204
        },
        "id": "7v1vILFnmDcD",
        "outputId": "a154a68e-90e8-40b0-9158-7a50ddf335be"
      },
      "source": [
        "# Let's transform the created_at column into date and time\n",
        "# First Let's create a copy of our data set\n",
        "air_df = air.copy()\n",
        "\n",
        "# Let's check if our copy has been made\n",
        "air_df.head()"
      ],
      "execution_count": 16,
      "outputs": [
        {
          "output_type": "execute_result",
          "data": {
            "text/html": [
              "<div>\n",
              "<style scoped>\n",
              "    .dataframe tbody tr th:only-of-type {\n",
              "        vertical-align: middle;\n",
              "    }\n",
              "\n",
              "    .dataframe tbody tr th {\n",
              "        vertical-align: top;\n",
              "    }\n",
              "\n",
              "    .dataframe thead th {\n",
              "        text-align: right;\n",
              "    }\n",
              "</style>\n",
              "<table border=\"1\" class=\"dataframe\">\n",
              "  <thead>\n",
              "    <tr style=\"text-align: right;\">\n",
              "      <th></th>\n",
              "      <th>created_at</th>\n",
              "      <th>entry_id</th>\n",
              "      <th>Temperature_F</th>\n",
              "      <th>Humidity_%</th>\n",
              "      <th>PM2.5_ATM_ug/m3</th>\n",
              "    </tr>\n",
              "  </thead>\n",
              "  <tbody>\n",
              "    <tr>\n",
              "      <th>0</th>\n",
              "      <td>2021-07-26 16:45:59 UTC</td>\n",
              "      <td>198</td>\n",
              "      <td>89</td>\n",
              "      <td>50</td>\n",
              "      <td>40.78</td>\n",
              "    </tr>\n",
              "    <tr>\n",
              "      <th>1</th>\n",
              "      <td>2021-07-26 16:48:03 UTC</td>\n",
              "      <td>199</td>\n",
              "      <td>89</td>\n",
              "      <td>50</td>\n",
              "      <td>40.09</td>\n",
              "    </tr>\n",
              "    <tr>\n",
              "      <th>2</th>\n",
              "      <td>2021-07-26 16:49:59 UTC</td>\n",
              "      <td>200</td>\n",
              "      <td>89</td>\n",
              "      <td>50</td>\n",
              "      <td>37.93</td>\n",
              "    </tr>\n",
              "    <tr>\n",
              "      <th>3</th>\n",
              "      <td>2021-07-26 16:54:03 UTC</td>\n",
              "      <td>201</td>\n",
              "      <td>89</td>\n",
              "      <td>50</td>\n",
              "      <td>33.18</td>\n",
              "    </tr>\n",
              "    <tr>\n",
              "      <th>4</th>\n",
              "      <td>2021-07-26 16:55:59 UTC</td>\n",
              "      <td>202</td>\n",
              "      <td>89</td>\n",
              "      <td>50</td>\n",
              "      <td>37.84</td>\n",
              "    </tr>\n",
              "  </tbody>\n",
              "</table>\n",
              "</div>"
            ],
            "text/plain": [
              "                created_at  entry_id  ...  Humidity_%  PM2.5_ATM_ug/m3\n",
              "0  2021-07-26 16:45:59 UTC       198  ...          50            40.78\n",
              "1  2021-07-26 16:48:03 UTC       199  ...          50            40.09\n",
              "2  2021-07-26 16:49:59 UTC       200  ...          50            37.93\n",
              "3  2021-07-26 16:54:03 UTC       201  ...          50            33.18\n",
              "4  2021-07-26 16:55:59 UTC       202  ...          50            37.84\n",
              "\n",
              "[5 rows x 5 columns]"
            ]
          },
          "metadata": {},
          "execution_count": 16
        }
      ]
    },
    {
      "cell_type": "code",
      "metadata": {
        "id": "7JIB4wEcvMe7"
      },
      "source": [
        "# Convert date and time to appropriate dtypes\n",
        "air_df['created_at'] = pd.to_datetime(air_df['created_at'])"
      ],
      "execution_count": 17,
      "outputs": []
    },
    {
      "cell_type": "code",
      "metadata": {
        "colab": {
          "base_uri": "https://localhost:8080/"
        },
        "id": "YqgUDzRHwluE",
        "outputId": "e28bd1fd-95c6-41bb-e882-85abc5162276"
      },
      "source": [
        "# Lets check if the dtype has changed\n",
        "air_df.created_at.dtype"
      ],
      "execution_count": 18,
      "outputs": [
        {
          "output_type": "execute_result",
          "data": {
            "text/plain": [
              "datetime64[ns, UTC]"
            ]
          },
          "metadata": {},
          "execution_count": 18
        }
      ]
    },
    {
      "cell_type": "code",
      "metadata": {
        "id": "S5s4wm_jmYAO"
      },
      "source": [
        "# Let's separate the column created_at into date and time columns\n",
        "air_df['date'] = pd.to_datetime(air_df['created_at']).dt.date\n",
        "air_df['time'] = pd.to_datetime(air_df['created_at']).dt.time"
      ],
      "execution_count": 19,
      "outputs": []
    },
    {
      "cell_type": "code",
      "metadata": {
        "colab": {
          "base_uri": "https://localhost:8080/",
          "height": 204
        },
        "id": "h7pBzj7loeGl",
        "outputId": "5428fadf-d257-4357-894f-2be3f763e092"
      },
      "source": [
        "# Let's check if our columns have been created\n",
        "air_df.head()"
      ],
      "execution_count": 20,
      "outputs": [
        {
          "output_type": "execute_result",
          "data": {
            "text/html": [
              "<div>\n",
              "<style scoped>\n",
              "    .dataframe tbody tr th:only-of-type {\n",
              "        vertical-align: middle;\n",
              "    }\n",
              "\n",
              "    .dataframe tbody tr th {\n",
              "        vertical-align: top;\n",
              "    }\n",
              "\n",
              "    .dataframe thead th {\n",
              "        text-align: right;\n",
              "    }\n",
              "</style>\n",
              "<table border=\"1\" class=\"dataframe\">\n",
              "  <thead>\n",
              "    <tr style=\"text-align: right;\">\n",
              "      <th></th>\n",
              "      <th>created_at</th>\n",
              "      <th>entry_id</th>\n",
              "      <th>Temperature_F</th>\n",
              "      <th>Humidity_%</th>\n",
              "      <th>PM2.5_ATM_ug/m3</th>\n",
              "      <th>date</th>\n",
              "      <th>time</th>\n",
              "    </tr>\n",
              "  </thead>\n",
              "  <tbody>\n",
              "    <tr>\n",
              "      <th>0</th>\n",
              "      <td>2021-07-26 16:45:59+00:00</td>\n",
              "      <td>198</td>\n",
              "      <td>89</td>\n",
              "      <td>50</td>\n",
              "      <td>40.78</td>\n",
              "      <td>2021-07-26</td>\n",
              "      <td>16:45:59</td>\n",
              "    </tr>\n",
              "    <tr>\n",
              "      <th>1</th>\n",
              "      <td>2021-07-26 16:48:03+00:00</td>\n",
              "      <td>199</td>\n",
              "      <td>89</td>\n",
              "      <td>50</td>\n",
              "      <td>40.09</td>\n",
              "      <td>2021-07-26</td>\n",
              "      <td>16:48:03</td>\n",
              "    </tr>\n",
              "    <tr>\n",
              "      <th>2</th>\n",
              "      <td>2021-07-26 16:49:59+00:00</td>\n",
              "      <td>200</td>\n",
              "      <td>89</td>\n",
              "      <td>50</td>\n",
              "      <td>37.93</td>\n",
              "      <td>2021-07-26</td>\n",
              "      <td>16:49:59</td>\n",
              "    </tr>\n",
              "    <tr>\n",
              "      <th>3</th>\n",
              "      <td>2021-07-26 16:54:03+00:00</td>\n",
              "      <td>201</td>\n",
              "      <td>89</td>\n",
              "      <td>50</td>\n",
              "      <td>33.18</td>\n",
              "      <td>2021-07-26</td>\n",
              "      <td>16:54:03</td>\n",
              "    </tr>\n",
              "    <tr>\n",
              "      <th>4</th>\n",
              "      <td>2021-07-26 16:55:59+00:00</td>\n",
              "      <td>202</td>\n",
              "      <td>89</td>\n",
              "      <td>50</td>\n",
              "      <td>37.84</td>\n",
              "      <td>2021-07-26</td>\n",
              "      <td>16:55:59</td>\n",
              "    </tr>\n",
              "  </tbody>\n",
              "</table>\n",
              "</div>"
            ],
            "text/plain": [
              "                 created_at  entry_id  ...        date      time\n",
              "0 2021-07-26 16:45:59+00:00       198  ...  2021-07-26  16:45:59\n",
              "1 2021-07-26 16:48:03+00:00       199  ...  2021-07-26  16:48:03\n",
              "2 2021-07-26 16:49:59+00:00       200  ...  2021-07-26  16:49:59\n",
              "3 2021-07-26 16:54:03+00:00       201  ...  2021-07-26  16:54:03\n",
              "4 2021-07-26 16:55:59+00:00       202  ...  2021-07-26  16:55:59\n",
              "\n",
              "[5 rows x 7 columns]"
            ]
          },
          "metadata": {},
          "execution_count": 20
        }
      ]
    },
    {
      "cell_type": "markdown",
      "metadata": {
        "id": "9o0VxHE5omqv"
      },
      "source": [
        "Our columns have been created so let's drop the created_at column."
      ]
    },
    {
      "cell_type": "code",
      "metadata": {
        "id": "rak2utgMotG0"
      },
      "source": [
        "# Dropping the created_at column\n",
        "#air_df.drop(columns=['created_at'],inplace=True)\n",
        "#checking if column is dropped\n",
        "#air_df.head()"
      ],
      "execution_count": 21,
      "outputs": []
    },
    {
      "cell_type": "code",
      "metadata": {
        "colab": {
          "base_uri": "https://localhost:8080/",
          "height": 204
        },
        "id": "0kYIH9ZYpWk-",
        "outputId": "9dc15f22-45cc-4a04-bd32-4925826c9753"
      },
      "source": [
        "# Rearranging the columns\n",
        "air_df = air_df[['created_at','date', 'time', 'Temperature_F', 'Humidity_%','PM2.5_ATM_ug/m3']]\n",
        "# Let's check the rearrangement\n",
        "air_df.head()"
      ],
      "execution_count": 22,
      "outputs": [
        {
          "output_type": "execute_result",
          "data": {
            "text/html": [
              "<div>\n",
              "<style scoped>\n",
              "    .dataframe tbody tr th:only-of-type {\n",
              "        vertical-align: middle;\n",
              "    }\n",
              "\n",
              "    .dataframe tbody tr th {\n",
              "        vertical-align: top;\n",
              "    }\n",
              "\n",
              "    .dataframe thead th {\n",
              "        text-align: right;\n",
              "    }\n",
              "</style>\n",
              "<table border=\"1\" class=\"dataframe\">\n",
              "  <thead>\n",
              "    <tr style=\"text-align: right;\">\n",
              "      <th></th>\n",
              "      <th>created_at</th>\n",
              "      <th>date</th>\n",
              "      <th>time</th>\n",
              "      <th>Temperature_F</th>\n",
              "      <th>Humidity_%</th>\n",
              "      <th>PM2.5_ATM_ug/m3</th>\n",
              "    </tr>\n",
              "  </thead>\n",
              "  <tbody>\n",
              "    <tr>\n",
              "      <th>0</th>\n",
              "      <td>2021-07-26 16:45:59+00:00</td>\n",
              "      <td>2021-07-26</td>\n",
              "      <td>16:45:59</td>\n",
              "      <td>89</td>\n",
              "      <td>50</td>\n",
              "      <td>40.78</td>\n",
              "    </tr>\n",
              "    <tr>\n",
              "      <th>1</th>\n",
              "      <td>2021-07-26 16:48:03+00:00</td>\n",
              "      <td>2021-07-26</td>\n",
              "      <td>16:48:03</td>\n",
              "      <td>89</td>\n",
              "      <td>50</td>\n",
              "      <td>40.09</td>\n",
              "    </tr>\n",
              "    <tr>\n",
              "      <th>2</th>\n",
              "      <td>2021-07-26 16:49:59+00:00</td>\n",
              "      <td>2021-07-26</td>\n",
              "      <td>16:49:59</td>\n",
              "      <td>89</td>\n",
              "      <td>50</td>\n",
              "      <td>37.93</td>\n",
              "    </tr>\n",
              "    <tr>\n",
              "      <th>3</th>\n",
              "      <td>2021-07-26 16:54:03+00:00</td>\n",
              "      <td>2021-07-26</td>\n",
              "      <td>16:54:03</td>\n",
              "      <td>89</td>\n",
              "      <td>50</td>\n",
              "      <td>33.18</td>\n",
              "    </tr>\n",
              "    <tr>\n",
              "      <th>4</th>\n",
              "      <td>2021-07-26 16:55:59+00:00</td>\n",
              "      <td>2021-07-26</td>\n",
              "      <td>16:55:59</td>\n",
              "      <td>89</td>\n",
              "      <td>50</td>\n",
              "      <td>37.84</td>\n",
              "    </tr>\n",
              "  </tbody>\n",
              "</table>\n",
              "</div>"
            ],
            "text/plain": [
              "                 created_at        date  ... Humidity_%  PM2.5_ATM_ug/m3\n",
              "0 2021-07-26 16:45:59+00:00  2021-07-26  ...         50            40.78\n",
              "1 2021-07-26 16:48:03+00:00  2021-07-26  ...         50            40.09\n",
              "2 2021-07-26 16:49:59+00:00  2021-07-26  ...         50            37.93\n",
              "3 2021-07-26 16:54:03+00:00  2021-07-26  ...         50            33.18\n",
              "4 2021-07-26 16:55:59+00:00  2021-07-26  ...         50            37.84\n",
              "\n",
              "[5 rows x 6 columns]"
            ]
          },
          "metadata": {},
          "execution_count": 22
        }
      ]
    },
    {
      "cell_type": "code",
      "metadata": {
        "colab": {
          "base_uri": "https://localhost:8080/"
        },
        "id": "8VsvdppZvE0I",
        "outputId": "620c1a86-6b68-496c-9a7c-edc6f793880b"
      },
      "source": [
        "# checking the data type for the date and time columns\n",
        "air_df.info()"
      ],
      "execution_count": 23,
      "outputs": [
        {
          "output_type": "stream",
          "name": "stdout",
          "text": [
            "<class 'pandas.core.frame.DataFrame'>\n",
            "RangeIndex: 56052 entries, 0 to 56051\n",
            "Data columns (total 6 columns):\n",
            " #   Column           Non-Null Count  Dtype              \n",
            "---  ------           --------------  -----              \n",
            " 0   created_at       56052 non-null  datetime64[ns, UTC]\n",
            " 1   date             56052 non-null  object             \n",
            " 2   time             56052 non-null  object             \n",
            " 3   Temperature_F    56052 non-null  int64              \n",
            " 4   Humidity_%       56052 non-null  int64              \n",
            " 5   PM2.5_ATM_ug/m3  56052 non-null  float64            \n",
            "dtypes: datetime64[ns, UTC](1), float64(1), int64(2), object(2)\n",
            "memory usage: 2.6+ MB\n"
          ]
        }
      ]
    },
    {
      "cell_type": "code",
      "metadata": {
        "id": "8emBArNYw67D",
        "colab": {
          "base_uri": "https://localhost:8080/"
        },
        "outputId": "eec327a7-ab5a-4963-8ff2-fe4b008e6a8c"
      },
      "source": [
        "# convert date column and time column to appropriate dtype\n",
        "# convert the 'Date' column to datetime format\n",
        "air_df['date']= pd.to_datetime(air_df['date'])"
      ],
      "execution_count": 24,
      "outputs": [
        {
          "output_type": "stream",
          "name": "stderr",
          "text": [
            "/usr/local/lib/python3.7/dist-packages/ipykernel_launcher.py:3: SettingWithCopyWarning: \n",
            "A value is trying to be set on a copy of a slice from a DataFrame.\n",
            "Try using .loc[row_indexer,col_indexer] = value instead\n",
            "\n",
            "See the caveats in the documentation: https://pandas.pydata.org/pandas-docs/stable/user_guide/indexing.html#returning-a-view-versus-a-copy\n",
            "  This is separate from the ipykernel package so we can avoid doing imports until\n"
          ]
        }
      ]
    },
    {
      "cell_type": "code",
      "metadata": {
        "colab": {
          "base_uri": "https://localhost:8080/"
        },
        "id": "dg90WW3Cx6Z1",
        "outputId": "6bb3dded-173f-47c8-ec2b-045df7c335b9"
      },
      "source": [
        "air_df.info()"
      ],
      "execution_count": 25,
      "outputs": [
        {
          "output_type": "stream",
          "name": "stdout",
          "text": [
            "<class 'pandas.core.frame.DataFrame'>\n",
            "RangeIndex: 56052 entries, 0 to 56051\n",
            "Data columns (total 6 columns):\n",
            " #   Column           Non-Null Count  Dtype              \n",
            "---  ------           --------------  -----              \n",
            " 0   created_at       56052 non-null  datetime64[ns, UTC]\n",
            " 1   date             56052 non-null  datetime64[ns]     \n",
            " 2   time             56052 non-null  object             \n",
            " 3   Temperature_F    56052 non-null  int64              \n",
            " 4   Humidity_%       56052 non-null  int64              \n",
            " 5   PM2.5_ATM_ug/m3  56052 non-null  float64            \n",
            "dtypes: datetime64[ns, UTC](1), datetime64[ns](1), float64(1), int64(2), object(1)\n",
            "memory usage: 2.6+ MB\n"
          ]
        }
      ]
    },
    {
      "cell_type": "code",
      "metadata": {
        "colab": {
          "base_uri": "https://localhost:8080/",
          "height": 204
        },
        "id": "YVggiT5GXMLR",
        "outputId": "c5ce8e50-ca7f-4761-dd71-c7239832bd38"
      },
      "source": [
        "# Creating a month column by extracting months from the date column\n",
        "air_df['month'] = air_df['date'].dt.month\n",
        "# Let's check the column month\n",
        "air_df.head()"
      ],
      "execution_count": 26,
      "outputs": [
        {
          "output_type": "execute_result",
          "data": {
            "text/html": [
              "<div>\n",
              "<style scoped>\n",
              "    .dataframe tbody tr th:only-of-type {\n",
              "        vertical-align: middle;\n",
              "    }\n",
              "\n",
              "    .dataframe tbody tr th {\n",
              "        vertical-align: top;\n",
              "    }\n",
              "\n",
              "    .dataframe thead th {\n",
              "        text-align: right;\n",
              "    }\n",
              "</style>\n",
              "<table border=\"1\" class=\"dataframe\">\n",
              "  <thead>\n",
              "    <tr style=\"text-align: right;\">\n",
              "      <th></th>\n",
              "      <th>created_at</th>\n",
              "      <th>date</th>\n",
              "      <th>time</th>\n",
              "      <th>Temperature_F</th>\n",
              "      <th>Humidity_%</th>\n",
              "      <th>PM2.5_ATM_ug/m3</th>\n",
              "      <th>month</th>\n",
              "    </tr>\n",
              "  </thead>\n",
              "  <tbody>\n",
              "    <tr>\n",
              "      <th>0</th>\n",
              "      <td>2021-07-26 16:45:59+00:00</td>\n",
              "      <td>2021-07-26</td>\n",
              "      <td>16:45:59</td>\n",
              "      <td>89</td>\n",
              "      <td>50</td>\n",
              "      <td>40.78</td>\n",
              "      <td>7</td>\n",
              "    </tr>\n",
              "    <tr>\n",
              "      <th>1</th>\n",
              "      <td>2021-07-26 16:48:03+00:00</td>\n",
              "      <td>2021-07-26</td>\n",
              "      <td>16:48:03</td>\n",
              "      <td>89</td>\n",
              "      <td>50</td>\n",
              "      <td>40.09</td>\n",
              "      <td>7</td>\n",
              "    </tr>\n",
              "    <tr>\n",
              "      <th>2</th>\n",
              "      <td>2021-07-26 16:49:59+00:00</td>\n",
              "      <td>2021-07-26</td>\n",
              "      <td>16:49:59</td>\n",
              "      <td>89</td>\n",
              "      <td>50</td>\n",
              "      <td>37.93</td>\n",
              "      <td>7</td>\n",
              "    </tr>\n",
              "    <tr>\n",
              "      <th>3</th>\n",
              "      <td>2021-07-26 16:54:03+00:00</td>\n",
              "      <td>2021-07-26</td>\n",
              "      <td>16:54:03</td>\n",
              "      <td>89</td>\n",
              "      <td>50</td>\n",
              "      <td>33.18</td>\n",
              "      <td>7</td>\n",
              "    </tr>\n",
              "    <tr>\n",
              "      <th>4</th>\n",
              "      <td>2021-07-26 16:55:59+00:00</td>\n",
              "      <td>2021-07-26</td>\n",
              "      <td>16:55:59</td>\n",
              "      <td>89</td>\n",
              "      <td>50</td>\n",
              "      <td>37.84</td>\n",
              "      <td>7</td>\n",
              "    </tr>\n",
              "  </tbody>\n",
              "</table>\n",
              "</div>"
            ],
            "text/plain": [
              "                 created_at       date  ... PM2.5_ATM_ug/m3  month\n",
              "0 2021-07-26 16:45:59+00:00 2021-07-26  ...           40.78      7\n",
              "1 2021-07-26 16:48:03+00:00 2021-07-26  ...           40.09      7\n",
              "2 2021-07-26 16:49:59+00:00 2021-07-26  ...           37.93      7\n",
              "3 2021-07-26 16:54:03+00:00 2021-07-26  ...           33.18      7\n",
              "4 2021-07-26 16:55:59+00:00 2021-07-26  ...           37.84      7\n",
              "\n",
              "[5 rows x 7 columns]"
            ]
          },
          "metadata": {},
          "execution_count": 26
        }
      ]
    },
    {
      "cell_type": "code",
      "metadata": {
        "id": "kBxTzwf029Nm"
      },
      "source": [
        "# convert a month number to month name\n",
        "import calendar\n",
        "air_df['month'] = air_df['month'].apply(lambda x: calendar.month_abbr[x]) # got converting code from stack overflow"
      ],
      "execution_count": 27,
      "outputs": []
    },
    {
      "cell_type": "code",
      "metadata": {
        "colab": {
          "base_uri": "https://localhost:8080/"
        },
        "id": "hLsqXBf-zG_e",
        "outputId": "46949449-628e-4768-d83d-e521bb2d1c41"
      },
      "source": [
        "# checking for unique values in the month column\n",
        "print(air_df.month.unique())"
      ],
      "execution_count": 28,
      "outputs": [
        {
          "output_type": "stream",
          "name": "stdout",
          "text": [
            "['Jul' 'Aug' 'Sep' 'Oct']\n"
          ]
        }
      ]
    },
    {
      "cell_type": "markdown",
      "metadata": {
        "id": "VM_5BXwhzace"
      },
      "source": [
        "The months in which the data seem to have been collected are from the months; July(7), August(8), September(9) and October(10)."
      ]
    },
    {
      "cell_type": "code",
      "metadata": {
        "colab": {
          "base_uri": "https://localhost:8080/",
          "height": 204
        },
        "id": "K3_k70lozzNY",
        "outputId": "f5c5ae19-e3d9-4538-c4e7-2f5494545838"
      },
      "source": [
        "# Creating a year column by extracting months from the date column\n",
        "air_df['year'] = air_df['date'].dt.year\n",
        "# Let's check the column month\n",
        "air_df.head()"
      ],
      "execution_count": 29,
      "outputs": [
        {
          "output_type": "execute_result",
          "data": {
            "text/html": [
              "<div>\n",
              "<style scoped>\n",
              "    .dataframe tbody tr th:only-of-type {\n",
              "        vertical-align: middle;\n",
              "    }\n",
              "\n",
              "    .dataframe tbody tr th {\n",
              "        vertical-align: top;\n",
              "    }\n",
              "\n",
              "    .dataframe thead th {\n",
              "        text-align: right;\n",
              "    }\n",
              "</style>\n",
              "<table border=\"1\" class=\"dataframe\">\n",
              "  <thead>\n",
              "    <tr style=\"text-align: right;\">\n",
              "      <th></th>\n",
              "      <th>created_at</th>\n",
              "      <th>date</th>\n",
              "      <th>time</th>\n",
              "      <th>Temperature_F</th>\n",
              "      <th>Humidity_%</th>\n",
              "      <th>PM2.5_ATM_ug/m3</th>\n",
              "      <th>month</th>\n",
              "      <th>year</th>\n",
              "    </tr>\n",
              "  </thead>\n",
              "  <tbody>\n",
              "    <tr>\n",
              "      <th>0</th>\n",
              "      <td>2021-07-26 16:45:59+00:00</td>\n",
              "      <td>2021-07-26</td>\n",
              "      <td>16:45:59</td>\n",
              "      <td>89</td>\n",
              "      <td>50</td>\n",
              "      <td>40.78</td>\n",
              "      <td>Jul</td>\n",
              "      <td>2021</td>\n",
              "    </tr>\n",
              "    <tr>\n",
              "      <th>1</th>\n",
              "      <td>2021-07-26 16:48:03+00:00</td>\n",
              "      <td>2021-07-26</td>\n",
              "      <td>16:48:03</td>\n",
              "      <td>89</td>\n",
              "      <td>50</td>\n",
              "      <td>40.09</td>\n",
              "      <td>Jul</td>\n",
              "      <td>2021</td>\n",
              "    </tr>\n",
              "    <tr>\n",
              "      <th>2</th>\n",
              "      <td>2021-07-26 16:49:59+00:00</td>\n",
              "      <td>2021-07-26</td>\n",
              "      <td>16:49:59</td>\n",
              "      <td>89</td>\n",
              "      <td>50</td>\n",
              "      <td>37.93</td>\n",
              "      <td>Jul</td>\n",
              "      <td>2021</td>\n",
              "    </tr>\n",
              "    <tr>\n",
              "      <th>3</th>\n",
              "      <td>2021-07-26 16:54:03+00:00</td>\n",
              "      <td>2021-07-26</td>\n",
              "      <td>16:54:03</td>\n",
              "      <td>89</td>\n",
              "      <td>50</td>\n",
              "      <td>33.18</td>\n",
              "      <td>Jul</td>\n",
              "      <td>2021</td>\n",
              "    </tr>\n",
              "    <tr>\n",
              "      <th>4</th>\n",
              "      <td>2021-07-26 16:55:59+00:00</td>\n",
              "      <td>2021-07-26</td>\n",
              "      <td>16:55:59</td>\n",
              "      <td>89</td>\n",
              "      <td>50</td>\n",
              "      <td>37.84</td>\n",
              "      <td>Jul</td>\n",
              "      <td>2021</td>\n",
              "    </tr>\n",
              "  </tbody>\n",
              "</table>\n",
              "</div>"
            ],
            "text/plain": [
              "                 created_at       date      time  ...  PM2.5_ATM_ug/m3  month  year\n",
              "0 2021-07-26 16:45:59+00:00 2021-07-26  16:45:59  ...            40.78    Jul  2021\n",
              "1 2021-07-26 16:48:03+00:00 2021-07-26  16:48:03  ...            40.09    Jul  2021\n",
              "2 2021-07-26 16:49:59+00:00 2021-07-26  16:49:59  ...            37.93    Jul  2021\n",
              "3 2021-07-26 16:54:03+00:00 2021-07-26  16:54:03  ...            33.18    Jul  2021\n",
              "4 2021-07-26 16:55:59+00:00 2021-07-26  16:55:59  ...            37.84    Jul  2021\n",
              "\n",
              "[5 rows x 8 columns]"
            ]
          },
          "metadata": {},
          "execution_count": 29
        }
      ]
    },
    {
      "cell_type": "code",
      "metadata": {
        "colab": {
          "base_uri": "https://localhost:8080/"
        },
        "id": "VsZI2MIxz9Am",
        "outputId": "e63c5272-2ca4-441b-d03d-ba489ec6e6ab"
      },
      "source": [
        "# checking for unique values in the month column\n",
        "print(air_df.year.unique())"
      ],
      "execution_count": 30,
      "outputs": [
        {
          "output_type": "stream",
          "name": "stdout",
          "text": [
            "[2021]\n"
          ]
        }
      ]
    },
    {
      "cell_type": "markdown",
      "metadata": {
        "id": "aRQdPbzrz_ll"
      },
      "source": [
        "The data is from just a specific year ie. 2021"
      ]
    },
    {
      "cell_type": "code",
      "metadata": {
        "colab": {
          "base_uri": "https://localhost:8080/",
          "height": 204
        },
        "id": "GmOr505P4RQn",
        "outputId": "83145859-ef01-4c1c-c4f5-9d3ff830adea"
      },
      "source": [
        "# Rearranging the columns again\n",
        "air_df = air_df[['created_at','date', 'time','month','year', 'Temperature_F', 'Humidity_%','PM2.5_ATM_ug/m3']]\n",
        "# Let's check the rearrangement\n",
        "air_df.head()"
      ],
      "execution_count": 31,
      "outputs": [
        {
          "output_type": "execute_result",
          "data": {
            "text/html": [
              "<div>\n",
              "<style scoped>\n",
              "    .dataframe tbody tr th:only-of-type {\n",
              "        vertical-align: middle;\n",
              "    }\n",
              "\n",
              "    .dataframe tbody tr th {\n",
              "        vertical-align: top;\n",
              "    }\n",
              "\n",
              "    .dataframe thead th {\n",
              "        text-align: right;\n",
              "    }\n",
              "</style>\n",
              "<table border=\"1\" class=\"dataframe\">\n",
              "  <thead>\n",
              "    <tr style=\"text-align: right;\">\n",
              "      <th></th>\n",
              "      <th>created_at</th>\n",
              "      <th>date</th>\n",
              "      <th>time</th>\n",
              "      <th>month</th>\n",
              "      <th>year</th>\n",
              "      <th>Temperature_F</th>\n",
              "      <th>Humidity_%</th>\n",
              "      <th>PM2.5_ATM_ug/m3</th>\n",
              "    </tr>\n",
              "  </thead>\n",
              "  <tbody>\n",
              "    <tr>\n",
              "      <th>0</th>\n",
              "      <td>2021-07-26 16:45:59+00:00</td>\n",
              "      <td>2021-07-26</td>\n",
              "      <td>16:45:59</td>\n",
              "      <td>Jul</td>\n",
              "      <td>2021</td>\n",
              "      <td>89</td>\n",
              "      <td>50</td>\n",
              "      <td>40.78</td>\n",
              "    </tr>\n",
              "    <tr>\n",
              "      <th>1</th>\n",
              "      <td>2021-07-26 16:48:03+00:00</td>\n",
              "      <td>2021-07-26</td>\n",
              "      <td>16:48:03</td>\n",
              "      <td>Jul</td>\n",
              "      <td>2021</td>\n",
              "      <td>89</td>\n",
              "      <td>50</td>\n",
              "      <td>40.09</td>\n",
              "    </tr>\n",
              "    <tr>\n",
              "      <th>2</th>\n",
              "      <td>2021-07-26 16:49:59+00:00</td>\n",
              "      <td>2021-07-26</td>\n",
              "      <td>16:49:59</td>\n",
              "      <td>Jul</td>\n",
              "      <td>2021</td>\n",
              "      <td>89</td>\n",
              "      <td>50</td>\n",
              "      <td>37.93</td>\n",
              "    </tr>\n",
              "    <tr>\n",
              "      <th>3</th>\n",
              "      <td>2021-07-26 16:54:03+00:00</td>\n",
              "      <td>2021-07-26</td>\n",
              "      <td>16:54:03</td>\n",
              "      <td>Jul</td>\n",
              "      <td>2021</td>\n",
              "      <td>89</td>\n",
              "      <td>50</td>\n",
              "      <td>33.18</td>\n",
              "    </tr>\n",
              "    <tr>\n",
              "      <th>4</th>\n",
              "      <td>2021-07-26 16:55:59+00:00</td>\n",
              "      <td>2021-07-26</td>\n",
              "      <td>16:55:59</td>\n",
              "      <td>Jul</td>\n",
              "      <td>2021</td>\n",
              "      <td>89</td>\n",
              "      <td>50</td>\n",
              "      <td>37.84</td>\n",
              "    </tr>\n",
              "  </tbody>\n",
              "</table>\n",
              "</div>"
            ],
            "text/plain": [
              "                 created_at       date  ... Humidity_% PM2.5_ATM_ug/m3\n",
              "0 2021-07-26 16:45:59+00:00 2021-07-26  ...         50           40.78\n",
              "1 2021-07-26 16:48:03+00:00 2021-07-26  ...         50           40.09\n",
              "2 2021-07-26 16:49:59+00:00 2021-07-26  ...         50           37.93\n",
              "3 2021-07-26 16:54:03+00:00 2021-07-26  ...         50           33.18\n",
              "4 2021-07-26 16:55:59+00:00 2021-07-26  ...         50           37.84\n",
              "\n",
              "[5 rows x 8 columns]"
            ]
          },
          "metadata": {},
          "execution_count": 31
        }
      ]
    },
    {
      "cell_type": "markdown",
      "metadata": {
        "id": "V7AE-JM66BwV"
      },
      "source": [
        "About PM2.5 \n",
        "- They are fine particulate matter less than 2.5 micrometres in diameter.\n",
        "\n",
        "- At elevated levels, they reduce visibility, cause the air to appear hazy, and are a health concern.\n",
        "\n",
        "- Some examples of PM2.5 are dust, spores, pollen and emissions from the combustion of diesel, gasoline, oil or wood.\n",
        "\n",
        "- Elevated levels of PM2.5 can result in harmful effects such as heart disease, throat infections, lung cancer, chronic bronchitis, asthma attacks, and other respiratory diseases. "
      ]
    },
    {
      "cell_type": "markdown",
      "metadata": {
        "id": "knf_quEd6Zpp"
      },
      "source": [
        "![ec5e7f7c-c9f9-4f4c-b8f2-6811716da877.jpg](data:image/jpeg;base64,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)"
      ]
    },
    {
      "cell_type": "code",
      "metadata": {
        "colab": {
          "base_uri": "https://localhost:8080/",
          "height": 326
        },
        "id": "-50m9j2S5d9C",
        "outputId": "53623419-fdf8-452d-af37-f8222008417b"
      },
      "source": [
        "# Let's add a categorical column in regards to the PM2.5 levels \n",
        "# for easier and comprehensive analysis\n",
        "air_df['AQI'] = ''\n",
        "# check if new column has been created\n",
        "air_df.head()"
      ],
      "execution_count": 32,
      "outputs": [
        {
          "output_type": "stream",
          "name": "stderr",
          "text": [
            "/usr/local/lib/python3.7/dist-packages/ipykernel_launcher.py:3: SettingWithCopyWarning: \n",
            "A value is trying to be set on a copy of a slice from a DataFrame.\n",
            "Try using .loc[row_indexer,col_indexer] = value instead\n",
            "\n",
            "See the caveats in the documentation: https://pandas.pydata.org/pandas-docs/stable/user_guide/indexing.html#returning-a-view-versus-a-copy\n",
            "  This is separate from the ipykernel package so we can avoid doing imports until\n"
          ]
        },
        {
          "output_type": "execute_result",
          "data": {
            "text/html": [
              "<div>\n",
              "<style scoped>\n",
              "    .dataframe tbody tr th:only-of-type {\n",
              "        vertical-align: middle;\n",
              "    }\n",
              "\n",
              "    .dataframe tbody tr th {\n",
              "        vertical-align: top;\n",
              "    }\n",
              "\n",
              "    .dataframe thead th {\n",
              "        text-align: right;\n",
              "    }\n",
              "</style>\n",
              "<table border=\"1\" class=\"dataframe\">\n",
              "  <thead>\n",
              "    <tr style=\"text-align: right;\">\n",
              "      <th></th>\n",
              "      <th>created_at</th>\n",
              "      <th>date</th>\n",
              "      <th>time</th>\n",
              "      <th>month</th>\n",
              "      <th>year</th>\n",
              "      <th>Temperature_F</th>\n",
              "      <th>Humidity_%</th>\n",
              "      <th>PM2.5_ATM_ug/m3</th>\n",
              "      <th>AQI</th>\n",
              "    </tr>\n",
              "  </thead>\n",
              "  <tbody>\n",
              "    <tr>\n",
              "      <th>0</th>\n",
              "      <td>2021-07-26 16:45:59+00:00</td>\n",
              "      <td>2021-07-26</td>\n",
              "      <td>16:45:59</td>\n",
              "      <td>Jul</td>\n",
              "      <td>2021</td>\n",
              "      <td>89</td>\n",
              "      <td>50</td>\n",
              "      <td>40.78</td>\n",
              "      <td></td>\n",
              "    </tr>\n",
              "    <tr>\n",
              "      <th>1</th>\n",
              "      <td>2021-07-26 16:48:03+00:00</td>\n",
              "      <td>2021-07-26</td>\n",
              "      <td>16:48:03</td>\n",
              "      <td>Jul</td>\n",
              "      <td>2021</td>\n",
              "      <td>89</td>\n",
              "      <td>50</td>\n",
              "      <td>40.09</td>\n",
              "      <td></td>\n",
              "    </tr>\n",
              "    <tr>\n",
              "      <th>2</th>\n",
              "      <td>2021-07-26 16:49:59+00:00</td>\n",
              "      <td>2021-07-26</td>\n",
              "      <td>16:49:59</td>\n",
              "      <td>Jul</td>\n",
              "      <td>2021</td>\n",
              "      <td>89</td>\n",
              "      <td>50</td>\n",
              "      <td>37.93</td>\n",
              "      <td></td>\n",
              "    </tr>\n",
              "    <tr>\n",
              "      <th>3</th>\n",
              "      <td>2021-07-26 16:54:03+00:00</td>\n",
              "      <td>2021-07-26</td>\n",
              "      <td>16:54:03</td>\n",
              "      <td>Jul</td>\n",
              "      <td>2021</td>\n",
              "      <td>89</td>\n",
              "      <td>50</td>\n",
              "      <td>33.18</td>\n",
              "      <td></td>\n",
              "    </tr>\n",
              "    <tr>\n",
              "      <th>4</th>\n",
              "      <td>2021-07-26 16:55:59+00:00</td>\n",
              "      <td>2021-07-26</td>\n",
              "      <td>16:55:59</td>\n",
              "      <td>Jul</td>\n",
              "      <td>2021</td>\n",
              "      <td>89</td>\n",
              "      <td>50</td>\n",
              "      <td>37.84</td>\n",
              "      <td></td>\n",
              "    </tr>\n",
              "  </tbody>\n",
              "</table>\n",
              "</div>"
            ],
            "text/plain": [
              "                 created_at       date  ... PM2.5_ATM_ug/m3 AQI\n",
              "0 2021-07-26 16:45:59+00:00 2021-07-26  ...           40.78    \n",
              "1 2021-07-26 16:48:03+00:00 2021-07-26  ...           40.09    \n",
              "2 2021-07-26 16:49:59+00:00 2021-07-26  ...           37.93    \n",
              "3 2021-07-26 16:54:03+00:00 2021-07-26  ...           33.18    \n",
              "4 2021-07-26 16:55:59+00:00 2021-07-26  ...           37.84    \n",
              "\n",
              "[5 rows x 9 columns]"
            ]
          },
          "metadata": {},
          "execution_count": 32
        }
      ]
    },
    {
      "cell_type": "code",
      "metadata": {
        "id": "r75TB-bp7-rZ"
      },
      "source": [
        "# Let's add values to the Air Quality Index(AQI) Column\n",
        "# depending on the PM2.5 Levels\n",
        "air_df.loc[(air_df['PM2.5_ATM_ug/m3']>=0)&(air_df['PM2.5_ATM_ug/m3']<=12), 'AQI'] = 'Good'\n",
        "air_df.loc[(air_df['PM2.5_ATM_ug/m3']>=13)&(air_df['PM2.5_ATM_ug/m3']<=35), 'AQI'] = 'Moderate'\n",
        "air_df.loc[(air_df['PM2.5_ATM_ug/m3']>=36)&(air_df['PM2.5_ATM_ug/m3']<=55), 'AQI'] = 'Unhealthy sensitive'\n",
        "air_df.loc[(air_df['PM2.5_ATM_ug/m3']>=56)&(air_df['PM2.5_ATM_ug/m3']<=150), 'AQI'] = 'Unhealthy'\n",
        "air_df.loc[(air_df['PM2.5_ATM_ug/m3']>=151)&(air_df['PM2.5_ATM_ug/m3']<=250), 'AQI'] = 'Very Unhealthy'\n",
        "air_df.loc[(air_df['PM2.5_ATM_ug/m3']>250), 'AQI'] = 'Hazardous'\n"
      ],
      "execution_count": 49,
      "outputs": []
    },
    {
      "cell_type": "code",
      "metadata": {
        "colab": {
          "base_uri": "https://localhost:8080/",
          "height": 529
        },
        "id": "xXf75hF0C22O",
        "outputId": "7f5d8d65-f039-4e5f-f441-502564ac5069"
      },
      "source": [
        "air_df.sample(10)"
      ],
      "execution_count": 50,
      "outputs": [
        {
          "output_type": "execute_result",
          "data": {
            "text/html": [
              "<div>\n",
              "<style scoped>\n",
              "    .dataframe tbody tr th:only-of-type {\n",
              "        vertical-align: middle;\n",
              "    }\n",
              "\n",
              "    .dataframe tbody tr th {\n",
              "        vertical-align: top;\n",
              "    }\n",
              "\n",
              "    .dataframe thead th {\n",
              "        text-align: right;\n",
              "    }\n",
              "</style>\n",
              "<table border=\"1\" class=\"dataframe\">\n",
              "  <thead>\n",
              "    <tr style=\"text-align: right;\">\n",
              "      <th></th>\n",
              "      <th>created_at</th>\n",
              "      <th>date</th>\n",
              "      <th>time</th>\n",
              "      <th>month</th>\n",
              "      <th>year</th>\n",
              "      <th>Temperature_F</th>\n",
              "      <th>Humidity_%</th>\n",
              "      <th>PM2.5_ATM_ug/m3</th>\n",
              "      <th>AQI</th>\n",
              "    </tr>\n",
              "  </thead>\n",
              "  <tbody>\n",
              "    <tr>\n",
              "      <th>22744</th>\n",
              "      <td>2021-08-30 07:37:57+00:00</td>\n",
              "      <td>2021-08-30</td>\n",
              "      <td>07:37:57</td>\n",
              "      <td>Aug</td>\n",
              "      <td>2021</td>\n",
              "      <td>85</td>\n",
              "      <td>69</td>\n",
              "      <td>59.64</td>\n",
              "      <td>Unhealthy</td>\n",
              "    </tr>\n",
              "    <tr>\n",
              "      <th>3499</th>\n",
              "      <td>2021-07-31 22:50:08+00:00</td>\n",
              "      <td>2021-07-31</td>\n",
              "      <td>22:50:08</td>\n",
              "      <td>Jul</td>\n",
              "      <td>2021</td>\n",
              "      <td>84</td>\n",
              "      <td>66</td>\n",
              "      <td>206.46</td>\n",
              "      <td>Very Unhealthy</td>\n",
              "    </tr>\n",
              "    <tr>\n",
              "      <th>15155</th>\n",
              "      <td>2021-08-18 15:24:00+00:00</td>\n",
              "      <td>2021-08-18</td>\n",
              "      <td>15:24:00</td>\n",
              "      <td>Aug</td>\n",
              "      <td>2021</td>\n",
              "      <td>86</td>\n",
              "      <td>60</td>\n",
              "      <td>27.43</td>\n",
              "      <td>Moderate</td>\n",
              "    </tr>\n",
              "    <tr>\n",
              "      <th>30481</th>\n",
              "      <td>2021-09-11 12:15:04+00:00</td>\n",
              "      <td>2021-09-11</td>\n",
              "      <td>12:15:04</td>\n",
              "      <td>Sep</td>\n",
              "      <td>2021</td>\n",
              "      <td>93</td>\n",
              "      <td>49</td>\n",
              "      <td>40.02</td>\n",
              "      <td>Unhealthy sensitive</td>\n",
              "    </tr>\n",
              "    <tr>\n",
              "      <th>32093</th>\n",
              "      <td>2021-09-13 20:38:31+00:00</td>\n",
              "      <td>2021-09-13</td>\n",
              "      <td>20:38:31</td>\n",
              "      <td>Sep</td>\n",
              "      <td>2021</td>\n",
              "      <td>82</td>\n",
              "      <td>71</td>\n",
              "      <td>33.07</td>\n",
              "      <td>Moderate</td>\n",
              "    </tr>\n",
              "    <tr>\n",
              "      <th>33779</th>\n",
              "      <td>2021-09-16 10:59:11+00:00</td>\n",
              "      <td>2021-09-16</td>\n",
              "      <td>10:59:11</td>\n",
              "      <td>Sep</td>\n",
              "      <td>2021</td>\n",
              "      <td>92</td>\n",
              "      <td>48</td>\n",
              "      <td>19.93</td>\n",
              "      <td>Moderate</td>\n",
              "    </tr>\n",
              "    <tr>\n",
              "      <th>8833</th>\n",
              "      <td>2021-08-08 16:04:15+00:00</td>\n",
              "      <td>2021-08-08</td>\n",
              "      <td>16:04:15</td>\n",
              "      <td>Aug</td>\n",
              "      <td>2021</td>\n",
              "      <td>80</td>\n",
              "      <td>69</td>\n",
              "      <td>26.52</td>\n",
              "      <td>Moderate</td>\n",
              "    </tr>\n",
              "    <tr>\n",
              "      <th>23819</th>\n",
              "      <td>2021-08-31 20:45:22+00:00</td>\n",
              "      <td>2021-08-31</td>\n",
              "      <td>20:45:22</td>\n",
              "      <td>Aug</td>\n",
              "      <td>2021</td>\n",
              "      <td>85</td>\n",
              "      <td>68</td>\n",
              "      <td>50.42</td>\n",
              "      <td>Unhealthy sensitive</td>\n",
              "    </tr>\n",
              "    <tr>\n",
              "      <th>55388</th>\n",
              "      <td>2021-10-23 15:10:45+00:00</td>\n",
              "      <td>2021-10-23</td>\n",
              "      <td>15:10:45</td>\n",
              "      <td>Oct</td>\n",
              "      <td>2021</td>\n",
              "      <td>86</td>\n",
              "      <td>64</td>\n",
              "      <td>44.42</td>\n",
              "      <td>Unhealthy sensitive</td>\n",
              "    </tr>\n",
              "    <tr>\n",
              "      <th>42606</th>\n",
              "      <td>2021-09-30 16:57:44+00:00</td>\n",
              "      <td>2021-09-30</td>\n",
              "      <td>16:57:44</td>\n",
              "      <td>Sep</td>\n",
              "      <td>2021</td>\n",
              "      <td>87</td>\n",
              "      <td>61</td>\n",
              "      <td>19.95</td>\n",
              "      <td>Moderate</td>\n",
              "    </tr>\n",
              "  </tbody>\n",
              "</table>\n",
              "</div>"
            ],
            "text/plain": [
              "                     created_at  ...                  AQI\n",
              "22744 2021-08-30 07:37:57+00:00  ...            Unhealthy\n",
              "3499  2021-07-31 22:50:08+00:00  ...       Very Unhealthy\n",
              "15155 2021-08-18 15:24:00+00:00  ...             Moderate\n",
              "30481 2021-09-11 12:15:04+00:00  ...  Unhealthy sensitive\n",
              "32093 2021-09-13 20:38:31+00:00  ...             Moderate\n",
              "33779 2021-09-16 10:59:11+00:00  ...             Moderate\n",
              "8833  2021-08-08 16:04:15+00:00  ...             Moderate\n",
              "23819 2021-08-31 20:45:22+00:00  ...  Unhealthy sensitive\n",
              "55388 2021-10-23 15:10:45+00:00  ...  Unhealthy sensitive\n",
              "42606 2021-09-30 16:57:44+00:00  ...             Moderate\n",
              "\n",
              "[10 rows x 9 columns]"
            ]
          },
          "metadata": {},
          "execution_count": 50
        }
      ]
    },
    {
      "cell_type": "markdown",
      "metadata": {
        "id": "_-kmxvg7p8zb"
      },
      "source": [
        "## Exploratory Data Analysis"
      ]
    },
    {
      "cell_type": "markdown",
      "metadata": {
        "id": "yoNyidqgx0rH"
      },
      "source": [
        "### Univariate Analysis"
      ]
    },
    {
      "cell_type": "markdown",
      "metadata": {
        "id": "rajOg-SCx58p"
      },
      "source": [
        "As we examine the shape of our data, we will perform univariate analysis."
      ]
    },
    {
      "cell_type": "code",
      "metadata": {
        "colab": {
          "base_uri": "https://localhost:8080/",
          "height": 506
        },
        "id": "8BsfxGposcUv",
        "outputId": "0419958c-e429-4ac3-8322-f436790ddc66"
      },
      "source": [
        "# Let's examine the Air quality index column\n",
        "fig = plt.figure(figsize=(6,6), dpi=100)\n",
        "ax = plt.subplot(111)\n",
        "\n",
        "Value = air_df.AQI.value_counts()\n",
        "\n",
        "Value.plot(kind='pie', ax=ax, autopct='%1.1f%%', startangle=270, fontsize=17)"
      ],
      "execution_count": 51,
      "outputs": [
        {
          "output_type": "execute_result",
          "data": {
            "text/plain": [
              "<matplotlib.axes._subplots.AxesSubplot at 0x7f3006cc2cd0>"
            ]
          },
          "metadata": {},
          "execution_count": 51
        },
        {
          "output_type": "display_data",
          "data": {
            "image/png": "[encoded data removed]",
            "text/plain": [
              "<Figure size 600x600 with 1 Axes>"
            ]
          },
          "metadata": {}
        }
      ]
    },
    {
      "cell_type": "markdown",
      "metadata": {
        "id": "9Oh2MPyn1BGD"
      },
      "source": [
        "From the pie chart we can see 32.7% of the air quality is in the **unhealthy sensitive**  category index. Only 6.7% of the air quality is in the **Good** category index. \n",
        "\n",
        "Lets create  a better visualization of this."
      ]
    },
    {
      "cell_type": "code",
      "metadata": {
        "colab": {
          "base_uri": "https://localhost:8080/"
        },
        "id": "4dFyE8GV1nmb",
        "outputId": "6082a7b4-1c55-4fbb-966b-5a284969571f"
      },
      "source": [
        "# Using a bar plot to visualize\n",
        "# creating the bar plot\n",
        "# Counting the occurrences of each unique category\n",
        "GroupData=air_df.groupby(by='AQI').size()\n",
        "print(GroupData)"
      ],
      "execution_count": 53,
      "outputs": [
        {
          "output_type": "stream",
          "name": "stdout",
          "text": [
            "AQI\n",
            "                          55\n",
            "Good                    3773\n",
            "Hazardous                128\n",
            "Moderate               17981\n",
            "Unhealthy              12963\n",
            "Unhealthy sensitive    18334\n",
            "Very Unhealthy          2818\n",
            "dtype: int64\n"
          ]
        }
      ]
    },
    {
      "cell_type": "code",
      "metadata": {
        "colab": {
          "base_uri": "https://localhost:8080/",
          "height": 385
        },
        "id": "QxUuVgRl7yi-",
        "outputId": "fa77ffc8-ab01-422d-b255-838cad73e96d"
      },
      "source": [
        "# Generating a bar chart for a single column\n",
        "GroupData.plot.bar()"
      ],
      "execution_count": 54,
      "outputs": [
        {
          "output_type": "execute_result",
          "data": {
            "text/plain": [
              "<matplotlib.axes._subplots.AxesSubplot at 0x7f3006a2da90>"
            ]
          },
          "metadata": {},
          "execution_count": 54
        },
        {
          "output_type": "display_data",
          "data": {
            "image/png": "[encoded data removed]",
            "text/plain": [
              "<Figure size 432x288 with 1 Axes>"
            ]
          },
          "metadata": {
            "needs_background": "light"
          }
        }
      ]
    },
    {
      "cell_type": "markdown",
      "metadata": {
        "id": "uChqcLCL8Cp0"
      },
      "source": [
        "The air quality has mostly  been between the  **Moderate**,**Unhealthy** and **unhealthy** **sensitive** index ranges. \n",
        "\n",
        "The air quality has rarely been hazrdous as seen from the plot.\n",
        "\n",
        "There are also observations that do not have a label to them."
      ]
    },
    {
      "cell_type": "markdown",
      "metadata": {
        "id": "GmLoK5DPq5Mr"
      },
      "source": [
        "### Bivariate Analysis"
      ]
    },
    {
      "cell_type": "code",
      "metadata": {
        "id": "IP_MZs-0qyqI",
        "colab": {
          "base_uri": "https://localhost:8080/",
          "height": 265
        },
        "outputId": "e2f43030-8867-4ca9-8281-68498b845b9e"
      },
      "source": [
        "# Lets evaluate the relationship between Temperature and Humidity\n",
        "x = air_df['Temperature_F']\n",
        "y = air_df['Humidity_%']\n",
        "\n",
        "plt.scatter(x, y)\n",
        "plt.show()"
      ],
      "execution_count": 55,
      "outputs": [
        {
          "output_type": "display_data",
          "data": {
            "image/png": "[encoded data removed]",
            "text/plain": [
              "<Figure size 432x288 with 1 Axes>"
            ]
          },
          "metadata": {
            "needs_background": "light"
          }
        }
      ]
    },
    {
      "cell_type": "markdown",
      "metadata": {
        "id": "wXaOXV2x5Vum"
      },
      "source": [
        "Temperature and humidity have a strong negative correlation. As the temperature increases the humidity decreases."
      ]
    },
    {
      "cell_type": "code",
      "metadata": {
        "id": "aHJVOhBwrNDi",
        "colab": {
          "base_uri": "https://localhost:8080/",
          "height": 265
        },
        "outputId": "73947877-27cf-4329-f8e3-70ce9b09590b"
      },
      "source": [
        "# Lets evaluate the relationship between Temperature and PM2.5\n",
        "x = air_df['Temperature_F']\n",
        "y = air_df['PM2.5_ATM_ug/m3']\n",
        "\n",
        "plt.scatter(x, y)\n",
        "plt.show()"
      ],
      "execution_count": 56,
      "outputs": [
        {
          "output_type": "display_data",
          "data": {
            "image/png": "[encoded data removed]",
            "text/plain": [
              "<Figure size 432x288 with 1 Axes>"
            ]
          },
          "metadata": {
            "needs_background": "light"
          }
        }
      ]
    },
    {
      "cell_type": "code",
      "metadata": {
        "id": "uUZrBzqMrRLa",
        "colab": {
          "base_uri": "https://localhost:8080/",
          "height": 265
        },
        "outputId": "a00892e8-7df1-42ef-cee7-c9b14a76721e"
      },
      "source": [
        "# Lets evaluate the relationship between PM2.5 and Humidity\n",
        "x = air_df['Humidity_%']\n",
        "y = air_df['PM2.5_ATM_ug/m3']\n",
        "\n",
        "plt.scatter(x, y)\n",
        "plt.show()"
      ],
      "execution_count": 40,
      "outputs": [
        {
          "output_type": "display_data",
          "data": {
            "image/png": "[encoded data removed]",
            "text/plain": [
              "<Figure size 432x288 with 1 Axes>"
            ]
          },
          "metadata": {
            "needs_background": "light"
          }
        }
      ]
    },
    {
      "cell_type": "markdown",
      "metadata": {
        "id": "mnyZsokG6sp4"
      },
      "source": [
        "It seems that as humidity increases so does the level of PM2.5. We will create a correlation heat map to clearly see the strength of this relation."
      ]
    },
    {
      "cell_type": "code",
      "metadata": {
        "colab": {
          "base_uri": "https://localhost:8080/",
          "height": 367
        },
        "id": "jjO2nRzb2h1A",
        "outputId": "b9b2a48e-5e18-4385-aa0e-6c5975a6c88f"
      },
      "source": [
        "# creating stcked chart to show count of AQI by month\n",
        "plt.figure(figsize=(8,5))\n",
        "sns.countplot(x='month',data=air_df, palette='rainbow', hue='AQI')\n",
        "plt.title(\"Air Quality by month, Divided by AQI\")"
      ],
      "execution_count": 70,
      "outputs": [
        {
          "output_type": "execute_result",
          "data": {
            "text/plain": [
              "Text(0.5, 1.0, 'Air Quality by month, Divided by AQI')"
            ]
          },
          "metadata": {},
          "execution_count": 70
        },
        {
          "output_type": "display_data",
          "data": {
            "image/png": "[encoded data removed]",
            "text/plain": [
              "<Figure size 576x360 with 1 Axes>"
            ]
          },
          "metadata": {
            "needs_background": "light"
          }
        }
      ]
    },
    {
      "cell_type": "markdown",
      "metadata": {
        "id": "ieTyZjmC6XUK"
      },
      "source": [
        "August was the month that had the highest rate of **unhealthy sensitive** air quality index."
      ]
    },
    {
      "cell_type": "code",
      "metadata": {
        "colab": {
          "base_uri": "https://localhost:8080/",
          "height": 613
        },
        "id": "jxjBLqTkvXQw",
        "outputId": "b583a730-18d8-41d8-dea8-56d41c128c8a"
      },
      "source": [
        "# correlation \n",
        "# Ploting a heatmat\n",
        "# using seaborn \n",
        "# \n",
        "colormap = plt.cm.Blues\n",
        "plt.figure(figsize=(14,10))\n",
        "sns.heatmap(air_df.corr(), cmap=colormap, annot=True, linewidths=0.2)"
      ],
      "execution_count": 43,
      "outputs": [
        {
          "output_type": "execute_result",
          "data": {
            "text/plain": [
              "<matplotlib.axes._subplots.AxesSubplot at 0x7f30142416d0>"
            ]
          },
          "metadata": {},
          "execution_count": 43
        },
        {
          "output_type": "display_data",
          "data": {
            "image/png": "[encoded data removed]",
            "text/plain": [
              "<Figure size 1008x720 with 2 Axes>"
            ]
          },
          "metadata": {
            "needs_background": "light"
          }
        }
      ]
    },
    {
      "cell_type": "markdown",
      "metadata": {
        "id": "lTXUy4hF8Bij"
      },
      "source": [
        "Temp and humidity have strong negative correlation.\n",
        "\n",
        "Humidity and PM2.5 have a weak positive correlation\n",
        "\n",
        "Temp and PM2.5 have a weak negative correlation."
      ]
    },
    {
      "cell_type": "code",
      "metadata": {
        "id": "Q7EIlhIa8gnV"
      },
      "source": [
        "# Let's import a further transformed dataset similar to the one above and get more insights.\n",
        "air_clean =  pd.read_csv('/content/drive/MyDrive/AirQuality/Cleaned_data.csv')"
      ],
      "execution_count": 71,
      "outputs": []
    },
    {
      "cell_type": "code",
      "metadata": {
        "colab": {
          "base_uri": "https://localhost:8080/",
          "height": 309
        },
        "id": "DthsJB4y80KB",
        "outputId": "247dad26-3635-41b2-efff-f49760f2d8bd"
      },
      "source": [
        "# Lets check the data set\n",
        "air_clean.head()"
      ],
      "execution_count": 72,
      "outputs": [
        {
          "output_type": "execute_result",
          "data": {
            "text/html": [
              "<div>\n",
              "<style scoped>\n",
              "    .dataframe tbody tr th:only-of-type {\n",
              "        vertical-align: middle;\n",
              "    }\n",
              "\n",
              "    .dataframe tbody tr th {\n",
              "        vertical-align: top;\n",
              "    }\n",
              "\n",
              "    .dataframe thead th {\n",
              "        text-align: right;\n",
              "    }\n",
              "</style>\n",
              "<table border=\"1\" class=\"dataframe\">\n",
              "  <thead>\n",
              "    <tr style=\"text-align: right;\">\n",
              "      <th></th>\n",
              "      <th>entry_id</th>\n",
              "      <th>Temperature_F</th>\n",
              "      <th>Humidity_%</th>\n",
              "      <th>PM2.5_ATM_ug/m3</th>\n",
              "      <th>date</th>\n",
              "      <th>time</th>\n",
              "      <th>day_of_month</th>\n",
              "      <th>month</th>\n",
              "      <th>year</th>\n",
              "      <th>days_of_week</th>\n",
              "      <th>day_in_week</th>\n",
              "      <th>weekdays_end</th>\n",
              "      <th>hour</th>\n",
              "      <th>AM_PM</th>\n",
              "      <th>Air_quality</th>\n",
              "    </tr>\n",
              "  </thead>\n",
              "  <tbody>\n",
              "    <tr>\n",
              "      <th>0</th>\n",
              "      <td>198</td>\n",
              "      <td>89</td>\n",
              "      <td>50</td>\n",
              "      <td>40.78</td>\n",
              "      <td>2021-07-26</td>\n",
              "      <td>16:45:59</td>\n",
              "      <td>26</td>\n",
              "      <td>July</td>\n",
              "      <td>2021</td>\n",
              "      <td>0</td>\n",
              "      <td>Monday</td>\n",
              "      <td>Weekdays</td>\n",
              "      <td>16</td>\n",
              "      <td>PM</td>\n",
              "      <td>Unhealthy</td>\n",
              "    </tr>\n",
              "    <tr>\n",
              "      <th>1</th>\n",
              "      <td>199</td>\n",
              "      <td>89</td>\n",
              "      <td>50</td>\n",
              "      <td>40.09</td>\n",
              "      <td>2021-07-26</td>\n",
              "      <td>16:48:03</td>\n",
              "      <td>26</td>\n",
              "      <td>July</td>\n",
              "      <td>2021</td>\n",
              "      <td>0</td>\n",
              "      <td>Monday</td>\n",
              "      <td>Weekdays</td>\n",
              "      <td>16</td>\n",
              "      <td>PM</td>\n",
              "      <td>Unhealthy</td>\n",
              "    </tr>\n",
              "    <tr>\n",
              "      <th>2</th>\n",
              "      <td>200</td>\n",
              "      <td>89</td>\n",
              "      <td>50</td>\n",
              "      <td>37.93</td>\n",
              "      <td>2021-07-26</td>\n",
              "      <td>16:49:59</td>\n",
              "      <td>26</td>\n",
              "      <td>July</td>\n",
              "      <td>2021</td>\n",
              "      <td>0</td>\n",
              "      <td>Monday</td>\n",
              "      <td>Weekdays</td>\n",
              "      <td>16</td>\n",
              "      <td>PM</td>\n",
              "      <td>Unhealthy</td>\n",
              "    </tr>\n",
              "    <tr>\n",
              "      <th>3</th>\n",
              "      <td>201</td>\n",
              "      <td>89</td>\n",
              "      <td>50</td>\n",
              "      <td>33.18</td>\n",
              "      <td>2021-07-26</td>\n",
              "      <td>16:54:03</td>\n",
              "      <td>26</td>\n",
              "      <td>July</td>\n",
              "      <td>2021</td>\n",
              "      <td>0</td>\n",
              "      <td>Monday</td>\n",
              "      <td>Weekdays</td>\n",
              "      <td>16</td>\n",
              "      <td>PM</td>\n",
              "      <td>Moderate</td>\n",
              "    </tr>\n",
              "    <tr>\n",
              "      <th>4</th>\n",
              "      <td>202</td>\n",
              "      <td>89</td>\n",
              "      <td>50</td>\n",
              "      <td>37.84</td>\n",
              "      <td>2021-07-26</td>\n",
              "      <td>16:55:59</td>\n",
              "      <td>26</td>\n",
              "      <td>July</td>\n",
              "      <td>2021</td>\n",
              "      <td>0</td>\n",
              "      <td>Monday</td>\n",
              "      <td>Weekdays</td>\n",
              "      <td>16</td>\n",
              "      <td>PM</td>\n",
              "      <td>Unhealthy</td>\n",
              "    </tr>\n",
              "  </tbody>\n",
              "</table>\n",
              "</div>"
            ],
            "text/plain": [
              "   entry_id  Temperature_F  Humidity_%  ...  hour AM_PM Air_quality\n",
              "0       198             89          50  ...    16    PM   Unhealthy\n",
              "1       199             89          50  ...    16    PM   Unhealthy\n",
              "2       200             89          50  ...    16    PM   Unhealthy\n",
              "3       201             89          50  ...    16    PM    Moderate\n",
              "4       202             89          50  ...    16    PM   Unhealthy\n",
              "\n",
              "[5 rows x 15 columns]"
            ]
          },
          "metadata": {},
          "execution_count": 72
        }
      ]
    },
    {
      "cell_type": "code",
      "metadata": {
        "colab": {
          "base_uri": "https://localhost:8080/",
          "height": 368
        },
        "id": "BR9fiuPFB1AP",
        "outputId": "71c68942-fec9-4d36-e9bc-7f9ee8a20554"
      },
      "source": [
        "# Lets check the AQI in realtion to the week datys and weekends\n",
        "plt.figure(figsize=(8,5))\n",
        "sns.countplot(x='weekdays_end',data=air_clean, palette='rainbow', hue='Air_quality')\n",
        "plt.title(\"Air Quality by Weekends/weekdays, Divided by AQI\")"
      ],
      "execution_count": 76,
      "outputs": [
        {
          "output_type": "execute_result",
          "data": {
            "text/plain": [
              "Text(0.5, 1.0, 'Air Quality by Weekends/weekdays, Divided by AQI')"
            ]
          },
          "metadata": {},
          "execution_count": 76
        },
        {
          "output_type": "display_data",
          "data": {
            "image/png": "[encoded data removed]",
            "text/plain": [
              "<Figure size 576x360 with 1 Axes>"
            ]
          },
          "metadata": {
            "needs_background": "light"
          }
        }
      ]
    },
    {
      "cell_type": "markdown",
      "metadata": {
        "id": "um7m1108Cil3"
      },
      "source": [
        "The air quality is mostly compromised on the weekdays according to the plot above. "
      ]
    },
    {
      "cell_type": "code",
      "metadata": {
        "colab": {
          "base_uri": "https://localhost:8080/",
          "height": 368
        },
        "id": "1bzIQiH8B_b-",
        "outputId": "cca9c3af-3083-4cbe-c956-5c5af225f25b"
      },
      "source": [
        "# Lets check the AQI in realtion to the week days \n",
        "plt.figure(figsize=(8,5))\n",
        "sns.countplot(x='day_in_week',data=air_clean, palette='rainbow', hue='Air_quality')\n",
        "plt.title(\"Air Quality by day in week, Divided by AQI\")"
      ],
      "execution_count": 77,
      "outputs": [
        {
          "output_type": "execute_result",
          "data": {
            "text/plain": [
              "Text(0.5, 1.0, 'Air Quality by day in week, Divided by AQI')"
            ]
          },
          "metadata": {},
          "execution_count": 77
        },
        {
          "output_type": "display_data",
          "data": {
            "image/png": "[encoded data removed]",
            "text/plain": [
              "<Figure size 576x360 with 1 Axes>"
            ]
          },
          "metadata": {
            "needs_background": "light"
          }
        }
      ]
    },
    {
      "cell_type": "markdown",
      "metadata": {
        "id": "8Jy38i-4DHtt"
      },
      "source": [
        "On Wednesday's and Saturday's it seems the air quality is worse. However, the other days are not that much better off as they closely follow behind."
      ]
    },
    {
      "cell_type": "code",
      "metadata": {
        "colab": {
          "base_uri": "https://localhost:8080/",
          "height": 368
        },
        "id": "_oCl-i9lDHHC",
        "outputId": "cf135fc7-4641-4ab9-8078-73e463dfaca3"
      },
      "source": [
        "# Lets check the AQI in realtion to the AM_PM\n",
        "plt.figure(figsize=(8,5))\n",
        "sns.countplot(x='AM_PM',data=air_clean, palette='rainbow', hue='Air_quality')\n",
        "plt.title(\"Air Quality by AM_PM, Divided by AQI\")"
      ],
      "execution_count": 78,
      "outputs": [
        {
          "output_type": "execute_result",
          "data": {
            "text/plain": [
              "Text(0.5, 1.0, 'Air Quality by AM_PM, Divided by AQI')"
            ]
          },
          "metadata": {},
          "execution_count": 78
        },
        {
          "output_type": "display_data",
          "data": {
            "image/png": "[encoded data removed]",
            "text/plain": [
              "<Figure size 576x360 with 1 Axes>"
            ]
          },
          "metadata": {
            "needs_background": "light"
          }
        }
      ]
    },
    {
      "cell_type": "markdown",
      "metadata": {
        "id": "fZvgMAS1EYMs"
      },
      "source": [
        "The air quality is mostly compromised in the AM ie.morning.\n",
        "\n",
        "The difference between the AM and PM isn't quite large though."
      ]
    }
  ]
}