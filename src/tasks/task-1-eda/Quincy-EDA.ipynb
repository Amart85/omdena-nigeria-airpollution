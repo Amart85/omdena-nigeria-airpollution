{
  "nbformat": 4,
  "nbformat_minor": 0,
  "metadata": {
    "colab": {
      "name": "Quincy-EDA.ipynb",
      "provenance": []
    },
    "kernelspec": {
      "name": "python3",
      "display_name": "Python 3"
    },
    "language_info": {
      "name": "python"
    }
  },
  "cells": [
    {
      "cell_type": "markdown",
      "metadata": {
        "id": "SJ14m1yeSAC3"
      },
      "source": [
        "# Raising Awareness Of Air Pollution In Nigeria\n"
      ]
    },
    {
      "cell_type": "markdown",
      "metadata": {
        "id": "DbatqaWmRwjf"
      },
      "source": [
        "## Importing necessary libraries for analysis\n",
        "\n"
      ]
    },
    {
      "cell_type": "code",
      "metadata": {
        "id": "5O_CxwdkvRh3"
      },
      "source": [
        "# Importing libraries\n",
        "import pandas as pd\n",
        "import numpy as np\n",
        "\n",
        "# For plotting\n",
        "from matplotlib import pyplot as plt\n",
        "import seaborn as sns\n",
        "%matplotlib inline"
      ],
      "execution_count": 1,
      "outputs": []
    },
    {
      "cell_type": "code",
      "metadata": {
        "colab": {
          "base_uri": "https://localhost:8080/"
        },
        "id": "4fyGtk5vPiG_",
        "outputId": "740f9b8b-bae0-493d-a4af-f5acef9bdb90"
      },
      "source": [
        "# connecting to google drive\n",
        "from google.colab import drive\n",
        "drive.mount('/content/drive')"
      ],
      "execution_count": 2,
      "outputs": [
        {
          "output_type": "stream",
          "name": "stdout",
          "text": [
            "Drive already mounted at /content/drive; to attempt to forcibly remount, call drive.mount(\"/content/drive\", force_remount=True).\n"
          ]
        }
      ]
    },
    {
      "cell_type": "markdown",
      "metadata": {
        "id": "Bxr4-RzrR7DJ"
      },
      "source": [
        "## Loading the dataset and checking the data"
      ]
    },
    {
      "cell_type": "code",
      "metadata": {
        "id": "OhTXHeR0wosF"
      },
      "source": [
        "# Load the dataset\n",
        "air = pd.read_csv(\"/content/drive/MyDrive/AirQuality/Port Harcourt, Nigeria (4.80678 7.002953).csv\")"
      ],
      "execution_count": 3,
      "outputs": []
    },
    {
      "cell_type": "code",
      "metadata": {
        "colab": {
          "base_uri": "https://localhost:8080/",
          "height": 359
        },
        "id": "isnbw3nLwx5g",
        "outputId": "627275a6-09bf-4c35-a99d-10681acb607e"
      },
      "source": [
        "# Preview the top of our data\n",
        "air.head(10)"
      ],
      "execution_count": 4,
      "outputs": [
        {
          "output_type": "execute_result",
          "data": {
            "text/html": [
              "<div>\n",
              "<style scoped>\n",
              "    .dataframe tbody tr th:only-of-type {\n",
              "        vertical-align: middle;\n",
              "    }\n",
              "\n",
              "    .dataframe tbody tr th {\n",
              "        vertical-align: top;\n",
              "    }\n",
              "\n",
              "    .dataframe thead th {\n",
              "        text-align: right;\n",
              "    }\n",
              "</style>\n",
              "<table border=\"1\" class=\"dataframe\">\n",
              "  <thead>\n",
              "    <tr style=\"text-align: right;\">\n",
              "      <th></th>\n",
              "      <th>created_at</th>\n",
              "      <th>entry_id</th>\n",
              "      <th>Temperature_F</th>\n",
              "      <th>Humidity_%</th>\n",
              "      <th>PM2.5_ATM_ug/m3</th>\n",
              "    </tr>\n",
              "  </thead>\n",
              "  <tbody>\n",
              "    <tr>\n",
              "      <th>0</th>\n",
              "      <td>2021-07-26 16:45:59 UTC</td>\n",
              "      <td>198</td>\n",
              "      <td>89</td>\n",
              "      <td>50</td>\n",
              "      <td>40.78</td>\n",
              "    </tr>\n",
              "    <tr>\n",
              "      <th>1</th>\n",
              "      <td>2021-07-26 16:48:03 UTC</td>\n",
              "      <td>199</td>\n",
              "      <td>89</td>\n",
              "      <td>50</td>\n",
              "      <td>40.09</td>\n",
              "    </tr>\n",
              "    <tr>\n",
              "      <th>2</th>\n",
              "      <td>2021-07-26 16:49:59 UTC</td>\n",
              "      <td>200</td>\n",
              "      <td>89</td>\n",
              "      <td>50</td>\n",
              "      <td>37.93</td>\n",
              "    </tr>\n",
              "    <tr>\n",
              "      <th>3</th>\n",
              "      <td>2021-07-26 16:54:03 UTC</td>\n",
              "      <td>201</td>\n",
              "      <td>89</td>\n",
              "      <td>50</td>\n",
              "      <td>33.18</td>\n",
              "    </tr>\n",
              "    <tr>\n",
              "      <th>4</th>\n",
              "      <td>2021-07-26 16:55:59 UTC</td>\n",
              "      <td>202</td>\n",
              "      <td>89</td>\n",
              "      <td>50</td>\n",
              "      <td>37.84</td>\n",
              "    </tr>\n",
              "    <tr>\n",
              "      <th>5</th>\n",
              "      <td>2021-07-26 16:58:11 UTC</td>\n",
              "      <td>203</td>\n",
              "      <td>89</td>\n",
              "      <td>50</td>\n",
              "      <td>34.70</td>\n",
              "    </tr>\n",
              "    <tr>\n",
              "      <th>6</th>\n",
              "      <td>2021-07-26 17:00:08 UTC</td>\n",
              "      <td>204</td>\n",
              "      <td>89</td>\n",
              "      <td>51</td>\n",
              "      <td>33.83</td>\n",
              "    </tr>\n",
              "    <tr>\n",
              "      <th>7</th>\n",
              "      <td>2021-07-26 17:02:05 UTC</td>\n",
              "      <td>205</td>\n",
              "      <td>89</td>\n",
              "      <td>50</td>\n",
              "      <td>36.20</td>\n",
              "    </tr>\n",
              "    <tr>\n",
              "      <th>8</th>\n",
              "      <td>2021-07-26 17:04:02 UTC</td>\n",
              "      <td>206</td>\n",
              "      <td>89</td>\n",
              "      <td>50</td>\n",
              "      <td>32.63</td>\n",
              "    </tr>\n",
              "    <tr>\n",
              "      <th>9</th>\n",
              "      <td>2021-07-26 17:06:00 UTC</td>\n",
              "      <td>207</td>\n",
              "      <td>88</td>\n",
              "      <td>50</td>\n",
              "      <td>32.60</td>\n",
              "    </tr>\n",
              "  </tbody>\n",
              "</table>\n",
              "</div>"
            ],
            "text/plain": [
              "                created_at  entry_id  ...  Humidity_%  PM2.5_ATM_ug/m3\n",
              "0  2021-07-26 16:45:59 UTC       198  ...          50            40.78\n",
              "1  2021-07-26 16:48:03 UTC       199  ...          50            40.09\n",
              "2  2021-07-26 16:49:59 UTC       200  ...          50            37.93\n",
              "3  2021-07-26 16:54:03 UTC       201  ...          50            33.18\n",
              "4  2021-07-26 16:55:59 UTC       202  ...          50            37.84\n",
              "5  2021-07-26 16:58:11 UTC       203  ...          50            34.70\n",
              "6  2021-07-26 17:00:08 UTC       204  ...          51            33.83\n",
              "7  2021-07-26 17:02:05 UTC       205  ...          50            36.20\n",
              "8  2021-07-26 17:04:02 UTC       206  ...          50            32.63\n",
              "9  2021-07-26 17:06:00 UTC       207  ...          50            32.60\n",
              "\n",
              "[10 rows x 5 columns]"
            ]
          },
          "metadata": {},
          "execution_count": 4
        }
      ]
    },
    {
      "cell_type": "code",
      "metadata": {
        "colab": {
          "base_uri": "https://localhost:8080/",
          "height": 359
        },
        "id": "ofBieP3pw6XQ",
        "outputId": "610282ef-ee4f-434a-d973-1a0b3baabf4f"
      },
      "source": [
        "# Preview the bottom of our data\n",
        "air.tail(10)"
      ],
      "execution_count": 5,
      "outputs": [
        {
          "output_type": "execute_result",
          "data": {
            "text/html": [
              "<div>\n",
              "<style scoped>\n",
              "    .dataframe tbody tr th:only-of-type {\n",
              "        vertical-align: middle;\n",
              "    }\n",
              "\n",
              "    .dataframe tbody tr th {\n",
              "        vertical-align: top;\n",
              "    }\n",
              "\n",
              "    .dataframe thead th {\n",
              "        text-align: right;\n",
              "    }\n",
              "</style>\n",
              "<table border=\"1\" class=\"dataframe\">\n",
              "  <thead>\n",
              "    <tr style=\"text-align: right;\">\n",
              "      <th></th>\n",
              "      <th>created_at</th>\n",
              "      <th>entry_id</th>\n",
              "      <th>Temperature_F</th>\n",
              "      <th>Humidity_%</th>\n",
              "      <th>PM2.5_ATM_ug/m3</th>\n",
              "    </tr>\n",
              "  </thead>\n",
              "  <tbody>\n",
              "    <tr>\n",
              "      <th>56042</th>\n",
              "      <td>2021-10-25 09:18:40 UTC</td>\n",
              "      <td>56240</td>\n",
              "      <td>86</td>\n",
              "      <td>62</td>\n",
              "      <td>28.88</td>\n",
              "    </tr>\n",
              "    <tr>\n",
              "      <th>56043</th>\n",
              "      <td>2021-10-25 09:20:40 UTC</td>\n",
              "      <td>56241</td>\n",
              "      <td>86</td>\n",
              "      <td>61</td>\n",
              "      <td>26.74</td>\n",
              "    </tr>\n",
              "    <tr>\n",
              "      <th>56044</th>\n",
              "      <td>2021-10-25 09:22:42 UTC</td>\n",
              "      <td>56242</td>\n",
              "      <td>87</td>\n",
              "      <td>61</td>\n",
              "      <td>28.71</td>\n",
              "    </tr>\n",
              "    <tr>\n",
              "      <th>56045</th>\n",
              "      <td>2021-10-25 09:24:44 UTC</td>\n",
              "      <td>56243</td>\n",
              "      <td>87</td>\n",
              "      <td>61</td>\n",
              "      <td>31.04</td>\n",
              "    </tr>\n",
              "    <tr>\n",
              "      <th>56046</th>\n",
              "      <td>2021-10-25 09:26:47 UTC</td>\n",
              "      <td>56244</td>\n",
              "      <td>87</td>\n",
              "      <td>61</td>\n",
              "      <td>28.90</td>\n",
              "    </tr>\n",
              "    <tr>\n",
              "      <th>56047</th>\n",
              "      <td>2021-10-25 09:28:43 UTC</td>\n",
              "      <td>56245</td>\n",
              "      <td>87</td>\n",
              "      <td>61</td>\n",
              "      <td>29.17</td>\n",
              "    </tr>\n",
              "    <tr>\n",
              "      <th>56048</th>\n",
              "      <td>2021-10-25 09:30:43 UTC</td>\n",
              "      <td>56246</td>\n",
              "      <td>87</td>\n",
              "      <td>61</td>\n",
              "      <td>29.57</td>\n",
              "    </tr>\n",
              "    <tr>\n",
              "      <th>56049</th>\n",
              "      <td>2021-10-25 09:32:44 UTC</td>\n",
              "      <td>56247</td>\n",
              "      <td>87</td>\n",
              "      <td>61</td>\n",
              "      <td>28.75</td>\n",
              "    </tr>\n",
              "    <tr>\n",
              "      <th>56050</th>\n",
              "      <td>2021-10-25 09:34:44 UTC</td>\n",
              "      <td>56248</td>\n",
              "      <td>87</td>\n",
              "      <td>61</td>\n",
              "      <td>29.97</td>\n",
              "    </tr>\n",
              "    <tr>\n",
              "      <th>56051</th>\n",
              "      <td>2021-10-25 09:36:44 UTC</td>\n",
              "      <td>56249</td>\n",
              "      <td>87</td>\n",
              "      <td>60</td>\n",
              "      <td>30.25</td>\n",
              "    </tr>\n",
              "  </tbody>\n",
              "</table>\n",
              "</div>"
            ],
            "text/plain": [
              "                    created_at  entry_id  ...  Humidity_%  PM2.5_ATM_ug/m3\n",
              "56042  2021-10-25 09:18:40 UTC     56240  ...          62            28.88\n",
              "56043  2021-10-25 09:20:40 UTC     56241  ...          61            26.74\n",
              "56044  2021-10-25 09:22:42 UTC     56242  ...          61            28.71\n",
              "56045  2021-10-25 09:24:44 UTC     56243  ...          61            31.04\n",
              "56046  2021-10-25 09:26:47 UTC     56244  ...          61            28.90\n",
              "56047  2021-10-25 09:28:43 UTC     56245  ...          61            29.17\n",
              "56048  2021-10-25 09:30:43 UTC     56246  ...          61            29.57\n",
              "56049  2021-10-25 09:32:44 UTC     56247  ...          61            28.75\n",
              "56050  2021-10-25 09:34:44 UTC     56248  ...          61            29.97\n",
              "56051  2021-10-25 09:36:44 UTC     56249  ...          60            30.25\n",
              "\n",
              "[10 rows x 5 columns]"
            ]
          },
          "metadata": {},
          "execution_count": 5
        }
      ]
    },
    {
      "cell_type": "code",
      "metadata": {
        "colab": {
          "base_uri": "https://localhost:8080/"
        },
        "id": "2-xWH9BISanf",
        "outputId": "196e268e-0f56-4c45-c48a-f197759e2ce2"
      },
      "source": [
        "# Checking the shape of our data\n",
        "air.shape"
      ],
      "execution_count": 6,
      "outputs": [
        {
          "output_type": "execute_result",
          "data": {
            "text/plain": [
              "(56052, 5)"
            ]
          },
          "metadata": {},
          "execution_count": 6
        }
      ]
    },
    {
      "cell_type": "markdown",
      "metadata": {
        "id": "mUu5FhaOSifq"
      },
      "source": [
        "Our dataset has 56052 observations and 5 features/variables."
      ]
    },
    {
      "cell_type": "code",
      "metadata": {
        "colab": {
          "base_uri": "https://localhost:8080/",
          "height": 297
        },
        "id": "xgYb-LdSgI10",
        "outputId": "9e2e7ae0-d0f5-4cf5-ed25-2220b1d7c6dd"
      },
      "source": [
        "# Let's describe the data\n",
        "air.describe()"
      ],
      "execution_count": 7,
      "outputs": [
        {
          "output_type": "execute_result",
          "data": {
            "text/html": [
              "<div>\n",
              "<style scoped>\n",
              "    .dataframe tbody tr th:only-of-type {\n",
              "        vertical-align: middle;\n",
              "    }\n",
              "\n",
              "    .dataframe tbody tr th {\n",
              "        vertical-align: top;\n",
              "    }\n",
              "\n",
              "    .dataframe thead th {\n",
              "        text-align: right;\n",
              "    }\n",
              "</style>\n",
              "<table border=\"1\" class=\"dataframe\">\n",
              "  <thead>\n",
              "    <tr style=\"text-align: right;\">\n",
              "      <th></th>\n",
              "      <th>entry_id</th>\n",
              "      <th>Temperature_F</th>\n",
              "      <th>Humidity_%</th>\n",
              "      <th>PM2.5_ATM_ug/m3</th>\n",
              "    </tr>\n",
              "  </thead>\n",
              "  <tbody>\n",
              "    <tr>\n",
              "      <th>count</th>\n",
              "      <td>56052.000000</td>\n",
              "      <td>56052.000000</td>\n",
              "      <td>56052.000000</td>\n",
              "      <td>56052.000000</td>\n",
              "    </tr>\n",
              "    <tr>\n",
              "      <th>mean</th>\n",
              "      <td>28223.500000</td>\n",
              "      <td>84.821469</td>\n",
              "      <td>65.117766</td>\n",
              "      <td>54.391926</td>\n",
              "    </tr>\n",
              "    <tr>\n",
              "      <th>std</th>\n",
              "      <td>16180.962981</td>\n",
              "      <td>4.319505</td>\n",
              "      <td>8.550730</td>\n",
              "      <td>42.205997</td>\n",
              "    </tr>\n",
              "    <tr>\n",
              "      <th>min</th>\n",
              "      <td>198.000000</td>\n",
              "      <td>70.000000</td>\n",
              "      <td>29.000000</td>\n",
              "      <td>0.780000</td>\n",
              "    </tr>\n",
              "    <tr>\n",
              "      <th>25%</th>\n",
              "      <td>14210.750000</td>\n",
              "      <td>82.000000</td>\n",
              "      <td>61.000000</td>\n",
              "      <td>30.170000</td>\n",
              "    </tr>\n",
              "    <tr>\n",
              "      <th>50%</th>\n",
              "      <td>28223.500000</td>\n",
              "      <td>84.000000</td>\n",
              "      <td>68.000000</td>\n",
              "      <td>41.450000</td>\n",
              "    </tr>\n",
              "    <tr>\n",
              "      <th>75%</th>\n",
              "      <td>42236.250000</td>\n",
              "      <td>87.000000</td>\n",
              "      <td>71.000000</td>\n",
              "      <td>61.190000</td>\n",
              "    </tr>\n",
              "    <tr>\n",
              "      <th>max</th>\n",
              "      <td>56249.000000</td>\n",
              "      <td>108.000000</td>\n",
              "      <td>89.000000</td>\n",
              "      <td>568.080000</td>\n",
              "    </tr>\n",
              "  </tbody>\n",
              "</table>\n",
              "</div>"
            ],
            "text/plain": [
              "           entry_id  Temperature_F    Humidity_%  PM2.5_ATM_ug/m3\n",
              "count  56052.000000   56052.000000  56052.000000     56052.000000\n",
              "mean   28223.500000      84.821469     65.117766        54.391926\n",
              "std    16180.962981       4.319505      8.550730        42.205997\n",
              "min      198.000000      70.000000     29.000000         0.780000\n",
              "25%    14210.750000      82.000000     61.000000        30.170000\n",
              "50%    28223.500000      84.000000     68.000000        41.450000\n",
              "75%    42236.250000      87.000000     71.000000        61.190000\n",
              "max    56249.000000     108.000000     89.000000       568.080000"
            ]
          },
          "metadata": {},
          "execution_count": 7
        }
      ]
    },
    {
      "cell_type": "markdown",
      "metadata": {
        "id": "_cJxQViAg7mB"
      },
      "source": [
        "The minimum and max value for the PM2.5 feature are too wide apart. The max and the 75% value are also too far apart as well. This leads to a suspicion of outliers present. We will check for these as we go through the project."
      ]
    },
    {
      "cell_type": "code",
      "metadata": {
        "colab": {
          "base_uri": "https://localhost:8080/"
        },
        "id": "vnqm85MMgQuH",
        "outputId": "553feaec-c45f-495c-d0d2-d59d53328042"
      },
      "source": [
        "# Checking the info of our data\n",
        "air.info()"
      ],
      "execution_count": 8,
      "outputs": [
        {
          "output_type": "stream",
          "name": "stdout",
          "text": [
            "<class 'pandas.core.frame.DataFrame'>\n",
            "RangeIndex: 56052 entries, 0 to 56051\n",
            "Data columns (total 5 columns):\n",
            " #   Column           Non-Null Count  Dtype  \n",
            "---  ------           --------------  -----  \n",
            " 0   created_at       56052 non-null  object \n",
            " 1   entry_id         56052 non-null  int64  \n",
            " 2   Temperature_F    56052 non-null  int64  \n",
            " 3   Humidity_%       56052 non-null  int64  \n",
            " 4   PM2.5_ATM_ug/m3  56052 non-null  float64\n",
            "dtypes: float64(1), int64(3), object(1)\n",
            "memory usage: 2.1+ MB\n"
          ]
        }
      ]
    },
    {
      "cell_type": "markdown",
      "metadata": {
        "id": "uNYrNHtDhjP4"
      },
      "source": [
        "The created_at column is an object, however this column's data points are date and time observations which we could transform and separate into date and time columns.\n",
        "\n",
        "All the other columns are of numeric data type ie. int64 or float64"
      ]
    },
    {
      "cell_type": "markdown",
      "metadata": {
        "id": "MvDWuCeTiHuJ"
      },
      "source": [
        "### Cleaning the data"
      ]
    },
    {
      "cell_type": "code",
      "metadata": {
        "colab": {
          "base_uri": "https://localhost:8080/"
        },
        "id": "ArE4AwY9iP-0",
        "outputId": "82d15bbb-aef8-4a01-fc5f-2f1591b61104"
      },
      "source": [
        "# Let's check for missing values\n",
        "air.isnull().sum().sum()"
      ],
      "execution_count": 9,
      "outputs": [
        {
          "output_type": "execute_result",
          "data": {
            "text/plain": [
              "0"
            ]
          },
          "metadata": {},
          "execution_count": 9
        }
      ]
    },
    {
      "cell_type": "markdown",
      "metadata": {
        "id": "fBu-hYNiiWrQ"
      },
      "source": [
        "We have no null values in the dataset."
      ]
    },
    {
      "cell_type": "code",
      "metadata": {
        "colab": {
          "base_uri": "https://localhost:8080/"
        },
        "id": "I6rXWMGticw9",
        "outputId": "d791b3f8-e8df-46a3-c6db-d032a400e9fe"
      },
      "source": [
        "# Let's check for duplicates\n",
        "air.duplicated().sum().sum()"
      ],
      "execution_count": 10,
      "outputs": [
        {
          "output_type": "execute_result",
          "data": {
            "text/plain": [
              "0"
            ]
          },
          "metadata": {},
          "execution_count": 10
        }
      ]
    },
    {
      "cell_type": "markdown",
      "metadata": {
        "id": "1UdBtFABilVL"
      },
      "source": [
        "There are no duplicated observations."
      ]
    },
    {
      "cell_type": "code",
      "metadata": {
        "colab": {
          "base_uri": "https://localhost:8080/"
        },
        "id": "4ahEfRNfisA1",
        "outputId": "fbf3f41d-c82d-4a01-8125-662b053cab32"
      },
      "source": [
        "# Are there any unique values in each column entry in the dataset?\n",
        "for i in air.columns:\n",
        " print(air[i].unique())\n",
        " print (\"\\n\")"
      ],
      "execution_count": 11,
      "outputs": [
        {
          "output_type": "stream",
          "name": "stdout",
          "text": [
            "['2021-07-26 16:45:59 UTC' '2021-07-26 16:48:03 UTC'\n",
            " '2021-07-26 16:49:59 UTC' ... '2021-10-25 09:32:44 UTC'\n",
            " '2021-10-25 09:34:44 UTC' '2021-10-25 09:36:44 UTC']\n",
            "\n",
            "\n",
            "[  198   199   200 ... 56247 56248 56249]\n",
            "\n",
            "\n",
            "[ 89  88  87  86  85  84  83  82  81  78  90  91  92  93  94  96  95  97\n",
            "  98  99 100 101 102  79  80  75  76  77 103  73 104 105 106  70  74 107\n",
            " 108  72]\n",
            "\n",
            "\n",
            "[50 51 52 53 54 55 56 57 58 59 60 61 62 63 64 65 66 67 49 48 47 46 45 44\n",
            " 43 42 41 40 39 38 37 36 35 34 33 30 29 31 32 68 70 71 72 69 86 85 84 83\n",
            " 82 81 80 79 78 77 76 75 74 73 87 89 88]\n",
            "\n",
            "\n",
            "[40.78 40.09 37.93 ... 83.85 80.34  6.64]\n",
            "\n",
            "\n"
          ]
        }
      ]
    },
    {
      "cell_type": "markdown",
      "metadata": {
        "id": "zgW4A21EjdWw"
      },
      "source": [
        "There are no unique values. This is because our data does not consist of categorical variables. All varaiables are continuous in nature and of date-time type."
      ]
    },
    {
      "cell_type": "code",
      "metadata": {
        "colab": {
          "base_uri": "https://localhost:8080/",
          "height": 392
        },
        "id": "yGQoUm38j5Im",
        "outputId": "d78bbd19-5d78-4038-812d-9bf708d79c4b"
      },
      "source": [
        "# checking for outliers \n",
        "air.boxplot(figsize=(8, 6), fontsize=10)\n",
        "\n",
        "# print size of the data with outliers present\n",
        "print(air.shape)"
      ],
      "execution_count": 12,
      "outputs": [
        {
          "output_type": "stream",
          "name": "stdout",
          "text": [
            "(56052, 5)\n"
          ]
        },
        {
          "output_type": "display_data",
          "data": {
            "image/png": "[encoded data removed]",
            "text/plain": [
              "<Figure size 576x432 with 1 Axes>"
            ]
          },
          "metadata": {
            "needs_background": "light"
          }
        }
      ]
    },
    {
      "cell_type": "code",
      "metadata": {
        "colab": {
          "base_uri": "https://localhost:8080/"
        },
        "id": "jjLLwi5XkSUN",
        "outputId": "0f8d784d-d216-49d9-a02e-6b0bc4a2054b"
      },
      "source": [
        "# Let's check the ouliers present in the PM2.5 clearly \n",
        "# as the boxplot is not quite as clear.\n",
        "\n",
        "# Checking for outliers in the PM2.5 column\n",
        "\n",
        "Q1 = air[\"PM2.5_ATM_ug/m3\"].quantile(0.25)\n",
        "Q3 = air[\"PM2.5_ATM_ug/m3\"].quantile(0.75)\n",
        "\n",
        "IQR = Q3 - Q1\n",
        "\n",
        "outliers = ((air[\"PM2.5_ATM_ug/m3\"] < Q1 - 1.5 * IQR) | (air[\"PM2.5_ATM_ug/m3\"] > Q3 + 1.5 * IQR))\n",
        "outliers.value_counts()"
      ],
      "execution_count": 13,
      "outputs": [
        {
          "output_type": "execute_result",
          "data": {
            "text/plain": [
              "False    50004\n",
              "True      6048\n",
              "Name: PM2.5_ATM_ug/m3, dtype: int64"
            ]
          },
          "metadata": {},
          "execution_count": 13
        }
      ]
    },
    {
      "cell_type": "code",
      "metadata": {
        "colab": {
          "base_uri": "https://localhost:8080/"
        },
        "id": "FNBKZBhnlB74",
        "outputId": "06fe53ef-9ec0-42e6-a66b-b56f5d106910"
      },
      "source": [
        "# Checking for outliers in the Temperature_F column\n",
        "\n",
        "Q1 = air[\"Temperature_F\"].quantile(0.25)\n",
        "Q3 = air[\"Temperature_F\"].quantile(0.75)\n",
        "\n",
        "IQR = Q3 - Q1\n",
        "\n",
        "outliers = ((air[\"Temperature_F\"] < Q1 - 1.5 * IQR) | (air[\"Temperature_F\"] > Q3 + 1.5 * IQR))\n",
        "outliers.value_counts()"
      ],
      "execution_count": 14,
      "outputs": [
        {
          "output_type": "execute_result",
          "data": {
            "text/plain": [
              "False    54304\n",
              "True      1748\n",
              "Name: Temperature_F, dtype: int64"
            ]
          },
          "metadata": {},
          "execution_count": 14
        }
      ]
    },
    {
      "cell_type": "code",
      "metadata": {
        "colab": {
          "base_uri": "https://localhost:8080/"
        },
        "id": "NJXbd9H0lUZY",
        "outputId": "63864ad8-fc8e-4f32-e22f-f6f4f5447c90"
      },
      "source": [
        "# Checking for outliers in the Humidity_% column\n",
        "\n",
        "Q1 = air[\"Humidity_%\"].quantile(0.25)\n",
        "Q3 = air[\"Humidity_%\"].quantile(0.75)\n",
        "\n",
        "IQR = Q3 - Q1\n",
        "\n",
        "outliers = ((air[\"Humidity_%\"] < Q1 - 1.5 * IQR) | (air[\"Humidity_%\"] > Q3 + 1.5 * IQR))\n",
        "outliers.value_counts()"
      ],
      "execution_count": 15,
      "outputs": [
        {
          "output_type": "execute_result",
          "data": {
            "text/plain": [
              "False    54322\n",
              "True      1730\n",
              "Name: Humidity_%, dtype: int64"
            ]
          },
          "metadata": {},
          "execution_count": 15
        }
      ]
    },
    {
      "cell_type": "markdown",
      "metadata": {
        "id": "VVZo9mUskBtO"
      },
      "source": [
        "Seems that there are quite a number of outliers in the columns;\n",
        "\n",
        "* PM2.5 column (6048 outlires)\n",
        "\n",
        "* Temperature_F (1748 outliers)\n",
        "\n",
        "* Humidity_% (1730 outliers)\n",
        "\n",
        "However we will not drop them as they could be relevant to the study."
      ]
    },
    {
      "cell_type": "code",
      "metadata": {
        "colab": {
          "base_uri": "https://localhost:8080/",
          "height": 204
        },
        "id": "7v1vILFnmDcD",
        "outputId": "a0bc76b4-9d9a-4b35-ce77-7dbb9df97429"
      },
      "source": [
        "# Let's transform the created_at column into date and time\n",
        "# First Let's create a copy of our data set\n",
        "air_df = air.copy()\n",
        "\n",
        "# Let's check if our copy has been made\n",
        "air_df.head()"
      ],
      "execution_count": 16,
      "outputs": [
        {
          "output_type": "execute_result",
          "data": {
            "text/html": [
              "<div>\n",
              "<style scoped>\n",
              "    .dataframe tbody tr th:only-of-type {\n",
              "        vertical-align: middle;\n",
              "    }\n",
              "\n",
              "    .dataframe tbody tr th {\n",
              "        vertical-align: top;\n",
              "    }\n",
              "\n",
              "    .dataframe thead th {\n",
              "        text-align: right;\n",
              "    }\n",
              "</style>\n",
              "<table border=\"1\" class=\"dataframe\">\n",
              "  <thead>\n",
              "    <tr style=\"text-align: right;\">\n",
              "      <th></th>\n",
              "      <th>created_at</th>\n",
              "      <th>entry_id</th>\n",
              "      <th>Temperature_F</th>\n",
              "      <th>Humidity_%</th>\n",
              "      <th>PM2.5_ATM_ug/m3</th>\n",
              "    </tr>\n",
              "  </thead>\n",
              "  <tbody>\n",
              "    <tr>\n",
              "      <th>0</th>\n",
              "      <td>2021-07-26 16:45:59 UTC</td>\n",
              "      <td>198</td>\n",
              "      <td>89</td>\n",
              "      <td>50</td>\n",
              "      <td>40.78</td>\n",
              "    </tr>\n",
              "    <tr>\n",
              "      <th>1</th>\n",
              "      <td>2021-07-26 16:48:03 UTC</td>\n",
              "      <td>199</td>\n",
              "      <td>89</td>\n",
              "      <td>50</td>\n",
              "      <td>40.09</td>\n",
              "    </tr>\n",
              "    <tr>\n",
              "      <th>2</th>\n",
              "      <td>2021-07-26 16:49:59 UTC</td>\n",
              "      <td>200</td>\n",
              "      <td>89</td>\n",
              "      <td>50</td>\n",
              "      <td>37.93</td>\n",
              "    </tr>\n",
              "    <tr>\n",
              "      <th>3</th>\n",
              "      <td>2021-07-26 16:54:03 UTC</td>\n",
              "      <td>201</td>\n",
              "      <td>89</td>\n",
              "      <td>50</td>\n",
              "      <td>33.18</td>\n",
              "    </tr>\n",
              "    <tr>\n",
              "      <th>4</th>\n",
              "      <td>2021-07-26 16:55:59 UTC</td>\n",
              "      <td>202</td>\n",
              "      <td>89</td>\n",
              "      <td>50</td>\n",
              "      <td>37.84</td>\n",
              "    </tr>\n",
              "  </tbody>\n",
              "</table>\n",
              "</div>"
            ],
            "text/plain": [
              "                created_at  entry_id  ...  Humidity_%  PM2.5_ATM_ug/m3\n",
              "0  2021-07-26 16:45:59 UTC       198  ...          50            40.78\n",
              "1  2021-07-26 16:48:03 UTC       199  ...          50            40.09\n",
              "2  2021-07-26 16:49:59 UTC       200  ...          50            37.93\n",
              "3  2021-07-26 16:54:03 UTC       201  ...          50            33.18\n",
              "4  2021-07-26 16:55:59 UTC       202  ...          50            37.84\n",
              "\n",
              "[5 rows x 5 columns]"
            ]
          },
          "metadata": {},
          "execution_count": 16
        }
      ]
    },
    {
      "cell_type": "code",
      "metadata": {
        "id": "7JIB4wEcvMe7"
      },
      "source": [
        "# Convert date and time to appropriate dtypes\n",
        "air_df['created_at'] = pd.to_datetime(air_df['created_at'])"
      ],
      "execution_count": 17,
      "outputs": []
    },
    {
      "cell_type": "code",
      "metadata": {
        "colab": {
          "base_uri": "https://localhost:8080/"
        },
        "id": "YqgUDzRHwluE",
        "outputId": "4367c9c4-d9c5-4ced-9925-231203f1fd7b"
      },
      "source": [
        "# Lets check if the dtype has changed\n",
        "air_df.created_at.dtype"
      ],
      "execution_count": 18,
      "outputs": [
        {
          "output_type": "execute_result",
          "data": {
            "text/plain": [
              "datetime64[ns, UTC]"
            ]
          },
          "metadata": {},
          "execution_count": 18
        }
      ]
    },
    {
      "cell_type": "code",
      "metadata": {
        "id": "S5s4wm_jmYAO"
      },
      "source": [
        "# Let's separate the column created_at into date and time columns\n",
        "air_df['date'] = pd.to_datetime(air_df['created_at']).dt.date\n",
        "air_df['time'] = pd.to_datetime(air_df['created_at']).dt.time"
      ],
      "execution_count": 19,
      "outputs": []
    },
    {
      "cell_type": "code",
      "metadata": {
        "colab": {
          "base_uri": "https://localhost:8080/",
          "height": 204
        },
        "id": "h7pBzj7loeGl",
        "outputId": "08d02809-4b5a-4192-d132-079c1f77633e"
      },
      "source": [
        "# Let's check if our columns have been created\n",
        "air_df.head()"
      ],
      "execution_count": 20,
      "outputs": [
        {
          "output_type": "execute_result",
          "data": {
            "text/html": [
              "<div>\n",
              "<style scoped>\n",
              "    .dataframe tbody tr th:only-of-type {\n",
              "        vertical-align: middle;\n",
              "    }\n",
              "\n",
              "    .dataframe tbody tr th {\n",
              "        vertical-align: top;\n",
              "    }\n",
              "\n",
              "    .dataframe thead th {\n",
              "        text-align: right;\n",
              "    }\n",
              "</style>\n",
              "<table border=\"1\" class=\"dataframe\">\n",
              "  <thead>\n",
              "    <tr style=\"text-align: right;\">\n",
              "      <th></th>\n",
              "      <th>created_at</th>\n",
              "      <th>entry_id</th>\n",
              "      <th>Temperature_F</th>\n",
              "      <th>Humidity_%</th>\n",
              "      <th>PM2.5_ATM_ug/m3</th>\n",
              "      <th>date</th>\n",
              "      <th>time</th>\n",
              "    </tr>\n",
              "  </thead>\n",
              "  <tbody>\n",
              "    <tr>\n",
              "      <th>0</th>\n",
              "      <td>2021-07-26 16:45:59+00:00</td>\n",
              "      <td>198</td>\n",
              "      <td>89</td>\n",
              "      <td>50</td>\n",
              "      <td>40.78</td>\n",
              "      <td>2021-07-26</td>\n",
              "      <td>16:45:59</td>\n",
              "    </tr>\n",
              "    <tr>\n",
              "      <th>1</th>\n",
              "      <td>2021-07-26 16:48:03+00:00</td>\n",
              "      <td>199</td>\n",
              "      <td>89</td>\n",
              "      <td>50</td>\n",
              "      <td>40.09</td>\n",
              "      <td>2021-07-26</td>\n",
              "      <td>16:48:03</td>\n",
              "    </tr>\n",
              "    <tr>\n",
              "      <th>2</th>\n",
              "      <td>2021-07-26 16:49:59+00:00</td>\n",
              "      <td>200</td>\n",
              "      <td>89</td>\n",
              "      <td>50</td>\n",
              "      <td>37.93</td>\n",
              "      <td>2021-07-26</td>\n",
              "      <td>16:49:59</td>\n",
              "    </tr>\n",
              "    <tr>\n",
              "      <th>3</th>\n",
              "      <td>2021-07-26 16:54:03+00:00</td>\n",
              "      <td>201</td>\n",
              "      <td>89</td>\n",
              "      <td>50</td>\n",
              "      <td>33.18</td>\n",
              "      <td>2021-07-26</td>\n",
              "      <td>16:54:03</td>\n",
              "    </tr>\n",
              "    <tr>\n",
              "      <th>4</th>\n",
              "      <td>2021-07-26 16:55:59+00:00</td>\n",
              "      <td>202</td>\n",
              "      <td>89</td>\n",
              "      <td>50</td>\n",
              "      <td>37.84</td>\n",
              "      <td>2021-07-26</td>\n",
              "      <td>16:55:59</td>\n",
              "    </tr>\n",
              "  </tbody>\n",
              "</table>\n",
              "</div>"
            ],
            "text/plain": [
              "                 created_at  entry_id  ...        date      time\n",
              "0 2021-07-26 16:45:59+00:00       198  ...  2021-07-26  16:45:59\n",
              "1 2021-07-26 16:48:03+00:00       199  ...  2021-07-26  16:48:03\n",
              "2 2021-07-26 16:49:59+00:00       200  ...  2021-07-26  16:49:59\n",
              "3 2021-07-26 16:54:03+00:00       201  ...  2021-07-26  16:54:03\n",
              "4 2021-07-26 16:55:59+00:00       202  ...  2021-07-26  16:55:59\n",
              "\n",
              "[5 rows x 7 columns]"
            ]
          },
          "metadata": {},
          "execution_count": 20
        }
      ]
    },
    {
      "cell_type": "markdown",
      "metadata": {
        "id": "9o0VxHE5omqv"
      },
      "source": [
        "Our columns have been created so let's drop the created_at column."
      ]
    },
    {
      "cell_type": "code",
      "metadata": {
        "id": "rak2utgMotG0"
      },
      "source": [
        "# Dropping the created_at column\n",
        "#air_df.drop(columns=['created_at'],inplace=True)\n",
        "#checking if column is dropped\n",
        "#air_df.head()"
      ],
      "execution_count": 21,
      "outputs": []
    },
    {
      "cell_type": "code",
      "metadata": {
        "colab": {
          "base_uri": "https://localhost:8080/",
          "height": 204
        },
        "id": "0kYIH9ZYpWk-",
        "outputId": "a186294e-ab3a-4818-8bd7-6e747b5f7038"
      },
      "source": [
        "# Rearranging the columns\n",
        "air_df = air_df[['created_at','date', 'time', 'Temperature_F', 'Humidity_%','PM2.5_ATM_ug/m3']]\n",
        "# Let's check the rearrangement\n",
        "air_df.head()"
      ],
      "execution_count": 22,
      "outputs": [
        {
          "output_type": "execute_result",
          "data": {
            "text/html": [
              "<div>\n",
              "<style scoped>\n",
              "    .dataframe tbody tr th:only-of-type {\n",
              "        vertical-align: middle;\n",
              "    }\n",
              "\n",
              "    .dataframe tbody tr th {\n",
              "        vertical-align: top;\n",
              "    }\n",
              "\n",
              "    .dataframe thead th {\n",
              "        text-align: right;\n",
              "    }\n",
              "</style>\n",
              "<table border=\"1\" class=\"dataframe\">\n",
              "  <thead>\n",
              "    <tr style=\"text-align: right;\">\n",
              "      <th></th>\n",
              "      <th>created_at</th>\n",
              "      <th>date</th>\n",
              "      <th>time</th>\n",
              "      <th>Temperature_F</th>\n",
              "      <th>Humidity_%</th>\n",
              "      <th>PM2.5_ATM_ug/m3</th>\n",
              "    </tr>\n",
              "  </thead>\n",
              "  <tbody>\n",
              "    <tr>\n",
              "      <th>0</th>\n",
              "      <td>2021-07-26 16:45:59+00:00</td>\n",
              "      <td>2021-07-26</td>\n",
              "      <td>16:45:59</td>\n",
              "      <td>89</td>\n",
              "      <td>50</td>\n",
              "      <td>40.78</td>\n",
              "    </tr>\n",
              "    <tr>\n",
              "      <th>1</th>\n",
              "      <td>2021-07-26 16:48:03+00:00</td>\n",
              "      <td>2021-07-26</td>\n",
              "      <td>16:48:03</td>\n",
              "      <td>89</td>\n",
              "      <td>50</td>\n",
              "      <td>40.09</td>\n",
              "    </tr>\n",
              "    <tr>\n",
              "      <th>2</th>\n",
              "      <td>2021-07-26 16:49:59+00:00</td>\n",
              "      <td>2021-07-26</td>\n",
              "      <td>16:49:59</td>\n",
              "      <td>89</td>\n",
              "      <td>50</td>\n",
              "      <td>37.93</td>\n",
              "    </tr>\n",
              "    <tr>\n",
              "      <th>3</th>\n",
              "      <td>2021-07-26 16:54:03+00:00</td>\n",
              "      <td>2021-07-26</td>\n",
              "      <td>16:54:03</td>\n",
              "      <td>89</td>\n",
              "      <td>50</td>\n",
              "      <td>33.18</td>\n",
              "    </tr>\n",
              "    <tr>\n",
              "      <th>4</th>\n",
              "      <td>2021-07-26 16:55:59+00:00</td>\n",
              "      <td>2021-07-26</td>\n",
              "      <td>16:55:59</td>\n",
              "      <td>89</td>\n",
              "      <td>50</td>\n",
              "      <td>37.84</td>\n",
              "    </tr>\n",
              "  </tbody>\n",
              "</table>\n",
              "</div>"
            ],
            "text/plain": [
              "                 created_at        date  ... Humidity_%  PM2.5_ATM_ug/m3\n",
              "0 2021-07-26 16:45:59+00:00  2021-07-26  ...         50            40.78\n",
              "1 2021-07-26 16:48:03+00:00  2021-07-26  ...         50            40.09\n",
              "2 2021-07-26 16:49:59+00:00  2021-07-26  ...         50            37.93\n",
              "3 2021-07-26 16:54:03+00:00  2021-07-26  ...         50            33.18\n",
              "4 2021-07-26 16:55:59+00:00  2021-07-26  ...         50            37.84\n",
              "\n",
              "[5 rows x 6 columns]"
            ]
          },
          "metadata": {},
          "execution_count": 22
        }
      ]
    },
    {
      "cell_type": "code",
      "metadata": {
        "colab": {
          "base_uri": "https://localhost:8080/"
        },
        "id": "8VsvdppZvE0I",
        "outputId": "322fcd0c-a5a7-4c38-9e36-6b47ec7e2124"
      },
      "source": [
        "# checking the data type for the date and time columns\n",
        "air_df.info()"
      ],
      "execution_count": 23,
      "outputs": [
        {
          "output_type": "stream",
          "name": "stdout",
          "text": [
            "<class 'pandas.core.frame.DataFrame'>\n",
            "RangeIndex: 56052 entries, 0 to 56051\n",
            "Data columns (total 6 columns):\n",
            " #   Column           Non-Null Count  Dtype              \n",
            "---  ------           --------------  -----              \n",
            " 0   created_at       56052 non-null  datetime64[ns, UTC]\n",
            " 1   date             56052 non-null  object             \n",
            " 2   time             56052 non-null  object             \n",
            " 3   Temperature_F    56052 non-null  int64              \n",
            " 4   Humidity_%       56052 non-null  int64              \n",
            " 5   PM2.5_ATM_ug/m3  56052 non-null  float64            \n",
            "dtypes: datetime64[ns, UTC](1), float64(1), int64(2), object(2)\n",
            "memory usage: 2.6+ MB\n"
          ]
        }
      ]
    },
    {
      "cell_type": "code",
      "metadata": {
        "id": "8emBArNYw67D"
      },
      "source": [
        "# convert date column and time column to appropriate dtype\n",
        "# convert the 'Date' column to datetime format\n",
        "air_df['date']= pd.to_datetime(air_df['date'])"
      ],
      "execution_count": 24,
      "outputs": []
    },
    {
      "cell_type": "code",
      "metadata": {
        "colab": {
          "base_uri": "https://localhost:8080/"
        },
        "id": "dg90WW3Cx6Z1",
        "outputId": "542099ec-a622-4d0b-c67f-8673350d0397"
      },
      "source": [
        "air_df.info()"
      ],
      "execution_count": 25,
      "outputs": [
        {
          "output_type": "stream",
          "name": "stdout",
          "text": [
            "<class 'pandas.core.frame.DataFrame'>\n",
            "RangeIndex: 56052 entries, 0 to 56051\n",
            "Data columns (total 6 columns):\n",
            " #   Column           Non-Null Count  Dtype              \n",
            "---  ------           --------------  -----              \n",
            " 0   created_at       56052 non-null  datetime64[ns, UTC]\n",
            " 1   date             56052 non-null  datetime64[ns]     \n",
            " 2   time             56052 non-null  object             \n",
            " 3   Temperature_F    56052 non-null  int64              \n",
            " 4   Humidity_%       56052 non-null  int64              \n",
            " 5   PM2.5_ATM_ug/m3  56052 non-null  float64            \n",
            "dtypes: datetime64[ns, UTC](1), datetime64[ns](1), float64(1), int64(2), object(1)\n",
            "memory usage: 2.6+ MB\n"
          ]
        }
      ]
    },
    {
      "cell_type": "code",
      "metadata": {
        "colab": {
          "base_uri": "https://localhost:8080/",
          "height": 204
        },
        "id": "YVggiT5GXMLR",
        "outputId": "97f8d0bb-ce13-4c0d-d36f-1d7a6389e82e"
      },
      "source": [
        "# Creating a month column by extracting months from the date column\n",
        "air_df['month'] = air_df['date'].dt.month\n",
        "# Let's check the column month\n",
        "air_df.head()"
      ],
      "execution_count": 26,
      "outputs": [
        {
          "output_type": "execute_result",
          "data": {
            "text/html": [
              "<div>\n",
              "<style scoped>\n",
              "    .dataframe tbody tr th:only-of-type {\n",
              "        vertical-align: middle;\n",
              "    }\n",
              "\n",
              "    .dataframe tbody tr th {\n",
              "        vertical-align: top;\n",
              "    }\n",
              "\n",
              "    .dataframe thead th {\n",
              "        text-align: right;\n",
              "    }\n",
              "</style>\n",
              "<table border=\"1\" class=\"dataframe\">\n",
              "  <thead>\n",
              "    <tr style=\"text-align: right;\">\n",
              "      <th></th>\n",
              "      <th>created_at</th>\n",
              "      <th>date</th>\n",
              "      <th>time</th>\n",
              "      <th>Temperature_F</th>\n",
              "      <th>Humidity_%</th>\n",
              "      <th>PM2.5_ATM_ug/m3</th>\n",
              "      <th>month</th>\n",
              "    </tr>\n",
              "  </thead>\n",
              "  <tbody>\n",
              "    <tr>\n",
              "      <th>0</th>\n",
              "      <td>2021-07-26 16:45:59+00:00</td>\n",
              "      <td>2021-07-26</td>\n",
              "      <td>16:45:59</td>\n",
              "      <td>89</td>\n",
              "      <td>50</td>\n",
              "      <td>40.78</td>\n",
              "      <td>7</td>\n",
              "    </tr>\n",
              "    <tr>\n",
              "      <th>1</th>\n",
              "      <td>2021-07-26 16:48:03+00:00</td>\n",
              "      <td>2021-07-26</td>\n",
              "      <td>16:48:03</td>\n",
              "      <td>89</td>\n",
              "      <td>50</td>\n",
              "      <td>40.09</td>\n",
              "      <td>7</td>\n",
              "    </tr>\n",
              "    <tr>\n",
              "      <th>2</th>\n",
              "      <td>2021-07-26 16:49:59+00:00</td>\n",
              "      <td>2021-07-26</td>\n",
              "      <td>16:49:59</td>\n",
              "      <td>89</td>\n",
              "      <td>50</td>\n",
              "      <td>37.93</td>\n",
              "      <td>7</td>\n",
              "    </tr>\n",
              "    <tr>\n",
              "      <th>3</th>\n",
              "      <td>2021-07-26 16:54:03+00:00</td>\n",
              "      <td>2021-07-26</td>\n",
              "      <td>16:54:03</td>\n",
              "      <td>89</td>\n",
              "      <td>50</td>\n",
              "      <td>33.18</td>\n",
              "      <td>7</td>\n",
              "    </tr>\n",
              "    <tr>\n",
              "      <th>4</th>\n",
              "      <td>2021-07-26 16:55:59+00:00</td>\n",
              "      <td>2021-07-26</td>\n",
              "      <td>16:55:59</td>\n",
              "      <td>89</td>\n",
              "      <td>50</td>\n",
              "      <td>37.84</td>\n",
              "      <td>7</td>\n",
              "    </tr>\n",
              "  </tbody>\n",
              "</table>\n",
              "</div>"
            ],
            "text/plain": [
              "                 created_at       date  ... PM2.5_ATM_ug/m3  month\n",
              "0 2021-07-26 16:45:59+00:00 2021-07-26  ...           40.78      7\n",
              "1 2021-07-26 16:48:03+00:00 2021-07-26  ...           40.09      7\n",
              "2 2021-07-26 16:49:59+00:00 2021-07-26  ...           37.93      7\n",
              "3 2021-07-26 16:54:03+00:00 2021-07-26  ...           33.18      7\n",
              "4 2021-07-26 16:55:59+00:00 2021-07-26  ...           37.84      7\n",
              "\n",
              "[5 rows x 7 columns]"
            ]
          },
          "metadata": {},
          "execution_count": 26
        }
      ]
    },
    {
      "cell_type": "code",
      "metadata": {
        "id": "kBxTzwf029Nm"
      },
      "source": [
        "# convert a month number to month name\n",
        "import calendar\n",
        "air_df['month'] = air_df['month'].apply(lambda x: calendar.month_abbr[x]) # got converting code from stack overflow"
      ],
      "execution_count": 27,
      "outputs": []
    },
    {
      "cell_type": "code",
      "metadata": {
        "colab": {
          "base_uri": "https://localhost:8080/"
        },
        "id": "hLsqXBf-zG_e",
        "outputId": "2d2f3ffd-fbea-4052-e81d-a73665550fc2"
      },
      "source": [
        "# checking for unique values in the month column\n",
        "print(air_df.month.unique())"
      ],
      "execution_count": 28,
      "outputs": [
        {
          "output_type": "stream",
          "name": "stdout",
          "text": [
            "['Jul' 'Aug' 'Sep' 'Oct']\n"
          ]
        }
      ]
    },
    {
      "cell_type": "markdown",
      "metadata": {
        "id": "VM_5BXwhzace"
      },
      "source": [
        "The months in which the data seem to have been collected are from the months; July(7), August(8), September(9) and October(10)."
      ]
    },
    {
      "cell_type": "code",
      "metadata": {
        "colab": {
          "base_uri": "https://localhost:8080/",
          "height": 204
        },
        "id": "K3_k70lozzNY",
        "outputId": "8e9da900-736a-40d8-cb7b-cfb3c628fa99"
      },
      "source": [
        "# Creating a year column by extracting months from the date column\n",
        "air_df['year'] = air_df['date'].dt.year\n",
        "# Let's check the column month\n",
        "air_df.head()"
      ],
      "execution_count": 29,
      "outputs": [
        {
          "output_type": "execute_result",
          "data": {
            "text/html": [
              "<div>\n",
              "<style scoped>\n",
              "    .dataframe tbody tr th:only-of-type {\n",
              "        vertical-align: middle;\n",
              "    }\n",
              "\n",
              "    .dataframe tbody tr th {\n",
              "        vertical-align: top;\n",
              "    }\n",
              "\n",
              "    .dataframe thead th {\n",
              "        text-align: right;\n",
              "    }\n",
              "</style>\n",
              "<table border=\"1\" class=\"dataframe\">\n",
              "  <thead>\n",
              "    <tr style=\"text-align: right;\">\n",
              "      <th></th>\n",
              "      <th>created_at</th>\n",
              "      <th>date</th>\n",
              "      <th>time</th>\n",
              "      <th>Temperature_F</th>\n",
              "      <th>Humidity_%</th>\n",
              "      <th>PM2.5_ATM_ug/m3</th>\n",
              "      <th>month</th>\n",
              "      <th>year</th>\n",
              "    </tr>\n",
              "  </thead>\n",
              "  <tbody>\n",
              "    <tr>\n",
              "      <th>0</th>\n",
              "      <td>2021-07-26 16:45:59+00:00</td>\n",
              "      <td>2021-07-26</td>\n",
              "      <td>16:45:59</td>\n",
              "      <td>89</td>\n",
              "      <td>50</td>\n",
              "      <td>40.78</td>\n",
              "      <td>Jul</td>\n",
              "      <td>2021</td>\n",
              "    </tr>\n",
              "    <tr>\n",
              "      <th>1</th>\n",
              "      <td>2021-07-26 16:48:03+00:00</td>\n",
              "      <td>2021-07-26</td>\n",
              "      <td>16:48:03</td>\n",
              "      <td>89</td>\n",
              "      <td>50</td>\n",
              "      <td>40.09</td>\n",
              "      <td>Jul</td>\n",
              "      <td>2021</td>\n",
              "    </tr>\n",
              "    <tr>\n",
              "      <th>2</th>\n",
              "      <td>2021-07-26 16:49:59+00:00</td>\n",
              "      <td>2021-07-26</td>\n",
              "      <td>16:49:59</td>\n",
              "      <td>89</td>\n",
              "      <td>50</td>\n",
              "      <td>37.93</td>\n",
              "      <td>Jul</td>\n",
              "      <td>2021</td>\n",
              "    </tr>\n",
              "    <tr>\n",
              "      <th>3</th>\n",
              "      <td>2021-07-26 16:54:03+00:00</td>\n",
              "      <td>2021-07-26</td>\n",
              "      <td>16:54:03</td>\n",
              "      <td>89</td>\n",
              "      <td>50</td>\n",
              "      <td>33.18</td>\n",
              "      <td>Jul</td>\n",
              "      <td>2021</td>\n",
              "    </tr>\n",
              "    <tr>\n",
              "      <th>4</th>\n",
              "      <td>2021-07-26 16:55:59+00:00</td>\n",
              "      <td>2021-07-26</td>\n",
              "      <td>16:55:59</td>\n",
              "      <td>89</td>\n",
              "      <td>50</td>\n",
              "      <td>37.84</td>\n",
              "      <td>Jul</td>\n",
              "      <td>2021</td>\n",
              "    </tr>\n",
              "  </tbody>\n",
              "</table>\n",
              "</div>"
            ],
            "text/plain": [
              "                 created_at       date      time  ...  PM2.5_ATM_ug/m3  month  year\n",
              "0 2021-07-26 16:45:59+00:00 2021-07-26  16:45:59  ...            40.78    Jul  2021\n",
              "1 2021-07-26 16:48:03+00:00 2021-07-26  16:48:03  ...            40.09    Jul  2021\n",
              "2 2021-07-26 16:49:59+00:00 2021-07-26  16:49:59  ...            37.93    Jul  2021\n",
              "3 2021-07-26 16:54:03+00:00 2021-07-26  16:54:03  ...            33.18    Jul  2021\n",
              "4 2021-07-26 16:55:59+00:00 2021-07-26  16:55:59  ...            37.84    Jul  2021\n",
              "\n",
              "[5 rows x 8 columns]"
            ]
          },
          "metadata": {},
          "execution_count": 29
        }
      ]
    },
    {
      "cell_type": "code",
      "metadata": {
        "colab": {
          "base_uri": "https://localhost:8080/"
        },
        "id": "VsZI2MIxz9Am",
        "outputId": "ce60847c-ea4d-49f5-8388-8a03aac3911e"
      },
      "source": [
        "# checking for unique values in the month column\n",
        "print(air_df.year.unique())"
      ],
      "execution_count": 30,
      "outputs": [
        {
          "output_type": "stream",
          "name": "stdout",
          "text": [
            "[2021]\n"
          ]
        }
      ]
    },
    {
      "cell_type": "markdown",
      "metadata": {
        "id": "aRQdPbzrz_ll"
      },
      "source": [
        "The data is from just a specific year ie. 2021"
      ]
    },
    {
      "cell_type": "code",
      "metadata": {
        "colab": {
          "base_uri": "https://localhost:8080/",
          "height": 204
        },
        "id": "GmOr505P4RQn",
        "outputId": "ae435f64-fb4a-47ab-f4a7-0918a21d8e43"
      },
      "source": [
        "# Rearranging the columns again\n",
        "air_df = air_df[['created_at','date', 'time','month','year', 'Temperature_F', 'Humidity_%','PM2.5_ATM_ug/m3']]\n",
        "# Let's check the rearrangement\n",
        "air_df.head()"
      ],
      "execution_count": 31,
      "outputs": [
        {
          "output_type": "execute_result",
          "data": {
            "text/html": [
              "<div>\n",
              "<style scoped>\n",
              "    .dataframe tbody tr th:only-of-type {\n",
              "        vertical-align: middle;\n",
              "    }\n",
              "\n",
              "    .dataframe tbody tr th {\n",
              "        vertical-align: top;\n",
              "    }\n",
              "\n",
              "    .dataframe thead th {\n",
              "        text-align: right;\n",
              "    }\n",
              "</style>\n",
              "<table border=\"1\" class=\"dataframe\">\n",
              "  <thead>\n",
              "    <tr style=\"text-align: right;\">\n",
              "      <th></th>\n",
              "      <th>created_at</th>\n",
              "      <th>date</th>\n",
              "      <th>time</th>\n",
              "      <th>month</th>\n",
              "      <th>year</th>\n",
              "      <th>Temperature_F</th>\n",
              "      <th>Humidity_%</th>\n",
              "      <th>PM2.5_ATM_ug/m3</th>\n",
              "    </tr>\n",
              "  </thead>\n",
              "  <tbody>\n",
              "    <tr>\n",
              "      <th>0</th>\n",
              "      <td>2021-07-26 16:45:59+00:00</td>\n",
              "      <td>2021-07-26</td>\n",
              "      <td>16:45:59</td>\n",
              "      <td>Jul</td>\n",
              "      <td>2021</td>\n",
              "      <td>89</td>\n",
              "      <td>50</td>\n",
              "      <td>40.78</td>\n",
              "    </tr>\n",
              "    <tr>\n",
              "      <th>1</th>\n",
              "      <td>2021-07-26 16:48:03+00:00</td>\n",
              "      <td>2021-07-26</td>\n",
              "      <td>16:48:03</td>\n",
              "      <td>Jul</td>\n",
              "      <td>2021</td>\n",
              "      <td>89</td>\n",
              "      <td>50</td>\n",
              "      <td>40.09</td>\n",
              "    </tr>\n",
              "    <tr>\n",
              "      <th>2</th>\n",
              "      <td>2021-07-26 16:49:59+00:00</td>\n",
              "      <td>2021-07-26</td>\n",
              "      <td>16:49:59</td>\n",
              "      <td>Jul</td>\n",
              "      <td>2021</td>\n",
              "      <td>89</td>\n",
              "      <td>50</td>\n",
              "      <td>37.93</td>\n",
              "    </tr>\n",
              "    <tr>\n",
              "      <th>3</th>\n",
              "      <td>2021-07-26 16:54:03+00:00</td>\n",
              "      <td>2021-07-26</td>\n",
              "      <td>16:54:03</td>\n",
              "      <td>Jul</td>\n",
              "      <td>2021</td>\n",
              "      <td>89</td>\n",
              "      <td>50</td>\n",
              "      <td>33.18</td>\n",
              "    </tr>\n",
              "    <tr>\n",
              "      <th>4</th>\n",
              "      <td>2021-07-26 16:55:59+00:00</td>\n",
              "      <td>2021-07-26</td>\n",
              "      <td>16:55:59</td>\n",
              "      <td>Jul</td>\n",
              "      <td>2021</td>\n",
              "      <td>89</td>\n",
              "      <td>50</td>\n",
              "      <td>37.84</td>\n",
              "    </tr>\n",
              "  </tbody>\n",
              "</table>\n",
              "</div>"
            ],
            "text/plain": [
              "                 created_at       date  ... Humidity_% PM2.5_ATM_ug/m3\n",
              "0 2021-07-26 16:45:59+00:00 2021-07-26  ...         50           40.78\n",
              "1 2021-07-26 16:48:03+00:00 2021-07-26  ...         50           40.09\n",
              "2 2021-07-26 16:49:59+00:00 2021-07-26  ...         50           37.93\n",
              "3 2021-07-26 16:54:03+00:00 2021-07-26  ...         50           33.18\n",
              "4 2021-07-26 16:55:59+00:00 2021-07-26  ...         50           37.84\n",
              "\n",
              "[5 rows x 8 columns]"
            ]
          },
          "metadata": {},
          "execution_count": 31
        }
      ]
    },
    {
      "cell_type": "markdown",
      "metadata": {
        "id": "V7AE-JM66BwV"
      },
      "source": [
        "About PM2.5 \n",
        "- They are fine particulate matter less than 2.5 micrometres in diameter.\n",
        "\n",
        "- At elevated levels, they reduce visibility, cause the air to appear hazy, and are a health concern.\n",
        "\n",
        "- Some examples of PM2.5 are dust, spores, pollen and emissions from the combustion of diesel, gasoline, oil or wood.\n",
        "\n",
        "- Elevated levels of PM2.5 can result in harmful effects such as heart disease, throat infections, lung cancer, chronic bronchitis, asthma attacks, and other respiratory diseases. "
      ]
    },
    {
      "cell_type": "markdown",
      "metadata": {
        "id": "knf_quEd6Zpp"
      },
      "source": [
        "![slide_3.jpg](data:image/jpeg;base64,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)"
      ]
    },
    {
      "cell_type": "code",
      "metadata": {
        "colab": {
          "base_uri": "https://localhost:8080/",
          "height": 204
        },
        "id": "-50m9j2S5d9C",
        "outputId": "4b7dc251-1570-4542-e9d8-20e51b903373"
      },
      "source": [
        "# Let's add a categorical column in regards to the PM2.5 levels \n",
        "# for easier and comprehensive analysis\n",
        "air_df['AQI'] = ''\n",
        "# check if new column has been created\n",
        "air_df.head()"
      ],
      "execution_count": 32,
      "outputs": [
        {
          "output_type": "execute_result",
          "data": {
            "text/html": [
              "<div>\n",
              "<style scoped>\n",
              "    .dataframe tbody tr th:only-of-type {\n",
              "        vertical-align: middle;\n",
              "    }\n",
              "\n",
              "    .dataframe tbody tr th {\n",
              "        vertical-align: top;\n",
              "    }\n",
              "\n",
              "    .dataframe thead th {\n",
              "        text-align: right;\n",
              "    }\n",
              "</style>\n",
              "<table border=\"1\" class=\"dataframe\">\n",
              "  <thead>\n",
              "    <tr style=\"text-align: right;\">\n",
              "      <th></th>\n",
              "      <th>created_at</th>\n",
              "      <th>date</th>\n",
              "      <th>time</th>\n",
              "      <th>month</th>\n",
              "      <th>year</th>\n",
              "      <th>Temperature_F</th>\n",
              "      <th>Humidity_%</th>\n",
              "      <th>PM2.5_ATM_ug/m3</th>\n",
              "      <th>AQI</th>\n",
              "    </tr>\n",
              "  </thead>\n",
              "  <tbody>\n",
              "    <tr>\n",
              "      <th>0</th>\n",
              "      <td>2021-07-26 16:45:59+00:00</td>\n",
              "      <td>2021-07-26</td>\n",
              "      <td>16:45:59</td>\n",
              "      <td>Jul</td>\n",
              "      <td>2021</td>\n",
              "      <td>89</td>\n",
              "      <td>50</td>\n",
              "      <td>40.78</td>\n",
              "      <td></td>\n",
              "    </tr>\n",
              "    <tr>\n",
              "      <th>1</th>\n",
              "      <td>2021-07-26 16:48:03+00:00</td>\n",
              "      <td>2021-07-26</td>\n",
              "      <td>16:48:03</td>\n",
              "      <td>Jul</td>\n",
              "      <td>2021</td>\n",
              "      <td>89</td>\n",
              "      <td>50</td>\n",
              "      <td>40.09</td>\n",
              "      <td></td>\n",
              "    </tr>\n",
              "    <tr>\n",
              "      <th>2</th>\n",
              "      <td>2021-07-26 16:49:59+00:00</td>\n",
              "      <td>2021-07-26</td>\n",
              "      <td>16:49:59</td>\n",
              "      <td>Jul</td>\n",
              "      <td>2021</td>\n",
              "      <td>89</td>\n",
              "      <td>50</td>\n",
              "      <td>37.93</td>\n",
              "      <td></td>\n",
              "    </tr>\n",
              "    <tr>\n",
              "      <th>3</th>\n",
              "      <td>2021-07-26 16:54:03+00:00</td>\n",
              "      <td>2021-07-26</td>\n",
              "      <td>16:54:03</td>\n",
              "      <td>Jul</td>\n",
              "      <td>2021</td>\n",
              "      <td>89</td>\n",
              "      <td>50</td>\n",
              "      <td>33.18</td>\n",
              "      <td></td>\n",
              "    </tr>\n",
              "    <tr>\n",
              "      <th>4</th>\n",
              "      <td>2021-07-26 16:55:59+00:00</td>\n",
              "      <td>2021-07-26</td>\n",
              "      <td>16:55:59</td>\n",
              "      <td>Jul</td>\n",
              "      <td>2021</td>\n",
              "      <td>89</td>\n",
              "      <td>50</td>\n",
              "      <td>37.84</td>\n",
              "      <td></td>\n",
              "    </tr>\n",
              "  </tbody>\n",
              "</table>\n",
              "</div>"
            ],
            "text/plain": [
              "                 created_at       date  ... PM2.5_ATM_ug/m3 AQI\n",
              "0 2021-07-26 16:45:59+00:00 2021-07-26  ...           40.78    \n",
              "1 2021-07-26 16:48:03+00:00 2021-07-26  ...           40.09    \n",
              "2 2021-07-26 16:49:59+00:00 2021-07-26  ...           37.93    \n",
              "3 2021-07-26 16:54:03+00:00 2021-07-26  ...           33.18    \n",
              "4 2021-07-26 16:55:59+00:00 2021-07-26  ...           37.84    \n",
              "\n",
              "[5 rows x 9 columns]"
            ]
          },
          "metadata": {},
          "execution_count": 32
        }
      ]
    },
    {
      "cell_type": "code",
      "metadata": {
        "id": "r75TB-bp7-rZ"
      },
      "source": [
        "# Let's add values to the Air Quality Index(AQI) Column\n",
        "# depending on the PM2.5 Levels\n",
        "air_df.loc[(air_df['PM2.5_ATM_ug/m3']>=0)&(air_df['PM2.5_ATM_ug/m3']<=50), 'AQI'] = 'Good'\n",
        "air_df.loc[(air_df['PM2.5_ATM_ug/m3']>=51)&(air_df['PM2.5_ATM_ug/m3']<=100), 'AQI'] = 'Moderate'\n",
        "air_df.loc[(air_df['PM2.5_ATM_ug/m3']>=101)&(air_df['PM2.5_ATM_ug/m3']<=150), 'AQI'] = 'Unhealthy sensitive'\n",
        "air_df.loc[(air_df['PM2.5_ATM_ug/m3']>=151)&(air_df['PM2.5_ATM_ug/m3']<=200), 'AQI'] = 'Unhealthy'\n",
        "air_df.loc[(air_df['PM2.5_ATM_ug/m3']>=201)&(air_df['PM2.5_ATM_ug/m3']<=300), 'AQI'] = 'Very Unhealthy'\n",
        "air_df.loc[(air_df['PM2.5_ATM_ug/m3']>=301)&(air_df['PM2.5_ATM_ug/m3']<=500), 'AQI'] = 'Hazardous'\n"
      ],
      "execution_count": 40,
      "outputs": []
    },
    {
      "cell_type": "code",
      "metadata": {
        "colab": {
          "base_uri": "https://localhost:8080/",
          "height": 359
        },
        "id": "xXf75hF0C22O",
        "outputId": "b6c12891-0ccf-4546-81b8-cb2d7ca66c53"
      },
      "source": [
        "air_df.sample(10)"
      ],
      "execution_count": 43,
      "outputs": [
        {
          "output_type": "execute_result",
          "data": {
            "text/html": [
              "<div>\n",
              "<style scoped>\n",
              "    .dataframe tbody tr th:only-of-type {\n",
              "        vertical-align: middle;\n",
              "    }\n",
              "\n",
              "    .dataframe tbody tr th {\n",
              "        vertical-align: top;\n",
              "    }\n",
              "\n",
              "    .dataframe thead th {\n",
              "        text-align: right;\n",
              "    }\n",
              "</style>\n",
              "<table border=\"1\" class=\"dataframe\">\n",
              "  <thead>\n",
              "    <tr style=\"text-align: right;\">\n",
              "      <th></th>\n",
              "      <th>created_at</th>\n",
              "      <th>date</th>\n",
              "      <th>time</th>\n",
              "      <th>month</th>\n",
              "      <th>year</th>\n",
              "      <th>Temperature_F</th>\n",
              "      <th>Humidity_%</th>\n",
              "      <th>PM2.5_ATM_ug/m3</th>\n",
              "      <th>AQI</th>\n",
              "    </tr>\n",
              "  </thead>\n",
              "  <tbody>\n",
              "    <tr>\n",
              "      <th>21343</th>\n",
              "      <td>2021-08-28 07:21:06+00:00</td>\n",
              "      <td>2021-08-28</td>\n",
              "      <td>07:21:06</td>\n",
              "      <td>Aug</td>\n",
              "      <td>2021</td>\n",
              "      <td>83</td>\n",
              "      <td>66</td>\n",
              "      <td>90.13</td>\n",
              "      <td>Moderate</td>\n",
              "    </tr>\n",
              "    <tr>\n",
              "      <th>19051</th>\n",
              "      <td>2021-08-24 21:36:48+00:00</td>\n",
              "      <td>2021-08-24</td>\n",
              "      <td>21:36:48</td>\n",
              "      <td>Aug</td>\n",
              "      <td>2021</td>\n",
              "      <td>82</td>\n",
              "      <td>73</td>\n",
              "      <td>157.96</td>\n",
              "      <td>Unhealthy</td>\n",
              "    </tr>\n",
              "    <tr>\n",
              "      <th>40307</th>\n",
              "      <td>2021-09-27 05:46:36+00:00</td>\n",
              "      <td>2021-09-27</td>\n",
              "      <td>05:46:36</td>\n",
              "      <td>Sep</td>\n",
              "      <td>2021</td>\n",
              "      <td>80</td>\n",
              "      <td>74</td>\n",
              "      <td>173.71</td>\n",
              "      <td>Unhealthy</td>\n",
              "    </tr>\n",
              "    <tr>\n",
              "      <th>47110</th>\n",
              "      <td>2021-10-08 08:56:22+00:00</td>\n",
              "      <td>2021-10-08</td>\n",
              "      <td>08:56:22</td>\n",
              "      <td>Oct</td>\n",
              "      <td>2021</td>\n",
              "      <td>89</td>\n",
              "      <td>60</td>\n",
              "      <td>51.05</td>\n",
              "      <td>Moderate</td>\n",
              "    </tr>\n",
              "    <tr>\n",
              "      <th>1200</th>\n",
              "      <td>2021-07-28 16:29:11+00:00</td>\n",
              "      <td>2021-07-28</td>\n",
              "      <td>16:29:11</td>\n",
              "      <td>Jul</td>\n",
              "      <td>2021</td>\n",
              "      <td>94</td>\n",
              "      <td>38</td>\n",
              "      <td>42.27</td>\n",
              "      <td>Good</td>\n",
              "    </tr>\n",
              "    <tr>\n",
              "      <th>54055</th>\n",
              "      <td>2021-10-20 12:03:42+00:00</td>\n",
              "      <td>2021-10-20</td>\n",
              "      <td>12:03:42</td>\n",
              "      <td>Oct</td>\n",
              "      <td>2021</td>\n",
              "      <td>95</td>\n",
              "      <td>47</td>\n",
              "      <td>38.30</td>\n",
              "      <td>Good</td>\n",
              "    </tr>\n",
              "    <tr>\n",
              "      <th>15734</th>\n",
              "      <td>2021-08-19 10:55:23+00:00</td>\n",
              "      <td>2021-08-19</td>\n",
              "      <td>10:55:23</td>\n",
              "      <td>Aug</td>\n",
              "      <td>2021</td>\n",
              "      <td>82</td>\n",
              "      <td>67</td>\n",
              "      <td>39.29</td>\n",
              "      <td>Good</td>\n",
              "    </tr>\n",
              "    <tr>\n",
              "      <th>12559</th>\n",
              "      <td>2021-08-14 19:24:46+00:00</td>\n",
              "      <td>2021-08-14</td>\n",
              "      <td>19:24:46</td>\n",
              "      <td>Aug</td>\n",
              "      <td>2021</td>\n",
              "      <td>86</td>\n",
              "      <td>61</td>\n",
              "      <td>55.70</td>\n",
              "      <td>Moderate</td>\n",
              "    </tr>\n",
              "    <tr>\n",
              "      <th>17764</th>\n",
              "      <td>2021-08-22 21:50:10+00:00</td>\n",
              "      <td>2021-08-22</td>\n",
              "      <td>21:50:10</td>\n",
              "      <td>Aug</td>\n",
              "      <td>2021</td>\n",
              "      <td>85</td>\n",
              "      <td>66</td>\n",
              "      <td>107.85</td>\n",
              "      <td>Unhealthy sensitive</td>\n",
              "    </tr>\n",
              "    <tr>\n",
              "      <th>47646</th>\n",
              "      <td>2021-10-09 04:41:19+00:00</td>\n",
              "      <td>2021-10-09</td>\n",
              "      <td>04:41:19</td>\n",
              "      <td>Oct</td>\n",
              "      <td>2021</td>\n",
              "      <td>81</td>\n",
              "      <td>70</td>\n",
              "      <td>16.14</td>\n",
              "      <td>Good</td>\n",
              "    </tr>\n",
              "  </tbody>\n",
              "</table>\n",
              "</div>"
            ],
            "text/plain": [
              "                     created_at  ...                  AQI\n",
              "21343 2021-08-28 07:21:06+00:00  ...             Moderate\n",
              "19051 2021-08-24 21:36:48+00:00  ...            Unhealthy\n",
              "40307 2021-09-27 05:46:36+00:00  ...            Unhealthy\n",
              "47110 2021-10-08 08:56:22+00:00  ...             Moderate\n",
              "1200  2021-07-28 16:29:11+00:00  ...                 Good\n",
              "54055 2021-10-20 12:03:42+00:00  ...                 Good\n",
              "15734 2021-08-19 10:55:23+00:00  ...                 Good\n",
              "12559 2021-08-14 19:24:46+00:00  ...             Moderate\n",
              "17764 2021-08-22 21:50:10+00:00  ...  Unhealthy sensitive\n",
              "47646 2021-10-09 04:41:19+00:00  ...                 Good\n",
              "\n",
              "[10 rows x 9 columns]"
            ]
          },
          "metadata": {},
          "execution_count": 43
        }
      ]
    },
    {
      "cell_type": "markdown",
      "metadata": {
        "id": "_-kmxvg7p8zb"
      },
      "source": [
        "## Exploratory Data Analysis"
      ]
    },
    {
      "cell_type": "markdown",
      "metadata": {
        "id": "yoNyidqgx0rH"
      },
      "source": [
        "### Univariate Analysis"
      ]
    },
    {
      "cell_type": "markdown",
      "metadata": {
        "id": "rajOg-SCx58p"
      },
      "source": [
        "As we examine the shape of our data, we will perform univariate analysis."
      ]
    },
    {
      "cell_type": "code",
      "metadata": {
        "colab": {
          "base_uri": "https://localhost:8080/",
          "height": 506
        },
        "id": "8BsfxGposcUv",
        "outputId": "72520aee-aaa1-46be-d6c7-680aad974370"
      },
      "source": [
        "# Let's examine the Air quality index column\n",
        "fig = plt.figure(figsize=(6,6), dpi=100)\n",
        "ax = plt.subplot(111)\n",
        "\n",
        "Value = air_df.AQI.value_counts()\n",
        "\n",
        "Value.plot(kind='pie', ax=ax, autopct='%1.1f%%', startangle=270, fontsize=17)"
      ],
      "execution_count": 48,
      "outputs": [
        {
          "output_type": "execute_result",
          "data": {
            "text/plain": [
              "<matplotlib.axes._subplots.AxesSubplot at 0x7f148c39dcd0>"
            ]
          },
          "metadata": {},
          "execution_count": 48
        },
        {
          "output_type": "display_data",
          "data": {
            "image/png": "[encoded data removed]",
            "text/plain": [
              "<Figure size 600x600 with 1 Axes>"
            ]
          },
          "metadata": {}
        }
      ]
    },
    {
      "cell_type": "markdown",
      "metadata": {
        "id": "9Oh2MPyn1BGD"
      },
      "source": [
        "From the pie chart we can see 66.8% of the air quality is in the **Good** index. However 33.2% falls short. \n",
        "\n",
        "Lets create  a better visualization of this."
      ]
    },
    {
      "cell_type": "code",
      "metadata": {
        "colab": {
          "base_uri": "https://localhost:8080/"
        },
        "id": "4dFyE8GV1nmb",
        "outputId": "d0d819bc-2332-4532-bedd-db08c6ac2dd2"
      },
      "source": [
        "# Using a bar plot to visualize\n",
        "# creating the bar plot\n",
        "# Counting the occurrences of each unique category\n",
        "GroupData=air_df.groupby(by='AQI').size()\n",
        "print(GroupData)"
      ],
      "execution_count": 60,
      "outputs": [
        {
          "output_type": "stream",
          "name": "stdout",
          "text": [
            "AQI\n",
            "Good                   37417\n",
            "Hazardous                 35\n",
            "Moderate               12003\n",
            "Unhealthy               2311\n",
            "Unhealthy sensitive     3701\n",
            "Very Unhealthy           585\n",
            "dtype: int64\n"
          ]
        }
      ]
    },
    {
      "cell_type": "code",
      "metadata": {
        "colab": {
          "base_uri": "https://localhost:8080/",
          "height": 385
        },
        "id": "QxUuVgRl7yi-",
        "outputId": "da4e7933-a0d8-4d04-c861-923ccc9ac2f8"
      },
      "source": [
        "# Generating a bar chart for a single column\n",
        "GroupData.plot.bar()"
      ],
      "execution_count": 61,
      "outputs": [
        {
          "output_type": "execute_result",
          "data": {
            "text/plain": [
              "<matplotlib.axes._subplots.AxesSubplot at 0x7f148c0331d0>"
            ]
          },
          "metadata": {},
          "execution_count": 61
        },
        {
          "output_type": "display_data",
          "data": {
            "image/png": "[encoded data removed]",
            "text/plain": [
              "<Figure size 432x288 with 1 Axes>"
            ]
          },
          "metadata": {
            "needs_background": "light"
          }
        }
      ]
    },
    {
      "cell_type": "markdown",
      "metadata": {
        "id": "uChqcLCL8Cp0"
      },
      "source": [
        "The air quality has mostly  been good over time. \n",
        "\n",
        "The air quality has rarely been hazrdous as seen from the plot."
      ]
    }
  ]
}