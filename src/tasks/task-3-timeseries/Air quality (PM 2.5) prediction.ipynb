{
 "cells": [
  {
   "cell_type": "markdown",
   "metadata": {
    "id": "evj272C9S_Ca"
   },
   "source": [
    "# Import and Setup"
   ]
  },
  {
   "cell_type": "code",
   "execution_count": 1,
   "metadata": {
    "id": "zJ2mSCA2S_Cc"
   },
   "outputs": [],
   "source": [
    "import os\n",
    "import sys\n",
    "import time\n",
    "import math\n",
    "import random\n",
    "from datetime import datetime"
   ]
  },
  {
   "cell_type": "code",
   "execution_count": 2,
   "metadata": {},
   "outputs": [],
   "source": [
    "import collections\n",
    "from collections import Counter\n",
    "from importlib import reload"
   ]
  },
  {
   "cell_type": "code",
   "execution_count": 3,
   "metadata": {
    "id": "EwZGOt81S_Cd"
   },
   "outputs": [],
   "source": [
    "import numpy as np\n",
    "import pandas as pd\n",
    "import matplotlib.pyplot as plt\n",
    "\n",
    "%matplotlib inline"
   ]
  },
  {
   "cell_type": "code",
   "execution_count": 4,
   "metadata": {},
   "outputs": [],
   "source": [
    "from sklearn.preprocessing import MinMaxScaler, StandardScaler"
   ]
  },
  {
   "cell_type": "code",
   "execution_count": 5,
   "metadata": {
    "id": "5sSOAW87S_Ce"
   },
   "outputs": [],
   "source": [
    "import torch\n",
    "from torch import nn\n",
    "from torch import optim\n",
    "from torch.functional import F\n",
    "from torch.utils.data import DataLoader"
   ]
  },
  {
   "cell_type": "code",
   "execution_count": 6,
   "metadata": {},
   "outputs": [],
   "source": [
    "import training"
   ]
  },
  {
   "cell_type": "code",
   "execution_count": null,
   "metadata": {
    "id": "LTn2FjQoEJpk"
   },
   "outputs": [],
   "source": []
  },
  {
   "cell_type": "markdown",
   "metadata": {},
   "source": [
    "## Load data"
   ]
  },
  {
   "cell_type": "code",
   "execution_count": 7,
   "metadata": {
    "scrolled": false
   },
   "outputs": [
    {
     "data": {
      "text/html": [
       "<div>\n",
       "<style scoped>\n",
       "    .dataframe tbody tr th:only-of-type {\n",
       "        vertical-align: middle;\n",
       "    }\n",
       "\n",
       "    .dataframe tbody tr th {\n",
       "        vertical-align: top;\n",
       "    }\n",
       "\n",
       "    .dataframe thead th {\n",
       "        text-align: right;\n",
       "    }\n",
       "</style>\n",
       "<table border=\"1\" class=\"dataframe\">\n",
       "  <thead>\n",
       "    <tr style=\"text-align: right;\">\n",
       "      <th></th>\n",
       "      <th>id</th>\n",
       "      <th>temp</th>\n",
       "      <th>humidity</th>\n",
       "      <th>pm25</th>\n",
       "      <th>date</th>\n",
       "      <th>time</th>\n",
       "      <th>monthday</th>\n",
       "      <th>month</th>\n",
       "      <th>year</th>\n",
       "      <th>weekday_int</th>\n",
       "      <th>weekday</th>\n",
       "      <th>week_day_end</th>\n",
       "      <th>hour</th>\n",
       "      <th>am_pm</th>\n",
       "      <th>air_quality</th>\n",
       "    </tr>\n",
       "  </thead>\n",
       "  <tbody>\n",
       "    <tr>\n",
       "      <th>0</th>\n",
       "      <td>198</td>\n",
       "      <td>89</td>\n",
       "      <td>50</td>\n",
       "      <td>40.78</td>\n",
       "      <td>2021-07-26</td>\n",
       "      <td>16:45:59</td>\n",
       "      <td>26</td>\n",
       "      <td>July</td>\n",
       "      <td>2021</td>\n",
       "      <td>0</td>\n",
       "      <td>Monday</td>\n",
       "      <td>Weekdays</td>\n",
       "      <td>16</td>\n",
       "      <td>PM</td>\n",
       "      <td>Unhealthy</td>\n",
       "    </tr>\n",
       "    <tr>\n",
       "      <th>1</th>\n",
       "      <td>199</td>\n",
       "      <td>89</td>\n",
       "      <td>50</td>\n",
       "      <td>40.09</td>\n",
       "      <td>2021-07-26</td>\n",
       "      <td>16:48:03</td>\n",
       "      <td>26</td>\n",
       "      <td>July</td>\n",
       "      <td>2021</td>\n",
       "      <td>0</td>\n",
       "      <td>Monday</td>\n",
       "      <td>Weekdays</td>\n",
       "      <td>16</td>\n",
       "      <td>PM</td>\n",
       "      <td>Unhealthy</td>\n",
       "    </tr>\n",
       "    <tr>\n",
       "      <th>2</th>\n",
       "      <td>200</td>\n",
       "      <td>89</td>\n",
       "      <td>50</td>\n",
       "      <td>37.93</td>\n",
       "      <td>2021-07-26</td>\n",
       "      <td>16:49:59</td>\n",
       "      <td>26</td>\n",
       "      <td>July</td>\n",
       "      <td>2021</td>\n",
       "      <td>0</td>\n",
       "      <td>Monday</td>\n",
       "      <td>Weekdays</td>\n",
       "      <td>16</td>\n",
       "      <td>PM</td>\n",
       "      <td>Unhealthy</td>\n",
       "    </tr>\n",
       "  </tbody>\n",
       "</table>\n",
       "</div>"
      ],
      "text/plain": [
       "    id  temp  humidity   pm25        date      time  monthday month  year  \\\n",
       "0  198    89        50  40.78  2021-07-26  16:45:59        26  July  2021   \n",
       "1  199    89        50  40.09  2021-07-26  16:48:03        26  July  2021   \n",
       "2  200    89        50  37.93  2021-07-26  16:49:59        26  July  2021   \n",
       "\n",
       "   weekday_int weekday week_day_end  hour am_pm air_quality  \n",
       "0            0  Monday     Weekdays    16    PM   Unhealthy  \n",
       "1            0  Monday     Weekdays    16    PM   Unhealthy  \n",
       "2            0  Monday     Weekdays    16    PM   Unhealthy  "
      ]
     },
     "execution_count": 7,
     "metadata": {},
     "output_type": "execute_result"
    }
   ],
   "source": [
    "data_df = pd.read_csv(\"./Cleaned_data.csv\")\n",
    "data_df.columns = [\"id\", \"temp\", \"humidity\", \"pm25\", \"date\", \"time\", \"monthday\", \"month\",\n",
    "    \"year\", \"weekday_int\", \"weekday\", \"week_day_end\", \"hour\", \"am_pm\", \"air_quality\"]\n",
    "                      \n",
    "data_df.head(3)"
   ]
  },
  {
   "cell_type": "code",
   "execution_count": null,
   "metadata": {},
   "outputs": [],
   "source": []
  },
  {
   "cell_type": "markdown",
   "metadata": {},
   "source": [
    "**Clean data**"
   ]
  },
  {
   "cell_type": "markdown",
   "metadata": {},
   "source": [
    "Remove redundant and un-necessary columns\n",
    "\n",
    "    - id : not needed as it does not provide any meaningful information.\n",
    "    - month : only 4 months were represented, so it's best to ignore it.\n",
    "    - year : only 1 year was represented, so it's best to ignore it.\n",
    "    - weekday_int : already implied in the weekday and also not a suitable representation for categorical data.\n",
    "    - week_day_end : already implied in the weekday.\n",
    "    - am_pm : already implied in the hour."
   ]
  },
  {
   "cell_type": "code",
   "execution_count": 8,
   "metadata": {},
   "outputs": [
    {
     "data": {
      "text/html": [
       "<div>\n",
       "<style scoped>\n",
       "    .dataframe tbody tr th:only-of-type {\n",
       "        vertical-align: middle;\n",
       "    }\n",
       "\n",
       "    .dataframe tbody tr th {\n",
       "        vertical-align: top;\n",
       "    }\n",
       "\n",
       "    .dataframe thead th {\n",
       "        text-align: right;\n",
       "    }\n",
       "</style>\n",
       "<table border=\"1\" class=\"dataframe\">\n",
       "  <thead>\n",
       "    <tr style=\"text-align: right;\">\n",
       "      <th></th>\n",
       "      <th>temp</th>\n",
       "      <th>humidity</th>\n",
       "      <th>pm25</th>\n",
       "      <th>date</th>\n",
       "      <th>time</th>\n",
       "      <th>monthday</th>\n",
       "      <th>weekday</th>\n",
       "      <th>hour</th>\n",
       "      <th>air_quality</th>\n",
       "    </tr>\n",
       "  </thead>\n",
       "  <tbody>\n",
       "    <tr>\n",
       "      <th>0</th>\n",
       "      <td>89</td>\n",
       "      <td>50</td>\n",
       "      <td>40.78</td>\n",
       "      <td>2021-07-26</td>\n",
       "      <td>16:45:59</td>\n",
       "      <td>26</td>\n",
       "      <td>Monday</td>\n",
       "      <td>16</td>\n",
       "      <td>Unhealthy</td>\n",
       "    </tr>\n",
       "    <tr>\n",
       "      <th>1</th>\n",
       "      <td>89</td>\n",
       "      <td>50</td>\n",
       "      <td>40.09</td>\n",
       "      <td>2021-07-26</td>\n",
       "      <td>16:48:03</td>\n",
       "      <td>26</td>\n",
       "      <td>Monday</td>\n",
       "      <td>16</td>\n",
       "      <td>Unhealthy</td>\n",
       "    </tr>\n",
       "    <tr>\n",
       "      <th>2</th>\n",
       "      <td>89</td>\n",
       "      <td>50</td>\n",
       "      <td>37.93</td>\n",
       "      <td>2021-07-26</td>\n",
       "      <td>16:49:59</td>\n",
       "      <td>26</td>\n",
       "      <td>Monday</td>\n",
       "      <td>16</td>\n",
       "      <td>Unhealthy</td>\n",
       "    </tr>\n",
       "  </tbody>\n",
       "</table>\n",
       "</div>"
      ],
      "text/plain": [
       "   temp  humidity   pm25        date      time  monthday weekday  hour  \\\n",
       "0    89        50  40.78  2021-07-26  16:45:59        26  Monday    16   \n",
       "1    89        50  40.09  2021-07-26  16:48:03        26  Monday    16   \n",
       "2    89        50  37.93  2021-07-26  16:49:59        26  Monday    16   \n",
       "\n",
       "  air_quality  \n",
       "0   Unhealthy  \n",
       "1   Unhealthy  \n",
       "2   Unhealthy  "
      ]
     },
     "execution_count": 8,
     "metadata": {},
     "output_type": "execute_result"
    }
   ],
   "source": [
    "clean_data_df = data_df.drop(\n",
    "    columns=[\"id\", \"month\", \"year\", \"weekday_int\", \"week_day_end\", \"am_pm\"],\n",
    "    errors=\"ignore\")\n",
    "clean_data_df.head(3)"
   ]
  },
  {
   "cell_type": "code",
   "execution_count": null,
   "metadata": {},
   "outputs": [],
   "source": []
  },
  {
   "cell_type": "markdown",
   "metadata": {},
   "source": [
    "Convert temperature from Fahrenheit to Kelvin"
   ]
  },
  {
   "cell_type": "code",
   "execution_count": 9,
   "metadata": {},
   "outputs": [],
   "source": [
    "fahren_to_kelvin = lambda x: (5/9*(x-32))+273\n",
    "clean_data_df.temp = [round(fahren_to_kelvin(x), 2) for x in data_df.temp]"
   ]
  },
  {
   "cell_type": "code",
   "execution_count": null,
   "metadata": {},
   "outputs": [],
   "source": []
  },
  {
   "cell_type": "markdown",
   "metadata": {},
   "source": [
    "Merge date and time column to datetime column of type datetime"
   ]
  },
  {
   "cell_type": "code",
   "execution_count": 10,
   "metadata": {},
   "outputs": [],
   "source": [
    "to_datetime = lambda date_str, time_str: datetime.strptime(\n",
    "    \"{} {}\".format(date_str, time_str), \"%Y-%m-%d %H:%M:%S\")\n",
    "clean_data_df[\"datetime\"] = [to_datetime(*r) for r in data_df[[\"date\", \"time\"]].values]\n",
    "clean_data_df = clean_data_df.drop(columns=[\"date\", \"time\"], errors=\"ignore\")"
   ]
  },
  {
   "cell_type": "code",
   "execution_count": null,
   "metadata": {},
   "outputs": [],
   "source": []
  },
  {
   "cell_type": "markdown",
   "metadata": {},
   "source": [
    "Add new column, `time_delta`, which is the time change in hours"
   ]
  },
  {
   "cell_type": "code",
   "execution_count": 11,
   "metadata": {},
   "outputs": [],
   "source": [
    "time_change = lambda col, curr_ix, prev_ix: (col[curr_ix] - col[prev_ix]).seconds\n",
    "clean_data_df[\"time_delta\"] = [time_change(clean_data_df[\"datetime\"], i, i-1)/(60*60)\\\n",
    "    if i != 0 else 0.0 for i in range(len(clean_data_df))]"
   ]
  },
  {
   "cell_type": "code",
   "execution_count": 12,
   "metadata": {},
   "outputs": [
    {
     "data": {
      "text/html": [
       "<div>\n",
       "<style scoped>\n",
       "    .dataframe tbody tr th:only-of-type {\n",
       "        vertical-align: middle;\n",
       "    }\n",
       "\n",
       "    .dataframe tbody tr th {\n",
       "        vertical-align: top;\n",
       "    }\n",
       "\n",
       "    .dataframe thead th {\n",
       "        text-align: right;\n",
       "    }\n",
       "</style>\n",
       "<table border=\"1\" class=\"dataframe\">\n",
       "  <thead>\n",
       "    <tr style=\"text-align: right;\">\n",
       "      <th></th>\n",
       "      <th>temp</th>\n",
       "      <th>humidity</th>\n",
       "      <th>pm25</th>\n",
       "      <th>monthday</th>\n",
       "      <th>weekday</th>\n",
       "      <th>hour</th>\n",
       "      <th>air_quality</th>\n",
       "      <th>datetime</th>\n",
       "      <th>time_delta</th>\n",
       "    </tr>\n",
       "  </thead>\n",
       "  <tbody>\n",
       "    <tr>\n",
       "      <th>0</th>\n",
       "      <td>304.67</td>\n",
       "      <td>50</td>\n",
       "      <td>40.78</td>\n",
       "      <td>26</td>\n",
       "      <td>Monday</td>\n",
       "      <td>16</td>\n",
       "      <td>Unhealthy</td>\n",
       "      <td>2021-07-26 16:45:59</td>\n",
       "      <td>0.000000</td>\n",
       "    </tr>\n",
       "    <tr>\n",
       "      <th>1</th>\n",
       "      <td>304.67</td>\n",
       "      <td>50</td>\n",
       "      <td>40.09</td>\n",
       "      <td>26</td>\n",
       "      <td>Monday</td>\n",
       "      <td>16</td>\n",
       "      <td>Unhealthy</td>\n",
       "      <td>2021-07-26 16:48:03</td>\n",
       "      <td>0.034444</td>\n",
       "    </tr>\n",
       "    <tr>\n",
       "      <th>2</th>\n",
       "      <td>304.67</td>\n",
       "      <td>50</td>\n",
       "      <td>37.93</td>\n",
       "      <td>26</td>\n",
       "      <td>Monday</td>\n",
       "      <td>16</td>\n",
       "      <td>Unhealthy</td>\n",
       "      <td>2021-07-26 16:49:59</td>\n",
       "      <td>0.032222</td>\n",
       "    </tr>\n",
       "  </tbody>\n",
       "</table>\n",
       "</div>"
      ],
      "text/plain": [
       "     temp  humidity   pm25  monthday weekday  hour air_quality  \\\n",
       "0  304.67        50  40.78        26  Monday    16   Unhealthy   \n",
       "1  304.67        50  40.09        26  Monday    16   Unhealthy   \n",
       "2  304.67        50  37.93        26  Monday    16   Unhealthy   \n",
       "\n",
       "             datetime  time_delta  \n",
       "0 2021-07-26 16:45:59    0.000000  \n",
       "1 2021-07-26 16:48:03    0.034444  \n",
       "2 2021-07-26 16:49:59    0.032222  "
      ]
     },
     "execution_count": 12,
     "metadata": {},
     "output_type": "execute_result"
    }
   ],
   "source": [
    "clean_data_df.head(3)"
   ]
  },
  {
   "cell_type": "code",
   "execution_count": null,
   "metadata": {},
   "outputs": [],
   "source": []
  },
  {
   "cell_type": "markdown",
   "metadata": {},
   "source": [
    "**Analysis**"
   ]
  },
  {
   "cell_type": "code",
   "execution_count": 13,
   "metadata": {},
   "outputs": [
    {
     "data": {
      "text/plain": [
       "Index(['temp', 'humidity', 'pm25', 'monthday', 'weekday', 'hour',\n",
       "       'air_quality', 'datetime', 'time_delta'],\n",
       "      dtype='object')"
      ]
     },
     "execution_count": 13,
     "metadata": {},
     "output_type": "execute_result"
    }
   ],
   "source": [
    "clean_data_df.columns"
   ]
  },
  {
   "cell_type": "markdown",
   "metadata": {},
   "source": [
    "Correlation"
   ]
  },
  {
   "cell_type": "code",
   "execution_count": 14,
   "metadata": {},
   "outputs": [
    {
     "data": {
      "text/plain": [
       "<matplotlib.image.AxesImage at 0xfd74ec8>"
      ]
     },
     "execution_count": 14,
     "metadata": {},
     "output_type": "execute_result"
    },
    {
     "data": {
      "image/png": "[encoded data removed]",
      "text/plain": [
       "<Figure size 432x288 with 1 Axes>"
      ]
     },
     "metadata": {
      "needs_background": "light"
     },
     "output_type": "display_data"
    }
   ],
   "source": [
    "plt.imshow(clean_data_df.corr(), cmap=plt.cm.gray)"
   ]
  },
  {
   "cell_type": "code",
   "execution_count": 15,
   "metadata": {},
   "outputs": [
    {
     "name": "stdout",
     "output_type": "stream",
     "text": [
      "{'temp': 38, 'humidity': 61, 'pm25': 13423, 'monthday': 31, 'weekday': 7, 'hour': 24, 'air_quality': 5, 'datetime': 56052, 'time_delta': 529}\n"
     ]
    }
   ],
   "source": [
    "print({x: len(clean_data_df.loc[:, x].unique()) for x in clean_data_df.columns})"
   ]
  },
  {
   "cell_type": "code",
   "execution_count": 16,
   "metadata": {},
   "outputs": [
    {
     "data": {
      "text/html": [
       "<div>\n",
       "<style scoped>\n",
       "    .dataframe tbody tr th:only-of-type {\n",
       "        vertical-align: middle;\n",
       "    }\n",
       "\n",
       "    .dataframe tbody tr th {\n",
       "        vertical-align: top;\n",
       "    }\n",
       "\n",
       "    .dataframe thead th {\n",
       "        text-align: right;\n",
       "    }\n",
       "</style>\n",
       "<table border=\"1\" class=\"dataframe\">\n",
       "  <thead>\n",
       "    <tr style=\"text-align: right;\">\n",
       "      <th></th>\n",
       "      <th>temp</th>\n",
       "      <th>humidity</th>\n",
       "      <th>pm25</th>\n",
       "      <th>monthday</th>\n",
       "      <th>hour</th>\n",
       "      <th>time_delta</th>\n",
       "    </tr>\n",
       "  </thead>\n",
       "  <tbody>\n",
       "    <tr>\n",
       "      <th>count</th>\n",
       "      <td>56052.000000</td>\n",
       "      <td>56052.000000</td>\n",
       "      <td>56052.000000</td>\n",
       "      <td>56052.000000</td>\n",
       "      <td>56052.000000</td>\n",
       "      <td>56052.000000</td>\n",
       "    </tr>\n",
       "    <tr>\n",
       "      <th>mean</th>\n",
       "      <td>302.345136</td>\n",
       "      <td>65.117766</td>\n",
       "      <td>54.391926</td>\n",
       "      <td>15.534450</td>\n",
       "      <td>11.685988</td>\n",
       "      <td>0.038836</td>\n",
       "    </tr>\n",
       "    <tr>\n",
       "      <th>std</th>\n",
       "      <td>2.399648</td>\n",
       "      <td>8.550730</td>\n",
       "      <td>42.205997</td>\n",
       "      <td>9.000277</td>\n",
       "      <td>6.842374</td>\n",
       "      <td>0.161113</td>\n",
       "    </tr>\n",
       "    <tr>\n",
       "      <th>min</th>\n",
       "      <td>294.110000</td>\n",
       "      <td>29.000000</td>\n",
       "      <td>0.780000</td>\n",
       "      <td>1.000000</td>\n",
       "      <td>0.000000</td>\n",
       "      <td>0.000000</td>\n",
       "    </tr>\n",
       "    <tr>\n",
       "      <th>25%</th>\n",
       "      <td>300.780000</td>\n",
       "      <td>61.000000</td>\n",
       "      <td>30.170000</td>\n",
       "      <td>8.000000</td>\n",
       "      <td>6.000000</td>\n",
       "      <td>0.033333</td>\n",
       "    </tr>\n",
       "    <tr>\n",
       "      <th>50%</th>\n",
       "      <td>301.890000</td>\n",
       "      <td>68.000000</td>\n",
       "      <td>41.450000</td>\n",
       "      <td>15.000000</td>\n",
       "      <td>12.000000</td>\n",
       "      <td>0.033333</td>\n",
       "    </tr>\n",
       "    <tr>\n",
       "      <th>75%</th>\n",
       "      <td>303.560000</td>\n",
       "      <td>71.000000</td>\n",
       "      <td>61.190000</td>\n",
       "      <td>23.000000</td>\n",
       "      <td>18.000000</td>\n",
       "      <td>0.033611</td>\n",
       "    </tr>\n",
       "    <tr>\n",
       "      <th>max</th>\n",
       "      <td>315.220000</td>\n",
       "      <td>89.000000</td>\n",
       "      <td>568.080000</td>\n",
       "      <td>31.000000</td>\n",
       "      <td>23.000000</td>\n",
       "      <td>23.910556</td>\n",
       "    </tr>\n",
       "  </tbody>\n",
       "</table>\n",
       "</div>"
      ],
      "text/plain": [
       "               temp      humidity          pm25      monthday          hour  \\\n",
       "count  56052.000000  56052.000000  56052.000000  56052.000000  56052.000000   \n",
       "mean     302.345136     65.117766     54.391926     15.534450     11.685988   \n",
       "std        2.399648      8.550730     42.205997      9.000277      6.842374   \n",
       "min      294.110000     29.000000      0.780000      1.000000      0.000000   \n",
       "25%      300.780000     61.000000     30.170000      8.000000      6.000000   \n",
       "50%      301.890000     68.000000     41.450000     15.000000     12.000000   \n",
       "75%      303.560000     71.000000     61.190000     23.000000     18.000000   \n",
       "max      315.220000     89.000000    568.080000     31.000000     23.000000   \n",
       "\n",
       "         time_delta  \n",
       "count  56052.000000  \n",
       "mean       0.038836  \n",
       "std        0.161113  \n",
       "min        0.000000  \n",
       "25%        0.033333  \n",
       "50%        0.033333  \n",
       "75%        0.033611  \n",
       "max       23.910556  "
      ]
     },
     "execution_count": 16,
     "metadata": {},
     "output_type": "execute_result"
    }
   ],
   "source": [
    "clean_data_df.describe()"
   ]
  },
  {
   "cell_type": "code",
   "execution_count": null,
   "metadata": {},
   "outputs": [],
   "source": []
  },
  {
   "cell_type": "code",
   "execution_count": 17,
   "metadata": {},
   "outputs": [
    {
     "data": {
      "text/plain": [
       "[<matplotlib.lines.Line2D at 0xf09ad48>]"
      ]
     },
     "execution_count": 17,
     "metadata": {},
     "output_type": "execute_result"
    },
    {
     "data": {
      "image/png": "[encoded data removed]",
      "text/plain": [
       "<Figure size 432x288 with 1 Axes>"
      ]
     },
     "metadata": {
      "needs_background": "light"
     },
     "output_type": "display_data"
    }
   ],
   "source": [
    "plt.plot(clean_data_df.temp)"
   ]
  },
  {
   "cell_type": "code",
   "execution_count": 18,
   "metadata": {},
   "outputs": [
    {
     "data": {
      "text/plain": [
       "[<matplotlib.lines.Line2D at 0x53a8348>]"
      ]
     },
     "execution_count": 18,
     "metadata": {},
     "output_type": "execute_result"
    },
    {
     "data": {
      "image/png": "[encoded data removed]",
      "text/plain": [
       "<Figure size 432x288 with 1 Axes>"
      ]
     },
     "metadata": {
      "needs_background": "light"
     },
     "output_type": "display_data"
    }
   ],
   "source": [
    "plt.plot(clean_data_df.humidity)"
   ]
  },
  {
   "cell_type": "code",
   "execution_count": 20,
   "metadata": {},
   "outputs": [
    {
     "data": {
      "text/plain": [
       "[<matplotlib.lines.Line2D at 0xfb50848>]"
      ]
     },
     "execution_count": 20,
     "metadata": {},
     "output_type": "execute_result"
    },
    {
     "data": {
      "image/png": "[encoded data removed]",
      "text/plain": [
       "<Figure size 432x288 with 1 Axes>"
      ]
     },
     "metadata": {
      "needs_background": "light"
     },
     "output_type": "display_data"
    }
   ],
   "source": [
    "plt.plot(clean_data_df.pm25)"
   ]
  },
  {
   "cell_type": "code",
   "execution_count": 21,
   "metadata": {},
   "outputs": [
    {
     "data": {
      "text/plain": [
       "[<matplotlib.lines.Line2D at 0xfb89b48>]"
      ]
     },
     "execution_count": 21,
     "metadata": {},
     "output_type": "execute_result"
    },
    {
     "data": {
      "image/png": "[encoded data removed]",
      "text/plain": [
       "<Figure size 432x288 with 1 Axes>"
      ]
     },
     "metadata": {
      "needs_background": "light"
     },
     "output_type": "display_data"
    }
   ],
   "source": [
    "plt.plot(clean_data_df.time_delta)"
   ]
  },
  {
   "cell_type": "code",
   "execution_count": null,
   "metadata": {},
   "outputs": [],
   "source": []
  },
  {
   "cell_type": "markdown",
   "metadata": {},
   "source": [
    "## Build datasets"
   ]
  },
  {
   "cell_type": "markdown",
   "metadata": {},
   "source": [
    "Split data"
   ]
  },
  {
   "cell_type": "code",
   "execution_count": 77,
   "metadata": {},
   "outputs": [
    {
     "name": "stdout",
     "output_type": "stream",
     "text": [
      "56052\n",
      "50446\n",
      "5606\n"
     ]
    }
   ],
   "source": [
    "data_len = len(clean_data_df)\n",
    "\n",
    "train_df = clean_data_df[:int(0.90*data_len)].copy()\n",
    "test_df = clean_data_df[int(0.90*data_len):].copy()\n",
    "\n",
    "print(len(clean_data_df))\n",
    "print(len(train_df))\n",
    "print(len(test_df))"
   ]
  },
  {
   "cell_type": "code",
   "execution_count": null,
   "metadata": {},
   "outputs": [],
   "source": []
  },
  {
   "cell_type": "markdown",
   "metadata": {},
   "source": [
    "Normalize `temp, humidity, pm25` and save in new columns\n",
    "\n",
    "    \n",
    "- Tried using StandardScaler at first, but the model's perfomance was terrible.\n",
    "- Normalizing `time_delta` also did not produce better results."
   ]
  },
  {
   "cell_type": "code",
   "execution_count": 78,
   "metadata": {},
   "outputs": [],
   "source": [
    "scaler = MinMaxScaler()# StandardScaler()"
   ]
  },
  {
   "cell_type": "code",
   "execution_count": 79,
   "metadata": {},
   "outputs": [],
   "source": [
    "train_df[\"n_temp\"], train_df[\"n_humidity\"], train_df[\"n_pm25\"] = [0., 0., 0.]\n",
    "train_df[[\"n_temp\", \"n_humidity\", \"n_pm25\"]] = scaler.fit_transform(train_df[[\"temp\", \"humidity\", \"pm25\"]])\n",
    "\n",
    "test_df[\"n_temp\"], test_df[\"n_humidity\"], test_df[\"n_pm25\"] = [0., 0., 0.]\n",
    "test_df[[\"n_temp\", \"n_humidity\", \"n_pm25\"]] = scaler.transform(test_df[[\"temp\", \"humidity\", \"pm25\"]])"
   ]
  },
  {
   "cell_type": "code",
   "execution_count": 80,
   "metadata": {},
   "outputs": [
    {
     "name": "stdout",
     "output_type": "stream",
     "text": [
      "[315.22  89.   568.08]\n",
      "[294.11  29.     0.78]\n",
      "[ 21.11  60.   567.3 ]\n"
     ]
    }
   ],
   "source": [
    "print(scaler.data_max_)\n",
    "print(scaler.data_min_)\n",
    "print(scaler.data_range_)"
   ]
  },
  {
   "cell_type": "code",
   "execution_count": null,
   "metadata": {},
   "outputs": [],
   "source": []
  },
  {
   "cell_type": "code",
   "execution_count": 81,
   "metadata": {},
   "outputs": [
    {
     "data": {
      "text/html": [
       "<div>\n",
       "<style scoped>\n",
       "    .dataframe tbody tr th:only-of-type {\n",
       "        vertical-align: middle;\n",
       "    }\n",
       "\n",
       "    .dataframe tbody tr th {\n",
       "        vertical-align: top;\n",
       "    }\n",
       "\n",
       "    .dataframe thead th {\n",
       "        text-align: right;\n",
       "    }\n",
       "</style>\n",
       "<table border=\"1\" class=\"dataframe\">\n",
       "  <thead>\n",
       "    <tr style=\"text-align: right;\">\n",
       "      <th></th>\n",
       "      <th>temp</th>\n",
       "      <th>humidity</th>\n",
       "      <th>pm25</th>\n",
       "      <th>monthday</th>\n",
       "      <th>weekday</th>\n",
       "      <th>hour</th>\n",
       "      <th>air_quality</th>\n",
       "      <th>datetime</th>\n",
       "      <th>time_delta</th>\n",
       "      <th>n_temp</th>\n",
       "      <th>n_humidity</th>\n",
       "      <th>n_pm25</th>\n",
       "    </tr>\n",
       "  </thead>\n",
       "  <tbody>\n",
       "    <tr>\n",
       "      <th>0</th>\n",
       "      <td>304.67</td>\n",
       "      <td>50</td>\n",
       "      <td>40.78</td>\n",
       "      <td>26</td>\n",
       "      <td>Monday</td>\n",
       "      <td>16</td>\n",
       "      <td>Unhealthy</td>\n",
       "      <td>2021-07-26 16:45:59</td>\n",
       "      <td>0.000000</td>\n",
       "      <td>0.500237</td>\n",
       "      <td>0.35</td>\n",
       "      <td>0.070509</td>\n",
       "    </tr>\n",
       "    <tr>\n",
       "      <th>1</th>\n",
       "      <td>304.67</td>\n",
       "      <td>50</td>\n",
       "      <td>40.09</td>\n",
       "      <td>26</td>\n",
       "      <td>Monday</td>\n",
       "      <td>16</td>\n",
       "      <td>Unhealthy</td>\n",
       "      <td>2021-07-26 16:48:03</td>\n",
       "      <td>0.034444</td>\n",
       "      <td>0.500237</td>\n",
       "      <td>0.35</td>\n",
       "      <td>0.069293</td>\n",
       "    </tr>\n",
       "  </tbody>\n",
       "</table>\n",
       "</div>"
      ],
      "text/plain": [
       "     temp  humidity   pm25  monthday weekday  hour air_quality  \\\n",
       "0  304.67        50  40.78        26  Monday    16   Unhealthy   \n",
       "1  304.67        50  40.09        26  Monday    16   Unhealthy   \n",
       "\n",
       "             datetime  time_delta    n_temp  n_humidity    n_pm25  \n",
       "0 2021-07-26 16:45:59    0.000000  0.500237        0.35  0.070509  \n",
       "1 2021-07-26 16:48:03    0.034444  0.500237        0.35  0.069293  "
      ]
     },
     "execution_count": 81,
     "metadata": {},
     "output_type": "execute_result"
    }
   ],
   "source": [
    "train_df.head(2)"
   ]
  },
  {
   "cell_type": "code",
   "execution_count": null,
   "metadata": {},
   "outputs": [],
   "source": []
  },
  {
   "cell_type": "markdown",
   "metadata": {},
   "source": [
    "Build training dataset"
   ]
  },
  {
   "cell_type": "code",
   "execution_count": 82,
   "metadata": {},
   "outputs": [],
   "source": [
    "class Dataset(torch.utils.data.Dataset):\n",
    "    def __init__(self, data, min_padlen, max_padlen):\n",
    "        self.data = data.copy()\n",
    "        self.min_padlen = min_padlen\n",
    "        self.max_padlen = max_padlen\n",
    "        \n",
    "    def __len__(self):\n",
    "        return (len(self.data) - self.max_padlen + 1) - 1\n",
    "    \n",
    "    @staticmethod\n",
    "    def split_item(item):\n",
    "        x_pad = [[item[i][j] if j==0 else item[i+1][j]\\\n",
    "                  for j in range(len(item[0]))] for i in range(len(item[:-1]))]\n",
    "        y_pad = [xi[0] for xi in item[1:]]\n",
    "        return torch.tensor(x_pad), torch.tensor(y_pad)\n",
    "    \n",
    "    def __getitem__(self, ix):\n",
    "        if ix < 0 or ix > len(self):\n",
    "            raise IndexError(\"dataset index out of range\")\n",
    "            \n",
    "        item = self.data[ix: self.max_padlen + ix + 1]\n",
    "        return self.split_item(item)"
   ]
  },
  {
   "cell_type": "code",
   "execution_count": 83,
   "metadata": {
    "executionInfo": {
     "elapsed": 24,
     "status": "ok",
     "timestamp": 1637297615880,
     "user": {
      "displayName": "banjoko judah",
      "photoUrl": "https://lh3.googleusercontent.com/a/default-user=s64",
      "userId": "13816505469570245920"
     },
     "user_tz": -60
    },
    "id": "VGQRzprQEJO_",
    "scrolled": false
   },
   "outputs": [],
   "source": [
    "train_dataset = Dataset(\n",
    "    train_df[[\"n_pm25\", \"n_temp\", \"n_humidity\", \"time_delta\"]].values.tolist(), None, 100)\n",
    "train_dataloader = DataLoader(train_dataset, 16, True)"
   ]
  },
  {
   "cell_type": "code",
   "execution_count": 84,
   "metadata": {
    "colab": {
     "base_uri": "https://localhost:8080/"
    },
    "executionInfo": {
     "elapsed": 24,
     "status": "ok",
     "timestamp": 1637297615882,
     "user": {
      "displayName": "banjoko judah",
      "photoUrl": "https://lh3.googleusercontent.com/a/default-user=s64",
      "userId": "13816505469570245920"
     },
     "user_tz": -60
    },
    "id": "8eqejVqZEJPD",
    "outputId": "04810ac8-7514-4646-a9c2-3e7fd0cc53ba"
   },
   "outputs": [
    {
     "name": "stdout",
     "output_type": "stream",
     "text": [
      "Dataset size: 50346\n",
      "Pad max length: 100\n",
      "Pad min length: None\n"
     ]
    }
   ],
   "source": [
    "print(\"Dataset size:\", len(train_dataset))\n",
    "print(\"Pad max length:\", train_dataset.max_padlen)\n",
    "print(\"Pad min length:\", train_dataset.min_padlen)"
   ]
  },
  {
   "cell_type": "code",
   "execution_count": null,
   "metadata": {},
   "outputs": [],
   "source": []
  },
  {
   "cell_type": "markdown",
   "metadata": {
    "id": "iXDCiqpbAt1M"
   },
   "source": [
    "Check there is no error in loop"
   ]
  },
  {
   "cell_type": "code",
   "execution_count": 85,
   "metadata": {
    "executionInfo": {
     "elapsed": 8,
     "status": "ok",
     "timestamp": 1637297618146,
     "user": {
      "displayName": "banjoko judah",
      "photoUrl": "https://lh3.googleusercontent.com/a/default-user=s64",
      "userId": "13816505469570245920"
     },
     "user_tz": -60
    },
    "id": "SrFSqaGlAt1N",
    "scrolled": true
   },
   "outputs": [],
   "source": [
    "try:\n",
    "    for i, __d in enumerate(train_dataloader):\n",
    "        continue\n",
    "except Exception as e:\n",
    "    print(i)\n",
    "    raise e"
   ]
  },
  {
   "cell_type": "code",
   "execution_count": 86,
   "metadata": {
    "colab": {
     "base_uri": "https://localhost:8080/"
    },
    "executionInfo": {
     "elapsed": 13,
     "status": "ok",
     "timestamp": 1637297619176,
     "user": {
      "displayName": "banjoko judah",
      "photoUrl": "https://lh3.googleusercontent.com/a/default-user=s64",
      "userId": "13816505469570245920"
     },
     "user_tz": -60
    },
    "id": "Sip4om51At1N",
    "outputId": "3d8d6010-932f-44df-d806-2e9cd2871065",
    "scrolled": true
   },
   "outputs": [
    {
     "name": "stdout",
     "output_type": "stream",
     "text": [
      "[tensor([[[0.1625, 0.3685, 0.7000, 0.0331],\n",
      "         [0.1551, 0.3685, 0.6833, 0.0333],\n",
      "         [0.1489, 0.3685, 0.7000, 0.0336],\n",
      "         ...,\n",
      "         [0.2677, 0.3420, 0.7167, 0.0336],\n",
      "         [0.2641, 0.3420, 0.7167, 0.0331],\n",
      "         [0.2743, 0.3420, 0.7333, 0.0333]],\n",
      "\n",
      "        [[0.1255, 0.3946, 0.5667, 0.0333],\n",
      "         [0.1401, 0.3946, 0.5667, 0.0333],\n",
      "         [0.1669, 0.3946, 0.5667, 0.0333],\n",
      "         ...,\n",
      "         [0.0816, 0.3685, 0.6167, 0.0308],\n",
      "         [0.0784, 0.3685, 0.6000, 0.0333],\n",
      "         [0.0754, 0.3685, 0.6000, 0.0331]],\n",
      "\n",
      "        [[0.0150, 0.6315, 0.2833, 0.0333],\n",
      "         [0.0108, 0.6054, 0.3000, 0.0333],\n",
      "         [0.0154, 0.6315, 0.2833, 0.0333],\n",
      "         ...,\n",
      "         [0.0209, 0.5263, 0.4333, 0.0333],\n",
      "         [0.0229, 0.5263, 0.4333, 0.0336],\n",
      "         [0.0266, 0.5263, 0.4500, 0.0331]],\n",
      "\n",
      "        ...,\n",
      "\n",
      "        [[0.1488, 0.2634, 0.7000, 0.0331],\n",
      "         [0.1519, 0.2634, 0.7167, 0.0333],\n",
      "         [0.1512, 0.2634, 0.7167, 0.0336],\n",
      "         ...,\n",
      "         [0.3903, 0.2634, 0.7833, 0.0328],\n",
      "         [0.3781, 0.2634, 0.7833, 0.0336],\n",
      "         [0.3706, 0.2634, 0.7667, 0.0336]],\n",
      "\n",
      "        [[0.0731, 0.6315, 0.2000, 0.0350],\n",
      "         [0.0753, 0.6315, 0.2167, 0.0325],\n",
      "         [0.0734, 0.6580, 0.2167, 0.0331],\n",
      "         ...,\n",
      "         [0.0850, 0.4737, 0.4500, 0.0333],\n",
      "         [0.0825, 0.4737, 0.4333, 0.0333],\n",
      "         [0.0815, 0.4737, 0.4500, 0.0336]],\n",
      "\n",
      "        [[0.0829, 0.4211, 0.5333, 0.0308],\n",
      "         [0.0875, 0.4477, 0.5333, 0.0772],\n",
      "         [0.1047, 0.4477, 0.5167, 0.0350],\n",
      "         ...,\n",
      "         [0.0795, 0.5528, 0.3833, 0.0300],\n",
      "         [0.0717, 0.5528, 0.3833, 0.0389],\n",
      "         [0.0793, 0.5528, 0.3833, 0.0275]]]), tensor([[0.1551, 0.1489, 0.1495, 0.1511, 0.1574, 0.1611, 0.1649, 0.1624, 0.1660,\n",
      "         0.1711, 0.1748, 0.1763, 0.1808, 0.1794, 0.1899, 0.1963, 0.2168, 0.2777,\n",
      "         0.2442, 0.2400, 0.2554, 0.2638, 0.2762, 0.2883, 0.2841, 0.2874, 0.3085,\n",
      "         0.3154, 0.3078, 0.3015, 0.3214, 0.3107, 0.3073, 0.3192, 0.3251, 0.3281,\n",
      "         0.3225, 0.3271, 0.3385, 0.3636, 0.3264, 0.3238, 0.3271, 0.3144, 0.3191,\n",
      "         0.3368, 0.3428, 0.3444, 0.3497, 0.3533, 0.3567, 0.3637, 0.3618, 0.3744,\n",
      "         0.3744, 0.3655, 0.3558, 0.3508, 0.3472, 0.3360, 0.3300, 0.3261, 0.3206,\n",
      "         0.3140, 0.3198, 0.3276, 0.3111, 0.3313, 0.3473, 0.4418, 0.4626, 0.4489,\n",
      "         0.4431, 0.4058, 0.4061, 0.3874, 0.3386, 0.3166, 0.3035, 0.3112, 0.2950,\n",
      "         0.3014, 0.2997, 0.3135, 0.3121, 0.2948, 0.2929, 0.2856, 0.2795, 0.2612,\n",
      "         0.2591, 0.2567, 0.2548, 0.2553, 0.2818, 0.2766, 0.2677, 0.2641, 0.2743,\n",
      "         0.2790],\n",
      "        [0.1401, 0.1669, 0.1766, 0.1802, 0.1913, 0.1995, 0.2153, 0.2202, 0.2003,\n",
      "         0.2020, 0.2082, 0.1988, 0.2040, 0.2039, 0.2137, 0.2149, 0.2391, 0.2320,\n",
      "         0.2088, 0.1996, 0.2037, 0.2060, 0.2024, 0.2041, 0.2051, 0.2013, 0.2009,\n",
      "         0.2028, 0.2036, 0.2053, 0.2053, 0.2021, 0.2044, 0.2061, 0.2069, 0.2061,\n",
      "         0.2020, 0.2071, 0.2015, 0.2008, 0.1859, 0.1780, 0.1743, 0.1694, 0.1618,\n",
      "         0.1579, 0.1562, 0.1579, 0.1485, 0.1350, 0.1461, 0.1386, 0.1418, 0.1398,\n",
      "         0.1551, 0.1613, 0.1596, 0.1723, 0.1796, 0.1903, 0.1996, 0.1931, 0.2018,\n",
      "         0.2091, 0.2131, 0.2191, 0.2248, 0.2264, 0.2299, 0.2408, 0.2366, 0.2487,\n",
      "         0.2528, 0.2516, 0.2597, 0.2682, 0.3167, 0.3093, 0.2899, 0.2596, 0.2441,\n",
      "         0.1990, 0.1881, 0.1687, 0.1683, 0.1635, 0.1676, 0.1528, 0.1334, 0.1308,\n",
      "         0.1171, 0.1038, 0.0949, 0.0866, 0.0857, 0.0855, 0.0816, 0.0784, 0.0754,\n",
      "         0.0749],\n",
      "        [0.0108, 0.0154, 0.0228, 0.0182, 0.0159, 0.0140, 0.0130, 0.0178, 0.0151,\n",
      "         0.0181, 0.0201, 0.0217, 0.0145, 0.0179, 0.0166, 0.0171, 0.0224, 0.0194,\n",
      "         0.0222, 0.0180, 0.0185, 0.0173, 0.0181, 0.0175, 0.0167, 0.0173, 0.0176,\n",
      "         0.0176, 0.0163, 0.0176, 0.0160, 0.0161, 0.0161, 0.0173, 0.0154, 0.0213,\n",
      "         0.0143, 0.0159, 0.0166, 0.0174, 0.0196, 0.0186, 0.0195, 0.0208, 0.0285,\n",
      "         0.0216, 0.0208, 0.0196, 0.0210, 0.0210, 0.0194, 0.0183, 0.0141, 0.0145,\n",
      "         0.0212, 0.0282, 0.0200, 0.0208, 0.0225, 0.0156, 0.0184, 0.0187, 0.0226,\n",
      "         0.0184, 0.0220, 0.0314, 0.0231, 0.0209, 0.0228, 0.0425, 0.0244, 0.0225,\n",
      "         0.0209, 0.0205, 0.0314, 0.0237, 0.0197, 0.0220, 0.0227, 0.0196, 0.0197,\n",
      "         0.0205, 0.0233, 0.0151, 0.0151, 0.0189, 0.0185, 0.0173, 0.0142, 0.0178,\n",
      "         0.0196, 0.0176, 0.0179, 0.0251, 0.0214, 0.0169, 0.0209, 0.0229, 0.0266,\n",
      "         0.0255],\n",
      "        [0.0865, 0.0984, 0.0811, 0.0810, 0.0768, 0.0792, 0.0794, 0.0797, 0.0838,\n",
      "         0.0898, 0.0895, 0.0774, 0.0769, 0.0796, 0.0754, 0.0696, 0.0685, 0.0713,\n",
      "         0.0708, 0.0739, 0.0740, 0.0751, 0.0748, 0.0732, 0.0681, 0.0699, 0.0684,\n",
      "         0.0681, 0.0660, 0.0652, 0.0652, 0.0657, 0.0638, 0.0616, 0.0631, 0.0702,\n",
      "         0.0664, 0.0637, 0.0604, 0.0625, 0.0640, 0.0622, 0.0636, 0.0613, 0.0608,\n",
      "         0.0634, 0.0635, 0.0640, 0.0635, 0.0619, 0.0597, 0.0684, 0.0667, 0.0637,\n",
      "         0.0624, 0.0629, 0.0604, 0.0616, 0.0621, 0.0640, 0.0632, 0.0643, 0.0744,\n",
      "         0.0696, 0.0742, 0.0803, 0.0713, 0.0679, 0.0719, 0.0710, 0.0683, 0.0672,\n",
      "         0.0654, 0.0692, 0.0687, 0.0624, 0.0643, 0.0662, 0.0651, 0.0613, 0.0628,\n",
      "         0.0637, 0.0641, 0.0646, 0.0622, 0.0689, 0.0710, 0.0673, 0.0649, 0.0633,\n",
      "         0.0649, 0.0678, 0.0681, 0.0658, 0.0621, 0.0583, 0.0644, 0.0657, 0.0641,\n",
      "         0.0669],\n",
      "        [0.0640, 0.0584, 0.0574, 0.0538, 0.0552, 0.0539, 0.0539, 0.0543, 0.0535,\n",
      "         0.0543, 0.0599, 0.0526, 0.0504, 0.0546, 0.0536, 0.0551, 0.0524, 0.0586,\n",
      "         0.0547, 0.0533, 0.0624, 0.0594, 0.0525, 0.0541, 0.0601, 0.0621, 0.0661,\n",
      "         0.0650, 0.0565, 0.0550, 0.0595, 0.0767, 0.0618, 0.0624, 0.0619, 0.0582,\n",
      "         0.0565, 0.0544, 0.0579, 0.0557, 0.0612, 0.0583, 0.0633, 0.0599, 0.0669,\n",
      "         0.0618, 0.0669, 0.0734, 0.0624, 0.0638, 0.0645, 0.0658, 0.0640, 0.0655,\n",
      "         0.0625, 0.0637, 0.0720, 0.0629, 0.0626, 0.0612, 0.0582, 0.0656, 0.0649,\n",
      "         0.0621, 0.0628, 0.0604, 0.0597, 0.0660, 0.0581, 0.0607, 0.0593, 0.0590,\n",
      "         0.0596, 0.0641, 0.0648, 0.0609, 0.0785, 0.1119, 0.0944, 0.0877, 0.0722,\n",
      "         0.0695, 0.0667, 0.0678, 0.0641, 0.0637, 0.0586, 0.0695, 0.0701, 0.0708,\n",
      "         0.0733, 0.0769, 0.0770, 0.0732, 0.0721, 0.0723, 0.0730, 0.0754, 0.0811,\n",
      "         0.0813],\n",
      "        [0.2933, 0.2943, 0.2986, 0.2961, 0.2773, 0.2745, 0.2810, 0.2704, 0.2699,\n",
      "         0.2630, 0.2538, 0.2644, 0.2436, 0.2420, 0.2348, 0.2252, 0.2175, 0.2112,\n",
      "         0.2032, 0.2083, 0.2001, 0.1975, 0.1901, 0.1796, 0.1845, 0.1738, 0.1675,\n",
      "         0.1681, 0.1662, 0.1669, 0.1595, 0.1582, 0.1478, 0.1521, 0.1513, 0.1385,\n",
      "         0.1411, 0.1436, 0.1404, 0.1435, 0.1431, 0.1398, 0.1357, 0.1393, 0.1344,\n",
      "         0.1308, 0.1340, 0.1246, 0.1270, 0.1286, 0.1271, 0.1319, 0.1293, 0.1202,\n",
      "         0.1206, 0.1242, 0.1301, 0.1258, 0.1233, 0.1289, 0.1329, 0.1414, 0.1355,\n",
      "         0.1408, 0.1444, 0.1458, 0.1490, 0.1536, 0.1636, 0.1698, 0.1730, 0.1776,\n",
      "         0.1913, 0.1952, 0.1963, 0.2011, 0.2031, 0.2061, 0.2175, 0.2335, 0.2302,\n",
      "         0.2304, 0.2341, 0.2396, 0.2447, 0.2362, 0.2540, 0.3910, 0.2695, 0.2357,\n",
      "         0.2303, 0.2297, 0.2391, 0.2437, 0.2956, 0.3122, 0.3458, 0.3215, 0.3149,\n",
      "         0.3170],\n",
      "        [0.0351, 0.0408, 0.0601, 0.0790, 0.0461, 0.0390, 0.0391, 0.0391, 0.0403,\n",
      "         0.0394, 0.0452, 0.0494, 0.0644, 0.0332, 0.0414, 0.0511, 0.0525, 0.0478,\n",
      "         0.0523, 0.0521, 0.0482, 0.0432, 0.0545, 0.0556, 0.0555, 0.0622, 0.0515,\n",
      "         0.0528, 0.0433, 0.0444, 0.0591, 0.0652, 0.0626, 0.0613, 0.0595, 0.0708,\n",
      "         0.0510, 0.0569, 0.0545, 0.0527, 0.0578, 0.0597, 0.0585, 0.0583, 0.0606,\n",
      "         0.0566, 0.0555, 0.0548, 0.0498, 0.0590, 0.0586, 0.0553, 0.0484, 0.0499,\n",
      "         0.0507, 0.0482, 0.0455, 0.0436, 0.0401, 0.0459, 0.0472, 0.0633, 0.0546,\n",
      "         0.0539, 0.0489, 0.0547, 0.0549, 0.0582, 0.0557, 0.0614, 0.0571, 0.0499,\n",
      "         0.0557, 0.0524, 0.0522, 0.0492, 0.0508, 0.0467, 0.0366, 0.0404, 0.0369,\n",
      "         0.0338, 0.0393, 0.0426, 0.0442, 0.0403, 0.0353, 0.0376, 0.0412, 0.0418,\n",
      "         0.0402, 0.0426, 0.0393, 0.0546, 0.0477, 0.0356, 0.0449, 0.0608, 0.0652,\n",
      "         0.0543],\n",
      "        [0.1519, 0.1512, 0.1462, 0.1459, 0.1457, 0.1463, 0.1470, 0.1427, 0.1470,\n",
      "         0.1490, 0.1464, 0.1465, 0.1398, 0.1389, 0.1401, 0.1377, 0.1461, 0.1510,\n",
      "         0.1600, 0.1762, 0.1768, 0.1794, 0.1803, 0.1826, 0.1890, 0.1889, 0.1824,\n",
      "         0.1881, 0.1870, 0.2007, 0.2025, 0.2017, 0.1991, 0.2006, 0.2015, 0.2024,\n",
      "         0.2022, 0.2064, 0.2133, 0.2026, 0.2081, 0.2040, 0.2079, 0.2029, 0.2074,\n",
      "         0.2033, 0.1977, 0.1926, 0.1909, 0.1900, 0.1892, 0.1903, 0.1940, 0.1920,\n",
      "         0.1894, 0.1951, 0.1916, 0.1898, 0.1922, 0.1891, 0.1886, 0.1907, 0.1896,\n",
      "         0.1881, 0.1967, 0.1895, 0.1883, 0.1947, 0.1950, 0.1958, 0.1940, 0.2046,\n",
      "         0.2039, 0.2020, 0.2002, 0.2050, 0.2067, 0.4534, 0.4318, 0.4124, 0.3958,\n",
      "         0.3918, 0.3851, 0.3726, 0.3706, 0.3632, 0.3887, 0.3901, 0.3791, 0.3635,\n",
      "         0.3755, 0.3903, 0.3893, 0.3866, 0.3739, 0.3817, 0.3903, 0.3781, 0.3706,\n",
      "         0.3760],\n",
      "        [0.0753, 0.0734, 0.0743, 0.0665, 0.0674, 0.0698, 0.0726, 0.0718, 0.0720,\n",
      "         0.0733, 0.0716, 0.0724, 0.0698, 0.0737, 0.0719, 0.0753, 0.0713, 0.1144,\n",
      "         0.0723, 0.0723, 0.0689, 0.0712, 0.0685, 0.0696, 0.0681, 0.0700, 0.0850,\n",
      "         0.0699, 0.0740, 0.0698, 0.0711, 0.0708, 0.0706, 0.0725, 0.0726, 0.0738,\n",
      "         0.0783, 0.0713, 0.0671, 0.0704, 0.0692, 0.0717, 0.0699, 0.0720, 0.0691,\n",
      "         0.0704, 0.0739, 0.0674, 0.0707, 0.0704, 0.0713, 0.0718, 0.0731, 0.0919,\n",
      "         0.0885, 0.0690, 0.0675, 0.0750, 0.0739, 0.0696, 0.0672, 0.0714, 0.0758,\n",
      "         0.0781, 0.0696, 0.0732, 0.0747, 0.0678, 0.0701, 0.0886, 0.0767, 0.0784,\n",
      "         0.0761, 0.0750, 0.0840, 0.0798, 0.0822, 0.0861, 0.0839, 0.0840, 0.0773,\n",
      "         0.0774, 0.0790, 0.0822, 0.0819, 0.0836, 0.0797, 0.0773, 0.0763, 0.0762,\n",
      "         0.0737, 0.0796, 0.0785, 0.0862, 0.0912, 0.0842, 0.0850, 0.0825, 0.0815,\n",
      "         0.0830],\n",
      "        [0.0875, 0.1047, 0.1024, 0.0827, 0.0845, 0.0856, 0.0894, 0.0885, 0.0918,\n",
      "         0.0752, 0.0775, 0.0837, 0.0770, 0.0860, 0.0699, 0.0835, 0.0685, 0.0705,\n",
      "         0.0741, 0.0788, 0.0759, 0.0753, 0.0710, 0.0864, 0.0636, 0.0771, 0.1484,\n",
      "         0.0707, 0.0737, 0.0886, 0.0835, 0.0668, 0.0775, 0.0526, 0.0618, 0.0703,\n",
      "         0.0668, 0.0795, 0.0672, 0.0685, 0.0691, 0.0884, 0.0803, 0.0697, 0.0591,\n",
      "         0.0617, 0.0604, 0.0578, 0.1329, 0.0780, 0.0909, 0.0809, 0.0933, 0.0678,\n",
      "         0.0750, 0.1171, 0.2481, 0.0647, 0.0619, 0.0748, 0.0831, 0.0746, 0.0766,\n",
      "         0.0604, 0.0637, 0.0530, 0.0430, 0.0468, 0.0576, 0.0555, 0.0510, 0.0474,\n",
      "         0.0475, 0.0527, 0.0572, 0.0578, 0.0551, 0.0567, 0.0694, 0.0754, 0.0910,\n",
      "         0.0652, 0.0601, 0.0580, 0.0622, 0.0623, 0.0608, 0.0673, 0.0673, 0.0661,\n",
      "         0.0693, 0.0732, 0.0673, 0.0689, 0.0693, 0.0817, 0.0795, 0.0717, 0.0793,\n",
      "         0.1674]])]\n"
     ]
    }
   ],
   "source": [
    "print(__d)"
   ]
  },
  {
   "cell_type": "code",
   "execution_count": null,
   "metadata": {},
   "outputs": [],
   "source": []
  },
  {
   "cell_type": "markdown",
   "metadata": {},
   "source": [
    "## Build model"
   ]
  },
  {
   "cell_type": "code",
   "execution_count": 48,
   "metadata": {},
   "outputs": [],
   "source": [
    "class Model(nn.Module):\n",
    "    def __init__(self, input_size, hidden_size, n_layers=2, dropout_p=0.2):\n",
    "        \"\"\" \"\"\"\n",
    "        super(Model, self).__init__()\n",
    "\n",
    "        self.input_size  = input_size\n",
    "        self.hidden_size = hidden_size\n",
    "        self.n_layers    = n_layers\n",
    "        self.dropout_p   = dropout_p\n",
    "\n",
    "        # Layers\n",
    "        self.lstm = nn.LSTM(\n",
    "            input_size =self.input_size,\n",
    "            hidden_size=self.hidden_size,\n",
    "            num_layers =self.n_layers,\n",
    "            batch_first=True,)\n",
    "        \n",
    "        self.dropout = nn.Dropout(self.dropout_p)\n",
    "        \n",
    "        self.fc1 = nn.Linear(\n",
    "            in_features =self.hidden_size,\n",
    "            out_features=self.hidden_size)\n",
    "        \n",
    "        self.classifier = nn.Linear(\n",
    "            in_features =self.hidden_size,\n",
    "            out_features=1)\n",
    "        \n",
    "    def forward(self, x, prev_state, *, verbose=False):\n",
    "        \"\"\" \"\"\"\n",
    "        n_b, n_s, n_f = x.shape\n",
    "        if verbose:\n",
    "            print(\"*\"*10, \"INPUT\", \"*\"*10)\n",
    "            print(x.shape)\n",
    "            \n",
    "        yhat, state = self.lstm(x, prev_state)\n",
    "        if verbose:\n",
    "            print(\"\\n\")\n",
    "            print(\"*\"*10, \"Y_HAT\", \"*\"*10)\n",
    "            print(yhat.shape)\n",
    "        \n",
    "        yhat = self.fc1(self.dropout(yhat))\n",
    "        out = self.classifier(self.dropout(yhat)).view(n_b, -1)\n",
    "        if verbose:\n",
    "            print(\"\\n\")\n",
    "            print(\"*\"*10, \"OUTPUT\", \"*\"*10)\n",
    "            print(out.shape)\n",
    "            print([s.shape for s in state])\n",
    "        return out, state\n",
    "    \n",
    "    def init_state(self, batch_size=1):\n",
    "        return (torch.zeros(self.n_layers, batch_size, self.hidden_size),\n",
    "                torch.zeros(self.n_layers, batch_size, self.hidden_size))"
   ]
  },
  {
   "cell_type": "code",
   "execution_count": 51,
   "metadata": {
    "colab": {
     "base_uri": "https://localhost:8080/"
    },
    "id": "KhFu-tq1EJPz",
    "outputId": "c6f5cb42-9d67-475c-e8cf-a15fb9aacaf8",
    "scrolled": false
   },
   "outputs": [
    {
     "data": {
      "text/plain": [
       "Model(\n",
       "  (lstm): LSTM(4, 16, num_layers=4, batch_first=True)\n",
       "  (dropout): Dropout(p=0.2, inplace=False)\n",
       "  (fc1): Linear(in_features=16, out_features=16, bias=True)\n",
       "  (classifier): Linear(in_features=16, out_features=1, bias=True)\n",
       ")"
      ]
     },
     "execution_count": 51,
     "metadata": {},
     "output_type": "execute_result"
    }
   ],
   "source": [
    "model = Model(4, 16, n_layers=4, dropout_p=0.2)\n",
    "model"
   ]
  },
  {
   "cell_type": "code",
   "execution_count": 52,
   "metadata": {},
   "outputs": [],
   "source": [
    "lh = []"
   ]
  },
  {
   "cell_type": "markdown",
   "metadata": {},
   "source": [
    "Test models on a sample data"
   ]
  },
  {
   "cell_type": "code",
   "execution_count": 53,
   "metadata": {
    "scrolled": true
   },
   "outputs": [
    {
     "name": "stdout",
     "output_type": "stream",
     "text": [
      "********** INPUT **********\n",
      "torch.Size([6, 200, 4])\n",
      "\n",
      "\n",
      "********** Y_HAT **********\n",
      "torch.Size([6, 200, 16])\n",
      "\n",
      "\n",
      "********** OUTPUT **********\n",
      "torch.Size([6, 200])\n",
      "[torch.Size([4, 6, 16]), torch.Size([4, 6, 16])]\n"
     ]
    }
   ],
   "source": [
    "__out = model(__d[0], None, verbose=True)"
   ]
  },
  {
   "cell_type": "code",
   "execution_count": null,
   "metadata": {
    "id": "-ylrPCAEEJQd"
   },
   "outputs": [],
   "source": []
  },
  {
   "cell_type": "markdown",
   "metadata": {},
   "source": [
    "## Train model"
   ]
  },
  {
   "cell_type": "code",
   "execution_count": 55,
   "metadata": {},
   "outputs": [],
   "source": [
    "def criterion(out, y):\n",
    "    return torch.sqrt(F.mse_loss(out, y))"
   ]
  },
  {
   "cell_type": "code",
   "execution_count": null,
   "metadata": {},
   "outputs": [],
   "source": []
  },
  {
   "cell_type": "code",
   "execution_count": 58,
   "metadata": {
    "colab": {
     "background_save": true,
     "base_uri": "https://localhost:8080/"
    },
    "id": "wzBve5zGEJQw",
    "outputId": "2679c662-0e8a-4607-9e91-0d82b234111a",
    "scrolled": true
   },
   "outputs": [
    {
     "name": "stdout",
     "output_type": "stream",
     "text": [
      "Iteration:  100/500, Loss:   0.2216\n",
      "Iteration:  200/500, Loss:   0.1125\n",
      "Iteration:  300/500, Loss:   0.0994\n",
      "Iteration:  400/500, Loss:   0.0942\n",
      "Iteration:  500/500, Loss:   0.0909\n",
      "\n",
      "==================================================\n",
      "Round:  1 of 20, Running Time:  169.48 sec\n",
      "==================================================\n",
      "\n",
      "Iteration:  100/500, Loss:   0.0861\n",
      "Iteration:  200/500, Loss:   0.0868\n",
      "Iteration:  300/500, Loss:   0.0874\n",
      "Iteration:  400/500, Loss:   0.0836\n",
      "Iteration:  500/500, Loss:   0.0810\n",
      "\n",
      "==================================================\n",
      "Round:  2 of 20, Running Time:  338.17 sec\n",
      "==================================================\n",
      "\n",
      "Iteration:  100/500, Loss:   0.0749\n",
      "Iteration:  200/500, Loss:   0.0660\n",
      "Iteration:  300/500, Loss:   0.0598\n",
      "Iteration:  400/500, Loss:   0.0591\n",
      "Iteration:  500/500, Loss:   0.0553\n",
      "\n",
      "==================================================\n",
      "Round:  3 of 20, Running Time:  520.30 sec\n",
      "==================================================\n",
      "\n",
      "Iteration:  100/500, Loss:   0.0551\n",
      "Iteration:  200/500, Loss:   0.0528\n",
      "Iteration:  300/500, Loss:   0.0526\n",
      "Iteration:  400/500, Loss:   0.0510\n",
      "Iteration:  500/500, Loss:   0.0493\n",
      "\n",
      "==================================================\n",
      "Round:  4 of 20, Running Time:  693.62 sec\n",
      "==================================================\n",
      "\n",
      "Iteration:  100/500, Loss:   0.0476\n",
      "Iteration:  200/500, Loss:   0.0455\n",
      "Iteration:  300/500, Loss:   0.0442\n",
      "Iteration:  400/500, Loss:   0.0425\n",
      "Iteration:  500/500, Loss:   0.0421\n",
      "\n",
      "==================================================\n",
      "Round:  5 of 20, Running Time:  862.65 sec\n",
      "==================================================\n",
      "\n",
      "Iteration:  100/500, Loss:   0.0408\n",
      "Iteration:  200/500, Loss:   0.0412\n",
      "Iteration:  300/500, Loss:   0.0391\n",
      "Iteration:  400/500, Loss:   0.0388\n",
      "Iteration:  500/500, Loss:   0.0383\n",
      "\n",
      "==================================================\n",
      "Round:  6 of 20, Running Time: 1044.31 sec\n",
      "==================================================\n",
      "\n",
      "Iteration:  100/500, Loss:   0.0370\n",
      "Iteration:  200/500, Loss:   0.0369\n",
      "Iteration:  300/500, Loss:   0.0371\n",
      "Iteration:  400/500, Loss:   0.0358\n",
      "Iteration:  500/500, Loss:   0.0362\n",
      "\n",
      "==================================================\n",
      "Round:  7 of 20, Running Time: 1232.77 sec\n",
      "==================================================\n",
      "\n",
      "Iteration:  100/500, Loss:   0.0343\n",
      "Iteration:  200/500, Loss:   0.0338\n",
      "Iteration:  300/500, Loss:   0.0344\n",
      "Iteration:  400/500, Loss:   0.0337\n",
      "Iteration:  500/500, Loss:   0.0326\n",
      "\n",
      "==================================================\n",
      "Round:  8 of 20, Running Time: 1414.73 sec\n",
      "==================================================\n",
      "\n",
      "Iteration:  100/500, Loss:   0.0324\n",
      "Iteration:  200/500, Loss:   0.0318\n",
      "Iteration:  300/500, Loss:   0.0316\n",
      "Iteration:  400/500, Loss:   0.0312\n",
      "Iteration:  500/500, Loss:   0.0309\n",
      "\n",
      "==================================================\n",
      "Round:  9 of 20, Running Time: 1612.57 sec\n",
      "==================================================\n",
      "\n",
      "Iteration:  100/500, Loss:   0.0308\n",
      "Iteration:  200/500, Loss:   0.0312\n",
      "Iteration:  300/500, Loss:   0.0310\n",
      "Iteration:  400/500, Loss:   0.0292\n",
      "Iteration:  500/500, Loss:   0.0302\n",
      "\n",
      "==================================================\n",
      "Round: 10 of 20, Running Time: 1781.57 sec\n",
      "==================================================\n",
      "\n",
      "Iteration:  100/500, Loss:   0.0294\n",
      "Iteration:  200/500, Loss:   0.0284\n",
      "Iteration:  300/500, Loss:   0.0286\n",
      "Iteration:  400/500, Loss:   0.0286\n",
      "Iteration:  500/500, Loss:   0.0273\n",
      "\n",
      "==================================================\n",
      "Round: 11 of 20, Running Time: 1950.50 sec\n",
      "==================================================\n",
      "\n",
      "Iteration:  100/500, Loss:   0.0281\n",
      "Iteration:  200/500, Loss:   0.0279\n",
      "Iteration:  300/500, Loss:   0.0267\n",
      "Iteration:  400/500, Loss:   0.0261\n",
      "Iteration:  500/500, Loss:   0.0270\n",
      "\n",
      "==================================================\n",
      "Round: 12 of 20, Running Time: 2135.14 sec\n",
      "==================================================\n",
      "\n",
      "Iteration:  100/500, Loss:   0.0257\n",
      "Iteration:  200/500, Loss:   0.0259\n",
      "Iteration:  300/500, Loss:   0.0257\n",
      "Iteration:  400/500, Loss:   0.0249\n",
      "Iteration:  500/500, Loss:   0.0254\n",
      "\n",
      "==================================================\n",
      "Round: 13 of 20, Running Time: 2321.38 sec\n",
      "==================================================\n",
      "\n",
      "Iteration:  100/500, Loss:   0.0256\n",
      "Iteration:  200/500, Loss:   0.0244\n",
      "Iteration:  300/500, Loss:   0.0245\n",
      "Iteration:  400/500, Loss:   0.0246\n",
      "Iteration:  500/500, Loss:   0.0241\n",
      "\n",
      "==================================================\n",
      "Round: 14 of 20, Running Time: 2500.55 sec\n",
      "==================================================\n",
      "\n",
      "Iteration:  100/500, Loss:   0.0236\n",
      "Iteration:  200/500, Loss:   0.0241\n",
      "Iteration:  300/500, Loss:   0.0237\n",
      "Iteration:  400/500, Loss:   0.0237\n",
      "Iteration:  500/500, Loss:   0.0233\n",
      "\n",
      "==================================================\n",
      "Round: 15 of 20, Running Time: 2671.12 sec\n",
      "==================================================\n",
      "\n",
      "Iteration:  100/500, Loss:   0.0245\n",
      "Iteration:  200/500, Loss:   0.0238\n",
      "Iteration:  300/500, Loss:   0.0233\n",
      "Iteration:  400/500, Loss:   0.0226\n",
      "Iteration:  500/500, Loss:   0.0227\n",
      "\n",
      "==================================================\n",
      "Round: 16 of 20, Running Time: 2839.61 sec\n",
      "==================================================\n",
      "\n",
      "Iteration:  100/500, Loss:   0.0235\n",
      "Iteration:  200/500, Loss:   0.0227\n",
      "Iteration:  300/500, Loss:   0.0225\n",
      "Iteration:  400/500, Loss:   0.0215\n",
      "Iteration:  500/500, Loss:   0.0217\n",
      "\n",
      "==================================================\n",
      "Round: 17 of 20, Running Time: 3007.70 sec\n",
      "==================================================\n",
      "\n",
      "Iteration:  100/500, Loss:   0.0226\n",
      "Iteration:  200/500, Loss:   0.0220\n",
      "Iteration:  300/500, Loss:   0.0220\n",
      "Iteration:  400/500, Loss:   0.0213\n",
      "Iteration:  500/500, Loss:   0.0219\n",
      "\n",
      "==================================================\n",
      "Round: 18 of 20, Running Time: 3176.97 sec\n",
      "==================================================\n",
      "\n",
      "Iteration:  100/500, Loss:   0.0212\n",
      "Iteration:  200/500, Loss:   0.0217\n",
      "Iteration:  300/500, Loss:   0.0219\n",
      "Iteration:  400/500, Loss:   0.0219\n",
      "Iteration:  500/500, Loss:   0.0218\n",
      "\n",
      "==================================================\n",
      "Round: 19 of 20, Running Time: 3360.56 sec\n",
      "==================================================\n",
      "\n",
      "Iteration:  100/500, Loss:   0.0210\n",
      "Iteration:  200/500, Loss:   0.0214\n",
      "Iteration:  300/500, Loss:   0.0208\n",
      "Iteration:  400/500, Loss:   0.0219\n",
      "Iteration:  500/500, Loss:   0.0211\n",
      "\n",
      "==================================================\n",
      "Round: 20 of 20, Running Time: 3533.39 sec\n",
      "==================================================\n",
      "\n"
     ]
    }
   ],
   "source": [
    "iteration = 10000\n",
    "per_iter = 500\n",
    "start_t = time.time()\n",
    "\n",
    "for _ti in range(iteration//per_iter):\n",
    "    model, costs = training.train(\n",
    "        model, train_dataloader, per_iter, criterion, lr=0.0001, print_every=100)\n",
    "    \n",
    "    lh.extend(costs)\n",
    "    time.sleep(5)\n",
    "    \n",
    "    print(\"\\n\" + \"=\"*50)\n",
    "    print(\"Round: {:2} of {:2}, Running Time: {:7.2f} sec\".format(\n",
    "        _ti+1, iteration//per_iter, time.time() - start_t))\n",
    "    print(\"=\"*50 + \"\\n\")"
   ]
  },
  {
   "cell_type": "markdown",
   "metadata": {},
   "source": [
    "Analyze loss history"
   ]
  },
  {
   "cell_type": "code",
   "execution_count": 87,
   "metadata": {
    "colab": {
     "base_uri": "https://localhost:8080/",
     "height": 281
    },
    "id": "Ph1EufFzEJQz",
    "outputId": "528a8f0b-e141-4f89-9506-dbe09d3ad5e7",
    "scrolled": false
   },
   "outputs": [
    {
     "data": {
      "text/plain": [
       "[<matplotlib.lines.Line2D at 0x159e1508>]"
      ]
     },
     "execution_count": 87,
     "metadata": {},
     "output_type": "execute_result"
    },
    {
     "data": {
      "image/png": "[encoded data removed]",
      "text/plain": [
       "<Figure size 432x288 with 1 Axes>"
      ]
     },
     "metadata": {
      "needs_background": "light"
     },
     "output_type": "display_data"
    }
   ],
   "source": [
    "cum = 100\n",
    "plt.xlabel(\"Iteration\")\n",
    "plt.ylabel(\"RMSE Loss\")\n",
    "plt.plot([sum(lh[i:i+cum])/cum for i in range(0, len(lh), cum)])"
   ]
  },
  {
   "cell_type": "code",
   "execution_count": 88,
   "metadata": {
    "colab": {
     "base_uri": "https://localhost:8080/"
    },
    "id": "6mX9g6WAEJQ1",
    "outputId": "7ba6fe2c-629d-4ba2-901f-1843d759ff41"
   },
   "outputs": [
    {
     "name": "stdout",
     "output_type": "stream",
     "text": [
      "Iter: 10000 | Min: 0.0126 | Max: 0.3173 | Last: 0.0150 | Ave: 0.0390\n"
     ]
    }
   ],
   "source": [
    "print(\"Iter: {} | Min: {:.4f} | Max: {:.4f} | Last: {:.4f} | Ave: {:.4f}\".format(\n",
    "    len(lh), min(lh), max(lh), lh[-1], sum(lh)/len(lh)))"
   ]
  },
  {
   "cell_type": "code",
   "execution_count": null,
   "metadata": {},
   "outputs": [],
   "source": []
  },
  {
   "cell_type": "code",
   "execution_count": null,
   "metadata": {},
   "outputs": [],
   "source": []
  },
  {
   "cell_type": "markdown",
   "metadata": {},
   "source": [
    "## Evaluate"
   ]
  },
  {
   "cell_type": "code",
   "execution_count": 92,
   "metadata": {},
   "outputs": [
    {
     "name": "stdout",
     "output_type": "stream",
     "text": [
      "RMSE loss: 0.014824751764535904\n"
     ]
    }
   ],
   "source": [
    "model.eval()\n",
    "with torch.no_grad():\n",
    "    test_data = Dataset.split_item(\n",
    "        test_df[[\"n_pm25\", \"n_temp\", \"n_humidity\", \"time_delta\"]].values.tolist().copy())\n",
    "    test_pred = model(test_data[0].view(1, -1, 4), None)[0].flatten()\n",
    "\n",
    "print(\"RMSE loss:\", criterion(test_pred.flatten(), test_data[1].flatten()).item())"
   ]
  },
  {
   "cell_type": "code",
   "execution_count": null,
   "metadata": {},
   "outputs": [],
   "source": [
    "np.round"
   ]
  },
  {
   "cell_type": "code",
   "execution_count": 96,
   "metadata": {},
   "outputs": [
    {
     "data": {
      "text/html": [
       "<div>\n",
       "<style scoped>\n",
       "    .dataframe tbody tr th:only-of-type {\n",
       "        vertical-align: middle;\n",
       "    }\n",
       "\n",
       "    .dataframe tbody tr th {\n",
       "        vertical-align: top;\n",
       "    }\n",
       "\n",
       "    .dataframe thead th {\n",
       "        text-align: right;\n",
       "    }\n",
       "</style>\n",
       "<table border=\"1\" class=\"dataframe\">\n",
       "  <thead>\n",
       "    <tr style=\"text-align: right;\">\n",
       "      <th></th>\n",
       "      <th>temp</th>\n",
       "      <th>humidity</th>\n",
       "      <th>pm25</th>\n",
       "      <th>monthday</th>\n",
       "      <th>weekday</th>\n",
       "      <th>hour</th>\n",
       "      <th>air_quality</th>\n",
       "      <th>datetime</th>\n",
       "      <th>time_delta</th>\n",
       "      <th>n_temp</th>\n",
       "      <th>n_humidity</th>\n",
       "      <th>n_pm25</th>\n",
       "      <th>pred_n_pm25</th>\n",
       "      <th>pred_pm25</th>\n",
       "    </tr>\n",
       "  </thead>\n",
       "  <tbody>\n",
       "    <tr>\n",
       "      <th>50446</th>\n",
       "      <td>301.33</td>\n",
       "      <td>70</td>\n",
       "      <td>47.23</td>\n",
       "      <td>13</td>\n",
       "      <td>Wenesday</td>\n",
       "      <td>15</td>\n",
       "      <td>Unhealthy</td>\n",
       "      <td>2021-10-13 15:14:16</td>\n",
       "      <td>0.033333</td>\n",
       "      <td>0.342018</td>\n",
       "      <td>0.683333</td>\n",
       "      <td>0.081879</td>\n",
       "      <td>0.081879</td>\n",
       "      <td>47.23</td>\n",
       "    </tr>\n",
       "    <tr>\n",
       "      <th>50447</th>\n",
       "      <td>301.33</td>\n",
       "      <td>70</td>\n",
       "      <td>47.45</td>\n",
       "      <td>13</td>\n",
       "      <td>Wenesday</td>\n",
       "      <td>15</td>\n",
       "      <td>Unhealthy</td>\n",
       "      <td>2021-10-13 15:18:47</td>\n",
       "      <td>0.075278</td>\n",
       "      <td>0.342018</td>\n",
       "      <td>0.683333</td>\n",
       "      <td>0.082267</td>\n",
       "      <td>0.090653</td>\n",
       "      <td>52.21</td>\n",
       "    </tr>\n",
       "    <tr>\n",
       "      <th>50448</th>\n",
       "      <td>301.33</td>\n",
       "      <td>69</td>\n",
       "      <td>48.63</td>\n",
       "      <td>13</td>\n",
       "      <td>Wenesday</td>\n",
       "      <td>15</td>\n",
       "      <td>Unhealthy</td>\n",
       "      <td>2021-10-13 15:32:05</td>\n",
       "      <td>0.221667</td>\n",
       "      <td>0.342018</td>\n",
       "      <td>0.666667</td>\n",
       "      <td>0.084347</td>\n",
       "      <td>0.087547</td>\n",
       "      <td>50.45</td>\n",
       "    </tr>\n",
       "  </tbody>\n",
       "</table>\n",
       "</div>"
      ],
      "text/plain": [
       "         temp  humidity   pm25  monthday   weekday  hour air_quality  \\\n",
       "50446  301.33        70  47.23        13  Wenesday    15   Unhealthy   \n",
       "50447  301.33        70  47.45        13  Wenesday    15   Unhealthy   \n",
       "50448  301.33        69  48.63        13  Wenesday    15   Unhealthy   \n",
       "\n",
       "                 datetime  time_delta    n_temp  n_humidity    n_pm25  \\\n",
       "50446 2021-10-13 15:14:16    0.033333  0.342018    0.683333  0.081879   \n",
       "50447 2021-10-13 15:18:47    0.075278  0.342018    0.683333  0.082267   \n",
       "50448 2021-10-13 15:32:05    0.221667  0.342018    0.666667  0.084347   \n",
       "\n",
       "       pred_n_pm25  pred_pm25  \n",
       "50446     0.081879      47.23  \n",
       "50447     0.090653      52.21  \n",
       "50448     0.087547      50.45  "
      ]
     },
     "execution_count": 96,
     "metadata": {},
     "output_type": "execute_result"
    }
   ],
   "source": [
    "test_df[\"pred_n_pm25\"] = [float(test_data[0].flatten()[0])] + test_pred.flatten().tolist()\n",
    "test_df[\"pred_pm25\"] = scaler.inverse_transform(test_df[[\"n_temp\", \"n_humidity\", \"pred_n_pm25\"]])[:, 2].round(2)\n",
    "test_df.head(3)"
   ]
  },
  {
   "cell_type": "code",
   "execution_count": 97,
   "metadata": {},
   "outputs": [
    {
     "data": {
      "text/plain": [
       "[<matplotlib.lines.Line2D at 0x1692bf88>]"
      ]
     },
     "execution_count": 97,
     "metadata": {},
     "output_type": "execute_result"
    },
    {
     "data": {
      "image/png": "[encoded data removed]",
      "text/plain": [
       "<Figure size 432x288 with 1 Axes>"
      ]
     },
     "metadata": {
      "needs_background": "light"
     },
     "output_type": "display_data"
    }
   ],
   "source": [
    "plt.plot(test_df.pred_pm25)\n",
    "plt.plot(test_df.pm25)"
   ]
  },
  {
   "cell_type": "code",
   "execution_count": 99,
   "metadata": {},
   "outputs": [
    {
     "data": {
      "text/plain": [
       "[<matplotlib.lines.Line2D at 0x18a3d848>]"
      ]
     },
     "execution_count": 99,
     "metadata": {},
     "output_type": "execute_result"
    },
    {
     "data": {
      "image/png": "[encoded data removed]",
      "text/plain": [
       "<Figure size 432x288 with 1 Axes>"
      ]
     },
     "metadata": {
      "needs_background": "light"
     },
     "output_type": "display_data"
    }
   ],
   "source": [
    "plt.plot(test_df.pm25 - test_df.pred_pm25)"
   ]
  },
  {
   "cell_type": "markdown",
   "metadata": {},
   "source": [
    "Taking a closer look"
   ]
  },
  {
   "cell_type": "code",
   "execution_count": 101,
   "metadata": {},
   "outputs": [
    {
     "data": {
      "text/plain": [
       "[<matplotlib.lines.Line2D at 0x1572b1c8>]"
      ]
     },
     "execution_count": 101,
     "metadata": {},
     "output_type": "execute_result"
    },
    {
     "data": {
      "image/png": "[encoded data removed]",
      "text/plain": [
       "<Figure size 432x288 with 1 Axes>"
      ]
     },
     "metadata": {
      "needs_background": "light"
     },
     "output_type": "display_data"
    }
   ],
   "source": [
    "plt.plot([x for x in test_df.pm25 - test_df.pred_pm25 if -50 < x < 50])"
   ]
  },
  {
   "cell_type": "code",
   "execution_count": 100,
   "metadata": {},
   "outputs": [
    {
     "data": {
      "text/plain": [
       "(array([8.000e+00, 8.000e+00, 6.900e+01, 4.495e+03, 9.630e+02, 4.200e+01,\n",
       "        1.400e+01, 4.000e+00, 1.000e+00, 2.000e+00]),\n",
       " array([-77.93 , -57.418, -36.906, -16.394,   4.118,  24.63 ,  45.142,\n",
       "         65.654,  86.166, 106.678, 127.19 ]),\n",
       " <a list of 10 Patch objects>)"
      ]
     },
     "execution_count": 100,
     "metadata": {},
     "output_type": "execute_result"
    },
    {
     "data": {
      "image/png": "[encoded data removed]",
      "text/plain": [
       "<Figure size 432x288 with 1 Axes>"
      ]
     },
     "metadata": {
      "needs_background": "light"
     },
     "output_type": "display_data"
    }
   ],
   "source": [
    "plt.hist(test_df.pm25 - test_df.pred_pm25)"
   ]
  },
  {
   "cell_type": "code",
   "execution_count": null,
   "metadata": {},
   "outputs": [],
   "source": []
  },
  {
   "cell_type": "code",
   "execution_count": null,
   "metadata": {},
   "outputs": [],
   "source": []
  },
  {
   "cell_type": "code",
   "execution_count": null,
   "metadata": {
    "id": "Du3O-HdVEJSi"
   },
   "outputs": [],
   "source": []
  },
  {
   "cell_type": "code",
   "execution_count": null,
   "metadata": {
    "id": "HetmH4f1EJSk"
   },
   "outputs": [],
   "source": []
  },
  {
   "cell_type": "code",
   "execution_count": null,
   "metadata": {
    "id": "Wg-hrkMLEJSm"
   },
   "outputs": [],
   "source": []
  }
 ],
 "metadata": {
  "colab": {
   "collapsed_sections": [
    "FWGVtyZXEJQ5"
   ],
   "name": "midi-music_model-v1.ipynb",
   "provenance": []
  },
  "kernelspec": {
   "display_name": "Python 3",
   "language": "python",
   "name": "python3"
  },
  "language_info": {
   "codemirror_mode": {
    "name": "ipython",
    "version": 3
   },
   "file_extension": ".py",
   "mimetype": "text/x-python",
   "name": "python",
   "nbconvert_exporter": "python",
   "pygments_lexer": "ipython3",
   "version": "3.7.6"
  }
 },
 "nbformat": 4,
 "nbformat_minor": 1
}
