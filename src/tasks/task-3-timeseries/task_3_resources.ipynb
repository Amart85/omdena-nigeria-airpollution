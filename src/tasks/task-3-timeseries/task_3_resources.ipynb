{
  "nbformat": 4,
  "nbformat_minor": 0,
  "metadata": {
    "colab": {
      "name": "task-3-resources.ipynb",
      "provenance": []
    },
    "kernelspec": {
      "name": "python3",
      "display_name": "Python 3"
    },
    "language_info": {
      "name": "python"
    }
  },
  "cells": [
    {
      "cell_type": "markdown",
      "metadata": {
        "id": "jbJ2KODNlUzO"
      },
      "source": [
        "# Leveraging Data Science Techniques to Raise Awareness of Air pollution in Nigeria\n",
        "\n",
        "## Resources for Time Series Analysis"
      ]
    },
    {
      "cell_type": "markdown",
      "metadata": {
        "id": "6_AMrZN-mHC2"
      },
      "source": [
        "- [Udemy - Time Series Analysis and Forecasting using Python](https://www.udemy.com/course/machine-learning-time-series-forecasting-in-python/?couponCode=F2F089)\n",
        "\n",
        "- [Article - Comprehensive Guide to Time Series Analysis Using ARIMA](https://analyticsindiamag.com/comprehensive-guide-to-time-series-analysis-using-arima/)\n",
        "\n",
        "- [YouTube Playlist - Time Series Modelling and Analysis](https://youtube.com/playlist?list=PL3N9eeOlCrP5cK0QRQxeJd6GrQvhAtpBK)\n",
        "\n",
        "- [YouTube - Time Series Forecasting Using Facebook FbProphet](https://youtu.be/VtItg-J6-CI)\n",
        "\n",
        "- [Youtube - Forecasting Future Sales Using ARIMA and SARIMAX](https://youtu.be/2XGSIlgUBDI)\n",
        "\n",
        "- [Article - Time Series Analysis in Python - A Comprehensive Guide with Examples - ML+](https://www.machinelearningplus.com/time-series/time-series-analysis-python/)\n",
        "\n",
        "- [Article - The Complete Guide to Time Serires Analysis and Forecasting](https://towardsdatascience.com/the-complete-guide-to-time-series-analysis-and-forecasting-70d476bfe775)\n",
        "\n",
        "- [Youtube - Time Series Forecasting: Air Quality Monitoring in Port Harcourt](https://https://www.youtube.com/watch?v=54ROeQVuvI0)\n",
        "\n"
      ]
    }
  ]
}