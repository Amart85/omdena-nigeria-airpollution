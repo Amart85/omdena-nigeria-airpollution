{
 "cells": [
  {
   "cell_type": "markdown",
   "metadata": {},
   "source": [
    "# Exploratory Data Analysis for the proprietory data provided by pyloop for air pollution in Port Harcourt."
   ]
  },
  {
   "cell_type": "code",
   "execution_count": 37,
   "metadata": {},
   "outputs": [],
   "source": [
    "import pandas as pd\n",
    "import numpy as np \n",
    "import matplotlib.pyplot as plt\n",
    "import seaborn as sns"
   ]
  },
  {
   "cell_type": "code",
   "execution_count": 13,
   "metadata": {},
   "outputs": [],
   "source": [
    "#reading the file for the dataset\n",
    "Port_H_air = pd.read_csv('Port Harcourt, Nigeria (4.80678 7.002953).csv')"
   ]
  },
  {
   "cell_type": "code",
   "execution_count": 14,
   "metadata": {},
   "outputs": [
    {
     "data": {
      "text/html": [
       "<div>\n",
       "<style scoped>\n",
       "    .dataframe tbody tr th:only-of-type {\n",
       "        vertical-align: middle;\n",
       "    }\n",
       "\n",
       "    .dataframe tbody tr th {\n",
       "        vertical-align: top;\n",
       "    }\n",
       "\n",
       "    .dataframe thead th {\n",
       "        text-align: right;\n",
       "    }\n",
       "</style>\n",
       "<table border=\"1\" class=\"dataframe\">\n",
       "  <thead>\n",
       "    <tr style=\"text-align: right;\">\n",
       "      <th></th>\n",
       "      <th>created_at</th>\n",
       "      <th>entry_id</th>\n",
       "      <th>Temperature_F</th>\n",
       "      <th>Humidity_%</th>\n",
       "      <th>PM2.5_ATM_ug/m3</th>\n",
       "    </tr>\n",
       "  </thead>\n",
       "  <tbody>\n",
       "    <tr>\n",
       "      <th>0</th>\n",
       "      <td>2021-07-26 16:45:59 UTC</td>\n",
       "      <td>198</td>\n",
       "      <td>89</td>\n",
       "      <td>50</td>\n",
       "      <td>40.78</td>\n",
       "    </tr>\n",
       "    <tr>\n",
       "      <th>1</th>\n",
       "      <td>2021-07-26 16:48:03 UTC</td>\n",
       "      <td>199</td>\n",
       "      <td>89</td>\n",
       "      <td>50</td>\n",
       "      <td>40.09</td>\n",
       "    </tr>\n",
       "    <tr>\n",
       "      <th>2</th>\n",
       "      <td>2021-07-26 16:49:59 UTC</td>\n",
       "      <td>200</td>\n",
       "      <td>89</td>\n",
       "      <td>50</td>\n",
       "      <td>37.93</td>\n",
       "    </tr>\n",
       "    <tr>\n",
       "      <th>3</th>\n",
       "      <td>2021-07-26 16:54:03 UTC</td>\n",
       "      <td>201</td>\n",
       "      <td>89</td>\n",
       "      <td>50</td>\n",
       "      <td>33.18</td>\n",
       "    </tr>\n",
       "    <tr>\n",
       "      <th>4</th>\n",
       "      <td>2021-07-26 16:55:59 UTC</td>\n",
       "      <td>202</td>\n",
       "      <td>89</td>\n",
       "      <td>50</td>\n",
       "      <td>37.84</td>\n",
       "    </tr>\n",
       "  </tbody>\n",
       "</table>\n",
       "</div>"
      ],
      "text/plain": [
       "                created_at  entry_id  Temperature_F  Humidity_%  \\\n",
       "0  2021-07-26 16:45:59 UTC       198             89          50   \n",
       "1  2021-07-26 16:48:03 UTC       199             89          50   \n",
       "2  2021-07-26 16:49:59 UTC       200             89          50   \n",
       "3  2021-07-26 16:54:03 UTC       201             89          50   \n",
       "4  2021-07-26 16:55:59 UTC       202             89          50   \n",
       "\n",
       "   PM2.5_ATM_ug/m3  \n",
       "0            40.78  \n",
       "1            40.09  \n",
       "2            37.93  \n",
       "3            33.18  \n",
       "4            37.84  "
      ]
     },
     "execution_count": 14,
     "metadata": {},
     "output_type": "execute_result"
    }
   ],
   "source": [
    "#the first five rows and column headings\n",
    "Port_H_air.head()"
   ]
  },
  {
   "cell_type": "code",
   "execution_count": 15,
   "metadata": {},
   "outputs": [
    {
     "data": {
      "text/html": [
       "<div>\n",
       "<style scoped>\n",
       "    .dataframe tbody tr th:only-of-type {\n",
       "        vertical-align: middle;\n",
       "    }\n",
       "\n",
       "    .dataframe tbody tr th {\n",
       "        vertical-align: top;\n",
       "    }\n",
       "\n",
       "    .dataframe thead th {\n",
       "        text-align: right;\n",
       "    }\n",
       "</style>\n",
       "<table border=\"1\" class=\"dataframe\">\n",
       "  <thead>\n",
       "    <tr style=\"text-align: right;\">\n",
       "      <th></th>\n",
       "      <th>created_at</th>\n",
       "      <th>entry_id</th>\n",
       "      <th>Temperature_F</th>\n",
       "      <th>Humidity_%</th>\n",
       "      <th>PM2.5_ATM_ug/m3</th>\n",
       "    </tr>\n",
       "  </thead>\n",
       "  <tbody>\n",
       "    <tr>\n",
       "      <th>56047</th>\n",
       "      <td>2021-10-25 09:28:43 UTC</td>\n",
       "      <td>56245</td>\n",
       "      <td>87</td>\n",
       "      <td>61</td>\n",
       "      <td>29.17</td>\n",
       "    </tr>\n",
       "    <tr>\n",
       "      <th>56048</th>\n",
       "      <td>2021-10-25 09:30:43 UTC</td>\n",
       "      <td>56246</td>\n",
       "      <td>87</td>\n",
       "      <td>61</td>\n",
       "      <td>29.57</td>\n",
       "    </tr>\n",
       "    <tr>\n",
       "      <th>56049</th>\n",
       "      <td>2021-10-25 09:32:44 UTC</td>\n",
       "      <td>56247</td>\n",
       "      <td>87</td>\n",
       "      <td>61</td>\n",
       "      <td>28.75</td>\n",
       "    </tr>\n",
       "    <tr>\n",
       "      <th>56050</th>\n",
       "      <td>2021-10-25 09:34:44 UTC</td>\n",
       "      <td>56248</td>\n",
       "      <td>87</td>\n",
       "      <td>61</td>\n",
       "      <td>29.97</td>\n",
       "    </tr>\n",
       "    <tr>\n",
       "      <th>56051</th>\n",
       "      <td>2021-10-25 09:36:44 UTC</td>\n",
       "      <td>56249</td>\n",
       "      <td>87</td>\n",
       "      <td>60</td>\n",
       "      <td>30.25</td>\n",
       "    </tr>\n",
       "  </tbody>\n",
       "</table>\n",
       "</div>"
      ],
      "text/plain": [
       "                    created_at  entry_id  Temperature_F  Humidity_%  \\\n",
       "56047  2021-10-25 09:28:43 UTC     56245             87          61   \n",
       "56048  2021-10-25 09:30:43 UTC     56246             87          61   \n",
       "56049  2021-10-25 09:32:44 UTC     56247             87          61   \n",
       "56050  2021-10-25 09:34:44 UTC     56248             87          61   \n",
       "56051  2021-10-25 09:36:44 UTC     56249             87          60   \n",
       "\n",
       "       PM2.5_ATM_ug/m3  \n",
       "56047            29.17  \n",
       "56048            29.57  \n",
       "56049            28.75  \n",
       "56050            29.97  \n",
       "56051            30.25  "
      ]
     },
     "execution_count": 15,
     "metadata": {},
     "output_type": "execute_result"
    }
   ],
   "source": [
    "#the last five rows and column headings\n",
    "Port_H_air.tail()"
   ]
  },
  {
   "cell_type": "code",
   "execution_count": 16,
   "metadata": {},
   "outputs": [
    {
     "data": {
      "text/plain": [
       "(56052, 5)"
      ]
     },
     "execution_count": 16,
     "metadata": {},
     "output_type": "execute_result"
    }
   ],
   "source": [
    "#number of rows and columns\n",
    "Port_H_air.shape"
   ]
  },
  {
   "cell_type": "code",
   "execution_count": 8,
   "metadata": {},
   "outputs": [
    {
     "name": "stdout",
     "output_type": "stream",
     "text": [
      "<class 'pandas.core.frame.DataFrame'>\n",
      "RangeIndex: 56052 entries, 0 to 56051\n",
      "Data columns (total 5 columns):\n",
      " #   Column           Non-Null Count  Dtype  \n",
      "---  ------           --------------  -----  \n",
      " 0   created_at       56052 non-null  object \n",
      " 1   entry_id         56052 non-null  int64  \n",
      " 2   Temperature_F    56052 non-null  int64  \n",
      " 3   Humidity_%       56052 non-null  int64  \n",
      " 4   PM2.5_ATM_ug/m3  56052 non-null  float64\n",
      "dtypes: float64(1), int64(3), object(1)\n",
      "memory usage: 2.1+ MB\n"
     ]
    }
   ],
   "source": [
    "#checking for missing values and anomalies\n",
    "Port_H_air.info()"
   ]
  },
  {
   "cell_type": "code",
   "execution_count": 21,
   "metadata": {},
   "outputs": [
    {
     "data": {
      "text/plain": [
       "created_at         0\n",
       "entry_id           0\n",
       "Temperature_F      0\n",
       "Humidity_%         0\n",
       "PM2.5_ATM_ug/m3    0\n",
       "dtype: int64"
      ]
     },
     "execution_count": 21,
     "metadata": {},
     "output_type": "execute_result"
    }
   ],
   "source": [
    "#checking for missing values\n",
    "Port_H_air.isnull().sum()"
   ]
  },
  {
   "cell_type": "code",
   "execution_count": 20,
   "metadata": {},
   "outputs": [
    {
     "data": {
      "text/plain": [
       "created_at         56052\n",
       "entry_id           56052\n",
       "Temperature_F         38\n",
       "Humidity_%            61\n",
       "PM2.5_ATM_ug/m3    13423\n",
       "dtype: int64"
      ]
     },
     "execution_count": 20,
     "metadata": {},
     "output_type": "execute_result"
    }
   ],
   "source": [
    "Port_H_air.nunique()"
   ]
  },
  {
   "cell_type": "code",
   "execution_count": 17,
   "metadata": {},
   "outputs": [
    {
     "data": {
      "text/html": [
       "<div>\n",
       "<style scoped>\n",
       "    .dataframe tbody tr th:only-of-type {\n",
       "        vertical-align: middle;\n",
       "    }\n",
       "\n",
       "    .dataframe tbody tr th {\n",
       "        vertical-align: top;\n",
       "    }\n",
       "\n",
       "    .dataframe thead th {\n",
       "        text-align: right;\n",
       "    }\n",
       "</style>\n",
       "<table border=\"1\" class=\"dataframe\">\n",
       "  <thead>\n",
       "    <tr style=\"text-align: right;\">\n",
       "      <th></th>\n",
       "      <th>entry_id</th>\n",
       "      <th>Temperature_F</th>\n",
       "      <th>Humidity_%</th>\n",
       "      <th>PM2.5_ATM_ug/m3</th>\n",
       "    </tr>\n",
       "  </thead>\n",
       "  <tbody>\n",
       "    <tr>\n",
       "      <th>count</th>\n",
       "      <td>56052.000000</td>\n",
       "      <td>56052.000000</td>\n",
       "      <td>56052.000000</td>\n",
       "      <td>56052.000000</td>\n",
       "    </tr>\n",
       "    <tr>\n",
       "      <th>mean</th>\n",
       "      <td>28223.500000</td>\n",
       "      <td>84.821469</td>\n",
       "      <td>65.117766</td>\n",
       "      <td>54.391926</td>\n",
       "    </tr>\n",
       "    <tr>\n",
       "      <th>std</th>\n",
       "      <td>16180.962981</td>\n",
       "      <td>4.319505</td>\n",
       "      <td>8.550730</td>\n",
       "      <td>42.205997</td>\n",
       "    </tr>\n",
       "    <tr>\n",
       "      <th>min</th>\n",
       "      <td>198.000000</td>\n",
       "      <td>70.000000</td>\n",
       "      <td>29.000000</td>\n",
       "      <td>0.780000</td>\n",
       "    </tr>\n",
       "    <tr>\n",
       "      <th>25%</th>\n",
       "      <td>14210.750000</td>\n",
       "      <td>82.000000</td>\n",
       "      <td>61.000000</td>\n",
       "      <td>30.170000</td>\n",
       "    </tr>\n",
       "    <tr>\n",
       "      <th>50%</th>\n",
       "      <td>28223.500000</td>\n",
       "      <td>84.000000</td>\n",
       "      <td>68.000000</td>\n",
       "      <td>41.450000</td>\n",
       "    </tr>\n",
       "    <tr>\n",
       "      <th>75%</th>\n",
       "      <td>42236.250000</td>\n",
       "      <td>87.000000</td>\n",
       "      <td>71.000000</td>\n",
       "      <td>61.190000</td>\n",
       "    </tr>\n",
       "    <tr>\n",
       "      <th>max</th>\n",
       "      <td>56249.000000</td>\n",
       "      <td>108.000000</td>\n",
       "      <td>89.000000</td>\n",
       "      <td>568.080000</td>\n",
       "    </tr>\n",
       "  </tbody>\n",
       "</table>\n",
       "</div>"
      ],
      "text/plain": [
       "           entry_id  Temperature_F    Humidity_%  PM2.5_ATM_ug/m3\n",
       "count  56052.000000   56052.000000  56052.000000     56052.000000\n",
       "mean   28223.500000      84.821469     65.117766        54.391926\n",
       "std    16180.962981       4.319505      8.550730        42.205997\n",
       "min      198.000000      70.000000     29.000000         0.780000\n",
       "25%    14210.750000      82.000000     61.000000        30.170000\n",
       "50%    28223.500000      84.000000     68.000000        41.450000\n",
       "75%    42236.250000      87.000000     71.000000        61.190000\n",
       "max    56249.000000     108.000000     89.000000       568.080000"
      ]
     },
     "execution_count": 17,
     "metadata": {},
     "output_type": "execute_result"
    }
   ],
   "source": [
    "Port_H_air.describe()"
   ]
  },
  {
   "cell_type": "code",
   "execution_count": 26,
   "metadata": {},
   "outputs": [],
   "source": [
    "Port_H_air = Port_H_air.rename(columns = {'created_at':'Date', 'Temperature_F':'Temperature(F)','Humidity_%':'Humidity', 'PM2.5_ATM_ug/m3':'PM2.5'})"
   ]
  },
  {
   "cell_type": "code",
   "execution_count": 27,
   "metadata": {},
   "outputs": [
    {
     "data": {
      "text/html": [
       "<div>\n",
       "<style scoped>\n",
       "    .dataframe tbody tr th:only-of-type {\n",
       "        vertical-align: middle;\n",
       "    }\n",
       "\n",
       "    .dataframe tbody tr th {\n",
       "        vertical-align: top;\n",
       "    }\n",
       "\n",
       "    .dataframe thead th {\n",
       "        text-align: right;\n",
       "    }\n",
       "</style>\n",
       "<table border=\"1\" class=\"dataframe\">\n",
       "  <thead>\n",
       "    <tr style=\"text-align: right;\">\n",
       "      <th></th>\n",
       "      <th>Date</th>\n",
       "      <th>entry_id</th>\n",
       "      <th>Temperature(F)</th>\n",
       "      <th>Humidity</th>\n",
       "      <th>PM2.5</th>\n",
       "    </tr>\n",
       "  </thead>\n",
       "  <tbody>\n",
       "    <tr>\n",
       "      <th>0</th>\n",
       "      <td>2021-07-26 16:45:59 UTC</td>\n",
       "      <td>198</td>\n",
       "      <td>89</td>\n",
       "      <td>50</td>\n",
       "      <td>40.78</td>\n",
       "    </tr>\n",
       "    <tr>\n",
       "      <th>1</th>\n",
       "      <td>2021-07-26 16:48:03 UTC</td>\n",
       "      <td>199</td>\n",
       "      <td>89</td>\n",
       "      <td>50</td>\n",
       "      <td>40.09</td>\n",
       "    </tr>\n",
       "    <tr>\n",
       "      <th>2</th>\n",
       "      <td>2021-07-26 16:49:59 UTC</td>\n",
       "      <td>200</td>\n",
       "      <td>89</td>\n",
       "      <td>50</td>\n",
       "      <td>37.93</td>\n",
       "    </tr>\n",
       "    <tr>\n",
       "      <th>3</th>\n",
       "      <td>2021-07-26 16:54:03 UTC</td>\n",
       "      <td>201</td>\n",
       "      <td>89</td>\n",
       "      <td>50</td>\n",
       "      <td>33.18</td>\n",
       "    </tr>\n",
       "    <tr>\n",
       "      <th>4</th>\n",
       "      <td>2021-07-26 16:55:59 UTC</td>\n",
       "      <td>202</td>\n",
       "      <td>89</td>\n",
       "      <td>50</td>\n",
       "      <td>37.84</td>\n",
       "    </tr>\n",
       "    <tr>\n",
       "      <th>...</th>\n",
       "      <td>...</td>\n",
       "      <td>...</td>\n",
       "      <td>...</td>\n",
       "      <td>...</td>\n",
       "      <td>...</td>\n",
       "    </tr>\n",
       "    <tr>\n",
       "      <th>56047</th>\n",
       "      <td>2021-10-25 09:28:43 UTC</td>\n",
       "      <td>56245</td>\n",
       "      <td>87</td>\n",
       "      <td>61</td>\n",
       "      <td>29.17</td>\n",
       "    </tr>\n",
       "    <tr>\n",
       "      <th>56048</th>\n",
       "      <td>2021-10-25 09:30:43 UTC</td>\n",
       "      <td>56246</td>\n",
       "      <td>87</td>\n",
       "      <td>61</td>\n",
       "      <td>29.57</td>\n",
       "    </tr>\n",
       "    <tr>\n",
       "      <th>56049</th>\n",
       "      <td>2021-10-25 09:32:44 UTC</td>\n",
       "      <td>56247</td>\n",
       "      <td>87</td>\n",
       "      <td>61</td>\n",
       "      <td>28.75</td>\n",
       "    </tr>\n",
       "    <tr>\n",
       "      <th>56050</th>\n",
       "      <td>2021-10-25 09:34:44 UTC</td>\n",
       "      <td>56248</td>\n",
       "      <td>87</td>\n",
       "      <td>61</td>\n",
       "      <td>29.97</td>\n",
       "    </tr>\n",
       "    <tr>\n",
       "      <th>56051</th>\n",
       "      <td>2021-10-25 09:36:44 UTC</td>\n",
       "      <td>56249</td>\n",
       "      <td>87</td>\n",
       "      <td>60</td>\n",
       "      <td>30.25</td>\n",
       "    </tr>\n",
       "  </tbody>\n",
       "</table>\n",
       "<p>56052 rows × 5 columns</p>\n",
       "</div>"
      ],
      "text/plain": [
       "                          Date  entry_id  Temperature(F)  Humidity  PM2.5\n",
       "0      2021-07-26 16:45:59 UTC       198              89        50  40.78\n",
       "1      2021-07-26 16:48:03 UTC       199              89        50  40.09\n",
       "2      2021-07-26 16:49:59 UTC       200              89        50  37.93\n",
       "3      2021-07-26 16:54:03 UTC       201              89        50  33.18\n",
       "4      2021-07-26 16:55:59 UTC       202              89        50  37.84\n",
       "...                        ...       ...             ...       ...    ...\n",
       "56047  2021-10-25 09:28:43 UTC     56245              87        61  29.17\n",
       "56048  2021-10-25 09:30:43 UTC     56246              87        61  29.57\n",
       "56049  2021-10-25 09:32:44 UTC     56247              87        61  28.75\n",
       "56050  2021-10-25 09:34:44 UTC     56248              87        61  29.97\n",
       "56051  2021-10-25 09:36:44 UTC     56249              87        60  30.25\n",
       "\n",
       "[56052 rows x 5 columns]"
      ]
     },
     "execution_count": 27,
     "metadata": {},
     "output_type": "execute_result"
    }
   ],
   "source": [
    "Port_H_air"
   ]
  },
  {
   "cell_type": "code",
   "execution_count": 28,
   "metadata": {},
   "outputs": [
    {
     "data": {
      "text/html": [
       "<div>\n",
       "<style scoped>\n",
       "    .dataframe tbody tr th:only-of-type {\n",
       "        vertical-align: middle;\n",
       "    }\n",
       "\n",
       "    .dataframe tbody tr th {\n",
       "        vertical-align: top;\n",
       "    }\n",
       "\n",
       "    .dataframe thead th {\n",
       "        text-align: right;\n",
       "    }\n",
       "</style>\n",
       "<table border=\"1\" class=\"dataframe\">\n",
       "  <thead>\n",
       "    <tr style=\"text-align: right;\">\n",
       "      <th></th>\n",
       "      <th>Date</th>\n",
       "      <th>entry_id</th>\n",
       "      <th>Temperature(F)</th>\n",
       "      <th>Humidity</th>\n",
       "      <th>PM2.5</th>\n",
       "    </tr>\n",
       "  </thead>\n",
       "  <tbody>\n",
       "    <tr>\n",
       "      <th>0</th>\n",
       "      <td>2021-07-26 16:45:59 UTC</td>\n",
       "      <td>198</td>\n",
       "      <td>89</td>\n",
       "      <td>50</td>\n",
       "      <td>40.78</td>\n",
       "    </tr>\n",
       "    <tr>\n",
       "      <th>1</th>\n",
       "      <td>2021-07-26 16:48:03 UTC</td>\n",
       "      <td>199</td>\n",
       "      <td>89</td>\n",
       "      <td>50</td>\n",
       "      <td>40.09</td>\n",
       "    </tr>\n",
       "    <tr>\n",
       "      <th>2</th>\n",
       "      <td>2021-07-26 16:49:59 UTC</td>\n",
       "      <td>200</td>\n",
       "      <td>89</td>\n",
       "      <td>50</td>\n",
       "      <td>37.93</td>\n",
       "    </tr>\n",
       "    <tr>\n",
       "      <th>3</th>\n",
       "      <td>2021-07-26 16:54:03 UTC</td>\n",
       "      <td>201</td>\n",
       "      <td>89</td>\n",
       "      <td>50</td>\n",
       "      <td>33.18</td>\n",
       "    </tr>\n",
       "    <tr>\n",
       "      <th>4</th>\n",
       "      <td>2021-07-26 16:55:59 UTC</td>\n",
       "      <td>202</td>\n",
       "      <td>89</td>\n",
       "      <td>50</td>\n",
       "      <td>37.84</td>\n",
       "    </tr>\n",
       "    <tr>\n",
       "      <th>...</th>\n",
       "      <td>...</td>\n",
       "      <td>...</td>\n",
       "      <td>...</td>\n",
       "      <td>...</td>\n",
       "      <td>...</td>\n",
       "    </tr>\n",
       "    <tr>\n",
       "      <th>56047</th>\n",
       "      <td>2021-10-25 09:28:43 UTC</td>\n",
       "      <td>56245</td>\n",
       "      <td>87</td>\n",
       "      <td>61</td>\n",
       "      <td>29.17</td>\n",
       "    </tr>\n",
       "    <tr>\n",
       "      <th>56048</th>\n",
       "      <td>2021-10-25 09:30:43 UTC</td>\n",
       "      <td>56246</td>\n",
       "      <td>87</td>\n",
       "      <td>61</td>\n",
       "      <td>29.57</td>\n",
       "    </tr>\n",
       "    <tr>\n",
       "      <th>56049</th>\n",
       "      <td>2021-10-25 09:32:44 UTC</td>\n",
       "      <td>56247</td>\n",
       "      <td>87</td>\n",
       "      <td>61</td>\n",
       "      <td>28.75</td>\n",
       "    </tr>\n",
       "    <tr>\n",
       "      <th>56050</th>\n",
       "      <td>2021-10-25 09:34:44 UTC</td>\n",
       "      <td>56248</td>\n",
       "      <td>87</td>\n",
       "      <td>61</td>\n",
       "      <td>29.97</td>\n",
       "    </tr>\n",
       "    <tr>\n",
       "      <th>56051</th>\n",
       "      <td>2021-10-25 09:36:44 UTC</td>\n",
       "      <td>56249</td>\n",
       "      <td>87</td>\n",
       "      <td>60</td>\n",
       "      <td>30.25</td>\n",
       "    </tr>\n",
       "  </tbody>\n",
       "</table>\n",
       "<p>56052 rows × 5 columns</p>\n",
       "</div>"
      ],
      "text/plain": [
       "                          Date  entry_id  Temperature(F)  Humidity  PM2.5\n",
       "0      2021-07-26 16:45:59 UTC       198              89        50  40.78\n",
       "1      2021-07-26 16:48:03 UTC       199              89        50  40.09\n",
       "2      2021-07-26 16:49:59 UTC       200              89        50  37.93\n",
       "3      2021-07-26 16:54:03 UTC       201              89        50  33.18\n",
       "4      2021-07-26 16:55:59 UTC       202              89        50  37.84\n",
       "...                        ...       ...             ...       ...    ...\n",
       "56047  2021-10-25 09:28:43 UTC     56245              87        61  29.17\n",
       "56048  2021-10-25 09:30:43 UTC     56246              87        61  29.57\n",
       "56049  2021-10-25 09:32:44 UTC     56247              87        61  28.75\n",
       "56050  2021-10-25 09:34:44 UTC     56248              87        61  29.97\n",
       "56051  2021-10-25 09:36:44 UTC     56249              87        60  30.25\n",
       "\n",
       "[56052 rows x 5 columns]"
      ]
     },
     "execution_count": 28,
     "metadata": {},
     "output_type": "execute_result"
    }
   ],
   "source": [
    "Port_H_air"
   ]
  },
  {
   "cell_type": "code",
   "execution_count": 30,
   "metadata": {},
   "outputs": [
    {
     "data": {
      "image/png": "[encoded data removed]",
      "text/plain": [
       "<Figure size 432x288 with 1 Axes>"
      ]
     },
     "metadata": {
      "needs_background": "light"
     },
     "output_type": "display_data"
    }
   ],
   "source": [
    "outliers = Port_H_air.plot.box()"
   ]
  },
  {
   "cell_type": "code",
   "execution_count": 34,
   "metadata": {},
   "outputs": [],
   "source": [
    "Port_H_air= Port_H_air.drop(['entry_id'], axis = 1)"
   ]
  },
  {
   "cell_type": "code",
   "execution_count": 35,
   "metadata": {},
   "outputs": [
    {
     "data": {
      "text/plain": [
       "<AxesSubplot:>"
      ]
     },
     "execution_count": 35,
     "metadata": {},
     "output_type": "execute_result"
    },
    {
     "data": {
      "image/png": "[encoded data removed]",
      "text/plain": [
       "<Figure size 432x288 with 1 Axes>"
      ]
     },
     "metadata": {
      "needs_background": "light"
     },
     "output_type": "display_data"
    }
   ],
   "source": [
    "#checking for outliers\n",
    "Port_H_air.boxplot()"
   ]
  },
  {
   "cell_type": "code",
   "execution_count": 36,
   "metadata": {},
   "outputs": [
    {
     "data": {
      "text/html": [
       "<div>\n",
       "<style scoped>\n",
       "    .dataframe tbody tr th:only-of-type {\n",
       "        vertical-align: middle;\n",
       "    }\n",
       "\n",
       "    .dataframe tbody tr th {\n",
       "        vertical-align: top;\n",
       "    }\n",
       "\n",
       "    .dataframe thead th {\n",
       "        text-align: right;\n",
       "    }\n",
       "</style>\n",
       "<table border=\"1\" class=\"dataframe\">\n",
       "  <thead>\n",
       "    <tr style=\"text-align: right;\">\n",
       "      <th></th>\n",
       "      <th>Date</th>\n",
       "      <th>Temperature(F)</th>\n",
       "      <th>Humidity</th>\n",
       "      <th>PM2.5</th>\n",
       "    </tr>\n",
       "  </thead>\n",
       "  <tbody>\n",
       "    <tr>\n",
       "      <th>0</th>\n",
       "      <td>2021-07-26 16:45:59 UTC</td>\n",
       "      <td>89</td>\n",
       "      <td>50</td>\n",
       "      <td>40.78</td>\n",
       "    </tr>\n",
       "    <tr>\n",
       "      <th>1</th>\n",
       "      <td>2021-07-26 16:48:03 UTC</td>\n",
       "      <td>89</td>\n",
       "      <td>50</td>\n",
       "      <td>40.09</td>\n",
       "    </tr>\n",
       "    <tr>\n",
       "      <th>2</th>\n",
       "      <td>2021-07-26 16:49:59 UTC</td>\n",
       "      <td>89</td>\n",
       "      <td>50</td>\n",
       "      <td>37.93</td>\n",
       "    </tr>\n",
       "    <tr>\n",
       "      <th>3</th>\n",
       "      <td>2021-07-26 16:54:03 UTC</td>\n",
       "      <td>89</td>\n",
       "      <td>50</td>\n",
       "      <td>33.18</td>\n",
       "    </tr>\n",
       "    <tr>\n",
       "      <th>4</th>\n",
       "      <td>2021-07-26 16:55:59 UTC</td>\n",
       "      <td>89</td>\n",
       "      <td>50</td>\n",
       "      <td>37.84</td>\n",
       "    </tr>\n",
       "    <tr>\n",
       "      <th>...</th>\n",
       "      <td>...</td>\n",
       "      <td>...</td>\n",
       "      <td>...</td>\n",
       "      <td>...</td>\n",
       "    </tr>\n",
       "    <tr>\n",
       "      <th>56047</th>\n",
       "      <td>2021-10-25 09:28:43 UTC</td>\n",
       "      <td>87</td>\n",
       "      <td>61</td>\n",
       "      <td>29.17</td>\n",
       "    </tr>\n",
       "    <tr>\n",
       "      <th>56048</th>\n",
       "      <td>2021-10-25 09:30:43 UTC</td>\n",
       "      <td>87</td>\n",
       "      <td>61</td>\n",
       "      <td>29.57</td>\n",
       "    </tr>\n",
       "    <tr>\n",
       "      <th>56049</th>\n",
       "      <td>2021-10-25 09:32:44 UTC</td>\n",
       "      <td>87</td>\n",
       "      <td>61</td>\n",
       "      <td>28.75</td>\n",
       "    </tr>\n",
       "    <tr>\n",
       "      <th>56050</th>\n",
       "      <td>2021-10-25 09:34:44 UTC</td>\n",
       "      <td>87</td>\n",
       "      <td>61</td>\n",
       "      <td>29.97</td>\n",
       "    </tr>\n",
       "    <tr>\n",
       "      <th>56051</th>\n",
       "      <td>2021-10-25 09:36:44 UTC</td>\n",
       "      <td>87</td>\n",
       "      <td>60</td>\n",
       "      <td>30.25</td>\n",
       "    </tr>\n",
       "  </tbody>\n",
       "</table>\n",
       "<p>56052 rows × 4 columns</p>\n",
       "</div>"
      ],
      "text/plain": [
       "                          Date  Temperature(F)  Humidity  PM2.5\n",
       "0      2021-07-26 16:45:59 UTC              89        50  40.78\n",
       "1      2021-07-26 16:48:03 UTC              89        50  40.09\n",
       "2      2021-07-26 16:49:59 UTC              89        50  37.93\n",
       "3      2021-07-26 16:54:03 UTC              89        50  33.18\n",
       "4      2021-07-26 16:55:59 UTC              89        50  37.84\n",
       "...                        ...             ...       ...    ...\n",
       "56047  2021-10-25 09:28:43 UTC              87        61  29.17\n",
       "56048  2021-10-25 09:30:43 UTC              87        61  29.57\n",
       "56049  2021-10-25 09:32:44 UTC              87        61  28.75\n",
       "56050  2021-10-25 09:34:44 UTC              87        61  29.97\n",
       "56051  2021-10-25 09:36:44 UTC              87        60  30.25\n",
       "\n",
       "[56052 rows x 4 columns]"
      ]
     },
     "execution_count": 36,
     "metadata": {},
     "output_type": "execute_result"
    }
   ],
   "source": [
    "Port_H_air"
   ]
  },
  {
   "cell_type": "code",
   "execution_count": 39,
   "metadata": {},
   "outputs": [
    {
     "data": {
      "image/png": "[encoded data removed]",
      "text/plain": [
       "<Figure size 432x288 with 1 Axes>"
      ]
     },
     "metadata": {
      "needs_background": "light"
     },
     "output_type": "display_data"
    }
   ],
   "source": [
    "#relationship analysis\n",
    "X = Port_H_air['Temperature(F)']\n",
    "Y= Port_H_air['PM2.5']\n",
    "plt.scatter(X, Y)\n",
    "plt.show()"
   ]
  },
  {
   "cell_type": "code",
   "execution_count": null,
   "metadata": {},
   "outputs": [],
   "source": [
    "# It appears the temperature and the PM2.5 have a strong negative correlation"
   ]
  },
  {
   "cell_type": "code",
   "execution_count": 40,
   "metadata": {},
   "outputs": [
    {
     "data": {
      "image/png": "[encoded data removed]",
      "text/plain": [
       "<Figure size 432x288 with 1 Axes>"
      ]
     },
     "metadata": {
      "needs_background": "light"
     },
     "output_type": "display_data"
    }
   ],
   "source": [
    "X = Port_H_air['Humidity']\n",
    "Y= Port_H_air['PM2.5']\n",
    "plt.scatter(X, Y)\n",
    "plt.show()"
   ]
  },
  {
   "cell_type": "code",
   "execution_count": null,
   "metadata": {},
   "outputs": [],
   "source": [
    "# The PM2.5 has a positive correllation with humidity as can be seen here."
   ]
  }
 ],
 "metadata": {
  "kernelspec": {
   "display_name": "Python 3",
   "language": "python",
   "name": "python3"
  },
  "language_info": {
   "codemirror_mode": {
    "name": "ipython",
    "version": 3
   },
   "file_extension": ".py",
   "mimetype": "text/x-python",
   "name": "python",
   "nbconvert_exporter": "python",
   "pygments_lexer": "ipython3",
   "version": "3.8.5"
  }
 },
 "nbformat": 4,
 "nbformat_minor": 4
}
