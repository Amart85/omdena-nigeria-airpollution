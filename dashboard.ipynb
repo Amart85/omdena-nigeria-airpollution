{
 "cells": [
  {
   "cell_type": "markdown",
   "metadata": {},
   "source": [
    "## Dashboard - Leveraging Data Science Techniques to raise awareness of air pollution in Nigeria"
   ]
  },
  {
   "cell_type": "markdown",
   "metadata": {},
   "source": [
    "## The project goals\n",
    "> Using data visualization to create engaing dashboards to raise awareness about air pollution."
   ]
  },
  {
   "cell_type": "markdown",
   "metadata": {},
   "source": [
    "## Dashboarding tips"
   ]
  },
  {
   "cell_type": "markdown",
   "metadata": {},
   "source": [
    "You don’t need to be a designer to build a dashboard that clearly communicates your key goals and metrics. Whether you’re just getting started or have a dashboard in need of a rethink, our dashboard design checklist will help you achieve the results you’re after.\n",
    "\n",
    "* Be clear about what you're trying to achieve – your board’s purpose will inform its design\n",
    "\n",
    "* Only include what’s important – everything should support your board’s intent\n",
    "\n",
    "* Use size and position to show hierarchy – make it clear to the viewer what’s most important\n",
    "\n",
    "* Give your numbers context – help your viewers know if a number’s good or bad\n",
    "\n",
    "* Group your related metrics – make your metrics easy to find\n",
    "\n",
    "* Be consistent – using the same visualizations and layouts makes comparing easier\n",
    "\n",
    "* Use clear labels for your audience – keep them short and self explanatory\n",
    "\n",
    "* Round your numbers – too much detail could make minor changes seem major\n",
    "\n",
    "* Keep evolving your dashboards – check that your dashboard is encouraging the right behaviour\n",
    "\n",
    "Resources from: https://www.geckoboard.com/best-practice/dashboard-design/"
   ]
  },
  {
   "cell_type": "markdown",
   "metadata": {},
   "source": []
  }
 ],
 "metadata": {
  "language_info": {
   "name": "python"
  },
  "orig_nbformat": 4
 },
 "nbformat": 4,
 "nbformat_minor": 2
}
