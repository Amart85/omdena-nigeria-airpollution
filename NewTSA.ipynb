{
 "cells": [
  {
   "cell_type": "code",
   "execution_count": null,
   "id": "Ib1uqyBObTiN",
   "metadata": {
    "colab": {
     "base_uri": "https://localhost:8080/"
    },
    "id": "Ib1uqyBObTiN",
    "outputId": "ebede48f-b3a9-4619-b312-ce14e7f17cf0"
   },
   "outputs": [
    {
     "name": "stdout",
     "output_type": "stream",
     "text": [
      "Drive already mounted at /content/drive/; to attempt to forcibly remount, call drive.mount(\"/content/drive/\", force_remount=True).\n"
     ]
    }
   ],
   "source": [
    "from google.colab import drive\n",
    "drive.mount('/content/drive/')"
   ]
  },
  {
   "cell_type": "markdown",
   "id": "1b1d9ccc",
   "metadata": {
    "id": "1b1d9ccc"
   },
   "source": [
    "### Importing packages needed"
   ]
  },
  {
   "cell_type": "code",
   "execution_count": null,
   "id": "ae6d2a2c",
   "metadata": {
    "id": "ae6d2a2c"
   },
   "outputs": [],
   "source": [
    "import pandas as pd \n",
    "import numpy as np"
   ]
  },
  {
   "cell_type": "markdown",
   "id": "04327dd5",
   "metadata": {
    "id": "04327dd5"
   },
   "source": [
    "### Importing the data"
   ]
  },
  {
   "cell_type": "code",
   "execution_count": 727,
   "id": "bf1a88b6",
   "metadata": {
    "id": "bf1a88b6"
   },
   "outputs": [],
   "source": [
    "path = \"/content/drive/MyDrive/Omdela/port_harcourt__nigeria__4.80678_7.002953_.csv\"\n",
    "NewTSA = pd.read_csv(path, parse_dates=['created_at'])\n",
    "NewTSA.rename(columns={'PM2.5_ATM_ug/m3':'pm', 'entry_id':'entryId', 'created_at':'createdAt', 'Temperature_F':'Temperature', 'Humidity_%':'Humidity'}, inplace=True)\n",
    "NewTSA.set_index('createdAt', inplace=True)"
   ]
  },
  {
   "cell_type": "code",
   "execution_count": 728,
   "id": "860b3f8b",
   "metadata": {
    "colab": {
     "base_uri": "https://localhost:8080/",
     "height": 238
    },
    "id": "860b3f8b",
    "outputId": "194954fb-6802-4224-bc6f-56369d12be67"
   },
   "outputs": [
    {
     "data": {
      "text/html": [
       "<div>\n",
       "<style scoped>\n",
       "    .dataframe tbody tr th:only-of-type {\n",
       "        vertical-align: middle;\n",
       "    }\n",
       "\n",
       "    .dataframe tbody tr th {\n",
       "        vertical-align: top;\n",
       "    }\n",
       "\n",
       "    .dataframe thead th {\n",
       "        text-align: right;\n",
       "    }\n",
       "</style>\n",
       "<table border=\"1\" class=\"dataframe\">\n",
       "  <thead>\n",
       "    <tr style=\"text-align: right;\">\n",
       "      <th></th>\n",
       "      <th>entryId</th>\n",
       "      <th>Temperature</th>\n",
       "      <th>Humidity</th>\n",
       "      <th>pm</th>\n",
       "    </tr>\n",
       "    <tr>\n",
       "      <th>createdAt</th>\n",
       "      <th></th>\n",
       "      <th></th>\n",
       "      <th></th>\n",
       "      <th></th>\n",
       "    </tr>\n",
       "  </thead>\n",
       "  <tbody>\n",
       "    <tr>\n",
       "      <th>2021-07-26 16:45:59+00:00</th>\n",
       "      <td>198</td>\n",
       "      <td>89</td>\n",
       "      <td>50</td>\n",
       "      <td>40.78</td>\n",
       "    </tr>\n",
       "    <tr>\n",
       "      <th>2021-07-26 16:48:03+00:00</th>\n",
       "      <td>199</td>\n",
       "      <td>89</td>\n",
       "      <td>50</td>\n",
       "      <td>40.09</td>\n",
       "    </tr>\n",
       "    <tr>\n",
       "      <th>2021-07-26 16:49:59+00:00</th>\n",
       "      <td>200</td>\n",
       "      <td>89</td>\n",
       "      <td>50</td>\n",
       "      <td>37.93</td>\n",
       "    </tr>\n",
       "    <tr>\n",
       "      <th>2021-07-26 16:54:03+00:00</th>\n",
       "      <td>201</td>\n",
       "      <td>89</td>\n",
       "      <td>50</td>\n",
       "      <td>33.18</td>\n",
       "    </tr>\n",
       "    <tr>\n",
       "      <th>2021-07-26 16:55:59+00:00</th>\n",
       "      <td>202</td>\n",
       "      <td>89</td>\n",
       "      <td>50</td>\n",
       "      <td>37.84</td>\n",
       "    </tr>\n",
       "  </tbody>\n",
       "</table>\n",
       "</div>"
      ],
      "text/plain": [
       "                           entryId  Temperature  Humidity     pm\n",
       "createdAt                                                       \n",
       "2021-07-26 16:45:59+00:00      198           89        50  40.78\n",
       "2021-07-26 16:48:03+00:00      199           89        50  40.09\n",
       "2021-07-26 16:49:59+00:00      200           89        50  37.93\n",
       "2021-07-26 16:54:03+00:00      201           89        50  33.18\n",
       "2021-07-26 16:55:59+00:00      202           89        50  37.84"
      ]
     },
     "execution_count": 728,
     "metadata": {},
     "output_type": "execute_result"
    }
   ],
   "source": [
    "NewTSA.head()"
   ]
  },
  {
   "cell_type": "code",
   "execution_count": 730,
   "id": "f2f09806",
   "metadata": {
    "colab": {
     "base_uri": "https://localhost:8080/",
     "height": 300
    },
    "id": "f2f09806",
    "outputId": "1cdd379a-2c6a-4098-99a2-2fb75b7d470e"
   },
   "outputs": [
    {
     "data": {
      "text/html": [
       "<div>\n",
       "<style scoped>\n",
       "    .dataframe tbody tr th:only-of-type {\n",
       "        vertical-align: middle;\n",
       "    }\n",
       "\n",
       "    .dataframe tbody tr th {\n",
       "        vertical-align: top;\n",
       "    }\n",
       "\n",
       "    .dataframe thead th {\n",
       "        text-align: right;\n",
       "    }\n",
       "</style>\n",
       "<table border=\"1\" class=\"dataframe\">\n",
       "  <thead>\n",
       "    <tr style=\"text-align: right;\">\n",
       "      <th></th>\n",
       "      <th>entryId</th>\n",
       "      <th>Temperature</th>\n",
       "      <th>Humidity</th>\n",
       "      <th>pm</th>\n",
       "    </tr>\n",
       "  </thead>\n",
       "  <tbody>\n",
       "    <tr>\n",
       "      <th>count</th>\n",
       "      <td>56052.000000</td>\n",
       "      <td>56052.000000</td>\n",
       "      <td>56052.000000</td>\n",
       "      <td>56052.000000</td>\n",
       "    </tr>\n",
       "    <tr>\n",
       "      <th>mean</th>\n",
       "      <td>28223.500000</td>\n",
       "      <td>84.821469</td>\n",
       "      <td>65.117766</td>\n",
       "      <td>54.391926</td>\n",
       "    </tr>\n",
       "    <tr>\n",
       "      <th>std</th>\n",
       "      <td>16180.962981</td>\n",
       "      <td>4.319505</td>\n",
       "      <td>8.550730</td>\n",
       "      <td>42.205997</td>\n",
       "    </tr>\n",
       "    <tr>\n",
       "      <th>min</th>\n",
       "      <td>198.000000</td>\n",
       "      <td>70.000000</td>\n",
       "      <td>29.000000</td>\n",
       "      <td>0.780000</td>\n",
       "    </tr>\n",
       "    <tr>\n",
       "      <th>25%</th>\n",
       "      <td>14210.750000</td>\n",
       "      <td>82.000000</td>\n",
       "      <td>61.000000</td>\n",
       "      <td>30.170000</td>\n",
       "    </tr>\n",
       "    <tr>\n",
       "      <th>50%</th>\n",
       "      <td>28223.500000</td>\n",
       "      <td>84.000000</td>\n",
       "      <td>68.000000</td>\n",
       "      <td>41.450000</td>\n",
       "    </tr>\n",
       "    <tr>\n",
       "      <th>75%</th>\n",
       "      <td>42236.250000</td>\n",
       "      <td>87.000000</td>\n",
       "      <td>71.000000</td>\n",
       "      <td>61.190000</td>\n",
       "    </tr>\n",
       "    <tr>\n",
       "      <th>max</th>\n",
       "      <td>56249.000000</td>\n",
       "      <td>108.000000</td>\n",
       "      <td>89.000000</td>\n",
       "      <td>568.080000</td>\n",
       "    </tr>\n",
       "  </tbody>\n",
       "</table>\n",
       "</div>"
      ],
      "text/plain": [
       "            entryId   Temperature      Humidity            pm\n",
       "count  56052.000000  56052.000000  56052.000000  56052.000000\n",
       "mean   28223.500000     84.821469     65.117766     54.391926\n",
       "std    16180.962981      4.319505      8.550730     42.205997\n",
       "min      198.000000     70.000000     29.000000      0.780000\n",
       "25%    14210.750000     82.000000     61.000000     30.170000\n",
       "50%    28223.500000     84.000000     68.000000     41.450000\n",
       "75%    42236.250000     87.000000     71.000000     61.190000\n",
       "max    56249.000000    108.000000     89.000000    568.080000"
      ]
     },
     "execution_count": 730,
     "metadata": {},
     "output_type": "execute_result"
    }
   ],
   "source": [
    "NewTSA.describe()"
   ]
  },
  {
   "cell_type": "code",
   "execution_count": 731,
   "id": "38d5e18b",
   "metadata": {
    "colab": {
     "base_uri": "https://localhost:8080/",
     "height": 455
    },
    "id": "38d5e18b",
    "outputId": "b2159a1e-9bca-42af-b8b9-8e19370ac649"
   },
   "outputs": [
    {
     "data": {
      "text/html": [
       "<div>\n",
       "<style scoped>\n",
       "    .dataframe tbody tr th:only-of-type {\n",
       "        vertical-align: middle;\n",
       "    }\n",
       "\n",
       "    .dataframe tbody tr th {\n",
       "        vertical-align: top;\n",
       "    }\n",
       "\n",
       "    .dataframe thead th {\n",
       "        text-align: right;\n",
       "    }\n",
       "</style>\n",
       "<table border=\"1\" class=\"dataframe\">\n",
       "  <thead>\n",
       "    <tr style=\"text-align: right;\">\n",
       "      <th></th>\n",
       "      <th>entryId</th>\n",
       "      <th>Temperature</th>\n",
       "      <th>Humidity</th>\n",
       "      <th>pm</th>\n",
       "    </tr>\n",
       "    <tr>\n",
       "      <th>createdAt</th>\n",
       "      <th></th>\n",
       "      <th></th>\n",
       "      <th></th>\n",
       "      <th></th>\n",
       "    </tr>\n",
       "  </thead>\n",
       "  <tbody>\n",
       "    <tr>\n",
       "      <th>2021-07-26 16:45:59+00:00</th>\n",
       "      <td>198</td>\n",
       "      <td>89</td>\n",
       "      <td>50</td>\n",
       "      <td>40.78</td>\n",
       "    </tr>\n",
       "    <tr>\n",
       "      <th>2021-07-26 16:48:03+00:00</th>\n",
       "      <td>199</td>\n",
       "      <td>89</td>\n",
       "      <td>50</td>\n",
       "      <td>40.09</td>\n",
       "    </tr>\n",
       "    <tr>\n",
       "      <th>2021-07-26 16:49:59+00:00</th>\n",
       "      <td>200</td>\n",
       "      <td>89</td>\n",
       "      <td>50</td>\n",
       "      <td>37.93</td>\n",
       "    </tr>\n",
       "    <tr>\n",
       "      <th>2021-07-26 16:54:03+00:00</th>\n",
       "      <td>201</td>\n",
       "      <td>89</td>\n",
       "      <td>50</td>\n",
       "      <td>33.18</td>\n",
       "    </tr>\n",
       "    <tr>\n",
       "      <th>2021-07-26 16:55:59+00:00</th>\n",
       "      <td>202</td>\n",
       "      <td>89</td>\n",
       "      <td>50</td>\n",
       "      <td>37.84</td>\n",
       "    </tr>\n",
       "    <tr>\n",
       "      <th>...</th>\n",
       "      <td>...</td>\n",
       "      <td>...</td>\n",
       "      <td>...</td>\n",
       "      <td>...</td>\n",
       "    </tr>\n",
       "    <tr>\n",
       "      <th>2021-10-25 09:28:43+00:00</th>\n",
       "      <td>56245</td>\n",
       "      <td>87</td>\n",
       "      <td>61</td>\n",
       "      <td>29.17</td>\n",
       "    </tr>\n",
       "    <tr>\n",
       "      <th>2021-10-25 09:30:43+00:00</th>\n",
       "      <td>56246</td>\n",
       "      <td>87</td>\n",
       "      <td>61</td>\n",
       "      <td>29.57</td>\n",
       "    </tr>\n",
       "    <tr>\n",
       "      <th>2021-10-25 09:32:44+00:00</th>\n",
       "      <td>56247</td>\n",
       "      <td>87</td>\n",
       "      <td>61</td>\n",
       "      <td>28.75</td>\n",
       "    </tr>\n",
       "    <tr>\n",
       "      <th>2021-10-25 09:34:44+00:00</th>\n",
       "      <td>56248</td>\n",
       "      <td>87</td>\n",
       "      <td>61</td>\n",
       "      <td>29.97</td>\n",
       "    </tr>\n",
       "    <tr>\n",
       "      <th>2021-10-25 09:36:44+00:00</th>\n",
       "      <td>56249</td>\n",
       "      <td>87</td>\n",
       "      <td>60</td>\n",
       "      <td>30.25</td>\n",
       "    </tr>\n",
       "  </tbody>\n",
       "</table>\n",
       "<p>56052 rows × 4 columns</p>\n",
       "</div>"
      ],
      "text/plain": [
       "                           entryId  Temperature  Humidity     pm\n",
       "createdAt                                                       \n",
       "2021-07-26 16:45:59+00:00      198           89        50  40.78\n",
       "2021-07-26 16:48:03+00:00      199           89        50  40.09\n",
       "2021-07-26 16:49:59+00:00      200           89        50  37.93\n",
       "2021-07-26 16:54:03+00:00      201           89        50  33.18\n",
       "2021-07-26 16:55:59+00:00      202           89        50  37.84\n",
       "...                            ...          ...       ...    ...\n",
       "2021-10-25 09:28:43+00:00    56245           87        61  29.17\n",
       "2021-10-25 09:30:43+00:00    56246           87        61  29.57\n",
       "2021-10-25 09:32:44+00:00    56247           87        61  28.75\n",
       "2021-10-25 09:34:44+00:00    56248           87        61  29.97\n",
       "2021-10-25 09:36:44+00:00    56249           87        60  30.25\n",
       "\n",
       "[56052 rows x 4 columns]"
      ]
     },
     "execution_count": 731,
     "metadata": {},
     "output_type": "execute_result"
    }
   ],
   "source": [
    "NewTSA"
   ]
  },
  {
   "cell_type": "markdown",
   "id": "837f1649",
   "metadata": {
    "id": "837f1649"
   },
   "source": [
    "### setting frequency"
   ]
  },
  {
   "cell_type": "code",
   "execution_count": null,
   "id": "7118db30",
   "metadata": {
    "id": "7118db30"
   },
   "outputs": [],
   "source": [
    "#NewTSA = NewTSA.asfreq('b')"
   ]
  },
  {
   "cell_type": "code",
   "execution_count": null,
   "id": "2bbf7d29",
   "metadata": {
    "id": "2bbf7d29"
   },
   "outputs": [],
   "source": [
    "#NewTSA.head()"
   ]
  },
  {
   "cell_type": "markdown",
   "id": "fb6d3be7",
   "metadata": {
    "id": "fb6d3be7"
   },
   "source": [
    "### Taking care of missing values"
   ]
  },
  {
   "cell_type": "code",
   "execution_count": null,
   "id": "00db7ec5",
   "metadata": {
    "id": "00db7ec5"
   },
   "outputs": [],
   "source": [
    "#NewTSA.isna()"
   ]
  },
  {
   "cell_type": "code",
   "execution_count": null,
   "id": "8b72151f",
   "metadata": {
    "id": "8b72151f"
   },
   "outputs": [],
   "source": [
    "#NewTSA.isna().sum()"
   ]
  },
  {
   "cell_type": "code",
   "execution_count": null,
   "id": "4d32e77f",
   "metadata": {
    "id": "4d32e77f"
   },
   "outputs": [],
   "source": [
    "#NewTSA.entry_id = NewTSA.entry_id.fillna(method = 'ffill')\n",
    "#NewTSA.isna().sum()"
   ]
  },
  {
   "cell_type": "code",
   "execution_count": null,
   "id": "a4298040",
   "metadata": {
    "id": "a4298040"
   },
   "outputs": [],
   "source": [
    "#NewTSA.Temperature_F = NewTSA.Temperature_F.fillna(method = 'ffill')\n",
    "#NewTSA.isna().sum()"
   ]
  },
  {
   "cell_type": "code",
   "execution_count": null,
   "id": "b4e8e4cc",
   "metadata": {
    "id": "b4e8e4cc"
   },
   "outputs": [],
   "source": [
    "#NewTSA.Humidity = NewTSA.Humidity.fillna(value = NewTSA.Humidity.mean())\n",
    "#NewTSA.isna().sum()"
   ]
  },
  {
   "cell_type": "code",
   "execution_count": null,
   "id": "2edff2cb",
   "metadata": {
    "id": "2edff2cb"
   },
   "outputs": [],
   "source": [
    "#NewTSA.PM = NewTSA.PM.fillna(method = 'bfill')\n",
    "#NewTSA.isna().sum()"
   ]
  },
  {
   "cell_type": "markdown",
   "id": "3fa5924e",
   "metadata": {
    "id": "3fa5924e"
   },
   "source": [
    "### Simplifying the dataset"
   ]
  },
  {
   "cell_type": "code",
   "execution_count": 732,
   "id": "a21f3201",
   "metadata": {
    "id": "a21f3201"
   },
   "outputs": [],
   "source": [
    "NewTSA['PM2'] = NewTSA.pm"
   ]
  },
  {
   "cell_type": "code",
   "execution_count": 733,
   "id": "8dafbe41",
   "metadata": {
    "colab": {
     "base_uri": "https://localhost:8080/",
     "height": 300
    },
    "id": "8dafbe41",
    "outputId": "445e8967-d72b-4531-f184-540e9afeac18",
    "scrolled": true
   },
   "outputs": [
    {
     "data": {
      "text/html": [
       "<div>\n",
       "<style scoped>\n",
       "    .dataframe tbody tr th:only-of-type {\n",
       "        vertical-align: middle;\n",
       "    }\n",
       "\n",
       "    .dataframe tbody tr th {\n",
       "        vertical-align: top;\n",
       "    }\n",
       "\n",
       "    .dataframe thead th {\n",
       "        text-align: right;\n",
       "    }\n",
       "</style>\n",
       "<table border=\"1\" class=\"dataframe\">\n",
       "  <thead>\n",
       "    <tr style=\"text-align: right;\">\n",
       "      <th></th>\n",
       "      <th>entryId</th>\n",
       "      <th>Temperature</th>\n",
       "      <th>Humidity</th>\n",
       "      <th>pm</th>\n",
       "      <th>PM2</th>\n",
       "    </tr>\n",
       "  </thead>\n",
       "  <tbody>\n",
       "    <tr>\n",
       "      <th>count</th>\n",
       "      <td>56052.000000</td>\n",
       "      <td>56052.000000</td>\n",
       "      <td>56052.000000</td>\n",
       "      <td>56052.000000</td>\n",
       "      <td>56052.000000</td>\n",
       "    </tr>\n",
       "    <tr>\n",
       "      <th>mean</th>\n",
       "      <td>28223.500000</td>\n",
       "      <td>84.821469</td>\n",
       "      <td>65.117766</td>\n",
       "      <td>54.391926</td>\n",
       "      <td>54.391926</td>\n",
       "    </tr>\n",
       "    <tr>\n",
       "      <th>std</th>\n",
       "      <td>16180.962981</td>\n",
       "      <td>4.319505</td>\n",
       "      <td>8.550730</td>\n",
       "      <td>42.205997</td>\n",
       "      <td>42.205997</td>\n",
       "    </tr>\n",
       "    <tr>\n",
       "      <th>min</th>\n",
       "      <td>198.000000</td>\n",
       "      <td>70.000000</td>\n",
       "      <td>29.000000</td>\n",
       "      <td>0.780000</td>\n",
       "      <td>0.780000</td>\n",
       "    </tr>\n",
       "    <tr>\n",
       "      <th>25%</th>\n",
       "      <td>14210.750000</td>\n",
       "      <td>82.000000</td>\n",
       "      <td>61.000000</td>\n",
       "      <td>30.170000</td>\n",
       "      <td>30.170000</td>\n",
       "    </tr>\n",
       "    <tr>\n",
       "      <th>50%</th>\n",
       "      <td>28223.500000</td>\n",
       "      <td>84.000000</td>\n",
       "      <td>68.000000</td>\n",
       "      <td>41.450000</td>\n",
       "      <td>41.450000</td>\n",
       "    </tr>\n",
       "    <tr>\n",
       "      <th>75%</th>\n",
       "      <td>42236.250000</td>\n",
       "      <td>87.000000</td>\n",
       "      <td>71.000000</td>\n",
       "      <td>61.190000</td>\n",
       "      <td>61.190000</td>\n",
       "    </tr>\n",
       "    <tr>\n",
       "      <th>max</th>\n",
       "      <td>56249.000000</td>\n",
       "      <td>108.000000</td>\n",
       "      <td>89.000000</td>\n",
       "      <td>568.080000</td>\n",
       "      <td>568.080000</td>\n",
       "    </tr>\n",
       "  </tbody>\n",
       "</table>\n",
       "</div>"
      ],
      "text/plain": [
       "            entryId   Temperature      Humidity            pm           PM2\n",
       "count  56052.000000  56052.000000  56052.000000  56052.000000  56052.000000\n",
       "mean   28223.500000     84.821469     65.117766     54.391926     54.391926\n",
       "std    16180.962981      4.319505      8.550730     42.205997     42.205997\n",
       "min      198.000000     70.000000     29.000000      0.780000      0.780000\n",
       "25%    14210.750000     82.000000     61.000000     30.170000     30.170000\n",
       "50%    28223.500000     84.000000     68.000000     41.450000     41.450000\n",
       "75%    42236.250000     87.000000     71.000000     61.190000     61.190000\n",
       "max    56249.000000    108.000000     89.000000    568.080000    568.080000"
      ]
     },
     "execution_count": 733,
     "metadata": {},
     "output_type": "execute_result"
    }
   ],
   "source": [
    "NewTSA.describe()"
   ]
  },
  {
   "cell_type": "code",
   "execution_count": 706,
   "id": "f85eb33e",
   "metadata": {
    "id": "f85eb33e"
   },
   "outputs": [],
   "source": [
    "#del NewTSA['entry_id'], NewTSA['Temperature'], NewTSA['Humidity']"
   ]
  },
  {
   "cell_type": "code",
   "execution_count": 721,
   "id": "e5e2b5ee",
   "metadata": {
    "id": "e5e2b5ee"
   },
   "outputs": [],
   "source": [
    "#NewTSA.describe()"
   ]
  },
  {
   "cell_type": "markdown",
   "id": "iqXVXcU75_fH",
   "metadata": {
    "id": "iqXVXcU75_fH"
   },
   "source": [
    "Creating Returns"
   ]
  },
  {
   "cell_type": "code",
   "execution_count": 724,
   "id": "Hwfwi2rJ6CI1",
   "metadata": {
    "id": "Hwfwi2rJ6CI1"
   },
   "outputs": [],
   "source": [
    "NewTSA['ret_entryId'] = NewTSA.entryId\n"
   ]
  },
  {
   "cell_type": "markdown",
   "id": "d1af2fe1",
   "metadata": {
    "id": "d1af2fe1"
   },
   "source": [
    "### Splitting the data"
   ]
  },
  {
   "cell_type": "code",
   "execution_count": 709,
   "id": "8fee30d3",
   "metadata": {
    "id": "8fee30d3"
   },
   "outputs": [],
   "source": [
    "size = int(len(NewTSA)*0.8)"
   ]
  },
  {
   "cell_type": "code",
   "execution_count": null,
   "id": "36bf9897",
   "metadata": {
    "id": "36bf9897"
   },
   "outputs": [],
   "source": [
    "df = NewTSA.iloc[:size]"
   ]
  },
  {
   "cell_type": "code",
   "execution_count": null,
   "id": "fc0531cb",
   "metadata": {
    "id": "fc0531cb"
   },
   "outputs": [],
   "source": [
    "df_test = NewTSA.iloc[size:]"
   ]
  },
  {
   "cell_type": "code",
   "execution_count": null,
   "id": "76ca2f04",
   "metadata": {
    "id": "76ca2f04"
   },
   "outputs": [],
   "source": [
    "df.tail()"
   ]
  },
  {
   "cell_type": "code",
   "execution_count": null,
   "id": "0224a70c",
   "metadata": {
    "id": "0224a70c"
   },
   "outputs": [],
   "source": [
    "df_test.head()"
   ]
  },
  {
   "cell_type": "markdown",
   "id": "a1386f12",
   "metadata": {
    "id": "a1386f12"
   },
   "source": [
    "### White Noise"
   ]
  },
  {
   "cell_type": "code",
   "execution_count": null,
   "id": "dd2c86c1",
   "metadata": {
    "id": "dd2c86c1"
   },
   "outputs": [],
   "source": [
    "import matplotlib.pyplot as plt\n",
    "import statsmodels.graphics.tsaplots as sgt\n",
    "from statsmodels.tsa import api as sts\n",
    "from statsmodels.tsa.seasonal import seasonal_decompose\n",
    "import seaborn as sns\n",
    "sns.set()"
   ]
  },
  {
   "cell_type": "code",
   "execution_count": null,
   "id": "e19b5e4d",
   "metadata": {
    "id": "e19b5e4d"
   },
   "outputs": [],
   "source": [
    "wn = np.random.normal(loc = df.PM2.mean(), scale = df.PM2.std(), size = len(df))"
   ]
  },
  {
   "cell_type": "code",
   "execution_count": null,
   "id": "8fba0729",
   "metadata": {
    "id": "8fba0729"
   },
   "outputs": [],
   "source": [
    "df['wn'] = wn"
   ]
  },
  {
   "cell_type": "code",
   "execution_count": null,
   "id": "84af8c07",
   "metadata": {
    "id": "84af8c07"
   },
   "outputs": [],
   "source": [
    "df.describe()"
   ]
  },
  {
   "cell_type": "code",
   "execution_count": null,
   "id": "f470fa97",
   "metadata": {
    "id": "f470fa97"
   },
   "outputs": [],
   "source": [
    "df.wn.plot(figsize = (20,5))\n",
    "plt.title('White Noise', size = 24)\n",
    "plt.show()"
   ]
  },
  {
   "cell_type": "code",
   "execution_count": null,
   "id": "3222290d",
   "metadata": {
    "id": "3222290d"
   },
   "outputs": [],
   "source": [
    "df.PM2.plot(figsize = (20,5))\n",
    "plt.title('PM', size = 24)\n",
    "plt.ylim(-100, 200)\n",
    "plt.show()"
   ]
  },
  {
   "cell_type": "markdown",
   "id": "347f1b1f",
   "metadata": {
    "id": "347f1b1f"
   },
   "source": [
    "### Stationary"
   ]
  },
  {
   "cell_type": "code",
   "execution_count": null,
   "id": "edaafb57",
   "metadata": {
    "id": "edaafb57"
   },
   "outputs": [],
   "source": [
    "sts.adfuller(df.PM2)"
   ]
  },
  {
   "cell_type": "code",
   "execution_count": null,
   "id": "f937a6a2",
   "metadata": {
    "id": "f937a6a2"
   },
   "outputs": [],
   "source": [
    "sts.adfuller(df.wn)"
   ]
  },
  {
   "cell_type": "markdown",
   "id": "0b699006",
   "metadata": {
    "id": "0b699006"
   },
   "source": [
    "### Seasonality"
   ]
  },
  {
   "cell_type": "code",
   "execution_count": null,
   "id": "6578b7dc",
   "metadata": {
    "id": "6578b7dc"
   },
   "outputs": [],
   "source": [
    "s_dec_additive = seasonal_decompose(df.PM2, model = 'additive', freq=50)\n",
    "s_dec_additive.plot()\n",
    "plt.show()"
   ]
  },
  {
   "cell_type": "code",
   "execution_count": null,
   "id": "68305c1c",
   "metadata": {
    "id": "68305c1c"
   },
   "outputs": [],
   "source": [
    "s_dec_multiplicative = seasonal_decompose(df.PM2, model = 'multiplicative', freq=50)\n",
    "s_dec_multiplicative.plot()\n",
    "plt.show()"
   ]
  },
  {
   "cell_type": "markdown",
   "id": "e5397c31",
   "metadata": {
    "id": "e5397c31"
   },
   "source": [
    "### ACF"
   ]
  },
  {
   "cell_type": "code",
   "execution_count": null,
   "id": "dc37481b",
   "metadata": {
    "id": "dc37481b"
   },
   "outputs": [],
   "source": [
    "sgt.plot_acf(df.PM2, lags = 40, zero = False)\n",
    "plt.title('ACF PM2', size = 24)\n",
    "plt.show()"
   ]
  },
  {
   "cell_type": "code",
   "execution_count": null,
   "id": "0c78b03a",
   "metadata": {
    "id": "0c78b03a"
   },
   "outputs": [],
   "source": [
    "sgt.plot_acf(df.wn, lags = 40, zero = False)\n",
    "plt.title('ACF WN', size = 24)\n",
    "plt.show()"
   ]
  },
  {
   "cell_type": "markdown",
   "id": "14427cf4",
   "metadata": {
    "id": "14427cf4"
   },
   "source": [
    "### PACF"
   ]
  },
  {
   "cell_type": "code",
   "execution_count": null,
   "id": "76626aa9",
   "metadata": {
    "id": "76626aa9"
   },
   "outputs": [],
   "source": [
    "sgt.plot_pacf(df.PM2, lags = 40, zero = False, method=('ols'))\n",
    "plt.title('PACF PM2', size = 24)\n",
    "plt.show()"
   ]
  },
  {
   "cell_type": "code",
   "execution_count": null,
   "id": "51e53a63",
   "metadata": {
    "id": "51e53a63"
   },
   "outputs": [],
   "source": [
    "sgt.plot_pacf(df.wn, lags = 40, zero = False, method=('ols'))\n",
    "plt.title('PACF WN', size = 24)\n",
    "plt.show()"
   ]
  },
  {
   "cell_type": "markdown",
   "id": "d89c1b20",
   "metadata": {
    "id": "d89c1b20"
   },
   "source": [
    "### AR(1) Model"
   ]
  },
  {
   "cell_type": "code",
   "execution_count": null,
   "id": "3159057c",
   "metadata": {
    "id": "3159057c"
   },
   "outputs": [],
   "source": [
    "import statsmodels\n",
    "statsmodels.__version__\n",
    "import statsmodels.api as sm\n",
    "\n",
    "import warnings\n",
    "warnings.filterwarnings('ignore')\n",
    "\n",
    "from statsmodels.tsa.arima_model import ARMA\n",
    "from scipy.stats.distributions import chi2\n",
    "model_ar = ARMA(df.PM2, order = (1,0))"
   ]
  },
  {
   "cell_type": "code",
   "execution_count": null,
   "id": "e7872a27",
   "metadata": {
    "id": "e7872a27"
   },
   "outputs": [],
   "source": [
    "result_ar = model_ar.fit()"
   ]
  },
  {
   "cell_type": "code",
   "execution_count": null,
   "id": "8d244d36",
   "metadata": {
    "id": "8d244d36"
   },
   "outputs": [],
   "source": [
    "result_ar.summary()"
   ]
  },
  {
   "cell_type": "markdown",
   "id": "6643aeab",
   "metadata": {
    "id": "6643aeab"
   },
   "source": [
    "### Higher-Lag AR Models"
   ]
  },
  {
   "cell_type": "code",
   "execution_count": null,
   "id": "00403c61",
   "metadata": {
    "id": "00403c61"
   },
   "outputs": [],
   "source": [
    "model_ar_2 = ARMA(df.PM2, order = (2,0))\n",
    "result_ar_2 = model_ar_2.fit()"
   ]
  },
  {
   "cell_type": "code",
   "execution_count": null,
   "id": "a3884378",
   "metadata": {
    "id": "a3884378"
   },
   "outputs": [],
   "source": [
    "result_ar_2.summary()"
   ]
  },
  {
   "cell_type": "code",
   "execution_count": null,
   "id": "1314200a",
   "metadata": {
    "id": "1314200a"
   },
   "outputs": [],
   "source": [
    "model_ar_3 = ARMA(df.PM2, order = (3,0))\n",
    "result_ar_3 = model_ar_3.fit()\n",
    "result_ar_3.summary()"
   ]
  },
  {
   "cell_type": "code",
   "execution_count": null,
   "id": "b64c5434",
   "metadata": {
    "id": "b64c5434"
   },
   "outputs": [],
   "source": [
    "model_ar_4 = ARMA(df.PM2, order = (4,0))\n",
    "result_ar_4 = model_ar_4.fit()\n",
    "result_ar_4.summary()"
   ]
  },
  {
   "cell_type": "markdown",
   "id": "3a3b12b2",
   "metadata": {
    "id": "3a3b12b2"
   },
   "source": [
    "### LLR Test"
   ]
  },
  {
   "cell_type": "code",
   "execution_count": null,
   "id": "f4230ded",
   "metadata": {
    "id": "f4230ded"
   },
   "outputs": [],
   "source": [
    "def LLR_test(mod_1, mod_2, DF=1):\n",
    "    L1 = mod_1.llf\n",
    "    L2 = mod_2.llf\n",
    "    LR = (2*(L2-L1))\n",
    "    p = chi2.sf(LR, DF).round(3)\n",
    "    return p"
   ]
  },
  {
   "cell_type": "markdown",
   "id": "79d10215",
   "metadata": {
    "id": "79d10215"
   },
   "source": [
    "### Comparing Higher-Lag AR Models"
   ]
  },
  {
   "cell_type": "code",
   "execution_count": null,
   "id": "7edc3217",
   "metadata": {
    "id": "7edc3217"
   },
   "outputs": [],
   "source": [
    "LLR_test(result_ar_2, result_ar_3)"
   ]
  },
  {
   "cell_type": "code",
   "execution_count": null,
   "id": "68f5bf42",
   "metadata": {
    "id": "68f5bf42"
   },
   "outputs": [],
   "source": [
    "LLR_test(result_ar_3, result_ar_4)"
   ]
  },
  {
   "cell_type": "code",
   "execution_count": null,
   "id": "889b194d",
   "metadata": {
    "id": "889b194d"
   },
   "outputs": [],
   "source": [
    "model_ar_4 = ARMA(df.PM2, order = [4,0])\n",
    "result_ar_4 = model_ar_4.fit()\n",
    "print(result_ar_4.summary())\n",
    "print('LLR_test: ' + str(LLR_test(result_ar_3, result_ar_4)))"
   ]
  },
  {
   "cell_type": "code",
   "execution_count": null,
   "id": "39e32732",
   "metadata": {
    "id": "39e32732"
   },
   "outputs": [],
   "source": [
    "model_ar_5 = ARMA(df.PM2, order = [5,0])\n",
    "result_ar_5 = model_ar_5.fit()\n",
    "print(result_ar_5.summary())\n",
    "print('\\nLLR test p-value = ' + str(LLR_test(result_ar_4, result_ar_5)))"
   ]
  },
  {
   "cell_type": "code",
   "execution_count": null,
   "id": "e845363d",
   "metadata": {
    "id": "e845363d"
   },
   "outputs": [],
   "source": [
    "model_ar_6 = ARMA(df.PM2, order = [6,0])\n",
    "result_ar_6 = model_ar_6.fit()\n",
    "print(result_ar_6.summary())\n",
    "print('\\nLLR test p-value = ' + str(LLR_test(result_ar_5, result_ar_6)))"
   ]
  },
  {
   "cell_type": "code",
   "execution_count": null,
   "id": "b59d6f94",
   "metadata": {
    "id": "b59d6f94"
   },
   "outputs": [],
   "source": [
    "model_ar_7 = ARMA(df.PM2, order = [7,0])\n",
    "result_ar_7 = model_ar_7.fit()\n",
    "print(result_ar_7.summary())\n",
    "print('\\nLLR test p-value = ' + str(LLR_test(result_ar_6, result_ar_7)))"
   ]
  },
  {
   "cell_type": "code",
   "execution_count": null,
   "id": "bc63352c",
   "metadata": {
    "id": "bc63352c"
   },
   "outputs": [],
   "source": [
    "print('LLR_test: ' + str(LLR_test(result_ar, result_ar_7, DF=6)))"
   ]
  },
  {
   "cell_type": "markdown",
   "id": "dd59eca4",
   "metadata": {
    "id": "dd59eca4"
   },
   "source": [
    "### The DF-Test"
   ]
  },
  {
   "cell_type": "code",
   "execution_count": null,
   "id": "afd90183",
   "metadata": {
    "id": "afd90183"
   },
   "outputs": [],
   "source": [
    "sts.adfuller(df.PM2)"
   ]
  },
  {
   "cell_type": "markdown",
   "id": "262a591a",
   "metadata": {
    "id": "262a591a"
   },
   "source": [
    "### Using Returns"
   ]
  },
  {
   "cell_type": "code",
   "execution_count": null,
   "id": "77c5cab7",
   "metadata": {
    "id": "77c5cab7"
   },
   "outputs": [],
   "source": [
    "df['returns'] = df.PM2.pct_change(1).mul(100)\n",
    "df = df.iloc[1:]"
   ]
  },
  {
   "cell_type": "code",
   "execution_count": null,
   "id": "a1bc180c",
   "metadata": {
    "id": "a1bc180c"
   },
   "outputs": [],
   "source": [
    "sts.adfuller(df.returns)"
   ]
  },
  {
   "cell_type": "markdown",
   "id": "3ad58d26",
   "metadata": {
    "id": "3ad58d26"
   },
   "source": [
    "### ACF and PACF Returns"
   ]
  },
  {
   "cell_type": "code",
   "execution_count": null,
   "id": "54f21222",
   "metadata": {
    "id": "54f21222"
   },
   "outputs": [],
   "source": [
    "sgt.plot_acf(df.returns, lags=40, zero=False)\n",
    "plt.title('ACF Humidity Returns', size=24)\n",
    "plt.show()"
   ]
  },
  {
   "cell_type": "code",
   "execution_count": null,
   "id": "eff29cd6",
   "metadata": {
    "id": "eff29cd6"
   },
   "outputs": [],
   "source": [
    "sgt.plot_pacf(df.returns, lags=40, zero=False, method=('ols'))\n",
    "plt.title('PACF Humidity Returns', size=24)\n",
    "plt.show()"
   ]
  },
  {
   "cell_type": "markdown",
   "id": "45379d75",
   "metadata": {
    "id": "45379d75"
   },
   "source": [
    "### AR(1) for Returns "
   ]
  },
  {
   "cell_type": "code",
   "execution_count": null,
   "id": "a812eaaa",
   "metadata": {
    "id": "a812eaaa"
   },
   "outputs": [],
   "source": [
    "model_ret_ar_1 = ARMA(df.returns, order =(1,0))\n",
    "results_ret_ar_1 = model_ret_ar_1.fit()\n",
    "results_ret_ar_1.summary()"
   ]
  },
  {
   "cell_type": "markdown",
   "id": "15a8cdb2",
   "metadata": {
    "id": "15a8cdb2"
   },
   "source": [
    "### Higher-Lag AR Models for Returns"
   ]
  },
  {
   "cell_type": "code",
   "execution_count": null,
   "id": "fef1c79e",
   "metadata": {
    "id": "fef1c79e"
   },
   "outputs": [],
   "source": [
    "model_ret_ar_2 = ARMA(df.returns, order =(2,0))\n",
    "results_ret_ar_2 = model_ret_ar_2.fit()\n",
    "results_ret_ar_2.summary()"
   ]
  },
  {
   "cell_type": "code",
   "execution_count": null,
   "id": "23bf1bf8",
   "metadata": {
    "id": "23bf1bf8"
   },
   "outputs": [],
   "source": [
    "LLR_test(results_ret_ar_1, results_ret_ar_2)"
   ]
  },
  {
   "cell_type": "code",
   "execution_count": null,
   "id": "6a79a254",
   "metadata": {
    "id": "6a79a254"
   },
   "outputs": [],
   "source": [
    "model_ret_ar_3 = ARMA(df.returns, order =(3,0))\n",
    "results_ret_ar_3 = model_ret_ar_3.fit()\n",
    "results_ret_ar_3.summary()"
   ]
  },
  {
   "cell_type": "code",
   "execution_count": null,
   "id": "ace91b9e",
   "metadata": {
    "id": "ace91b9e"
   },
   "outputs": [],
   "source": [
    "LLR_test(results_ret_ar_2, results_ret_ar_3)"
   ]
  },
  {
   "cell_type": "code",
   "execution_count": null,
   "id": "de9f9c2f",
   "metadata": {
    "id": "de9f9c2f"
   },
   "outputs": [],
   "source": [
    "model_ret_ar_3 = ARMA(df.returns, order =(3,0))\n",
    "results_ret_ar_3 = model_ret_ar_3.fit()\n",
    "results_ret_ar_3.summary()"
   ]
  },
  {
   "cell_type": "code",
   "execution_count": null,
   "id": "fb321e1e",
   "metadata": {
    "id": "fb321e1e"
   },
   "outputs": [],
   "source": [
    "model_ret_ar_4 = ARMA(df.returns, order =(4,0))\n",
    "results_ret_ar_4 = model_ret_ar_4.fit()\n",
    "print(results_ret_ar_4.summary())\n",
    "print('LLR test: ' + str(LLR_test(results_ret_ar_3, results_ret_ar_4)))"
   ]
  },
  {
   "cell_type": "code",
   "execution_count": null,
   "id": "e31cf785",
   "metadata": {
    "id": "e31cf785"
   },
   "outputs": [],
   "source": [
    "model_ret_ar_5 = ARMA(df.returns, order =(5,0))\n",
    "results_ret_ar_5 = model_ret_ar_5.fit()\n",
    "print(results_ret_ar_5.summary())\n",
    "print('LLR test: ' + str(LLR_test(results_ret_ar_4, results_ret_ar_5)))"
   ]
  },
  {
   "cell_type": "code",
   "execution_count": null,
   "id": "d461a96c",
   "metadata": {
    "id": "d461a96c"
   },
   "outputs": [],
   "source": [
    "model_ret_ar_6 = ARMA(df.returns, order =(6,0))\n",
    "results_ret_ar_6 = model_ret_ar_6.fit()\n",
    "print(results_ret_ar_6.summary())\n",
    "print('LLR test: ' + str(LLR_test(results_ret_ar_5, results_ret_ar_6)))"
   ]
  },
  {
   "cell_type": "code",
   "execution_count": null,
   "id": "b99053aa",
   "metadata": {
    "id": "b99053aa"
   },
   "outputs": [],
   "source": [
    "model_ret_ar_7 = ARMA(df.returns, order =(7,0))\n",
    "results_ret_ar_7 = model_ret_ar_7.fit()\n",
    "print(results_ret_ar_7.summary())\n",
    "print('LLR test: ' + str(LLR_test(results_ret_ar_6, results_ret_ar_7)))"
   ]
  },
  {
   "cell_type": "markdown",
   "id": "f4af8763",
   "metadata": {
    "id": "f4af8763"
   },
   "source": [
    "### Normalizing Values"
   ]
  },
  {
   "cell_type": "code",
   "execution_count": null,
   "id": "4300e940",
   "metadata": {
    "id": "4300e940"
   },
   "outputs": [],
   "source": [
    "benchmark = df.PM2.iloc[0]\n",
    "df['norm'] = df.PM2.div(benchmark).mul(100)\n",
    "sts.adfuller(df.norm)"
   ]
  },
  {
   "cell_type": "code",
   "execution_count": null,
   "id": "6eb71093",
   "metadata": {
    "id": "6eb71093"
   },
   "outputs": [],
   "source": [
    "bech_ret = df.returns.iloc[0]\n",
    "df['norm_ret'] = df.returns.div(bech_ret).mul(100)\n",
    "sts.adfuller(df.norm_ret)"
   ]
  },
  {
   "cell_type": "markdown",
   "id": "b3743909",
   "metadata": {
    "id": "b3743909"
   },
   "source": [
    "### Normalizing Returns"
   ]
  },
  {
   "cell_type": "code",
   "execution_count": null,
   "id": "96013085",
   "metadata": {
    "id": "96013085"
   },
   "outputs": [],
   "source": [
    "model_norm_ret_ar_1 = ARMA(df.norm_ret, order=(1,0))\n",
    "results_norm_ret_ar_1 = model_norm_ret_ar_1.fit()\n",
    "results_norm_ret_ar_1.summary()"
   ]
  },
  {
   "cell_type": "code",
   "execution_count": null,
   "id": "5a36f030",
   "metadata": {
    "id": "5a36f030"
   },
   "outputs": [],
   "source": [
    "model_norm_ret_ar_7 = ARMA(df.norm_ret, order=(7,0))\n",
    "results_norm_ret_ar_7 = model_norm_ret_ar_7.fit()\n",
    "results_norm_ret_ar_7.summary()"
   ]
  },
  {
   "cell_type": "markdown",
   "id": "c6257a71",
   "metadata": {
    "id": "c6257a71"
   },
   "source": [
    "### Analysing the Residuals"
   ]
  },
  {
   "cell_type": "code",
   "execution_count": null,
   "id": "4b34b9d3",
   "metadata": {
    "id": "4b34b9d3"
   },
   "outputs": [],
   "source": [
    "df['res_changes'] = result_ar_7.resid"
   ]
  },
  {
   "cell_type": "code",
   "execution_count": null,
   "id": "305f338e",
   "metadata": {
    "id": "305f338e"
   },
   "outputs": [],
   "source": [
    "df.res_changes.mean()"
   ]
  },
  {
   "cell_type": "code",
   "execution_count": null,
   "id": "d24da664",
   "metadata": {
    "id": "d24da664"
   },
   "outputs": [],
   "source": [
    "df.res_changes.var()"
   ]
  },
  {
   "cell_type": "code",
   "execution_count": null,
   "id": "0cc69a17",
   "metadata": {
    "id": "0cc69a17"
   },
   "outputs": [],
   "source": [
    "sts.adfuller(df.res_changes)"
   ]
  },
  {
   "cell_type": "code",
   "execution_count": null,
   "id": "ee5a63d4",
   "metadata": {
    "id": "ee5a63d4"
   },
   "outputs": [],
   "source": [
    "sgt.plot_acf(df.res_changes, zero=False, lags=40)\n",
    "plt.title('ACF of Residuals for Changes', size=24)\n",
    "plt.show()"
   ]
  },
  {
   "cell_type": "code",
   "execution_count": null,
   "id": "05279573",
   "metadata": {
    "id": "05279573"
   },
   "outputs": [],
   "source": [
    "df.res_changes[1:].plot(figsize=(20,5))\n",
    "plt.title('Residuals of Changes', size=24)\n",
    "plt.show()"
   ]
  },
  {
   "cell_type": "code",
   "execution_count": null,
   "id": "7e31f036",
   "metadata": {
    "id": "7e31f036"
   },
   "outputs": [],
   "source": []
  },
  {
   "cell_type": "markdown",
   "id": "7bbf5c3d",
   "metadata": {
    "id": "7bbf5c3d"
   },
   "source": [
    "### ACF for Returns"
   ]
  },
  {
   "cell_type": "code",
   "execution_count": null,
   "id": "517c5193",
   "metadata": {
    "id": "517c5193"
   },
   "outputs": [],
   "source": [
    "sgt.plot_acf(df.returns[1:], zero = False, lags = 40)\n",
    "plt.title('ACF for Returns', size = 24)\n",
    "plt.show()"
   ]
  },
  {
   "cell_type": "markdown",
   "id": "a6a77fd4",
   "metadata": {
    "id": "a6a77fd4"
   },
   "source": [
    "### MA(1) for Returns"
   ]
  },
  {
   "cell_type": "code",
   "execution_count": null,
   "id": "c05bd830",
   "metadata": {
    "id": "c05bd830"
   },
   "outputs": [],
   "source": [
    "from statsmodels.tsa.arima_model import ARIMA"
   ]
  },
  {
   "cell_type": "code",
   "execution_count": null,
   "id": "a78374c5",
   "metadata": {
    "id": "a78374c5"
   },
   "outputs": [],
   "source": [
    "model_ret_ma_1 = ARMA(df.returns[1:], order=(0,1))\n",
    "results_ret_ma_1 = model_ret_ma_1.fit()\n",
    "results_ret_ma_1.summary()"
   ]
  },
  {
   "cell_type": "markdown",
   "id": "b1057942",
   "metadata": {
    "id": "b1057942"
   },
   "source": [
    "### Higher-Lag MA Models for Returns"
   ]
  },
  {
   "cell_type": "code",
   "execution_count": null,
   "id": "b1ff885f",
   "metadata": {
    "id": "b1ff885f"
   },
   "outputs": [],
   "source": [
    "model_ret_ma_2 = ARMA(df.returns[1:], order=(0,2))\n",
    "results_ret_ma_2 = model_ret_ma_2.fit()\n",
    "print(results_ret_ma_2.summary())\n",
    "print('\\nLLR test p-value = ' + str(LLR_test(results_ret_ma_1, results_ret_ma_2)))"
   ]
  },
  {
   "cell_type": "code",
   "execution_count": null,
   "id": "124363f3",
   "metadata": {
    "id": "124363f3"
   },
   "outputs": [],
   "source": [
    "model_ret_ma_3 = ARMA(df.returns[1:], order=(0,3))\n",
    "results_ret_ma_3 = model_ret_ma_3.fit()\n",
    "print(results_ret_ma_3.summary())\n",
    "print('\\nLLR test p-value = ' + str(LLR_test(results_ret_ma_2, results_ret_ma_3)))"
   ]
  },
  {
   "cell_type": "code",
   "execution_count": null,
   "id": "4453dfe9",
   "metadata": {
    "id": "4453dfe9"
   },
   "outputs": [],
   "source": [
    "model_ret_ma_4 = ARMA(df.returns[1:], order=(0,4))\n",
    "results_ret_ma_4 = model_ret_ma_4.fit()\n",
    "print(results_ret_ma_4.summary())\n",
    "print('\\nLLR test p-value = ' + str(LLR_test(results_ret_ma_3, results_ret_ma_4)))"
   ]
  },
  {
   "cell_type": "code",
   "execution_count": null,
   "id": "917283ae",
   "metadata": {
    "id": "917283ae"
   },
   "outputs": [],
   "source": [
    "model_ret_ma_5 = ARMA(df.returns[1:], order=(0,5))\n",
    "results_ret_ma_5 = model_ret_ma_5.fit()\n",
    "print(results_ret_ma_5.summary())\n",
    "print('\\nLLR test p-value = ' + str(LLR_test(results_ret_ma_4, results_ret_ma_5)))"
   ]
  },
  {
   "cell_type": "code",
   "execution_count": null,
   "id": "99dad384",
   "metadata": {
    "id": "99dad384"
   },
   "outputs": [],
   "source": [
    "model_ret_ma_6 = ARMA(df.returns[1:], order=(0,6))\n",
    "results_ret_ma_6 = model_ret_ma_6.fit()\n",
    "print(results_ret_ma_6.summary())\n",
    "print('\\nLLR test p-value = ' + str(LLR_test(results_ret_ma_5, results_ret_ma_6)))"
   ]
  },
  {
   "cell_type": "code",
   "execution_count": null,
   "id": "9ed9bb8e",
   "metadata": {
    "id": "9ed9bb8e"
   },
   "outputs": [],
   "source": [
    "model_ret_ma_7 = ARMA(df.returns[1:], order=(0,7))\n",
    "results_ret_ma_7 = model_ret_ma_7.fit()\n",
    "print(results_ret_ma_7.summary())\n",
    "print('\\nLLR test p-value = ' + str(LLR_test(results_ret_ma_6, results_ret_ma_7)))"
   ]
  },
  {
   "cell_type": "code",
   "execution_count": null,
   "id": "d6d4476f",
   "metadata": {
    "id": "d6d4476f"
   },
   "outputs": [],
   "source": [
    "LLR_test(results_ret_ma_3, results_ret_ma_7, DF=2)"
   ]
  },
  {
   "cell_type": "markdown",
   "id": "9b48a06c",
   "metadata": {
    "id": "9b48a06c"
   },
   "source": [
    "### Residuals of Returns"
   ]
  },
  {
   "cell_type": "code",
   "execution_count": null,
   "id": "a0482e81",
   "metadata": {
    "id": "a0482e81"
   },
   "outputs": [],
   "source": [
    "df['res_ret_ma_7'] = results_ret_ma_7.resid[1:]"
   ]
  },
  {
   "cell_type": "code",
   "execution_count": null,
   "id": "a502d97d",
   "metadata": {
    "id": "a502d97d"
   },
   "outputs": [],
   "source": [
    "print('The mean of the residual is ' + str(round(df.res_ret_ma_7.mean(),3)) + '\\nThe variance of the residual is ' + str(round(df.res_ret_ma_7.var(),3)))"
   ]
  },
  {
   "cell_type": "code",
   "execution_count": null,
   "id": "03f75ffc",
   "metadata": {
    "id": "03f75ffc"
   },
   "outputs": [],
   "source": [
    "from math import sqrt\n",
    "round(sqrt(df.res_ret_ma_7.var()),3)"
   ]
  },
  {
   "cell_type": "code",
   "execution_count": null,
   "id": "84ba42f0",
   "metadata": {
    "id": "84ba42f0"
   },
   "outputs": [],
   "source": [
    "df.res_ret_ma_7[1:].plot(figsize=(20,5))\n",
    "plt.title('Residuals of Returns', size= 24)\n",
    "plt.show()"
   ]
  },
  {
   "cell_type": "code",
   "execution_count": null,
   "id": "01475eb2",
   "metadata": {
    "id": "01475eb2"
   },
   "outputs": [],
   "source": [
    "sts.adfuller(df.res_ret_ma_7[2:])"
   ]
  },
  {
   "cell_type": "code",
   "execution_count": null,
   "id": "a9a637d9",
   "metadata": {
    "id": "a9a637d9"
   },
   "outputs": [],
   "source": [
    "sgt.plot_acf(df.res_ret_ma_7[2:],zero=False, lags=40)\n",
    "plt.title('ACF of Residuals for Returns', size = 24)\n",
    "plt.show()"
   ]
  },
  {
   "cell_type": "markdown",
   "id": "87a56e98",
   "metadata": {
    "id": "87a56e98"
   },
   "source": [
    "### Normalized Returns"
   ]
  },
  {
   "cell_type": "code",
   "execution_count": null,
   "id": "1651bb5d",
   "metadata": {
    "id": "1651bb5d"
   },
   "outputs": [],
   "source": [
    "bench_ret = df.returns.iloc[1]\n",
    "df['norm_ret'] = df.returns.div(bench_ret).mul(100)"
   ]
  },
  {
   "cell_type": "code",
   "execution_count": null,
   "id": "1991d981",
   "metadata": {
    "id": "1991d981"
   },
   "outputs": [],
   "source": [
    "sgt.plot_acf(df.norm_ret[1:],zero=False, lags=40)\n",
    "plt.title('ACF of Normalized Returns', size = 24)\n",
    "plt.show()"
   ]
  },
  {
   "cell_type": "code",
   "execution_count": null,
   "id": "2d937587",
   "metadata": {
    "id": "2d937587"
   },
   "outputs": [],
   "source": [
    "model_norm_ret_ma_7 = ARMA(df.norm_ret[1:], order = (0,7))\n",
    "results_norm_ret_ma_7 = model_norm_ret_ma_7.fit()\n",
    "results_norm_ret_ma_7.summary()"
   ]
  },
  {
   "cell_type": "code",
   "execution_count": null,
   "id": "31a488f8",
   "metadata": {
    "id": "31a488f8"
   },
   "outputs": [],
   "source": [
    "df['res_norm_ret_ma_7'] = results_ret_ma_7.resid[1:]"
   ]
  },
  {
   "cell_type": "code",
   "execution_count": null,
   "id": "b42ae729",
   "metadata": {
    "id": "b42ae729"
   },
   "outputs": [],
   "source": [
    "df.res_norm_ret_ma_7[1:].plot(figsize=(20,5))\n",
    "plt.title('Residuals of Normalized Returns', size= 24)\n",
    "plt.show()"
   ]
  },
  {
   "cell_type": "code",
   "execution_count": null,
   "id": "2aba0fe7",
   "metadata": {
    "id": "2aba0fe7"
   },
   "outputs": [],
   "source": [
    "sgt.plot_acf(df.res_norm_ret_ma_7[2:],zero=False, lags=40)\n",
    "plt.title('ACF of Residuals for Normalized Returns', size = 24)\n",
    "plt.show()"
   ]
  },
  {
   "cell_type": "markdown",
   "id": "bf921470",
   "metadata": {
    "id": "bf921470"
   },
   "source": [
    "### MA Models for Pollutants "
   ]
  },
  {
   "cell_type": "code",
   "execution_count": null,
   "id": "8b9cdc7f",
   "metadata": {
    "id": "8b9cdc7f"
   },
   "outputs": [],
   "source": [
    "sgt.plot_acf(df.PM2,zero=False, lags=40)\n",
    "plt.title('ACF for Pollutants', size = 24)\n",
    "plt.show()"
   ]
  },
  {
   "cell_type": "code",
   "execution_count": null,
   "id": "498403db",
   "metadata": {
    "id": "498403db"
   },
   "outputs": [],
   "source": [
    "model_ma_1 = ARMA(df.PM2, order = (0,1))\n",
    "results_ma_1 = model_ma_1.fit()\n",
    "results_ma_1.summary()"
   ]
  },
  {
   "cell_type": "markdown",
   "id": "18f6a648",
   "metadata": {
    "id": "18f6a648"
   },
   "source": [
    "### ARMA(1,1)"
   ]
  },
  {
   "cell_type": "code",
   "execution_count": null,
   "id": "175258ba",
   "metadata": {
    "id": "175258ba"
   },
   "outputs": [],
   "source": [
    "model_ret_ar_1_ma_1 = ARMA(df.returns[1:], order = (1,1))\n",
    "results_ret_ar_1_ma_1 = model_ret_ar_1_ma_1.fit()\n",
    "results_ret_ar_1_ma_1.summary()"
   ]
  },
  {
   "cell_type": "code",
   "execution_count": null,
   "id": "43266f27",
   "metadata": {
    "id": "43266f27"
   },
   "outputs": [],
   "source": [
    "model_ret_ar_1 = ARMA(df.returns[1:], order = (1,0))\n",
    "model_ret_ma_1 = ARMA(df.returns[1:], order = (0,1))"
   ]
  },
  {
   "cell_type": "code",
   "execution_count": null,
   "id": "1aceb488",
   "metadata": {
    "id": "1aceb488"
   },
   "outputs": [],
   "source": [
    "print('\\nARMA vs AR', LLR_test(results_ret_ar_1, results_ret_ar_1_ma_1))\n",
    "print('\\nARMA vs MA', LLR_test(results_ret_ma_1, results_ret_ar_1_ma_1))"
   ]
  },
  {
   "cell_type": "markdown",
   "id": "9cf8ac32",
   "metadata": {
    "id": "9cf8ac32"
   },
   "source": [
    "### Higher-Lag ARMA Models"
   ]
  },
  {
   "cell_type": "code",
   "execution_count": null,
   "id": "f518d7ca",
   "metadata": {
    "id": "f518d7ca"
   },
   "outputs": [],
   "source": [
    "model_ret_ar_3_ma_3 = ARMA(df.returns[1:], order = (3,3))\n",
    "results_ret_ar_3_ma_3 = model_ret_ar_3_ma_3.fit()"
   ]
  },
  {
   "cell_type": "code",
   "execution_count": null,
   "id": "9bc9e3be",
   "metadata": {
    "id": "9bc9e3be"
   },
   "outputs": [],
   "source": [
    "LLR_test(results_ret_ar_1_ma_1, results_ret_ar_3_ma_3,  DF = 4)"
   ]
  },
  {
   "cell_type": "code",
   "execution_count": null,
   "id": "8bddc708",
   "metadata": {
    "id": "8bddc708"
   },
   "outputs": [],
   "source": [
    "results_ret_ar_3_ma_3.summary()"
   ]
  },
  {
   "cell_type": "code",
   "execution_count": null,
   "id": "bac08f06",
   "metadata": {
    "id": "bac08f06"
   },
   "outputs": [],
   "source": [
    "model_ret_ar_3_ma_2 = ARMA(df.returns[1:], order = (3,2))\n",
    "results_ret_ar_3_ma_2 = model_ret_ar_3_ma_2.fit()\n",
    "results_ret_ar_3_ma_2.summary()"
   ]
  },
  {
   "cell_type": "code",
   "execution_count": null,
   "id": "72d65c82",
   "metadata": {
    "id": "72d65c82"
   },
   "outputs": [],
   "source": [
    "model_ret_ar_2_ma_3 = ARMA(df.returns[1:], order = (2,3))\n",
    "results_ret_ar_2_ma_3 = model_ret_ar_2_ma_3.fit()\n",
    "results_ret_ar_2_ma_3.summary()"
   ]
  },
  {
   "cell_type": "code",
   "execution_count": null,
   "id": "735a1615",
   "metadata": {
    "id": "735a1615"
   },
   "outputs": [],
   "source": [
    "LLR_test(results_ret_ar_2_ma_3, results_ret_ar_3_ma_3)"
   ]
  },
  {
   "cell_type": "code",
   "execution_count": null,
   "id": "94549c20",
   "metadata": {
    "id": "94549c20"
   },
   "outputs": [],
   "source": [
    "model_ret_ar_3_ma_1 = ARMA(df.returns[1:], order = (3,1))\n",
    "results_ret_ar_3_ma_1 = model_ret_ar_3_ma_1.fit()\n",
    "results_ret_ar_3_ma_1.summary()"
   ]
  },
  {
   "cell_type": "code",
   "execution_count": null,
   "id": "78529d36",
   "metadata": {
    "id": "78529d36"
   },
   "outputs": [],
   "source": [
    "LLR_test(results_ret_ar_3_ma_1, results_ret_ar_3_ma_2)"
   ]
  },
  {
   "cell_type": "code",
   "execution_count": null,
   "id": "95eced06",
   "metadata": {
    "id": "95eced06"
   },
   "outputs": [],
   "source": [
    "model_ret_ar_2_ma_2 = ARMA(df.returns[1:], order = (2,2))\n",
    "results_ret_ar_2_ma_2 = model_ret_ar_2_ma_2.fit()\n",
    "results_ret_ar_2_ma_2.summary()"
   ]
  },
  {
   "cell_type": "code",
   "execution_count": null,
   "id": "e49f67b0",
   "metadata": {
    "id": "e49f67b0"
   },
   "outputs": [],
   "source": [
    "model_ret_ar_1_ma_3 = ARMA(df.returns[1:], order = (1,3))\n",
    "results_ret_ar_1_ma_3 = model_ret_ar_1_ma_3.fit()\n",
    "results_ret_ar_1_ma_3.summary()"
   ]
  },
  {
   "cell_type": "code",
   "execution_count": null,
   "id": "744f5592",
   "metadata": {
    "id": "744f5592"
   },
   "outputs": [],
   "source": [
    "print('\\n ARMA (3,2): \\tLL = ', results_ret_ar_3_ma_2.llf, results_ret_ar_3_ma_2.aic)\n",
    "print('\\n ARMA (1,3): \\tLL = ', results_ret_ar_1_ma_3.llf, results_ret_ar_1_ma_3.aic)"
   ]
  },
  {
   "cell_type": "code",
   "execution_count": null,
   "id": "Zbl78yZ64ea0",
   "metadata": {
    "id": "Zbl78yZ64ea0"
   },
   "outputs": [],
   "source": []
  },
  {
   "cell_type": "markdown",
   "id": "srdb0odp4hrO",
   "metadata": {
    "id": "srdb0odp4hrO"
   },
   "source": [
    "# Residuals for Returns\n",
    "\n",
    "---\n",
    "\n"
   ]
  },
  {
   "cell_type": "code",
   "execution_count": null,
   "id": "BtsuMs1T5Dzv",
   "metadata": {
    "id": "BtsuMs1T5Dzv"
   },
   "outputs": [],
   "source": [
    "df['res_ret_ar_3_ma_2'] = results_ret_ar_3_ma_2.resid[1:]\n",
    "df.res_ret_ar_3_ma_2.plot(figsize=(20,5))\n",
    "plt.title('Residual for Returns', size=24)\n",
    "plt.show()"
   ]
  },
  {
   "cell_type": "code",
   "execution_count": null,
   "id": "31c29681",
   "metadata": {
    "id": "31c29681"
   },
   "outputs": [],
   "source": [
    "sgt.plot_acf(df.res_ret_ar_3_ma_2[2:], zero=False, lags = 40)\n",
    "plt.title('ACF of Residuals for Returns', size=24)\n",
    "plt.show()\n"
   ]
  },
  {
   "cell_type": "code",
   "execution_count": null,
   "id": "0gY1K0LN9IXr",
   "metadata": {
    "id": "0gY1K0LN9IXr"
   },
   "outputs": [],
   "source": []
  },
  {
   "cell_type": "markdown",
   "id": "7vS6rp9YASJE",
   "metadata": {
    "id": "7vS6rp9YASJE"
   },
   "source": [
    "Re-evaluating Model Selection "
   ]
  },
  {
   "cell_type": "code",
   "execution_count": null,
   "id": "Jexv0_VyAeol",
   "metadata": {
    "id": "Jexv0_VyAeol"
   },
   "outputs": [],
   "source": [
    "model_ret_ar_5_ma_5 = ARMA(df.returns[1:], order = (5,5))\n",
    "results_ret_ar_5_ma_5 = model_ret_ar_5_ma_5.fit()\n",
    "results_ret_ar_5_ma_5.summary()"
   ]
  },
  {
   "cell_type": "code",
   "execution_count": null,
   "id": "3wlQNqUZG1NU",
   "metadata": {
    "id": "3wlQNqUZG1NU"
   },
   "outputs": [],
   "source": [
    "model_ret_ar_5_ma_1 = ARMA(df.returns[1:], order = (5,1))\n",
    "results_ret_ar_5_ma_1 = model_ret_ar_5_ma_1.fit()\n",
    "results_ret_ar_5_ma_1.summary()"
   ]
  },
  {
   "cell_type": "code",
   "execution_count": null,
   "id": "vzhTxQdNHRsa",
   "metadata": {
    "id": "vzhTxQdNHRsa"
   },
   "outputs": [],
   "source": [
    "model_ret_ar_1_ma_5 = ARMA(df.returns[1:], order = (1,5))\n",
    "results_ret_ar_1_ma_5 = model_ret_ar_1_ma_5.fit()\n",
    "results_ret_ar_1_ma_5.summary()"
   ]
  },
  {
   "cell_type": "code",
   "execution_count": null,
   "id": "-GGEKQFpHbgh",
   "metadata": {
    "id": "-GGEKQFpHbgh"
   },
   "outputs": [],
   "source": [
    "print('\\n ARMA (5,1): \\tLL = ', results_ret_ar_5_ma_1.llf, '\\t AIC = ', results_ret_ar_5_ma_1.aic)\n",
    "print('\\n ARMA (1,5): \\tLL = ', results_ret_ar_1_ma_5.llf,  '\\t AIC = ', results_ret_ar_1_ma_5.aic)"
   ]
  },
  {
   "cell_type": "code",
   "execution_count": null,
   "id": "C8FVUsPbm6n5",
   "metadata": {
    "id": "C8FVUsPbm6n5"
   },
   "outputs": [],
   "source": [
    "print('\\n ARMA (3,2): \\tLL = ', results_ret_ar_3_ma_2.llf, '\\t AIC = ', results_ret_ar_3_ma_2.aic)"
   ]
  },
  {
   "cell_type": "code",
   "execution_count": null,
   "id": "N97C1ArnqKco",
   "metadata": {
    "id": "N97C1ArnqKco"
   },
   "outputs": [],
   "source": []
  },
  {
   "cell_type": "markdown",
   "id": "zq0OU-9SqK-7",
   "metadata": {
    "id": "zq0OU-9SqK-7"
   },
   "source": [
    "Residuals for the New Model"
   ]
  },
  {
   "cell_type": "code",
   "execution_count": null,
   "id": "XkzErwzoqS2s",
   "metadata": {
    "id": "XkzErwzoqS2s"
   },
   "outputs": [],
   "source": [
    "df['res_ret_ar_5_ma_1'] = results_ret_ar_5_ma_1.resid"
   ]
  },
  {
   "cell_type": "code",
   "execution_count": null,
   "id": "LtxmLoWgq9z9",
   "metadata": {
    "id": "LtxmLoWgq9z9"
   },
   "outputs": [],
   "source": [
    "sgt.plot_acf(df.res_ret_ar_5_ma_1[1:], zero=False, lags = 40)\n",
    "plt.title('ACF of Residuals for Returns', size=24)\n",
    "plt.show()"
   ]
  },
  {
   "cell_type": "code",
   "execution_count": null,
   "id": "DgJ-OdcYrXHf",
   "metadata": {
    "id": "DgJ-OdcYrXHf"
   },
   "outputs": [],
   "source": []
  },
  {
   "cell_type": "markdown",
   "id": "p2k6hY71rZ4N",
   "metadata": {
    "id": "p2k6hY71rZ4N"
   },
   "source": [
    "ARMA Model for Pollutant"
   ]
  },
  {
   "cell_type": "code",
   "execution_count": null,
   "id": "tOmvDFUQrfqo",
   "metadata": {
    "id": "tOmvDFUQrfqo"
   },
   "outputs": [],
   "source": [
    "sgt.plot_acf(df.PM2, unbiased=True, zero=False, lags = 40)\n",
    "plt.title('Autocorrelation Function for Pollutant', size=20)\n",
    "plt.show()"
   ]
  },
  {
   "cell_type": "code",
   "execution_count": null,
   "id": "9YTfjV5trXcu",
   "metadata": {
    "id": "9YTfjV5trXcu"
   },
   "outputs": [],
   "source": [
    "sgt.plot_pacf(df.PM2, alpha=0.05, zero=False, lags = 40, method=('ols'))\n",
    "plt.title('Partial Autocorrelation Function for Pollutant', size=20)\n",
    "plt.show()"
   ]
  },
  {
   "cell_type": "code",
   "execution_count": null,
   "id": "Gj84ErhLs0_F",
   "metadata": {
    "id": "Gj84ErhLs0_F"
   },
   "outputs": [],
   "source": [
    "model_ar_1_ma_1 = ARMA(df.PM2, order = (1,1))\n",
    "results_ar_1_ma_1 = model_ar_1_ma_1.fit()\n",
    "results_ar_1_ma_1.summary()"
   ]
  },
  {
   "cell_type": "code",
   "execution_count": null,
   "id": "p2tnPMpCs1S3",
   "metadata": {
    "id": "p2tnPMpCs1S3"
   },
   "outputs": [],
   "source": [
    "df['res_ar_1_ma_1'] = results_ar_1_ma_1.resid"
   ]
  },
  {
   "cell_type": "code",
   "execution_count": null,
   "id": "duhPK2NBt9q-",
   "metadata": {
    "id": "duhPK2NBt9q-"
   },
   "outputs": [],
   "source": [
    "sgt.plot_acf(df.res_ar_1_ma_1, zero=False, lags = 40)\n",
    "plt.title('ACF of Residuals for Pollutant', size=20)\n",
    "plt.show()"
   ]
  },
  {
   "cell_type": "code",
   "execution_count": null,
   "id": "SCcMbiNWug4t",
   "metadata": {
    "id": "SCcMbiNWug4t"
   },
   "outputs": [],
   "source": [
    "model_ar_6_ma_6 = ARMA(df.PM2, order = (6,6))\n",
    "results_ar_6_ma_6 = model_ar_6_ma_6.fit()\n",
    "results_ar_6_ma_6.summary()"
   ]
  },
  {
   "cell_type": "code",
   "execution_count": null,
   "id": "1ttJum5UwJt3",
   "metadata": {
    "id": "1ttJum5UwJt3"
   },
   "outputs": [],
   "source": [
    "model_ar_5_ma_6 = ARMA(df.PM2, order = (5,6))\n",
    "results_ar_5_ma_6 = model_ar_5_ma_6.fit()\n",
    "results_ar_5_ma_6.summary()"
   ]
  },
  {
   "cell_type": "code",
   "execution_count": null,
   "id": "rpxH7nA_t-P5",
   "metadata": {
    "id": "rpxH7nA_t-P5"
   },
   "outputs": [],
   "source": [
    "model_ar_6_ma_1 = ARMA(df.PM2, order = (6,1))\n",
    "results_ar_6_ma_1 = model_ar_6_ma_1.fit()\n",
    "results_ar_6_ma_1.summary()"
   ]
  },
  {
   "cell_type": "code",
   "execution_count": null,
   "id": "kdmE1NjQw7wE",
   "metadata": {
    "id": "kdmE1NjQw7wE"
   },
   "outputs": [],
   "source": [
    "print('\\n ARMA (5,6): \\tLL = ', results_ar_5_ma_6.llf, '\\t AIC = ', results_ar_5_ma_6.aic)\n",
    "print('\\n ARMA (6,1): \\tLL = ', results_ar_6_ma_1.llf,  '\\t AIC = ', results_ar_6_ma_1.aic)"
   ]
  },
  {
   "cell_type": "code",
   "execution_count": null,
   "id": "5cFZ2dCKxo-S",
   "metadata": {
    "id": "5cFZ2dCKxo-S"
   },
   "outputs": [],
   "source": [
    "df['res_ar_5_ma_6'] = results_ar_5_ma_6.resid\n",
    "sgt.plot_acf(df.res_ar_5_ma_6, zero=False, lags = 40)\n",
    "plt.title('ACF of Residuals for Pollutant', size=20)\n",
    "plt.show()"
   ]
  },
  {
   "cell_type": "code",
   "execution_count": null,
   "id": "F5cPJSm8xpZE",
   "metadata": {
    "id": "F5cPJSm8xpZE"
   },
   "outputs": [],
   "source": [
    "print('\\n ARMA (5,6): \\tLL = ', results_ar_5_ma_6.llf, '\\t AIC = ', results_ar_5_ma_6.aic)\n",
    "print('\\n ARMA (5,1): \\tLL = ', results_ret_ar_5_ma_1.llf,  '\\t AIC = ', results_ret_ar_5_ma_1.aic)"
   ]
  },
  {
   "cell_type": "code",
   "execution_count": null,
   "id": "f1CSO0RExZ81",
   "metadata": {
    "id": "f1CSO0RExZ81"
   },
   "outputs": [],
   "source": []
  },
  {
   "cell_type": "markdown",
   "id": "SJRi68a51Hn0",
   "metadata": {
    "id": "SJRi68a51Hn0"
   },
   "source": [
    "ARIMA(1,1)"
   ]
  },
  {
   "cell_type": "code",
   "execution_count": null,
   "id": "-_tTGZs-3oFV",
   "metadata": {
    "id": "-_tTGZs-3oFV"
   },
   "outputs": [],
   "source": [
    "model_ar_1_i_1_ma_1 = ARIMA(df.PM2, order=(1,1,1))\n",
    "results_ar_1_i_1_ma_1 = model_ar_1_i_1_ma_1.fit()\n",
    "results_ar_1_i_1_ma_1.summary()"
   ]
  },
  {
   "cell_type": "code",
   "execution_count": null,
   "id": "Rmgl8xtD5PIv",
   "metadata": {
    "id": "Rmgl8xtD5PIv"
   },
   "outputs": [],
   "source": []
  },
  {
   "cell_type": "markdown",
   "id": "kf53DBZP5xFe",
   "metadata": {
    "id": "kf53DBZP5xFe"
   },
   "source": [
    "Residuals of the ARIMA(1,1,1)"
   ]
  },
  {
   "cell_type": "code",
   "execution_count": null,
   "id": "XZKGXyCo59Zc",
   "metadata": {
    "id": "XZKGXyCo59Zc"
   },
   "outputs": [],
   "source": [
    "df['res_ar_1_i_1_ma_1'] = results_ar_1_i_1_ma_1.resid\n",
    "sgt.plot_acf(df.res_ar_1_i_1_ma_1[1:], zero=False, lags = 40)\n",
    "plt.title('ACF of Residuals for ARIMA(1,1,1)', size=20)\n",
    "plt.show()"
   ]
  },
  {
   "cell_type": "code",
   "execution_count": null,
   "id": "VGL8hH3852VI",
   "metadata": {
    "id": "VGL8hH3852VI"
   },
   "outputs": [],
   "source": []
  },
  {
   "cell_type": "markdown",
   "id": "DZQw68Xb7X1J",
   "metadata": {
    "id": "DZQw68Xb7X1J"
   },
   "source": [
    "Higher-Lag ARIMA Models"
   ]
  },
  {
   "cell_type": "code",
   "execution_count": null,
   "id": "dJoznaw172ei",
   "metadata": {
    "id": "dJoznaw172ei"
   },
   "outputs": [],
   "source": [
    "model_ar_1_i_1_ma_2 = ARIMA(df.PM2, order=(1,1,2))\n",
    "results_ar_1_i_1_ma_2 = model_ar_1_i_1_ma_2.fit()\n",
    "\n",
    "model_ar_1_i_1_ma_3 = ARIMA(df.PM2, order=(1,1,3))\n",
    "results_ar_1_i_1_ma_3 = model_ar_1_i_1_ma_3.fit()\n",
    "\n",
    "model_ar_2_i_1_ma_1 = ARIMA(df.PM2, order=(2,1,1))\n",
    "results_ar_2_i_1_ma_1 = model_ar_2_i_1_ma_1.fit()\n",
    "\n",
    "model_ar_3_i_1_ma_1 = ARIMA(df.PM2, order=(3,1,1))\n",
    "results_ar_3_i_1_ma_1 = model_ar_3_i_1_ma_1.fit()\n",
    "\n",
    "model_ar_3_i_1_ma_2 = ARIMA(df.PM2, order=(3,1,2))\n",
    "results_ar_3_i_1_ma_2 = model_ar_3_i_1_ma_2.fit()"
   ]
  },
  {
   "cell_type": "code",
   "execution_count": null,
   "id": "HnpoyHGL726C",
   "metadata": {
    "id": "HnpoyHGL726C"
   },
   "outputs": [],
   "source": [
    "print('\\n ARMA (1,1,1): \\tLL = ', results_ar_1_i_1_ma_1.llf, '\\t AIC = ', results_ar_1_i_1_ma_1.aic)\n",
    "print('\\n ARMA (1,1,2): \\tLL = ', results_ar_1_i_1_ma_2.llf, '\\t AIC = ', results_ar_1_i_1_ma_2.aic)\n",
    "print('\\n ARMA (1,1,3): \\tLL = ', results_ar_1_i_1_ma_3.llf, '\\t AIC = ', results_ar_1_i_1_ma_3.aic)\n",
    "print('\\n ARMA (2,1,1): \\tLL = ', results_ar_2_i_1_ma_1.llf, '\\t AIC = ', results_ar_2_i_1_ma_1.aic)\n",
    "print('\\n ARMA (3,1,1): \\tLL = ', results_ar_3_i_1_ma_1.llf, '\\t AIC = ', results_ar_3_i_1_ma_1.aic)\n",
    "print('\\n ARMA (3,1,2): \\tLL = ', results_ar_3_i_1_ma_2.llf, '\\t AIC = ', results_ar_3_i_1_ma_2.aic)"
   ]
  },
  {
   "cell_type": "code",
   "execution_count": null,
   "id": "gtNvNRp2528T",
   "metadata": {
    "id": "gtNvNRp2528T"
   },
   "outputs": [],
   "source": [
    "print('\\nLLR test p-value = ' + str(LLR_test(results_ar_1_i_1_ma_2, results_ar_1_i_1_ma_3)))"
   ]
  },
  {
   "cell_type": "code",
   "execution_count": null,
   "id": "BBrLVdSJ1D93",
   "metadata": {
    "id": "BBrLVdSJ1D93"
   },
   "outputs": [],
   "source": [
    "print('\\nLLR test p-value = ' + str(LLR_test(results_ar_1_i_1_ma_1, results_ar_1_i_1_ma_3, DF=2)))"
   ]
  },
  {
   "cell_type": "code",
   "execution_count": null,
   "id": "P6LlUvFnbS2S",
   "metadata": {
    "id": "P6LlUvFnbS2S"
   },
   "outputs": [],
   "source": [
    "df['res_ar_1_i_1_ma_3'] = results_ar_1_i_1_ma_3.resid.iloc[:]\n",
    "sgt.plot_acf(df.res_ar_1_i_1_ma_3[1:], zero=False, lags = 40)\n",
    "plt.title('ACF of Residuals for ARIMA(1,1,3)', size=20)\n",
    "plt.show()"
   ]
  },
  {
   "cell_type": "code",
   "execution_count": null,
   "id": "b1OmRKr2bTT7",
   "metadata": {
    "id": "b1OmRKr2bTT7"
   },
   "outputs": [],
   "source": [
    "model_ar_5_i_1_ma_1 = ARIMA(df.PM2, order=(5,1,1))\n",
    "results_ar_5_i_1_ma_1 = model_ar_5_i_1_ma_1.fit()\n",
    "\n",
    "model_ar_6_i_1_ma_3 = ARIMA(df.PM2, order=(6,1,3))\n",
    "results_ar_6_i_1_ma_3 = model_ar_6_i_1_ma_3.fit()"
   ]
  },
  {
   "cell_type": "code",
   "execution_count": null,
   "id": "IEnpYLyj2ug1",
   "metadata": {
    "id": "IEnpYLyj2ug1"
   },
   "outputs": [],
   "source": [
    "print('\\n ARMA (1,1,3): \\tLL = ', results_ar_1_i_1_ma_3.llf, '\\t AIC = ', results_ar_1_i_1_ma_3.aic)\n",
    "print('\\n ARMA (5,1,1): \\tLL = ', results_ar_5_i_1_ma_1.llf, '\\t AIC = ', results_ar_5_i_1_ma_1.aic)\n",
    "print('\\n ARMA (6,1,3): \\tLL = ', results_ar_6_i_1_ma_3.llf, '\\t AIC = ', results_ar_6_i_1_ma_3.aic)"
   ]
  },
  {
   "cell_type": "code",
   "execution_count": null,
   "id": "DSiDen85_2v0",
   "metadata": {
    "id": "DSiDen85_2v0"
   },
   "outputs": [],
   "source": [
    "print('\\nLLR test p-value = ' + str(LLR_test(results_ar_1_i_1_ma_3, results_ar_6_i_1_ma_3, DF=5)))"
   ]
  },
  {
   "cell_type": "code",
   "execution_count": null,
   "id": "y87tlt6sEsaO",
   "metadata": {
    "id": "y87tlt6sEsaO"
   },
   "outputs": [],
   "source": [
    "print('\\nLLR test p-value = ' + str(LLR_test(results_ar_5_i_1_ma_1, results_ar_6_i_1_ma_3, DF=3)))"
   ]
  },
  {
   "cell_type": "code",
   "execution_count": null,
   "id": "0ym3bciUFOnb",
   "metadata": {
    "id": "0ym3bciUFOnb"
   },
   "outputs": [],
   "source": [
    "df['res_ar_5_i_1_ma_1'] = results_ar_5_i_1_ma_1.resid.iloc[:]\n",
    "sgt.plot_acf(df.res_ar_5_i_1_ma_1[1:], zero=False, lags = 40)\n",
    "plt.title('ACF of Residuals for ARIMA(5,1,1)', size=20)\n",
    "plt.show()"
   ]
  },
  {
   "cell_type": "code",
   "execution_count": null,
   "id": "zXNc3FY_GvaX",
   "metadata": {
    "id": "zXNc3FY_GvaX"
   },
   "outputs": [],
   "source": []
  },
  {
   "cell_type": "markdown",
   "id": "VzMhDv5GHFRF",
   "metadata": {
    "id": "VzMhDv5GHFRF"
   },
   "source": [
    "Model with Higher Levels of Integration "
   ]
  },
  {
   "cell_type": "code",
   "execution_count": null,
   "id": "pUX_irk7HSwr",
   "metadata": {
    "id": "pUX_irk7HSwr"
   },
   "outputs": [],
   "source": [
    "df['delta_changes'] = df.PM2.diff(1)"
   ]
  },
  {
   "cell_type": "code",
   "execution_count": null,
   "id": "ixnmGoVfHn6p",
   "metadata": {
    "id": "ixnmGoVfHn6p"
   },
   "outputs": [],
   "source": [
    "model_delta_ar_1_i_1_ma_1 = ARIMA(df.delta_changes[1:], order=(1,0,1))\n",
    "results_delta_ar_1_i_1_ma_1 = model_delta_ar_1_i_1_ma_1.fit()\n",
    "results_delta_ar_1_i_1_ma_1.summary()"
   ]
  },
  {
   "cell_type": "code",
   "execution_count": null,
   "id": "x8Fw5kVQJQps",
   "metadata": {
    "id": "x8Fw5kVQJQps"
   },
   "outputs": [],
   "source": [
    "sts.adfuller(df.delta_changes[1:])"
   ]
  },
  {
   "cell_type": "code",
   "execution_count": null,
   "id": "ZXCgu_ZDJbzU",
   "metadata": {
    "id": "ZXCgu_ZDJbzU"
   },
   "outputs": [],
   "source": [
    "model_ar_1_i_2_ma_1 = ARIMA(df.delta_changes[1:], order=(1,0,2))\n",
    "results_ar_1_i_2_ma_1 = model_ar_1_i_2_ma_1.fit()\n",
    "results_ar_1_i_2_ma_1.summary()"
   ]
  },
  {
   "cell_type": "code",
   "execution_count": null,
   "id": "NXICNJ9IKANd",
   "metadata": {
    "id": "NXICNJ9IKANd"
   },
   "outputs": [],
   "source": [
    "df['res_ar_1_i_2_ma_1'] = results_ar_1_i_2_ma_1.resid.iloc[:]\n",
    "sgt.plot_acf(df.res_ar_1_i_2_ma_1[2:], zero=False, lags = 40)\n",
    "plt.title('ACF of Residuals for ARIMA(1,2,1)', size=20)\n",
    "plt.show()"
   ]
  },
  {
   "cell_type": "code",
   "execution_count": null,
   "id": "UzOaYpzad5Y5",
   "metadata": {
    "id": "UzOaYpzad5Y5"
   },
   "outputs": [],
   "source": []
  },
  {
   "cell_type": "markdown",
   "id": "hsbNBLncd6Fs",
   "metadata": {
    "id": "hsbNBLncd6Fs"
   },
   "source": [
    "ARIMAX"
   ]
  },
  {
   "cell_type": "code",
   "execution_count": null,
   "id": "t_kbZaMtd8x6",
   "metadata": {
    "id": "t_kbZaMtd8x6"
   },
   "outputs": [],
   "source": []
  },
  {
   "cell_type": "code",
   "execution_count": null,
   "id": "1zlT6iiKhDOn",
   "metadata": {
    "id": "1zlT6iiKhDOn"
   },
   "outputs": [],
   "source": [
    "model_ar_1_i_1_ma_1.Xpm = ARIMA(df.PM2, exog = df.pm, order=(1,1,1))\n",
    "results_ar_1_i_1_ma_1.Xpm = model_ar_1_i_1_ma_1.Xpm.fit()\n",
    "results_ar_1_i_1_ma_1.Xpm.summary()"
   ]
  },
  {
   "cell_type": "code",
   "execution_count": null,
   "id": "JcGKIiFchD3T",
   "metadata": {
    "id": "JcGKIiFchD3T"
   },
   "outputs": [],
   "source": []
  },
  {
   "cell_type": "markdown",
   "id": "5I26z2HhCG_i",
   "metadata": {
    "id": "5I26z2HhCG_i"
   },
   "source": [
    "SARIMAX"
   ]
  },
  {
   "cell_type": "code",
   "execution_count": null,
   "id": "bGpLZgNeCJlM",
   "metadata": {
    "id": "bGpLZgNeCJlM"
   },
   "outputs": [],
   "source": [
    "from statsmodels.tsa.statespace.sarimax import SARIMAX"
   ]
  },
  {
   "cell_type": "code",
   "execution_count": null,
   "id": "XR9Zj_3zCjR2",
   "metadata": {
    "id": "XR9Zj_3zCjR2"
   },
   "outputs": [],
   "source": [
    "model_sarimax = SARIMAX(df.PM2, exog=df.pm, order =(1,0,1), seasonal_order=(2,0,1,5))\n",
    "results_sarimax = model_sarimax.fit()\n",
    "results_sarimax.summary()"
   ]
  },
  {
   "cell_type": "markdown",
   "id": "VImVGQxTEh0Y",
   "metadata": {
    "id": "VImVGQxTEh0Y"
   },
   "source": [
    "Creating Returns for Volatility of ARCH Model"
   ]
  },
  {
   "cell_type": "markdown",
   "id": "1PbjZ0ozE4jX",
   "metadata": {
    "id": "1PbjZ0ozE4jX"
   },
   "source": [
    "Creating Returns"
   ]
  },
  {
   "cell_type": "code",
   "execution_count": null,
   "id": "ufM7KfE2E6qr",
   "metadata": {
    "id": "ufM7KfE2E6qr"
   },
   "outputs": [],
   "source": [
    "df['returns'] = df.PM2.pct_change(1)*100"
   ]
  },
  {
   "cell_type": "markdown",
   "id": "l12rfYIbFPZP",
   "metadata": {
    "id": "l12rfYIbFPZP"
   },
   "source": [
    "Creating Squared Returns"
   ]
  },
  {
   "cell_type": "code",
   "execution_count": null,
   "id": "niYodCz_Fc_W",
   "metadata": {
    "id": "niYodCz_Fc_W"
   },
   "outputs": [],
   "source": [
    "df['sq_returns'] = df.returns.mul(df.returns)"
   ]
  },
  {
   "cell_type": "markdown",
   "id": "5C_XLK6EF3-z",
   "metadata": {
    "id": "5C_XLK6EF3-z"
   },
   "source": [
    "Returns vs Squared Returns"
   ]
  },
  {
   "cell_type": "code",
   "execution_count": null,
   "id": "z3xLgmMcF7wf",
   "metadata": {
    "id": "z3xLgmMcF7wf"
   },
   "outputs": [],
   "source": [
    "df.returns.plot(figsize=(20,5))\n",
    "plt.title('Returns', size=24)\n",
    "plt.show()"
   ]
  },
  {
   "cell_type": "code",
   "execution_count": null,
   "id": "FCQiFsA-GevC",
   "metadata": {
    "id": "FCQiFsA-GevC"
   },
   "outputs": [],
   "source": [
    "df.sq_returns.plot(figsize=(20,5))\n",
    "plt.title('Volatility', size=24)\n",
    "plt.show()"
   ]
  },
  {
   "cell_type": "code",
   "execution_count": null,
   "id": "BlScfJf5HQ19",
   "metadata": {
    "id": "BlScfJf5HQ19"
   },
   "outputs": [],
   "source": [
    "sgt.plot_pacf(df.returns[1:], alpha=0.05, lags=40, zero=False, method=('ols'))\n",
    "plt.title('PACF of Returns', size=20)\n",
    "plt.show()"
   ]
  },
  {
   "cell_type": "markdown",
   "id": "GBRX2CEvIR55",
   "metadata": {
    "id": "GBRX2CEvIR55"
   },
   "source": []
  },
  {
   "cell_type": "code",
   "execution_count": null,
   "id": "YpuIWCRtISnv",
   "metadata": {
    "id": "YpuIWCRtISnv"
   },
   "outputs": [],
   "source": [
    "sgt.plot_pacf(df.sq_returns[1:], alpha=0.05, lags=40, zero=False, method=('ols'))\n",
    "plt.title('PACF of Squared Returns', size=20)\n",
    "plt.show()"
   ]
  },
  {
   "cell_type": "markdown",
   "id": "x539T2iJN1k5",
   "metadata": {
    "id": "x539T2iJN1k5"
   },
   "source": [
    "The arch_model() Method"
   ]
  },
  {
   "cell_type": "code",
   "execution_count": null,
   "id": "pO6nq2DrN8wi",
   "metadata": {
    "id": "pO6nq2DrN8wi"
   },
   "outputs": [],
   "source": [
    "\n",
    "!pip install arch\n",
    "from arch import arch_model"
   ]
  },
  {
   "cell_type": "code",
   "execution_count": null,
   "id": "vUE35jFzRJ83",
   "metadata": {
    "id": "vUE35jFzRJ83"
   },
   "outputs": [],
   "source": [
    "model_arch_1 = arch_model(df.returns[1:])\n",
    "results_arch_1 = model_arch_1.fit(update_freq=5)\n",
    "results_arch_1.summary()"
   ]
  },
  {
   "cell_type": "markdown",
   "id": "Ox8MSaUfSlUN",
   "metadata": {
    "id": "Ox8MSaUfSlUN"
   },
   "source": [
    "The Simple ARCH(1)"
   ]
  },
  {
   "cell_type": "code",
   "execution_count": null,
   "id": "pZilQoo8SpeX",
   "metadata": {
    "id": "pZilQoo8SpeX"
   },
   "outputs": [],
   "source": [
    "model_arch_1 = arch_model(df.returns[1:], mean='Constant', vol='ARCH', p=1)\n",
    "results_arch_1 = model_arch_1.fit(update_freq=5)\n",
    "results_arch_1.summary()"
   ]
  },
  {
   "cell_type": "code",
   "execution_count": null,
   "id": "DyFiQh56cdv5",
   "metadata": {
    "id": "DyFiQh56cdv5"
   },
   "outputs": [],
   "source": [
    "model_arch_1 = arch_model(df.returns[1:], mean='AR', lags=[2,3,6], vol='ARCH', p=1, dist='ged')\n",
    "results_arch_1 = model_arch_1.fit(update_freq=5)\n",
    "results_arch_1.summary()"
   ]
  },
  {
   "cell_type": "markdown",
   "id": "Fga0HIVddFOY",
   "metadata": {
    "id": "Fga0HIVddFOY"
   },
   "source": [
    "Higher-Lag ARCH Models"
   ]
  },
  {
   "cell_type": "code",
   "execution_count": null,
   "id": "bkAnOb3UdKv5",
   "metadata": {
    "id": "bkAnOb3UdKv5"
   },
   "outputs": [],
   "source": [
    "model_arch_2 = arch_model(df.returns[1:], mean='Constant', vol='ARCH', p=1)\n",
    "results_arch_2 = model_arch_2.fit(update_freq=5)\n",
    "results_arch_2.summary()"
   ]
  },
  {
   "cell_type": "code",
   "execution_count": null,
   "id": "e4tQdKJCdhy3",
   "metadata": {
    "id": "e4tQdKJCdhy3"
   },
   "outputs": [],
   "source": [
    "model_arch_3 = arch_model(df.returns[1:], mean='Constant', vol='ARCH', p=1)\n",
    "results_arch_3 = model_arch_3.fit(update_freq=5)\n",
    "results_arch_3.summary()"
   ]
  },
  {
   "cell_type": "markdown",
   "id": "uNJj5k1eUPAs",
   "metadata": {
    "id": "uNJj5k1eUPAs"
   },
   "source": [
    "The Simple GARCH Model"
   ]
  },
  {
   "cell_type": "code",
   "execution_count": null,
   "id": "8MuX_xUVUX79",
   "metadata": {
    "id": "8MuX_xUVUX79"
   },
   "outputs": [],
   "source": [
    "model_garch_1_1 = arch_model(df.returns[1:], mean='Constant', vol='GARCH', p=1, q=1)\n",
    "results_garch_1_1 = model_garch_1_1.fit(update_freq=5)\n",
    "results_garch_1_1.summary()"
   ]
  },
  {
   "cell_type": "markdown",
   "id": "USa5gyjOVrUs",
   "metadata": {
    "id": "USa5gyjOVrUs"
   },
   "source": [
    "Higher-Lag GARCH Models"
   ]
  },
  {
   "cell_type": "code",
   "execution_count": null,
   "id": "JAphC2efVxz3",
   "metadata": {
    "id": "JAphC2efVxz3"
   },
   "outputs": [],
   "source": [
    "model_garch_1_2 = arch_model(df.returns[1:], mean='Constant', vol='GARCH', p=1, q=2)\n",
    "results_garch_1_2 = model_garch_1_2.fit(update_freq=5)\n",
    "results_garch_1_2.summary()"
   ]
  },
  {
   "cell_type": "code",
   "execution_count": null,
   "id": "Noa042BAXnF1",
   "metadata": {
    "id": "Noa042BAXnF1"
   },
   "outputs": [],
   "source": [
    "model_garch_1_3 = arch_model(df.returns[1:], mean='Constant', vol='GARCH', p=1, q=3)\n",
    "results_garch_1_3 = model_garch_1_3.fit(update_freq=5)\n",
    "results_garch_1_3.summary()"
   ]
  },
  {
   "cell_type": "code",
   "execution_count": null,
   "id": "2JWUWPElX-2M",
   "metadata": {
    "id": "2JWUWPElX-2M"
   },
   "outputs": [],
   "source": [
    "model_garch_2_1 = arch_model(df.returns[1:], mean='Constant', vol='GARCH', p=2, q=1)\n",
    "results_garch_2_1 = model_garch_2_1.fit(update_freq=5)\n",
    "results_garch_2_1.summary()"
   ]
  },
  {
   "cell_type": "code",
   "execution_count": null,
   "id": "KtmTOiPzY31s",
   "metadata": {
    "id": "KtmTOiPzY31s"
   },
   "outputs": [],
   "source": [
    "model_garch_3_1 = arch_model(df.returns[1:], mean='Constant', vol='GARCH', p=3, q=1)\n",
    "results_garch_3_1 = model_garch_3_1.fit(update_freq=5)\n",
    "results_garch_3_1.summary()"
   ]
  }
 ],
 "metadata": {
  "colab": {
   "collapsed_sections": [],
   "name": "NewTSA.ipynb",
   "provenance": [],
   "toc_visible": true
  },
  "kernelspec": {
   "display_name": "Python 3",
   "language": "python",
   "name": "python3"
  },
  "language_info": {
   "codemirror_mode": {
    "name": "ipython",
    "version": 3
   },
   "file_extension": ".py",
   "mimetype": "text/x-python",
   "name": "python",
   "nbconvert_exporter": "python",
   "pygments_lexer": "ipython3",
   "version": "3.8.5"
  }
 },
 "nbformat": 4,
 "nbformat_minor": 5
}
